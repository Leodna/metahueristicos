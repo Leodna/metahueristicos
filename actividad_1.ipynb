{
 "cells": [
  {
   "cell_type": "markdown",
   "metadata": {},
   "source": [
    "# Algoritmo Genetico 1\n",
    "\n",
    "1. Codificar la poblacion\n",
    "2. Generar la poblacion\n",
    "3. Ordenar\n"
   ]
  },
  {
   "cell_type": "code",
   "execution_count": 1,
   "metadata": {},
   "outputs": [],
   "source": [
    "import numpy as np"
   ]
  },
  {
   "cell_type": "markdown",
   "metadata": {},
   "source": [
    "$$\n",
    "x_{norm} = \\frac{x+1}{2} * 63\\\\\n",
    "\n",
    "\\frac{x_{norm}}{63} = \\frac{x+1}{2}\\\\\n",
    "\n",
    "\\frac{x_{norm}}{63} * 2 = x+1\\\\\n",
    "\n",
    "(\\frac{x_{norm}}{63} * 2)-1 = x\n",
    "$$"
   ]
  },
  {
   "cell_type": "code",
   "execution_count": 15,
   "metadata": {},
   "outputs": [],
   "source": [
    "def normalizar(x):\n",
    "    return ((x+1)/2)*63\n",
    "\n",
    "def desnormalizar(xn):\n",
    "    return ((xn/63)*2)-1\n",
    "\n",
    "def binarizar(nbites,x):\n",
    "    x = x.astype(np.int64)\n",
    "    binary_repr_v = np.vectorize(np.binary_repr)\n",
    "    return binary_repr_v(x, 6)\n",
    "\n",
    "def costo(x):\n",
    "    return x**2\n",
    "\n",
    "def bin_to_dec(poblacion):\n",
    "    poblacion_dec = []\n",
    "    \n",
    "    for i in poblacion:\n",
    "        poblacion_dec.append(int(i,2))\n",
    "    \n",
    "    return poblacion_dec\n",
    "\n",
    "def get_pob_orden (poblacion):\n",
    "    poblacion_dec = bin_to_dec(poblacion)\n",
    "    \n",
    "    poblacion_dec = [desnormalizar(x) for x in poblacion_dec]\n",
    "    \n",
    "    poblacion_costo = [costo(x) for x in poblacion_dec] \n",
    "    \n",
    "    poblacion_costo = np.array(poblacion_costo)\n",
    "    \n",
    "    \n",
    "    return ordenar_indices(poblacion,poblacion_costo)\n",
    "    \n",
    "    \n",
    "\n",
    "\n",
    "\n",
    "def ordenar_indices(poblacion,costos):\n",
    "    n = len(poblacion)\n",
    "    lista_ordenada = np.zeros_like(poblacion)\n",
    "    for i in range (n):\n",
    "        for j in range(n):\n",
    "            if costos[j] < costos[i]:\n",
    "                aux = costos[i]\n",
    "                costos[i] = costos[j]\n",
    "                costos[j] = aux\n",
    "                \n",
    "                aux2 = poblacion[i]\n",
    "                poblacion[i] = poblacion[j]\n",
    "                poblacion[j] = aux2\n",
    "        \n",
    "    return poblacion\n",
    "\n",
    "def comp (poblacion):\n",
    "    poblacion_dec = bin_to_dec(poblacion)\n",
    "    \n",
    "    poblacion_dec = [desnormalizar(x) for x in poblacion_dec]\n",
    "    \n",
    "    poblacion_costo = [costo(x) for x in poblacion_dec] \n",
    "    \n",
    "    poblacion_costo = np.array(poblacion_costo)\n",
    "    print(poblacion_costo)\n",
    "    return 0\n",
    "\n",
    "# def generar_poblacion(espacio):\n",
    "#     lista_valores = np.random.randint(0, 63, 10)\n",
    "#     print(lista_valores)\n",
    "\n",
    "def generar_poblacion(espacio):\n",
    "    # Generar 10 valores enteros únicos aleatorios entre 0 y 63\n",
    "    n = len(espacio)\n",
    "    lista_valores = np.random.choice(range(n), 10, replace=False)\n",
    "    \n",
    "    poblacion = []\n",
    "    \n",
    "    for i in lista_valores:\n",
    "        poblacion.append(espacio[i])\n",
    "    \n",
    "    return poblacion\n",
    "     \n",
    "    # print(espacio) \n",
    "    # print(lista_valores)  \n",
    "    # print(poblacion)   \n",
    "    \n",
    "    \n",
    "def cruzar(poblacion):\n",
    "    n = len(poblacion)\n",
    "    for i in range(0,n,2)\n",
    "        \n",
    "    "
   ]
  },
  {
   "cell_type": "code",
   "execution_count": 3,
   "metadata": {},
   "outputs": [
    {
     "name": "stdout",
     "output_type": "stream",
     "text": [
      "[-1.         -0.96825397 -0.93650794 -0.9047619  -0.87301587 -0.84126984\n",
      " -0.80952381 -0.77777778 -0.74603175 -0.71428571 -0.68253968 -0.65079365\n",
      " -0.61904762 -0.58730159 -0.55555556 -0.52380952 -0.49206349 -0.46031746\n",
      " -0.42857143 -0.3968254  -0.36507937 -0.33333333 -0.3015873  -0.26984127\n",
      " -0.23809524 -0.20634921 -0.17460317 -0.14285714 -0.11111111 -0.07936508\n",
      " -0.04761905 -0.01587302  0.01587302  0.04761905  0.07936508  0.11111111\n",
      "  0.14285714  0.17460317  0.20634921  0.23809524  0.26984127  0.3015873\n",
      "  0.33333333  0.36507937  0.3968254   0.42857143  0.46031746  0.49206349\n",
      "  0.52380952  0.55555556  0.58730159  0.61904762  0.65079365  0.68253968\n",
      "  0.71428571  0.74603175  0.77777778  0.80952381  0.84126984  0.87301587\n",
      "  0.9047619   0.93650794  0.96825397  1.        ]\n"
     ]
    }
   ],
   "source": [
    "espacio_busqueda = np.linspace(-1,1,64)\n",
    "print(espacio_busqueda)  "
   ]
  },
  {
   "cell_type": "code",
   "execution_count": 4,
   "metadata": {},
   "outputs": [
    {
     "name": "stdout",
     "output_type": "stream",
     "text": [
      "[ 0.  1.  2.  3.  4.  5.  6.  7.  8.  9. 10. 11. 12. 13. 14. 15. 16. 17.\n",
      " 18. 19. 20. 21. 22. 23. 24. 25. 26. 27. 28. 29. 30. 31. 32. 33. 34. 35.\n",
      " 36. 37. 38. 39. 40. 41. 42. 43. 44. 45. 46. 47. 48. 49. 50. 51. 52. 53.\n",
      " 54. 55. 56. 57. 58. 59. 60. 61. 62. 63.]\n",
      "['000000' '000001' '000010' '000011' '000100' '000101' '000110' '000111'\n",
      " '001000' '001001' '001010' '001011' '001100' '001101' '001110' '001111'\n",
      " '010000' '010001' '010010' '010011' '010100' '010101' '010110' '010111'\n",
      " '011000' '011001' '011010' '011011' '011100' '011101' '011110' '011111'\n",
      " '100000' '100000' '100010' '100011' '100100' '100100' '100110' '100111'\n",
      " '101000' '101000' '101010' '101011' '101100' '101100' '101110' '101111'\n",
      " '110000' '110000' '110010' '110011' '110100' '110100' '110110' '110111'\n",
      " '111000' '111000' '111010' '111011' '111100' '111100' '111110' '111111']\n"
     ]
    }
   ],
   "source": [
    "espacio_normalizado = normalizar(espacio_busqueda)\n",
    "print(espacio_normalizado)\n",
    "esapcio_generado = binarizar(6,espacio_normalizado)\n",
    "print(esapcio_generado)"
   ]
  },
  {
   "cell_type": "code",
   "execution_count": 8,
   "metadata": {},
   "outputs": [
    {
     "name": "stdout",
     "output_type": "stream",
     "text": [
      "['011101', '111111', '011000', '101010', '001011', '011011', '000100', '101100', '111100', '101111']\n",
      "['111111', '111100', '000100', '001011', '101111', '101100', '101010', '011000', '011011', '011101']\n"
     ]
    }
   ],
   "source": [
    "poblacion = generar_poblacion(esapcio_generado)\n",
    "print(poblacion)\n",
    "poblacion_ordenada = get_pob_orden(poblacion)\n",
    "print(poblacion_ordenada)"
   ]
  },
  {
   "cell_type": "code",
   "execution_count": 16,
   "metadata": {},
   "outputs": [
    {
     "name": "stdout",
     "output_type": "stream",
     "text": [
      "[1.         0.8185941  0.76215671 0.42353238 0.24212648 0.1574704\n",
      " 0.11111111 0.05668934 0.02040816 0.00629882]\n",
      "0\n"
     ]
    }
   ],
   "source": [
    "print(comp(poblacion_ordenada))"
   ]
  },
  {
   "cell_type": "code",
   "execution_count": 62,
   "metadata": {},
   "outputs": [
    {
     "name": "stdout",
     "output_type": "stream",
     "text": [
      "111111 con 000100\n",
      "111\n",
      "100\n",
      "111100\n",
      "100111\n",
      "000100 con 000100\n",
      "000\n",
      "011\n",
      "000011\n",
      "011000\n",
      "101111 con 000100\n",
      "101\n",
      "100\n",
      "101100\n",
      "100101\n",
      "101010 con 000100\n",
      "101\n",
      "000\n",
      "101000\n",
      "000101\n",
      "011011 con 000100\n",
      "011\n",
      "101\n",
      "011101\n",
      "101011\n"
     ]
    }
   ],
   "source": [
    "n = len(poblacion_ordenada)\n",
    "cromosomas = len(poblacion_ordenada[0])\n",
    "for i in range(0,n,2):\n",
    "    print (f\"{poblacion_ordenada[i]} con {poblacion_ordenada[1+1]}\")\n",
    "    \n",
    "    hijo1 = poblacion_ordenada[i].tolist()[:int(cromosomas/2)]\n",
    "    hijo2 = poblacion_ordenada[i+1].tolist()[-int(cromosomas/2):]\n",
    "    print(f\"{poblacion_ordenada[i].tolist()[:int(cromosomas/2)]}\")\n",
    "    print(f\"{poblacion_ordenada[i+1].tolist()[-int(cromosomas/2):]}\")\n",
    "    \n",
    "    nuevo_indiviudo = f'{hijo1}{hijo2}'\n",
    "    nuevo_indiviudo2 = f'{hijo2}{hijo1}'\n",
    "    print(nuevo_indiviudo)\n",
    "    print(nuevo_indiviudo2)\n",
    "\n"
   ]
  }
 ],
 "metadata": {
  "kernelspec": {
   "display_name": "dl_38",
   "language": "python",
   "name": "python3"
  },
  "language_info": {
   "codemirror_mode": {
    "name": "ipython",
    "version": 3
   },
   "file_extension": ".py",
   "mimetype": "text/x-python",
   "name": "python",
   "nbconvert_exporter": "python",
   "pygments_lexer": "ipython3",
   "version": "3.8.19"
  }
 },
 "nbformat": 4,
 "nbformat_minor": 2
}
