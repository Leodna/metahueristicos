{
 "cells": [
  {
   "cell_type": "code",
   "execution_count": 1,
   "metadata": {},
   "outputs": [],
   "source": [
    "import numpy as np\n",
    "import matplotlib.pyplot as plt\n",
    "import pandas as pd\n",
    "import plotly.graph_objects as go\n",
    "import time\n",
    "import os\n",
    "import pickle\n",
    "\n",
    "from my_lib.utility import *"
   ]
  },
  {
   "cell_type": "markdown",
   "metadata": {},
   "source": [
    "## Actividad 3: Algoritmo genético para resolver el problema del viajero frecuente\n",
    "\n",
    "El problema es de tipo TSP con 18 ciudades del conteninte Americano. Por lo tanto existen $18!\\$ soluciones posibles ($6402373705728000$), dada el basto espacio de busqueda la población de individuos se debe limitar a minimo 100 y máximo 500.\n",
    "\n",
    "> Criterios para la evaluación\n",
    "> - Implementar 2 métodos de cruza, PMX y algún otro método como OX o CX\n",
    "> - Implementar 2 métodos de mutación, Scramble y Heuristic\n",
    "> - Implementar un método de selección, cualquiera de los ya vistos\n",
    "> - Implementar un método hibrido de paro\n",
    "> - Implementar un méotodo elitista\n",
    "> - Realizar las comparaciones y la discusión de los resultados"
   ]
  },
  {
   "cell_type": "markdown",
   "metadata": {},
   "source": [
    "# Codificación del dominio"
   ]
  },
  {
   "cell_type": "code",
   "execution_count": 2,
   "metadata": {},
   "outputs": [
    {
     "name": "stdout",
     "output_type": "stream",
     "text": [
      "[['Mexcio' 0 '000' 0.0]\n",
      " ['Miami' 1 '001' 0.0]\n",
      " ['Quito' 2 '010' 0.0]\n",
      " ['San Salvador' 3 '011' 0.0]\n",
      " ['Mendoza' 4 '100' 0.0]\n",
      " ['Guadalajara' 5 '101' 0.0]]\n"
     ]
    }
   ],
   "source": [
    "nombre_ciudades = np.array([\"Mexcio\", \"Miami\", \"Quito\", \"San Salvador\", \"Mendoza\",\"Guadalajara\"])\n",
    "\n",
    "id_ciudades = np.arange(nombre_ciudades.shape[0])\n",
    "bin_ciudades = binarizar(datos=id_ciudades,nbites=3)\n",
    "\n",
    "ciudades = np.zeros((nombre_ciudades.shape[0],4),dtype=\"object\")\n",
    "ciudades[:,0] = nombre_ciudades\n",
    "ciudades[:,1] = id_ciudades\n",
    "ciudades[:,2] = bin_ciudades\n",
    "ciudades[:,3] = np.zeros((nombre_ciudades.shape[0]))\n",
    "print(ciudades)"
   ]
  },
  {
   "cell_type": "markdown",
   "metadata": {},
   "source": [
    "## Matriz de distancias"
   ]
  },
  {
   "cell_type": "code",
   "execution_count": 3,
   "metadata": {},
   "outputs": [
    {
     "name": "stdout",
     "output_type": "stream",
     "text": [
      "[[   0.   2270.05 3714.66 1778.27 7223.16  337.03]\n",
      " [2270.05    0.   2882.57 1627.62 6578.78 2425.29]\n",
      " [3714.66 2882.57    0.   1938.05 3780.05 3551.96]\n",
      " [1778.27 1627.62 1938.05    0.   5567.96 1681.97]\n",
      " [7223.16 6578.78 3780.05 5567.96    0.   6971.44]\n",
      " [ 337.03 2425.29 3551.96 1681.97 6971.44    0.  ]]\n"
     ]
    }
   ],
   "source": [
    "# Matriz de disntancias\n",
    "\n",
    "distancias = np.array(\n",
    "    [\n",
    "        [0, 2270.05, 3714.66, 1778.27, 7223.16, 337.03],\n",
    "        [2270.05, 0, 2882.57, 1627.62, 6578.78, 2425.29],\n",
    "        [3714.66, 2882.57, 0, 1938.05, 3780.05, 3551.96],\n",
    "        [1778.27, 1627.62, 1938.05, 0, 5567.96, 1681.97],\n",
    "        [7223.16, 6578.78, 3780.05, 5567.96, 0, 6971.44],\n",
    "        [337.03, 2425.29, 3551.96, 1681.97, 6971.44, 0],\n",
    "    ]\n",
    ")\n",
    "\n",
    "print(distancias)"
   ]
  },
  {
   "cell_type": "markdown",
   "metadata": {},
   "source": [
    "# Generación de población\n",
    "\n",
    "Para poder realizar una buena comparación con las distintas combinaciones de operadores genéticos se trabajará con 5 poblaciones iniciales, las cuales son las mismas parar cada experimento\n",
    "\n",
    "\n",
    "Si ya existe el archivo de poblaciones no hay necesidad de crear nuevamente las poblaciones iniciales"
   ]
  },
  {
   "cell_type": "code",
   "execution_count": 4,
   "metadata": {},
   "outputs": [],
   "source": [
    "POB_FILE = \"files\\poblaciones_2.pkl\""
   ]
  },
  {
   "cell_type": "code",
   "execution_count": 5,
   "metadata": {},
   "outputs": [],
   "source": [
    "def get_poblaciones_iniciales(n=5, tam_pob=60):\n",
    "    \"\"\"\n",
    "    Genera y carga las poblaciones iniciales para un algoritmo genético.\n",
    "\n",
    "    Si el archivo de poblaciones no existe, la función lo crea generando las poblaciones iniciales y guardándolas en el archivo.\n",
    "    Si el archivo ya existe, la función lo carga y devuelve las poblaciones.\n",
    "\n",
    "    Parámetros:\n",
    "        n (int): Número de poblaciones iniciales a generar (por defecto, 5).\n",
    "        tam_pob (int): Tamaño de cada población (por defecto, 60).\n",
    "\n",
    "    Valor de retorno:\n",
    "        list: Lista de poblaciones iniciales, donde cada población es una matriz de numpy con 4 columnas: ruta, aptitud, individuo y aptitud.\n",
    "    \"\"\"\n",
    "    poblaciones = []\n",
    "    POB_PATH = os.path.join(\"..\", POB_FILE)\n",
    "    if not os.path.exists(POB_PATH):\n",
    "        print(\"El archivo de poblaciones no existse, creando archivo\")\n",
    "        \n",
    "        for i in range(n):\n",
    "            recorrido = generar_poblacion_perm(ciudades, tam_pob)\n",
    "            \n",
    "            poblacion = np.zeros((recorrido.shape[0], 4), dtype=\"object\")\n",
    "            poblacion[:, 0] = [c.astype(int) for c in recorrido]  # Ruta\n",
    "            poblacion[:, 1] = np.ones((recorrido.shape[0]))\n",
    "            poblacion[:, 2] = [individuo_toString(c.astype(int)) for c in recorrido]\n",
    "            poblacion[:, 3] = np.zeros((recorrido.shape[0]))  # Aptitud\n",
    "        \n",
    "            poblaciones.append(poblacion)\n",
    "        \n",
    "        try:\n",
    "            with open(POB_PATH, \"wb\") as f:\n",
    "                pickle.dump(poblaciones,f)\n",
    "            print(\"Archivo de poblaciones creado correctamente\")\n",
    "        except Exception as e:\n",
    "            print(f\"Error al guardar archivo: {e}\")\n",
    "            \n",
    "    else:\n",
    "        try:\n",
    "            with open(POB_PATH, \"rb\") as f:\n",
    "                poblaciones = pickle.load(f)\n",
    "            print(\"Archivo de poblaciones cargado correctamente\")\n",
    "        except Exception as e:\n",
    "            print(f\"Error al cargar archivo: {e}\")\n",
    "    \n",
    "    return poblaciones"
   ]
  },
  {
   "cell_type": "code",
   "execution_count": 6,
   "metadata": {},
   "outputs": [
    {
     "name": "stdout",
     "output_type": "stream",
     "text": [
      "Archivo de poblaciones cargado correctamente\n",
      "5\n"
     ]
    }
   ],
   "source": [
    "pobs = get_poblaciones_iniciales(n=5,tam_pob=80)\n",
    "print(len(pobs))"
   ]
  },
  {
   "cell_type": "markdown",
   "metadata": {},
   "source": [
    "# Función objetivo"
   ]
  },
  {
   "cell_type": "code",
   "execution_count": 7,
   "metadata": {},
   "outputs": [],
   "source": [
    "def y(ciudad1,ciudad2):\n",
    "    return distancias[ciudad1,ciudad2]\n",
    "\n",
    "def evaluar(poblacion):\n",
    "    evaluacion = np.zeros((poblacion.shape[0]))\n",
    "    for idx,fila in enumerate(poblacion):\n",
    "        individuo = fila[0]\n",
    "        n = len(individuo) - 1\n",
    "        aptitud = 0\n",
    "        \n",
    "        for i in range (n,-1,-1):\n",
    "            c1 = int(individuo[i]) #Id de la ciudad\n",
    "            c2 = int(individuo[i-1])\n",
    "            distancia = y(c1,c2)\n",
    "            aptitud += distancia\n",
    "           # print(f\"Distancia entre {ciudades[c1]} y {ciudades[c2]}: {distancia}\")\n",
    "        evaluacion[idx] = np.around(aptitud,4)\n",
    "        \n",
    "    return evaluacion\n",
    "\n"
   ]
  },
  {
   "cell_type": "markdown",
   "metadata": {},
   "source": [
    "# Experimento combinacion PMX, y Heuristic mutation\n",
    "\n",
    "En este experimento a partir de la población incial, tomar en cuenta que hay 5 poblaciones inciales con las cuales debe realizarse el experimento, se obtienen nuevas generaciones de individuos y una vez alcanza el 80% de individuos aptos, esto quiere decir que los individuso deben superar más del 0.8 de aptitud, o se llega un 10 generaciones el algoritmo se detiene.\n",
    "\n",
    "**Condiciones de termino:**\n",
    "\n",
    "* Epsilon:\n",
    "    * Cuando el 80% de la población alcanza una aptitud mayor de 0.8\n",
    "* Generaciones:\n",
    "    * Cuando se llega a la generación número 10\n",
    "\n",
    "**Operadores:**\n",
    "* Método de competencia genética para la creación de las poblaciones\n",
    "* Operador de selección *Ruleta*\n",
    "* Operador de cruce *PMX*\n",
    "* Operador de mutación  *Hueristico*"
   ]
  },
  {
   "cell_type": "markdown",
   "metadata": {},
   "source": [
    "## Evaluar y Ordenar la poblacion\n",
    "\n",
    "La función de ordenar población ordena de mayor a menor.\n",
    "\n",
    "Este problema es un problema para encontrar las rutas con menor costo"
   ]
  },
  {
   "cell_type": "code",
   "execution_count": 8,
   "metadata": {},
   "outputs": [],
   "source": [
    "MAX_GEN = 10"
   ]
  },
  {
   "cell_type": "code",
   "execution_count": 11,
   "metadata": {},
   "outputs": [
    {
     "data": {
      "text/plain": [
       "array([[array([5, 0, 3, 4, 2, 1]), 1.0, '503421', 16771.17],\n",
       "       [array([4, 2, 3, 0, 5, 1]), 1.0, '423051', 16837.47],\n",
       "       [array([0, 3, 2, 4, 1, 5]), 1.0, '032415', 16837.47],\n",
       "       [array([4, 2, 3, 1, 0, 5]), 1.0, '423105', 16924.24],\n",
       "       [array([1, 3, 2, 4, 5, 0]), 1.0, '132450', 16924.24],\n",
       "       [array([5, 0, 1, 3, 4, 2]), 1.0, '501342', 17134.67],\n",
       "       [array([4, 2, 5, 0, 1, 3]), 1.0, '425013', 17134.67],\n",
       "       [array([3, 1, 5, 0, 4, 2]), 1.0, '315042', 17331.2],\n",
       "       [array([3, 1, 5, 0, 4, 2]), 1.0, '315042', 17331.2],\n",
       "       [array([4, 2, 3, 1, 5, 0]), 1.0, '423150', 17331.2],\n",
       "       [array([2, 4, 0, 5, 1, 3]), 1.0, '240513', 17331.2],\n",
       "       [array([4, 2, 1, 3, 0, 5]), 1.0, '421305', 17376.98],\n",
       "       [array([4, 1, 3, 0, 5, 2]), 1.0, '413052', 17653.71],\n",
       "       [array([4, 2, 5, 0, 3, 1]), 1.0, '425031', 17653.71],\n",
       "       [array([4, 2, 5, 0, 3, 1]), 1.0, '425031', 17653.71],\n",
       "       [array([4, 1, 3, 0, 5, 2]), 1.0, '413052', 17653.71],\n",
       "       [array([2, 3, 0, 1, 5, 4]), 1.0, '230154', 19163.15],\n",
       "       [array([0, 3, 2, 4, 5, 1]), 1.0, '032451', 19163.15],\n",
       "       [array([4, 0, 1, 5, 3, 2]), 1.0, '401532', 19318.57],\n",
       "       [array([3, 5, 1, 0, 4, 2]), 1.0, '351042', 19318.57],\n",
       "       [array([1, 0, 3, 5, 4, 2]), 1.0, '103542', 19364.35],\n",
       "       [array([2, 1, 0, 3, 5, 4]), 1.0, '210354', 19364.35],\n",
       "       [array([4, 5, 3, 0, 1, 2]), 1.0, '453012', 19364.35],\n",
       "       [array([5, 1, 0, 3, 4, 2]), 1.0, '510342', 19373.58],\n",
       "       [array([0, 3, 4, 2, 5, 1]), 1.0, '034251', 19373.58],\n",
       "       [array([5, 3, 4, 2, 0, 1]), 1.0, '534201', 19439.98],\n",
       "       [array([2, 5, 3, 0, 1, 4]), 1.0, '253014', 19641.08],\n",
       "       [array([2, 0, 3, 5, 1, 4]), 1.0, '203514', 19959.02],\n",
       "       [array([1, 0, 5, 4, 3, 2]), 1.0, '105432', 19967.1],\n",
       "       [array([2, 3, 4, 5, 0, 1]), 1.0, '234501', 19967.1],\n",
       "       [array([3, 1, 0, 2, 4, 5]), 1.0, '310245', 20045.79],\n",
       "       [array([1, 0, 2, 4, 5, 3]), 1.0, '102453', 20045.79],\n",
       "       [array([5, 2, 4, 0, 1, 3]), 1.0, '524013', 20134.81],\n",
       "       [array([0, 1, 3, 5, 2, 4]), 1.0, '013524', 20134.81],\n",
       "       [array([3, 2, 5, 0, 1, 4]), 1.0, '325014', 20243.83],\n",
       "       [array([5, 1, 3, 0, 2, 4]), 1.0, '513024', 20297.33],\n",
       "       [array([1, 3, 0, 2, 4, 5]), 1.0, '130245', 20297.33],\n",
       "       [array([1, 5, 2, 4, 0, 3]), 1.0, '152403', 20386.35],\n",
       "       [array([4, 5, 0, 3, 2, 1]), 1.0, '450321', 20486.14],\n",
       "       [array([3, 0, 5, 2, 1, 4]), 1.0, '305214', 20696.57],\n",
       "       [array([0, 3, 4, 1, 2, 5]), 1.0, '034125', 20696.57],\n",
       "       [array([1, 4, 3, 0, 5, 2]), 1.0, '143052', 20696.57],\n",
       "       [array([0, 2, 1, 4, 3, 5]), 1.0, '021435', 20762.97],\n",
       "       [array([3, 4, 5, 0, 2, 1]), 1.0, '345021', 21101.28],\n",
       "       [array([1, 2, 5, 0, 4, 3]), 1.0, '125043', 21190.3],\n",
       "       [array([2, 5, 0, 4, 3, 1]), 1.0, '250431', 21190.3],\n",
       "       [array([0, 5, 2, 1, 3, 4]), 1.0, '052134', 21190.3],\n",
       "       [array([3, 1, 4, 0, 5, 2]), 1.0, '314052', 21256.6],\n",
       "       [array([5, 1, 0, 2, 3, 4]), 1.0, '510234', 22887.45],\n",
       "       [array([3, 2, 0, 1, 5, 4]), 1.0, '320154', 22887.45],\n",
       "       [array([0, 1, 5, 4, 3, 2]), 1.0, '015432', 22887.45],\n",
       "       [array([4, 3, 2, 5, 1, 0]), 1.0, '432510', 22976.47],\n",
       "       [array([3, 4, 0, 1, 5, 2]), 1.0, '340152', 22976.47],\n",
       "       [array([2, 1, 0, 3, 4, 5]), 1.0, '210345', 23022.25],\n",
       "       [array([5, 4, 3, 0, 1, 2]), 1.0, '543012', 23022.25],\n",
       "       [array([3, 2, 0, 1, 4, 5]), 1.0, '320145', 23154.95],\n",
       "       [array([1, 5, 4, 0, 3, 2]), 1.0, '154032', 23218.78],\n",
       "       [array([4, 3, 0, 2, 1, 5]), 1.0, '430215', 23340.19],\n",
       "       [array([1, 4, 3, 5, 2, 0]), 1.0, '143520', 23365.38],\n",
       "       [array([1, 4, 3, 5, 2, 0]), 1.0, '143520', 23365.38],\n",
       "       [array([0, 3, 2, 5, 1, 4]), 1.0, '032514', 23495.51],\n",
       "       [array([4, 1, 5, 2, 3, 0]), 1.0, '415230', 23495.51],\n",
       "       [array([2, 3, 0, 4, 1, 5]), 1.0, '230415', 23495.51],\n",
       "       [array([2, 3, 1, 0, 4, 5]), 1.0, '231045', 23582.28],\n",
       "       [array([0, 3, 5, 4, 1, 2]), 1.0, '035412', 23607.69],\n",
       "       [array([5, 1, 4, 3, 0, 2]), 1.0, '514302', 23616.92],\n",
       "       [array([4, 3, 0, 2, 5, 1]), 1.0, '430251', 23616.92],\n",
       "       [array([0, 3, 5, 2, 1, 4]), 1.0, '035214', 23696.71],\n",
       "       [array([4, 1, 2, 5, 3, 0]), 1.0, '412530', 23696.71],\n",
       "       [array([4, 3, 1, 0, 2, 5]), 1.0, '431025', 23703.69],\n",
       "       [array([1, 3, 2, 0, 4, 5]), 1.0, '132045', 23900.22],\n",
       "       [array([2, 0, 4, 5, 1, 3]), 1.0, '204513', 23900.22],\n",
       "       [array([0, 4, 5, 1, 3, 2]), 1.0, '045132', 23900.22],\n",
       "       [array([2, 3, 1, 5, 4, 0]), 1.0, '231540', 23900.22],\n",
       "       [array([1, 5, 4, 0, 2, 3]), 1.0, '154023', 23900.22],\n",
       "       [array([5, 4, 0, 3, 1, 2]), 1.0, '540312', 24035.02],\n",
       "       [array([3, 5, 4, 0, 2, 1]), 1.0, '354021', 24101.42],\n",
       "       [array([5, 3, 1, 2, 0, 4]), 1.0, '531204', 24101.42],\n",
       "       [array([1, 2, 0, 4, 5, 3]), 1.0, '120453', 24101.42],\n",
       "       [array([0, 2, 5, 1, 3, 4]), 1.0, '025134', 24110.65]], dtype=object)"
      ]
     },
     "execution_count": 11,
     "metadata": {},
     "output_type": "execute_result"
    }
   ],
   "source": [
    "poblacion"
   ]
  },
  {
   "cell_type": "code",
   "execution_count": 9,
   "metadata": {},
   "outputs": [
    {
     "name": "stdout",
     "output_type": "stream",
     "text": [
      "Población inicial: 0\n",
      "Generación: 0\n",
      "20907.188374999987\n",
      "[[array([5, 3, 1, 0, 4, 2]), array(['501342', '230154'], dtype=object)], [array([2, 0, 3, 1, 5, 4]), array(['501342', '230154'], dtype=object)], [array([4, 2, 3, 0, 1, 5]), array(['032415', '423051'], dtype=object)], [array([0, 3, 2, 4, 5, 1]), array(['032415', '423051'], dtype=object)], [array([5, 2, 3, 4, 0, 1]), array(['503421', '524013'], dtype=object)], [array([5, 0, 4, 2, 1, 3]), array(['503421', '524013'], dtype=object)], [array([3, 0, 2, 1, 4, 5]), array(['320145', '102453'], dtype=object)], [array([1, 2, 0, 4, 5, 3]), array(['320145', '102453'], dtype=object)], [array([1, 4, 3, 0, 5, 2]), array(['025134', '143052'], dtype=object)], [array([0, 2, 5, 1, 3, 4]), array(['025134', '143052'], dtype=object)], [array([0, 1, 4, 5, 3, 2]), array(['045132', '314052'], dtype=object)], [array([3, 4, 5, 0, 1, 2]), array(['045132', '314052'], dtype=object)], [array([3, 1, 4, 2, 5, 0]), array(['314052', '534201'], dtype=object)], [array([5, 3, 4, 0, 2, 1]), array(['314052', '534201'], dtype=object)], [array([0, 3, 4, 5, 1, 2]), array(['035412', '534201'], dtype=object)], [array([4, 3, 5, 2, 0, 1]), array(['035412', '534201'], dtype=object)], [array([2, 1, 5, 3, 0, 4]), array(['210354', '015432'], dtype=object)], [array([5, 1, 0, 4, 3, 2]), array(['210354', '015432'], dtype=object)], [array([5, 2, 3, 1, 0, 4]), array(['325014', '423105'], dtype=object)], [array([4, 2, 5, 0, 1, 3]), array(['325014', '423105'], dtype=object)], [array([1, 3, 2, 4, 5, 0]), array(['102453', '432510'], dtype=object)], [array([4, 0, 2, 5, 1, 3]), array(['102453', '432510'], dtype=object)], [array([5, 4, 3, 0, 2, 1]), array(['354021', '543012'], dtype=object)], [array([3, 5, 4, 0, 1, 2]), array(['354021', '543012'], dtype=object)], [array([4, 1, 3, 5, 2, 0]), array(['412530', '203514'], dtype=object)], [array([3, 0, 2, 5, 1, 4]), array(['412530', '203514'], dtype=object)], [array([3, 5, 1, 0, 4, 2]), array(['351042', '513024'], dtype=object)], [array([5, 1, 3, 0, 2, 4]), array(['351042', '513024'], dtype=object)], [array([5, 1, 0, 4, 3, 2]), array(['045132', '510234'], dtype=object)], [array([0, 4, 5, 2, 3, 1]), array(['045132', '510234'], dtype=object)], [array([0, 5, 1, 3, 4, 2]), array(['315042', '501342'], dtype=object)], [array([1, 3, 5, 0, 4, 2]), array(['315042', '501342'], dtype=object)], [array([3, 1, 5, 4, 0, 2]), array(['514302', '015432'], dtype=object)], [array([0, 1, 4, 3, 5, 2]), array(['514302', '015432'], dtype=object)], [array([4, 3, 0, 2, 1, 5]), array(['430215', '234501'], dtype=object)], [array([2, 3, 4, 5, 0, 1]), array(['430215', '234501'], dtype=object)], [array([4, 0, 5, 1, 3, 2]), array(['105432', '052134'], dtype=object)], [array([0, 5, 2, 4, 3, 1]), array(['105432', '052134'], dtype=object)], [array([1, 3, 0, 2, 4, 5]), array(['130245', '231540'], dtype=object)], [array([2, 3, 1, 5, 4, 0]), array(['130245', '231540'], dtype=object)], [array([4, 3, 0, 2, 1, 5]), array(['430215', '210345'], dtype=object)], [array([2, 1, 0, 3, 4, 5]), array(['430215', '210345'], dtype=object)], [array([0, 4, 2, 5, 1, 3]), array(['032514', '540312'], dtype=object)], [array([5, 3, 0, 4, 1, 2]), array(['032514', '540312'], dtype=object)], [array([3, 0, 4, 5, 1, 2]), array(['514302', '204513'], dtype=object)], [array([2, 1, 4, 3, 0, 5]), array(['514302', '204513'], dtype=object)], [array([0, 2, 3, 1, 5, 4]), array(['052134', '423051'], dtype=object)], [array([4, 5, 2, 0, 3, 1]), array(['052134', '423051'], dtype=object)], [array([0, 2, 1, 5, 3, 4]), array(['203514', '421305'], dtype=object)], [array([4, 0, 3, 1, 2, 5]), array(['203514', '421305'], dtype=object)], [array([2, 5, 1, 4, 3, 0]), array(['253014', '021435'], dtype=object)], [array([4, 2, 3, 0, 1, 5]), array(['253014', '021435'], dtype=object)], [array([2, 3, 4, 1, 0, 5]), array(['234501', '423105'], dtype=object)], [array([4, 2, 3, 5, 0, 1]), array(['234501', '423105'], dtype=object)], [array([4, 3, 0, 1, 5, 2]), array(['413052', '230415'], dtype=object)], [array([2, 1, 3, 4, 0, 5]), array(['413052', '230415'], dtype=object)], [array([2, 5, 0, 4, 3, 1]), array(['250431', '120453'], dtype=object)], [array([1, 2, 0, 4, 5, 3]), array(['250431', '120453'], dtype=object)], [array([1, 4, 0, 3, 2, 5]), array(['143520', '540312'], dtype=object)], [array([0, 4, 3, 5, 1, 2]), array(['143520', '540312'], dtype=object)], [array([1, 5, 4, 2, 0, 3]), array(['152403', '204513'], dtype=object)], [array([4, 0, 2, 5, 1, 3]), array(['152403', '204513'], dtype=object)], [array([2, 0, 3, 5, 4, 1]), array(['234501', '103542'], dtype=object)], [array([1, 3, 4, 5, 0, 2]), array(['234501', '103542'], dtype=object)], [array([5, 1, 4, 0, 2, 3]), array(['513024', '204513'], dtype=object)], [array([2, 0, 3, 5, 1, 4]), array(['513024', '204513'], dtype=object)], [array([4, 2, 3, 0, 5, 1]), array(['423051', '425013'], dtype=object)], [array([4, 2, 5, 0, 1, 3]), array(['423051', '425013'], dtype=object)], [array([5, 0, 3, 1, 2, 4]), array(['503421', '052134'], dtype=object)], [array([0, 5, 2, 4, 3, 1]), array(['503421', '052134'], dtype=object)], [array([1, 2, 5, 0, 3, 4]), array(['025134', '425031'], dtype=object)], [array([4, 2, 5, 1, 3, 0]), array(['025134', '425031'], dtype=object)], [array([5, 0, 3, 1, 4, 2]), array(['103542', '423150'], dtype=object)], [array([4, 2, 3, 5, 1, 0]), array(['103542', '423150'], dtype=object)], [array([5, 2, 3, 1, 0, 4]), array(['543012', '423150'], dtype=object)], [array([2, 4, 3, 0, 5, 1]), array(['543012', '423150'], dtype=object)], [array([0, 3, 2, 4, 1, 5]), array(['035412', '032415'], dtype=object)], [array([0, 3, 5, 4, 1, 2]), array(['035412', '032415'], dtype=object)], [array([4, 1, 3, 0, 5, 2]), array(['413052', '413052'], dtype=object)], [array([4, 1, 3, 0, 5, 2]), array(['413052', '413052'], dtype=object)]]\n",
      "Generación: 1\n",
      "20907.188374999987\n",
      "[[array([0, 4, 1, 3, 5, 2]), array(['045132', '421305'], dtype=object)], [array([4, 2, 5, 1, 0, 3]), array(['045132', '421305'], dtype=object)], [array([3, 1, 2, 5, 0, 4]), array(['203514', '412530'], dtype=object)], [array([4, 0, 3, 5, 2, 1]), array(['203514', '412530'], dtype=object)], [array([4, 2, 5, 0, 3, 1]), array(['021435', '315042'], dtype=object)], [array([3, 5, 1, 4, 0, 2]), array(['021435', '315042'], dtype=object)], [array([4, 5, 3, 0, 2, 1]), array(['450321', '453012'], dtype=object)], [array([4, 5, 0, 3, 1, 2]), array(['450321', '453012'], dtype=object)], [array([0, 2, 1, 3, 4, 5]), array(['032415', '421305'], dtype=object)], [array([1, 3, 2, 4, 0, 5]), array(['032415', '421305'], dtype=object)], [array([1, 5, 4, 0, 2, 3]), array(['154023', '351042'], dtype=object)], [array([3, 5, 1, 0, 4, 2]), array(['154023', '351042'], dtype=object)], [array([4, 1, 2, 5, 3, 0]), array(['415230', '032514'], dtype=object)], [array([0, 3, 5, 2, 1, 4]), array(['415230', '032514'], dtype=object)], [array([3, 4, 0, 1, 5, 2]), array(['340152', '430251'], dtype=object)], [array([4, 3, 0, 2, 5, 1]), array(['340152', '430251'], dtype=object)], [array([3, 5, 0, 4, 2, 1]), array(['320154', '250431'], dtype=object)], [array([5, 2, 0, 1, 3, 4]), array(['320154', '250431'], dtype=object)], [array([4, 5, 3, 0, 2, 1]), array(['412530', '253014'], dtype=object)], [array([3, 1, 2, 5, 0, 4]), array(['412530', '253014'], dtype=object)], [array([4, 5, 1, 3, 2, 0]), array(['450321', '021435'], dtype=object)], [array([1, 2, 0, 4, 3, 5]), array(['450321', '021435'], dtype=object)], [array([1, 3, 0, 5, 4, 2]), array(['103542', '032451'], dtype=object)], [array([3, 0, 2, 4, 5, 1]), array(['103542', '032451'], dtype=object)], [array([3, 4, 2, 0, 5, 1]), array(['345021', '152403'], dtype=object)], [array([1, 2, 5, 4, 0, 3]), array(['345021', '152403'], dtype=object)], [array([0, 1, 3, 5, 2, 4]), array(['013524', '013524'], dtype=object)], [array([0, 1, 3, 5, 2, 4]), array(['013524', '013524'], dtype=object)], [array([4, 3, 1, 0, 5, 2]), array(['413052', '431025'], dtype=object)], [array([4, 1, 3, 0, 2, 5]), array(['413052', '431025'], dtype=object)], [array([3, 1, 4, 2, 0, 5]), array(['305214', '514302'], dtype=object)], [array([4, 0, 5, 3, 1, 2]), array(['305214', '514302'], dtype=object)], [array([3, 1, 0, 2, 4, 5]), array(['320145', '430251'], dtype=object)], [array([4, 3, 0, 1, 5, 2]), array(['320145', '430251'], dtype=object)], [array([1, 5, 0, 4, 3, 2]), array(['105432', '210354'], dtype=object)], [array([2, 1, 5, 3, 0, 4]), array(['105432', '210354'], dtype=object)], [array([2, 3, 0, 4, 1, 5]), array(['230415', '231540'], dtype=object)], [array([2, 3, 1, 5, 4, 0]), array(['230415', '231540'], dtype=object)], [array([0, 1, 3, 4, 5, 2]), array(['340152', '503421'], dtype=object)], [array([5, 3, 0, 1, 2, 4]), array(['340152', '503421'], dtype=object)], [array([0, 1, 5, 3, 2, 4]), array(['013524', '015432'], dtype=object)], [array([0, 1, 3, 4, 5, 2]), array(['013524', '015432'], dtype=object)], [array([3, 5, 0, 1, 4, 2]), array(['315042', '320145'], dtype=object)], [array([3, 2, 5, 0, 4, 1]), array(['315042', '320145'], dtype=object)], [array([0, 5, 3, 2, 1, 4]), array(['035214', '413052'], dtype=object)], [array([4, 1, 5, 0, 3, 2]), array(['035214', '413052'], dtype=object)], [array([1, 0, 3, 4, 5, 2]), array(['132450', '203514'], dtype=object)], [array([0, 3, 2, 5, 1, 4]), array(['132450', '203514'], dtype=object)], [array([0, 2, 1, 5, 3, 4]), array(['021435', '143520'], dtype=object)], [array([1, 5, 3, 4, 2, 0]), array(['021435', '143520'], dtype=object)], [array([3, 1, 5, 0, 2, 4]), array(['531204', '315042'], dtype=object)], [array([5, 3, 1, 2, 4, 0]), array(['531204', '315042'], dtype=object)], [array([3, 4, 2, 5, 1, 0]), array(['540312', '032514'], dtype=object)], [array([2, 5, 0, 3, 1, 4]), array(['540312', '032514'], dtype=object)], [array([3, 2, 0, 1, 5, 4]), array(['230154', '025134'], dtype=object)], [array([0, 3, 5, 1, 2, 4]), array(['230154', '025134'], dtype=object)], [array([0, 3, 1, 2, 5, 4]), array(['305214', '231045'], dtype=object)], [array([2, 0, 5, 3, 4, 1]), array(['305214', '231045'], dtype=object)], [array([5, 4, 3, 1, 0, 2]), array(['543012', '340152'], dtype=object)], [array([3, 4, 1, 0, 5, 2]), array(['543012', '340152'], dtype=object)], [array([1, 2, 3, 0, 5, 4]), array(['120453', '513024'], dtype=object)], [array([5, 1, 0, 4, 2, 3]), array(['120453', '513024'], dtype=object)], [array([3, 2, 5, 0, 1, 4]), array(['325014', '524013'], dtype=object)], [array([5, 2, 4, 0, 1, 3]), array(['325014', '524013'], dtype=object)], [array([4, 5, 3, 0, 1, 2]), array(['423105', '253014'], dtype=object)], [array([5, 2, 3, 1, 0, 4]), array(['423105', '253014'], dtype=object)], [array([2, 1, 4, 5, 0, 3]), array(['234501', '510342'], dtype=object)], [array([5, 3, 0, 1, 4, 2]), array(['234501', '510342'], dtype=object)], [array([1, 5, 2, 4, 0, 3]), array(['154023', '132450'], dtype=object)], [array([1, 3, 4, 0, 5, 2]), array(['154023', '132450'], dtype=object)], [array([1, 5, 0, 2, 3, 4]), array(['510234', '250431'], dtype=object)], [array([2, 1, 0, 4, 3, 5]), array(['510234', '250431'], dtype=object)], [array([4, 2, 0, 1, 5, 3]), array(['423150', '320154'], dtype=object)], [array([0, 2, 3, 1, 5, 4]), array(['423150', '320154'], dtype=object)], [array([4, 2, 3, 0, 1, 5]), array(['425013', '423051'], dtype=object)], [array([4, 2, 5, 0, 3, 1]), array(['425013', '423051'], dtype=object)], [array([4, 2, 3, 1, 0, 5]), array(['423105', '413052'], dtype=object)], [array([4, 1, 3, 0, 5, 2]), array(['423105', '413052'], dtype=object)], [array([0, 4, 3, 1, 5, 2]), array(['340152', '413052'], dtype=object)], [array([4, 1, 0, 3, 5, 2]), array(['340152', '413052'], dtype=object)]]\n",
      "Generación: 2\n",
      "20907.188374999987\n",
      "[[array([5, 0, 3, 4, 2, 1]), array(['503421', '015432'], dtype=object)], [array([0, 1, 5, 4, 3, 2]), array(['503421', '015432'], dtype=object)], [array([2, 5, 3, 0, 4, 1]), array(['250431', '413052'], dtype=object)], [array([3, 1, 0, 4, 5, 2]), array(['250431', '413052'], dtype=object)], [array([1, 2, 4, 0, 5, 3]), array(['120453', '354021'], dtype=object)], [array([3, 5, 0, 4, 2, 1]), array(['120453', '354021'], dtype=object)], [array([4, 3, 2, 0, 5, 1]), array(['423051', '431025'], dtype=object)], [array([4, 2, 1, 0, 3, 5]), array(['423051', '431025'], dtype=object)], [array([4, 3, 1, 0, 2, 5]), array(['421305', '431025'], dtype=object)], [array([4, 2, 1, 3, 0, 5]), array(['421305', '431025'], dtype=object)], [array([4, 1, 5, 3, 0, 2]), array(['421305', '015432'], dtype=object)], [array([0, 2, 1, 4, 3, 5]), array(['421305', '015432'], dtype=object)], [array([0, 3, 2, 1, 5, 4]), array(['032451', '034125'], dtype=object)], [array([0, 3, 1, 4, 2, 5]), array(['032451', '034125'], dtype=object)], [array([4, 5, 2, 0, 3, 1]), array(['425031', '102453'], dtype=object)], [array([1, 0, 5, 4, 2, 3]), array(['425031', '102453'], dtype=object)], [array([4, 3, 2, 5, 1, 0]), array(['431025', '032514'], dtype=object)], [array([5, 3, 1, 0, 2, 4]), array(['431025', '032514'], dtype=object)], [array([3, 5, 4, 0, 2, 1]), array(['345021', '154032'], dtype=object)], [array([1, 4, 5, 0, 3, 2]), array(['345021', '154032'], dtype=object)], [array([1, 3, 2, 0, 5, 4]), array(['132450', '351042'], dtype=object)], [array([3, 5, 1, 4, 0, 2]), array(['132450', '351042'], dtype=object)], [array([1, 5, 2, 0, 3, 4]), array(['052134', '524013'], dtype=object)], [array([5, 2, 4, 1, 0, 3]), array(['052134', '524013'], dtype=object)], [array([0, 1, 3, 5, 4, 2]), array(['315042', '013524'], dtype=object)], [array([3, 1, 5, 0, 2, 4]), array(['315042', '013524'], dtype=object)], [array([4, 3, 0, 2, 1, 5]), array(['032415', '430251'], dtype=object)], [array([0, 3, 2, 4, 5, 1]), array(['032415', '430251'], dtype=object)], [array([0, 1, 3, 4, 5, 2]), array(['015432', '513024'], dtype=object)], [array([3, 1, 5, 0, 2, 4]), array(['015432', '513024'], dtype=object)], [array([4, 2, 5, 0, 1, 3]), array(['425013', '425031'], dtype=object)], [array([4, 2, 5, 0, 3, 1]), array(['425013', '425031'], dtype=object)], [array([2, 1, 0, 5, 3, 4]), array(['032514', '210345'], dtype=object)], [array([0, 3, 2, 1, 4, 5]), array(['032514', '210345'], dtype=object)], [array([5, 1, 3, 0, 2, 4]), array(['513024', '253014'], dtype=object)], [array([2, 5, 3, 0, 1, 4]), array(['513024', '253014'], dtype=object)], [array([1, 5, 4, 3, 2, 0]), array(['154023', '421305'], dtype=object)], [array([4, 2, 1, 0, 3, 5]), array(['154023', '421305'], dtype=object)], [array([1, 4, 5, 0, 3, 2]), array(['154032', '315042'], dtype=object)], [array([3, 1, 4, 0, 5, 2]), array(['154032', '315042'], dtype=object)], [array([4, 0, 1, 5, 3, 2]), array(['401532', '231540'], dtype=object)], [array([2, 3, 1, 5, 4, 0]), array(['401532', '231540'], dtype=object)], [array([5, 1, 2, 3, 4, 0]), array(['510342', '432510'], dtype=object)], [array([4, 3, 0, 5, 1, 2]), array(['510342', '432510'], dtype=object)], [array([4, 2, 5, 0, 3, 1]), array(['015432', '425013'], dtype=object)], [array([0, 1, 5, 4, 2, 3]), array(['015432', '425013'], dtype=object)], [array([3, 0, 5, 1, 4, 2]), array(['103542', '025134'], dtype=object)], [array([0, 2, 3, 5, 1, 4]), array(['103542', '025134'], dtype=object)], [array([5, 3, 4, 2, 1, 0]), array(['415230', '534201'], dtype=object)], [array([4, 1, 5, 2, 0, 3]), array(['415230', '534201'], dtype=object)], [array([4, 1, 3, 5, 2, 0]), array(['432510', '513024'], dtype=object)], [array([5, 3, 2, 0, 1, 4]), array(['432510', '513024'], dtype=object)], [array([4, 3, 1, 0, 5, 2]), array(['413052', '421305'], dtype=object)], [array([4, 2, 3, 1, 0, 5]), array(['413052', '421305'], dtype=object)], [array([4, 2, 3, 0, 1, 5]), array(['423105', '425031'], dtype=object)], [array([4, 2, 5, 1, 3, 0]), array(['423105', '425031'], dtype=object)], [array([0, 3, 4, 1, 2, 5]), array(['032415', '034125'], dtype=object)], [array([0, 3, 2, 4, 1, 5]), array(['032415', '034125'], dtype=object)], [array([0, 2, 5, 3, 1, 4]), array(['035214', '423150'], dtype=object)], [array([4, 3, 2, 1, 5, 0]), array(['035214', '423150'], dtype=object)], [array([1, 2, 5, 3, 4, 0]), array(['501342', '125043'], dtype=object)], [array([5, 0, 1, 2, 4, 3]), array(['501342', '125043'], dtype=object)], [array([4, 1, 2, 5, 0, 3]), array(['143052', '412530'], dtype=object)], [array([1, 4, 3, 0, 2, 5]), array(['143052', '412530'], dtype=object)], [array([2, 3, 0, 4, 1, 5]), array(['230415', '430215'], dtype=object)], [array([4, 3, 0, 2, 1, 5]), array(['230415', '430215'], dtype=object)], [array([5, 4, 3, 0, 2, 1]), array(['345021', '413052'], dtype=object)], [array([4, 1, 5, 0, 3, 2]), array(['345021', '413052'], dtype=object)], [array([5, 1, 3, 0, 4, 2]), array(['315042', '413052'], dtype=object)], [array([4, 1, 5, 0, 3, 2]), array(['315042', '413052'], dtype=object)], [array([3, 2, 5, 4, 0, 1]), array(['234501', '125043'], dtype=object)], [array([1, 3, 4, 0, 5, 2]), array(['234501', '125043'], dtype=object)], [array([1, 0, 2, 4, 5, 3]), array(['102453', '230415'], dtype=object)], [array([2, 3, 0, 4, 1, 5]), array(['102453', '230415'], dtype=object)], [array([3, 2, 1, 5, 0, 4]), array(['320154', '401532'], dtype=object)], [array([4, 5, 0, 1, 3, 2]), array(['320154', '401532'], dtype=object)], [array([3, 0, 2, 5, 1, 4]), array(['305214', '401532'], dtype=object)], [array([4, 0, 1, 2, 3, 5]), array(['305214', '401532'], dtype=object)], [array([1, 3, 2, 4, 5, 0]), array(['132450', '132450'], dtype=object)], [array([1, 3, 2, 4, 5, 0]), array(['132450', '132450'], dtype=object)]]\n",
      "Generación: 3\n",
      "20907.188374999987\n",
      "[[array([4, 0, 3, 2, 5, 1]), array(['423051', '501342'], dtype=object)], [array([5, 2, 1, 3, 4, 0]), array(['423051', '501342'], dtype=object)], [array([3, 2, 0, 5, 1, 4]), array(['320154', '231540'], dtype=object)], [array([2, 3, 5, 1, 4, 0]), array(['320154', '231540'], dtype=object)], [array([4, 5, 3, 0, 2, 1]), array(['450321', '425031'], dtype=object)], [array([4, 2, 5, 3, 0, 1]), array(['450321', '425031'], dtype=object)], [array([4, 2, 3, 0, 1, 5]), array(['423105', '413052'], dtype=object)], [array([4, 0, 3, 1, 5, 2]), array(['423105', '413052'], dtype=object)], [array([1, 2, 5, 0, 4, 3]), array(['152403', '425013'], dtype=object)], [array([0, 5, 2, 4, 1, 3]), array(['152403', '425013'], dtype=object)], [array([2, 1, 3, 5, 0, 4]), array(['203514', '310245'], dtype=object)], [array([3, 0, 1, 2, 4, 5]), array(['203514', '310245'], dtype=object)], [array([3, 0, 2, 5, 4, 1]), array(['501342', '432510'], dtype=object)], [array([4, 5, 1, 3, 2, 0]), array(['501342', '432510'], dtype=object)], [array([0, 1, 3, 5, 2, 4]), array(['013524', '510342'], dtype=object)], [array([5, 1, 0, 3, 4, 2]), array(['013524', '510342'], dtype=object)], [array([4, 3, 2, 0, 5, 1]), array(['430251', '132450'], dtype=object)], [array([1, 3, 0, 4, 5, 2]), array(['430251', '132450'], dtype=object)], [array([0, 4, 5, 1, 3, 2]), array(['045132', '125043'], dtype=object)], [array([1, 2, 5, 0, 4, 3]), array(['045132', '125043'], dtype=object)], [array([4, 0, 5, 1, 3, 2]), array(['413052', '025134'], dtype=object)], [array([1, 2, 3, 0, 5, 4]), array(['413052', '025134'], dtype=object)], [array([3, 2, 5, 0, 4, 1]), array(['315042', '320154'], dtype=object)], [array([3, 1, 0, 2, 5, 4]), array(['315042', '320154'], dtype=object)], [array([4, 1, 3, 5, 0, 2]), array(['514302', '013524'], dtype=object)], [array([0, 1, 4, 3, 2, 5]), array(['514302', '013524'], dtype=object)], [array([1, 0, 3, 5, 4, 2]), array(['103542', '103542'], dtype=object)], [array([1, 0, 3, 5, 4, 2]), array(['103542', '103542'], dtype=object)], [array([3, 4, 1, 0, 2, 5]), array(['431025', '540312'], dtype=object)], [array([5, 3, 0, 4, 1, 2]), array(['431025', '540312'], dtype=object)], [array([1, 3, 0, 4, 2, 5]), array(['021435', '430215'], dtype=object)], [array([4, 2, 1, 3, 0, 5]), array(['021435', '430215'], dtype=object)], [array([0, 5, 3, 2, 1, 4]), array(['035214', '513024'], dtype=object)], [array([3, 1, 5, 0, 2, 4]), array(['035214', '513024'], dtype=object)], [array([5, 0, 4, 3, 2, 1]), array(['503421', '314052'], dtype=object)], [array([4, 1, 3, 0, 5, 2]), array(['503421', '314052'], dtype=object)], [array([1, 0, 2, 4, 5, 3]), array(['120453', '052134'], dtype=object)], [array([2, 5, 0, 1, 3, 4]), array(['120453', '052134'], dtype=object)], [array([2, 3, 4, 1, 0, 5]), array(['423105', '034125'], dtype=object)], [array([0, 2, 3, 1, 4, 5]), array(['423105', '034125'], dtype=object)], [array([0, 5, 2, 1, 3, 4]), array(['230154', '052134'], dtype=object)], [array([2, 3, 0, 1, 5, 4]), array(['230154', '052134'], dtype=object)], [array([5, 0, 3, 4, 1, 2]), array(['035412', '503421'], dtype=object)], [array([0, 3, 5, 4, 2, 1]), array(['035412', '503421'], dtype=object)], [array([3, 4, 0, 2, 1, 5]), array(['430215', '540312'], dtype=object)], [array([5, 3, 0, 4, 1, 2]), array(['430215', '540312'], dtype=object)], [array([1, 5, 2, 0, 3, 4]), array(['052134', '154023'], dtype=object)], [array([0, 5, 4, 1, 2, 3]), array(['052134', '154023'], dtype=object)], [array([4, 3, 2, 0, 1, 5]), array(['432510', '315042'], dtype=object)], [array([3, 1, 0, 5, 4, 2]), array(['432510', '315042'], dtype=object)], [array([5, 1, 0, 3, 4, 2]), array(['514302', '210354'], dtype=object)], [array([2, 1, 4, 3, 5, 0]), array(['514302', '210354'], dtype=object)], [array([4, 1, 3, 0, 5, 2]), array(['413052', '524013'], dtype=object)], [array([5, 2, 4, 0, 1, 3]), array(['413052', '524013'], dtype=object)], [array([3, 1, 0, 2, 4, 5]), array(['320145', '510234'], dtype=object)], [array([5, 2, 0, 1, 3, 4]), array(['320145', '510234'], dtype=object)], [array([3, 4, 0, 1, 2, 5]), array(['320145', '240513'], dtype=object)], [array([4, 2, 0, 5, 1, 3]), array(['320145', '240513'], dtype=object)], [array([0, 4, 2, 3, 5, 1]), array(['032451', '045132'], dtype=object)], [array([0, 3, 5, 1, 4, 2]), array(['032451', '045132'], dtype=object)], [array([5, 0, 1, 2, 4, 3]), array(['501342', '510234'], dtype=object)], [array([5, 1, 0, 3, 2, 4]), array(['501342', '510234'], dtype=object)], [array([5, 0, 1, 3, 2, 4]), array(['534201', '501342'], dtype=object)], [array([5, 3, 4, 2, 1, 0]), array(['534201', '501342'], dtype=object)], [array([4, 2, 3, 1, 5, 0]), array(['423150', '320154'], dtype=object)], [array([3, 2, 0, 1, 5, 4]), array(['423150', '320154'], dtype=object)], [array([4, 2, 1, 5, 3, 0]), array(['401532', '423150'], dtype=object)], [array([4, 0, 3, 1, 5, 2]), array(['401532', '423150'], dtype=object)], [array([2, 4, 5, 1, 0, 3]), array(['210354', '045132'], dtype=object)], [array([5, 1, 0, 3, 4, 2]), array(['210354', '045132'], dtype=object)], [array([0, 2, 4, 1, 3, 5]), array(['034125', '425013'], dtype=object)], [array([4, 3, 5, 0, 1, 2]), array(['034125', '425013'], dtype=object)], [array([5, 3, 0, 2, 4, 1]), array(['234501', '510234'], dtype=object)], [array([2, 1, 4, 5, 3, 0]), array(['234501', '510234'], dtype=object)], [array([1, 2, 4, 0, 5, 3]), array(['125043', '314052'], dtype=object)], [array([3, 1, 5, 0, 4, 2]), array(['125043', '314052'], dtype=object)], [array([4, 3, 0, 1, 5, 2]), array(['413052', '230415'], dtype=object)], [array([2, 1, 3, 4, 0, 5]), array(['413052', '230415'], dtype=object)], [array([0, 5, 3, 1, 2, 4]), array(['013524', '453012'], dtype=object)], [array([4, 1, 3, 0, 5, 2]), array(['013524', '453012'], dtype=object)]]\n",
      "Generación: 4\n",
      "20907.188374999987\n",
      "[[array([2, 3, 0, 5, 1, 4]), array(['203514', '130245'], dtype=object)], [array([1, 0, 3, 2, 4, 5]), array(['203514', '130245'], dtype=object)], [array([1, 2, 0, 4, 3, 5]), array(['210345', '120453'], dtype=object)], [array([2, 1, 0, 3, 5, 4]), array(['210345', '120453'], dtype=object)], [array([4, 1, 5, 0, 2, 3]), array(['431025', '315042'], dtype=object)], [array([5, 3, 1, 0, 4, 2]), array(['431025', '315042'], dtype=object)], [array([2, 3, 0, 1, 4, 5]), array(['231045', '340152'], dtype=object)], [array([3, 4, 1, 0, 5, 2]), array(['231045', '340152'], dtype=object)], [array([5, 2, 1, 0, 3, 4]), array(['025134', '231045'], dtype=object)], [array([2, 3, 5, 1, 4, 0]), array(['025134', '231045'], dtype=object)], [array([1, 2, 0, 3, 4, 5]), array(['132045', '120453'], dtype=object)], [array([1, 3, 2, 4, 5, 0]), array(['132045', '120453'], dtype=object)], [array([3, 1, 5, 0, 4, 2]), array(['314052', '415230'], dtype=object)], [array([5, 1, 4, 2, 3, 0]), array(['314052', '415230'], dtype=object)], [array([3, 2, 5, 1, 4, 0]), array(['310245', '025134'], dtype=object)], [array([5, 1, 0, 2, 3, 4]), array(['310245', '025134'], dtype=object)], [array([5, 2, 0, 3, 1, 4]), array(['025134', '510342'], dtype=object)], [array([0, 3, 5, 1, 4, 2]), array(['025134', '510342'], dtype=object)], [array([4, 1, 3, 0, 5, 2]), array(['413052', '013524'], dtype=object)], [array([0, 1, 3, 5, 2, 4]), array(['413052', '013524'], dtype=object)], [array([0, 2, 1, 4, 3, 5]), array(['425031', '021435'], dtype=object)], [array([4, 2, 5, 0, 3, 1]), array(['425031', '021435'], dtype=object)], [array([0, 5, 2, 4, 3, 1]), array(['032451', '154032'], dtype=object)], [array([1, 3, 4, 0, 5, 2]), array(['032451', '154032'], dtype=object)], [array([5, 1, 2, 4, 0, 3]), array(['152403', '013524'], dtype=object)], [array([0, 5, 3, 1, 2, 4]), array(['152403', '013524'], dtype=object)], [array([1, 0, 2, 4, 3, 5]), array(['105432', '032514'], dtype=object)], [array([0, 3, 5, 2, 1, 4]), array(['105432', '032514'], dtype=object)], [array([4, 3, 2, 0, 5, 1]), array(['430251', '143052'], dtype=object)], [array([1, 4, 3, 2, 5, 0]), array(['430251', '143052'], dtype=object)], [array([0, 2, 5, 4, 3, 1]), array(['425031', '230415'], dtype=object)], [array([2, 3, 4, 0, 1, 5]), array(['425031', '230415'], dtype=object)], [array([1, 3, 4, 0, 2, 5]), array(['132045', '034125'], dtype=object)], [array([0, 3, 2, 1, 4, 5]), array(['132045', '034125'], dtype=object)], [array([1, 3, 5, 0, 2, 4]), array(['531204', '315042'], dtype=object)], [array([3, 5, 1, 2, 4, 0]), array(['531204', '315042'], dtype=object)], [array([2, 0, 4, 1, 5, 3]), array(['230154', '204513'], dtype=object)], [array([2, 3, 0, 5, 1, 4]), array(['230154', '204513'], dtype=object)], [array([3, 2, 0, 4, 1, 5]), array(['325014', '250431'], dtype=object)], [array([2, 4, 5, 0, 3, 1]), array(['325014', '250431'], dtype=object)], [array([3, 1, 0, 2, 5, 4]), array(['320154', '310245'], dtype=object)], [array([3, 2, 0, 1, 4, 5]), array(['320154', '310245'], dtype=object)], [array([5, 4, 0, 3, 1, 2]), array(['514302', '540312'], dtype=object)], [array([5, 1, 4, 3, 0, 2]), array(['514302', '540312'], dtype=object)], [array([1, 5, 3, 0, 2, 4]), array(['513024', '253014'], dtype=object)], [array([2, 1, 3, 0, 5, 4]), array(['513024', '253014'], dtype=object)], [array([5, 1, 3, 0, 2, 4]), array(['013524', '431025'], dtype=object)], [array([4, 3, 1, 5, 2, 0]), array(['013524', '431025'], dtype=object)], [array([5, 2, 4, 1, 0, 3]), array(['425013', '034125'], dtype=object)], [array([1, 3, 5, 0, 2, 4]), array(['425013', '034125'], dtype=object)], [array([3, 2, 0, 1, 4, 5]), array(['310245', '320145'], dtype=object)], [array([3, 1, 0, 2, 4, 5]), array(['310245', '320145'], dtype=object)], [array([3, 1, 4, 0, 5, 2]), array(['314052', '425031'], dtype=object)], [array([4, 2, 5, 0, 3, 1]), array(['314052', '425031'], dtype=object)], [array([0, 1, 3, 5, 2, 4]), array(['013524', '413052'], dtype=object)], [array([4, 1, 3, 0, 5, 2]), array(['013524', '413052'], dtype=object)], [array([0, 3, 4, 1, 2, 5]), array(['034125', '132450'], dtype=object)], [array([1, 3, 2, 4, 5, 0]), array(['034125', '132450'], dtype=object)], [array([4, 0, 3, 1, 5, 2]), array(['413052', '340152'], dtype=object)], [array([3, 4, 1, 0, 5, 2]), array(['413052', '340152'], dtype=object)], [array([4, 2, 3, 0, 1, 5]), array(['412530', '423051'], dtype=object)], [array([4, 1, 2, 5, 0, 3]), array(['412530', '423051'], dtype=object)], [array([1, 0, 2, 4, 5, 3]), array(['231540', '102453'], dtype=object)], [array([2, 3, 1, 5, 4, 0]), array(['231540', '102453'], dtype=object)], [array([0, 5, 3, 4, 1, 2]), array(['453012', '102453'], dtype=object)], [array([1, 4, 2, 0, 5, 3]), array(['453012', '102453'], dtype=object)], [array([5, 1, 0, 3, 4, 2]), array(['514302', '510342'], dtype=object)], [array([5, 1, 4, 3, 0, 2]), array(['514302', '510342'], dtype=object)], [array([4, 2, 1, 0, 3, 5]), array(['421305', '354021'], dtype=object)], [array([0, 5, 4, 3, 2, 1]), array(['421305', '354021'], dtype=object)], [array([3, 5, 4, 1, 2, 0]), array(['423150', '354021'], dtype=object)], [array([4, 2, 3, 0, 5, 1]), array(['423150', '354021'], dtype=object)], [array([4, 2, 0, 3, 5, 1]), array(['450321', '320154'], dtype=object)], [array([3, 5, 0, 1, 2, 4]), array(['450321', '320154'], dtype=object)], [array([5, 3, 2, 1, 0, 4]), array(['514302', '052134'], dtype=object)], [array([0, 5, 4, 3, 1, 2]), array(['514302', '052134'], dtype=object)], [array([5, 4, 0, 3, 1, 2]), array(['035412', '240513'], dtype=object)], [array([2, 3, 5, 0, 1, 4]), array(['035412', '240513'], dtype=object)], [array([3, 0, 4, 5, 1, 2]), array(['453012', '204513'], dtype=object)], [array([2, 5, 3, 0, 1, 4]), array(['453012', '204513'], dtype=object)]]\n",
      "Generación: 5\n",
      "20907.188374999987\n",
      "[[array([4, 1, 5, 0, 3, 2]), array(['415230', '315042'], dtype=object)], [array([3, 1, 5, 2, 4, 0]), array(['415230', '315042'], dtype=object)], [array([0, 5, 2, 1, 3, 4]), array(['052134', '253014'], dtype=object)], [array([2, 5, 3, 0, 1, 4]), array(['052134', '253014'], dtype=object)], [array([4, 3, 1, 0, 5, 2]), array(['453012', '531204'], dtype=object)], [array([1, 5, 3, 2, 0, 4]), array(['453012', '531204'], dtype=object)], [array([3, 0, 5, 2, 1, 4]), array(['032514', '305214'], dtype=object)], [array([0, 3, 2, 5, 1, 4]), array(['032514', '305214'], dtype=object)], [array([1, 0, 5, 4, 3, 2]), array(['105432', '032415'], dtype=object)], [array([0, 3, 2, 4, 1, 5]), array(['105432', '032415'], dtype=object)], [array([1, 4, 5, 3, 2, 0]), array(['143520', '345021'], dtype=object)], [array([5, 4, 3, 0, 2, 1]), array(['143520', '345021'], dtype=object)], [array([4, 3, 2, 0, 1, 5]), array(['032415', '453012'], dtype=object)], [array([0, 5, 3, 4, 1, 2]), array(['032415', '453012'], dtype=object)], [array([5, 1, 2, 4, 0, 3]), array(['152403', '210345'], dtype=object)], [array([2, 5, 0, 3, 4, 1]), array(['152403', '210345'], dtype=object)], [array([0, 2, 3, 1, 4, 5]), array(['351042', '423105'], dtype=object)], [array([4, 5, 1, 0, 3, 2]), array(['351042', '423105'], dtype=object)], [array([3, 1, 5, 2, 4, 0]), array(['315042', '305214'], dtype=object)], [array([3, 2, 5, 0, 1, 4]), array(['315042', '305214'], dtype=object)], [array([4, 1, 5, 0, 3, 2]), array(['413052', '125043'], dtype=object)], [array([1, 2, 3, 0, 4, 5]), array(['413052', '125043'], dtype=object)], [array([2, 5, 4, 0, 1, 3]), array(['204513', '152403'], dtype=object)], [array([1, 0, 2, 4, 5, 3]), array(['204513', '152403'], dtype=object)], [array([1, 5, 4, 2, 0, 3]), array(['152403', '035214'], dtype=object)], [array([0, 3, 5, 4, 1, 2]), array(['152403', '035214'], dtype=object)], [array([2, 3, 0, 5, 4, 1]), array(['231540', '240513'], dtype=object)], [array([2, 4, 1, 5, 0, 3]), array(['231540', '240513'], dtype=object)], [array([0, 2, 3, 4, 1, 5]), array(['032415', '143052'], dtype=object)], [array([1, 4, 2, 0, 5, 3]), array(['032415', '143052'], dtype=object)], [array([1, 5, 3, 0, 2, 4]), array(['154023', '503421'], dtype=object)], [array([5, 0, 4, 3, 2, 1]), array(['154023', '503421'], dtype=object)], [array([3, 5, 2, 1, 4, 0]), array(['320145', '052134'], dtype=object)], [array([5, 2, 0, 1, 3, 4]), array(['320145', '052134'], dtype=object)], [array([1, 3, 0, 2, 4, 5]), array(['132045', '240513'], dtype=object)], [array([0, 4, 2, 5, 1, 3]), array(['132045', '240513'], dtype=object)], [array([1, 3, 5, 0, 4, 2]), array(['315042', '034125'], dtype=object)], [array([0, 1, 4, 3, 2, 5]), array(['315042', '034125'], dtype=object)], [array([5, 2, 4, 0, 3, 1]), array(['425031', '534201'], dtype=object)], [array([4, 3, 5, 2, 0, 1]), array(['425031', '534201'], dtype=object)], [array([2, 1, 3, 0, 4, 5]), array(['231045', '513024'], dtype=object)], [array([5, 3, 1, 0, 2, 4]), array(['231045', '513024'], dtype=object)], [array([2, 3, 0, 1, 4, 5]), array(['231045', '423150'], dtype=object)], [array([4, 2, 3, 0, 5, 1]), array(['231045', '423150'], dtype=object)], [array([3, 1, 0, 5, 4, 2]), array(['315042', '231540'], dtype=object)], [array([2, 3, 1, 0, 4, 5]), array(['315042', '231540'], dtype=object)], [array([1, 2, 3, 4, 5, 0]), array(['120453', '423051'], dtype=object)], [array([4, 2, 0, 3, 5, 1]), array(['120453', '423051'], dtype=object)], [array([3, 1, 2, 0, 4, 5]), array(['310245', '152403'], dtype=object)], [array([1, 5, 0, 4, 2, 3]), array(['310245', '152403'], dtype=object)], [array([5, 1, 3, 0, 2, 4]), array(['345021', '413052'], dtype=object)], [array([1, 4, 5, 0, 3, 2]), array(['345021', '413052'], dtype=object)], [array([0, 4, 3, 5, 2, 1]), array(['013524', '143520'], dtype=object)], [array([4, 1, 3, 5, 2, 0]), array(['013524', '143520'], dtype=object)], [array([4, 3, 2, 0, 1, 5]), array(['432510', '354021'], dtype=object)], [array([3, 0, 4, 5, 2, 1]), array(['432510', '354021'], dtype=object)], [array([2, 3, 4, 0, 5, 1]), array(['034251', '425031'], dtype=object)], [array([4, 0, 5, 2, 3, 1]), array(['034251', '425031'], dtype=object)], [array([2, 3, 1, 0, 5, 4]), array(['203514', '431025'], dtype=object)], [array([4, 0, 3, 5, 2, 1]), array(['203514', '431025'], dtype=object)], [array([0, 3, 2, 4, 5, 1]), array(['425031', '032451'], dtype=object)], [array([4, 2, 5, 0, 3, 1]), array(['425031', '032451'], dtype=object)], [array([0, 3, 2, 4, 1, 5]), array(['021435', '032514'], dtype=object)], [array([0, 2, 1, 5, 3, 4]), array(['021435', '032514'], dtype=object)], [array([0, 3, 4, 1, 2, 5]), array(['034125', '034125'], dtype=object)], [array([0, 3, 4, 1, 2, 5]), array(['034125', '034125'], dtype=object)], [array([5, 0, 1, 4, 3, 2]), array(['501342', '250431'], dtype=object)], [array([2, 5, 0, 3, 4, 1]), array(['501342', '250431'], dtype=object)], [array([4, 1, 5, 2, 3, 0]), array(['432510', '315042'], dtype=object)], [array([1, 3, 2, 0, 4, 5]), array(['432510', '315042'], dtype=object)], [array([1, 2, 5, 4, 0, 3]), array(['102453', '125043'], dtype=object)], [array([1, 0, 2, 5, 4, 3]), array(['102453', '125043'], dtype=object)], [array([1, 3, 0, 5, 2, 4]), array(['013524', '130245'], dtype=object)], [array([0, 1, 3, 2, 4, 5]), array(['013524', '130245'], dtype=object)], [array([4, 5, 3, 0, 2, 1]), array(['450321', '154032'], dtype=object)], [array([1, 5, 4, 3, 0, 2]), array(['450321', '154032'], dtype=object)], [array([2, 3, 1, 5, 4, 0]), array(['231540', '132045'], dtype=object)], [array([1, 3, 2, 0, 4, 5]), array(['231540', '132045'], dtype=object)], [array([3, 1, 0, 2, 5, 4]), array(['210354', '035214'], dtype=object)], [array([0, 2, 5, 3, 1, 4]), array(['210354', '035214'], dtype=object)]]\n",
      "Generación: 6\n",
      "20907.188374999987\n",
      "[[array([4, 2, 1, 0, 3, 5]), array(['021435', '154032'], dtype=object)], [array([1, 5, 0, 4, 3, 2]), array(['021435', '154032'], dtype=object)], [array([0, 1, 3, 2, 5, 4]), array(['013524', '534201'], dtype=object)], [array([2, 3, 4, 5, 0, 1]), array(['013524', '534201'], dtype=object)], [array([1, 3, 2, 0, 4, 5]), array(['132045', '132450'], dtype=object)], [array([1, 3, 2, 4, 5, 0]), array(['132045', '132450'], dtype=object)], [array([2, 5, 4, 0, 3, 1]), array(['250431', '325014'], dtype=object)], [array([3, 2, 5, 4, 1, 0]), array(['250431', '325014'], dtype=object)], [array([2, 3, 0, 1, 4, 5]), array(['234501', '320145'], dtype=object)], [array([3, 2, 4, 5, 0, 1]), array(['234501', '320145'], dtype=object)], [array([1, 4, 0, 5, 2, 3]), array(['143520', '130245'], dtype=object)], [array([1, 0, 3, 2, 4, 5]), array(['143520', '130245'], dtype=object)], [array([3, 0, 5, 2, 1, 4]), array(['325014', '035214'], dtype=object)], [array([2, 3, 5, 0, 1, 4]), array(['325014', '035214'], dtype=object)], [array([2, 5, 1, 3, 4, 0]), array(['231540', '450321'], dtype=object)], [array([4, 3, 0, 5, 2, 1]), array(['231540', '450321'], dtype=object)], [array([4, 1, 0, 3, 5, 2]), array(['432510', '210345'], dtype=object)], [array([0, 3, 2, 5, 4, 1]), array(['432510', '210345'], dtype=object)], [array([0, 3, 2, 4, 5, 1]), array(['032451', '430215'], dtype=object)], [array([4, 3, 0, 2, 1, 5]), array(['032451', '430215'], dtype=object)], [array([5, 3, 2, 4, 0, 1]), array(['351042', '032451'], dtype=object)], [array([4, 5, 1, 0, 3, 2]), array(['351042', '032451'], dtype=object)], [array([2, 3, 0, 1, 5, 4]), array(['320154', '234501'], dtype=object)], [array([3, 2, 4, 5, 0, 1]), array(['320154', '234501'], dtype=object)], [array([5, 1, 0, 3, 4, 2]), array(['543012', '510234'], dtype=object)], [array([5, 4, 3, 2, 0, 1]), array(['543012', '510234'], dtype=object)], [array([1, 0, 2, 4, 5, 3]), array(['102453', '132045'], dtype=object)], [array([1, 3, 2, 0, 4, 5]), array(['102453', '132045'], dtype=object)], [array([1, 3, 0, 4, 5, 2]), array(['143052', '430215'], dtype=object)], [array([0, 4, 3, 2, 1, 5]), array(['143052', '430215'], dtype=object)], [array([1, 5, 3, 0, 2, 4]), array(['513024', '453012'], dtype=object)], [array([4, 1, 3, 0, 5, 2]), array(['513024', '453012'], dtype=object)], [array([2, 1, 0, 3, 5, 4]), array(['210354', '210354'], dtype=object)], [array([2, 1, 0, 3, 5, 4]), array(['210354', '210354'], dtype=object)], [array([3, 0, 5, 2, 1, 4]), array(['325014', '305214'], dtype=object)], [array([3, 2, 5, 0, 1, 4]), array(['325014', '305214'], dtype=object)], [array([5, 2, 4, 3, 0, 1]), array(['503421', '524013'], dtype=object)], [array([5, 0, 3, 2, 1, 4]), array(['503421', '524013'], dtype=object)], [array([0, 1, 3, 5, 4, 2]), array(['315042', '203514'], dtype=object)], [array([2, 3, 5, 0, 1, 4]), array(['315042', '203514'], dtype=object)], [array([4, 2, 1, 5, 0, 3]), array(['423105', '401532'], dtype=object)], [array([4, 0, 3, 1, 5, 2]), array(['423105', '401532'], dtype=object)], [array([0, 4, 2, 5, 1, 3]), array(['240513', '132450'], dtype=object)], [array([1, 3, 0, 4, 5, 2]), array(['240513', '132450'], dtype=object)], [array([5, 4, 0, 2, 3, 1]), array(['510234', '540312'], dtype=object)], [array([5, 1, 0, 3, 4, 2]), array(['510234', '540312'], dtype=object)], [array([5, 4, 1, 0, 3, 2]), array(['543012', '421305'], dtype=object)], [array([4, 2, 3, 1, 0, 5]), array(['543012', '421305'], dtype=object)], [array([0, 5, 3, 4, 1, 2]), array(['453012', '032415'], dtype=object)], [array([4, 3, 2, 0, 1, 5]), array(['453012', '032415'], dtype=object)], [array([3, 1, 5, 0, 4, 2]), array(['315042', '325014'], dtype=object)], [array([3, 2, 5, 0, 1, 4]), array(['315042', '325014'], dtype=object)], [array([3, 5, 2, 4, 0, 1]), array(['450321', '102453'], dtype=object)], [array([1, 2, 0, 3, 5, 4]), array(['450321', '102453'], dtype=object)], [array([0, 2, 3, 5, 4, 1]), array(['032451', '013524'], dtype=object)], [array([0, 1, 2, 4, 3, 5]), array(['032451', '013524'], dtype=object)], [array([4, 3, 1, 0, 2, 5]), array(['431025', '543012'], dtype=object)], [array([5, 4, 3, 0, 1, 2]), array(['431025', '543012'], dtype=object)], [array([2, 3, 4, 1, 5, 0]), array(['230154', '514302'], dtype=object)], [array([5, 1, 0, 3, 4, 2]), array(['230154', '514302'], dtype=object)], [array([1, 2, 5, 4, 0, 3]), array(['152403', '320154'], dtype=object)], [array([3, 5, 0, 1, 2, 4]), array(['152403', '320154'], dtype=object)], [array([4, 3, 0, 5, 2, 1]), array(['450321', '430215'], dtype=object)], [array([4, 5, 0, 2, 1, 3]), array(['450321', '430215'], dtype=object)], [array([4, 3, 0, 5, 2, 1]), array(['450321', '032514'], dtype=object)], [array([0, 5, 2, 3, 1, 4]), array(['450321', '032514'], dtype=object)], [array([0, 2, 3, 4, 5, 1]), array(['015432', '423105'], dtype=object)], [array([4, 1, 5, 2, 0, 3]), array(['015432', '423105'], dtype=object)], [array([1, 5, 3, 4, 2, 0]), array(['143520', '450321'], dtype=object)], [array([5, 4, 0, 3, 2, 1]), array(['143520', '450321'], dtype=object)], [array([4, 0, 1, 5, 3, 2]), array(['401532', '401532'], dtype=object)], [array([4, 0, 1, 5, 3, 2]), array(['401532', '401532'], dtype=object)], [array([4, 2, 5, 3, 1, 0]), array(['425013', '501342'], dtype=object)], [array([5, 3, 1, 0, 4, 2]), array(['425013', '501342'], dtype=object)], [array([1, 5, 0, 4, 2, 3]), array(['154023', '240513'], dtype=object)], [array([2, 0, 4, 5, 1, 3]), array(['154023', '240513'], dtype=object)], [array([0, 3, 2, 4, 5, 1]), array(['230154', '032451'], dtype=object)], [array([2, 3, 0, 1, 5, 4]), array(['230154', '032451'], dtype=object)], [array([1, 4, 0, 5, 2, 3]), array(['143520', '120453'], dtype=object)], [array([1, 2, 3, 4, 5, 0]), array(['143520', '120453'], dtype=object)]]\n",
      "Generación: 7\n",
      "20907.188374999987\n",
      "[[array([3, 1, 0, 5, 4, 2]), array(['351042', '210354'], dtype=object)], [array([2, 5, 1, 3, 0, 4]), array(['351042', '210354'], dtype=object)], [array([2, 3, 4, 0, 5, 1]), array(['034251', '325014'], dtype=object)], [array([3, 0, 5, 2, 1, 4]), array(['034251', '325014'], dtype=object)], [array([3, 4, 5, 1, 0, 2]), array(['430251', '045132'], dtype=object)], [array([5, 3, 0, 2, 4, 1]), array(['430251', '045132'], dtype=object)], [array([3, 2, 5, 1, 0, 4]), array(['320154', '425031'], dtype=object)], [array([4, 2, 0, 5, 3, 1]), array(['320154', '425031'], dtype=object)], [array([2, 5, 3, 0, 1, 4]), array(['203514', '253014'], dtype=object)], [array([2, 0, 3, 5, 1, 4]), array(['203514', '253014'], dtype=object)], [array([4, 5, 3, 0, 1, 2]), array(['413052', '453012'], dtype=object)], [array([4, 1, 3, 0, 5, 2]), array(['413052', '453012'], dtype=object)], [array([4, 3, 0, 1, 2, 5]), array(['431025', '230154'], dtype=object)], [array([2, 3, 1, 0, 5, 4]), array(['431025', '230154'], dtype=object)], [array([5, 1, 0, 3, 4, 2]), array(['510342', '540312'], dtype=object)], [array([5, 4, 0, 3, 1, 2]), array(['510342', '540312'], dtype=object)], [array([1, 3, 0, 4, 5, 2]), array(['120453', '431025'], dtype=object)], [array([4, 2, 1, 0, 3, 5]), array(['120453', '431025'], dtype=object)], [array([5, 3, 0, 2, 1, 4]), array(['032514', '130245'], dtype=object)], [array([1, 3, 2, 5, 4, 0]), array(['032514', '130245'], dtype=object)], [array([0, 1, 4, 2, 5, 3]), array(['034251', '413052'], dtype=object)], [array([4, 3, 1, 0, 5, 2]), array(['034251', '413052'], dtype=object)], [array([3, 1, 4, 5, 0, 2]), array(['315042', '204513'], dtype=object)], [array([2, 4, 5, 0, 1, 3]), array(['315042', '204513'], dtype=object)], [array([3, 2, 5, 0, 1, 4]), array(['325014', '423051'], dtype=object)], [array([4, 2, 3, 0, 5, 1]), array(['325014', '423051'], dtype=object)], [array([3, 1, 5, 0, 2, 4]), array(['132450', '315042'], dtype=object)], [array([1, 3, 2, 4, 0, 5]), array(['132450', '315042'], dtype=object)], [array([4, 2, 3, 1, 5, 0]), array(['423150', '143520'], dtype=object)], [array([1, 4, 3, 5, 2, 0]), array(['423150', '143520'], dtype=object)], [array([1, 4, 3, 2, 5, 0]), array(['143520', '534201'], dtype=object)], [array([2, 3, 4, 5, 0, 1]), array(['143520', '534201'], dtype=object)], [array([0, 5, 3, 1, 2, 4]), array(['052134', '143520'], dtype=object)], [array([1, 4, 2, 5, 3, 0]), array(['052134', '143520'], dtype=object)], [array([4, 5, 3, 1, 0, 2]), array(['453012', '045132'], dtype=object)], [array([1, 4, 5, 0, 3, 2]), array(['453012', '045132'], dtype=object)], [array([3, 1, 5, 2, 4, 0]), array(['310245', '015432'], dtype=object)], [array([5, 1, 0, 4, 3, 2]), array(['310245', '015432'], dtype=object)], [array([2, 3, 1, 4, 0, 5]), array(['230415', '021435'], dtype=object)], [array([1, 2, 0, 4, 3, 5]), array(['230415', '021435'], dtype=object)], [array([1, 5, 3, 0, 2, 4]), array(['154023', '423150'], dtype=object)], [array([3, 2, 4, 1, 5, 0]), array(['154023', '423150'], dtype=object)], [array([5, 1, 3, 0, 4, 2]), array(['315042', '413052'], dtype=object)], [array([4, 1, 5, 0, 3, 2]), array(['315042', '413052'], dtype=object)], [array([0, 3, 5, 4, 1, 2]), array(['035412', '032451'], dtype=object)], [array([0, 3, 2, 4, 5, 1]), array(['035412', '032451'], dtype=object)], [array([1, 4, 0, 3, 5, 2]), array(['143052', '130245'], dtype=object)], [array([1, 0, 3, 2, 4, 5]), array(['143052', '130245'], dtype=object)], [array([4, 2, 5, 0, 1, 3]), array(['425013', '425031'], dtype=object)], [array([4, 2, 5, 0, 3, 1]), array(['425013', '425031'], dtype=object)], [array([4, 3, 5, 0, 2, 1]), array(['423051', '035214'], dtype=object)], [array([0, 2, 3, 5, 1, 4]), array(['423051', '035214'], dtype=object)], [array([2, 1, 0, 3, 4, 5]), array(['210345', '510234'], dtype=object)], [array([5, 1, 0, 2, 3, 4]), array(['210345', '510234'], dtype=object)], [array([1, 3, 5, 2, 4, 0]), array(['130245', '035412'], dtype=object)], [array([5, 3, 0, 4, 1, 2]), array(['130245', '035412'], dtype=object)], [array([1, 3, 4, 5, 2, 0]), array(['132450', '204513'], dtype=object)], [array([5, 0, 2, 4, 1, 3]), array(['132450', '204513'], dtype=object)], [array([1, 0, 3, 4, 2, 5]), array(['421305', '503421'], dtype=object)], [array([5, 2, 1, 3, 0, 4]), array(['421305', '503421'], dtype=object)], [array([2, 0, 3, 5, 1, 4]), array(['203514', '453012'], dtype=object)], [array([4, 5, 3, 0, 1, 2]), array(['203514', '453012'], dtype=object)], [array([4, 2, 3, 0, 5, 1]), array(['425031', '423051'], dtype=object)], [array([4, 2, 5, 0, 3, 1]), array(['425031', '423051'], dtype=object)], [array([2, 1, 3, 0, 5, 4]), array(['253014', '413052'], dtype=object)], [array([4, 5, 3, 0, 1, 2]), array(['253014', '413052'], dtype=object)], [array([1, 3, 5, 4, 0, 2]), array(['105432', '035412'], dtype=object)], [array([3, 0, 5, 4, 1, 2]), array(['105432', '035412'], dtype=object)], [array([3, 1, 5, 0, 4, 2]), array(['315042', '325014'], dtype=object)], [array([3, 2, 5, 0, 1, 4]), array(['315042', '325014'], dtype=object)], [array([4, 3, 5, 2, 1, 0]), array(['415230', '234501'], dtype=object)], [array([2, 1, 4, 5, 0, 3]), array(['415230', '234501'], dtype=object)], [array([3, 5, 0, 1, 4, 2]), array(['315042', '340152'], dtype=object)], [array([3, 4, 5, 0, 1, 2]), array(['315042', '340152'], dtype=object)], [array([5, 3, 1, 0, 4, 2]), array(['514302', '431025'], dtype=object)], [array([0, 1, 4, 3, 2, 5]), array(['514302', '431025'], dtype=object)], [array([5, 3, 0, 2, 1, 4]), array(['510234', '035412'], dtype=object)], [array([0, 1, 5, 4, 3, 2]), array(['510234', '035412'], dtype=object)], [array([0, 3, 2, 4, 5, 1]), array(['032451', '032514'], dtype=object)], [array([0, 3, 2, 5, 1, 4]), array(['032451', '032514'], dtype=object)]]\n",
      "Generación: 8\n",
      "20907.188374999987\n",
      "[[array([3, 4, 5, 0, 2, 1]), array(['345021', '314052'], dtype=object)], [array([3, 1, 4, 0, 5, 2]), array(['345021', '314052'], dtype=object)], [array([1, 5, 3, 0, 4, 2]), array(['351042', '423051'], dtype=object)], [array([4, 2, 1, 0, 5, 3]), array(['351042', '423051'], dtype=object)], [array([0, 2, 3, 1, 5, 4]), array(['320154', '423051'], dtype=object)], [array([4, 2, 0, 3, 5, 1]), array(['320154', '423051'], dtype=object)], [array([5, 0, 1, 3, 2, 4]), array(['510234', '501342'], dtype=object)], [array([5, 1, 0, 2, 4, 3]), array(['510234', '501342'], dtype=object)], [array([4, 1, 5, 0, 3, 2]), array(['015432', '315042'], dtype=object)], [array([3, 1, 5, 4, 0, 2]), array(['015432', '315042'], dtype=object)], [array([4, 3, 1, 2, 0, 5]), array(['430215', '431025'], dtype=object)], [array([4, 3, 0, 1, 2, 5]), array(['430215', '431025'], dtype=object)], [array([4, 5, 0, 3, 1, 2]), array(['453012', '230154'], dtype=object)], [array([2, 0, 3, 1, 5, 4]), array(['453012', '230154'], dtype=object)], [array([4, 2, 0, 1, 5, 3]), array(['423150', '210354'], dtype=object)], [array([2, 1, 3, 0, 5, 4]), array(['423150', '210354'], dtype=object)], [array([4, 2, 3, 0, 5, 1]), array(['430251', '423105'], dtype=object)], [array([4, 3, 0, 1, 2, 5]), array(['430251', '423105'], dtype=object)], [array([2, 3, 4, 1, 5, 0]), array(['210354', '234501'], dtype=object)], [array([2, 1, 0, 5, 4, 3]), array(['210354', '234501'], dtype=object)], [array([1, 3, 4, 2, 5, 0]), array(['132450', '130245'], dtype=object)], [array([1, 3, 0, 4, 2, 5]), array(['132450', '130245'], dtype=object)], [array([4, 2, 3, 1, 5, 0]), array(['423150', '413052'], dtype=object)], [array([4, 1, 3, 0, 5, 2]), array(['423150', '413052'], dtype=object)], [array([0, 2, 3, 1, 5, 4]), array(['025134', '143520'], dtype=object)], [array([1, 4, 5, 3, 2, 0]), array(['025134', '143520'], dtype=object)], [array([1, 3, 4, 2, 5, 0]), array(['143520', '034251'], dtype=object)], [array([0, 4, 3, 5, 2, 1]), array(['143520', '034251'], dtype=object)], [array([2, 3, 1, 4, 0, 5]), array(['231045', '102453'], dtype=object)], [array([1, 4, 2, 0, 5, 3]), array(['231045', '102453'], dtype=object)], [array([1, 3, 4, 0, 5, 2]), array(['314052', '534201'], dtype=object)], [array([5, 1, 4, 2, 0, 3]), array(['314052', '534201'], dtype=object)], [array([5, 1, 3, 0, 4, 2]), array(['514302', '513024'], dtype=object)], [array([5, 1, 4, 3, 2, 0]), array(['514302', '513024'], dtype=object)], [array([1, 2, 0, 3, 4, 5]), array(['132045', '320154'], dtype=object)], [array([0, 3, 2, 1, 5, 4]), array(['132045', '320154'], dtype=object)], [array([2, 3, 0, 1, 5, 4]), array(['052134', '230415'], dtype=object)], [array([0, 5, 2, 4, 1, 3]), array(['052134', '230415'], dtype=object)], [array([4, 0, 1, 3, 5, 2]), array(['401532', '501342'], dtype=object)], [array([3, 0, 1, 5, 4, 2]), array(['401532', '501342'], dtype=object)], [array([3, 1, 4, 5, 0, 2]), array(['314052', '204513'], dtype=object)], [array([2, 5, 4, 0, 1, 3]), array(['314052', '204513'], dtype=object)], [array([4, 5, 0, 1, 2, 3]), array(['450321', '045132'], dtype=object)], [array([0, 4, 5, 3, 1, 2]), array(['450321', '045132'], dtype=object)], [array([4, 1, 0, 3, 2, 5]), array(['421305', '210354'], dtype=object)], [array([0, 2, 1, 3, 5, 4]), array(['421305', '210354'], dtype=object)], [array([5, 1, 0, 3, 4, 2]), array(['540312', '210354'], dtype=object)], [array([2, 4, 0, 3, 5, 1]), array(['540312', '210354'], dtype=object)], [array([5, 0, 2, 4, 3, 1]), array(['503421', '032451'], dtype=object)], [array([0, 2, 3, 4, 5, 1]), array(['503421', '032451'], dtype=object)], [array([5, 4, 3, 2, 1, 0]), array(['305214', '543012'], dtype=object)], [array([3, 0, 5, 4, 1, 2]), array(['305214', '543012'], dtype=object)], [array([4, 2, 5, 0, 3, 1]), array(['425031', '345021'], dtype=object)], [array([3, 4, 5, 0, 2, 1]), array(['425031', '345021'], dtype=object)], [array([2, 4, 3, 5, 1, 0]), array(['432510', '143520'], dtype=object)], [array([1, 3, 2, 5, 4, 0]), array(['432510', '143520'], dtype=object)], [array([0, 1, 3, 5, 2, 4]), array(['032514', '413052'], dtype=object)], [array([4, 3, 2, 0, 5, 1]), array(['032514', '413052'], dtype=object)], [array([1, 4, 0, 2, 5, 3]), array(['120453', '240513'], dtype=object)], [array([4, 2, 0, 5, 1, 3]), array(['120453', '240513'], dtype=object)], [array([5, 3, 2, 4, 0, 1]), array(['534201', '032415'], dtype=object)], [array([0, 3, 4, 2, 1, 5]), array(['534201', '032415'], dtype=object)], [array([5, 3, 0, 2, 4, 1]), array(['514302', '130245'], dtype=object)], [array([2, 1, 4, 3, 0, 5]), array(['514302', '130245'], dtype=object)], [array([1, 5, 3, 4, 2, 0]), array(['143520', '453012'], dtype=object)], [array([5, 4, 3, 0, 1, 2]), array(['143520', '453012'], dtype=object)], [array([2, 5, 3, 0, 1, 4]), array(['203514', '253014'], dtype=object)], [array([2, 0, 3, 5, 1, 4]), array(['203514', '253014'], dtype=object)], [array([1, 5, 4, 0, 3, 2]), array(['154032', '154023'], dtype=object)], [array([1, 5, 4, 0, 2, 3]), array(['154032', '154023'], dtype=object)], [array([1, 2, 4, 0, 5, 3]), array(['120453', '315042'], dtype=object)], [array([3, 1, 5, 4, 0, 2]), array(['120453', '315042'], dtype=object)], [array([3, 5, 4, 1, 2, 0]), array(['320154', '154032'], dtype=object)], [array([1, 2, 0, 4, 3, 5]), array(['320154', '154032'], dtype=object)], [array([4, 3, 2, 1, 5, 0]), array(['423150', '132045'], dtype=object)], [array([1, 2, 3, 0, 4, 5]), array(['423150', '132045'], dtype=object)], [array([5, 2, 4, 0, 3, 1]), array(['510342', '524013'], dtype=object)], [array([5, 1, 0, 3, 2, 4]), array(['510342', '524013'], dtype=object)], [array([1, 3, 2, 0, 5, 4]), array(['132450', '431025'], dtype=object)], [array([0, 3, 1, 4, 2, 5]), array(['132450', '431025'], dtype=object)]]\n",
      "Generación: 9\n",
      "20907.188374999987\n",
      "[[array([0, 3, 5, 4, 1, 2]), array(['015432', '034251'], dtype=object)], [array([0, 1, 4, 2, 5, 3]), array(['015432', '034251'], dtype=object)], [array([3, 1, 2, 0, 4, 5]), array(['310245', '431025'], dtype=object)], [array([4, 3, 1, 2, 0, 5]), array(['310245', '431025'], dtype=object)], [array([3, 0, 2, 1, 5, 4]), array(['314052', '102453'], dtype=object)], [array([0, 1, 4, 2, 5, 3]), array(['314052', '102453'], dtype=object)], [array([1, 2, 3, 0, 4, 5]), array(['132045', '423105'], dtype=object)], [array([4, 3, 2, 1, 0, 5]), array(['132045', '423105'], dtype=object)], [array([1, 3, 5, 4, 2, 0]), array(['132450', '315042'], dtype=object)], [array([3, 1, 2, 0, 4, 5]), array(['132450', '315042'], dtype=object)], [array([5, 3, 4, 0, 2, 1]), array(['534201', '314052'], dtype=object)], [array([3, 1, 4, 2, 5, 0]), array(['534201', '314052'], dtype=object)], [array([0, 5, 4, 2, 3, 1]), array(['250431', '534201'], dtype=object)], [array([5, 3, 0, 4, 2, 1]), array(['250431', '534201'], dtype=object)], [array([5, 3, 4, 0, 1, 2]), array(['453012', '034251'], dtype=object)], [array([0, 5, 3, 2, 4, 1]), array(['453012', '034251'], dtype=object)], [array([3, 1, 5, 0, 2, 4]), array(['345021', '315042'], dtype=object)], [array([3, 4, 5, 0, 1, 2]), array(['345021', '315042'], dtype=object)], [array([5, 4, 0, 3, 1, 2]), array(['325014', '540312'], dtype=object)], [array([3, 2, 5, 0, 1, 4]), array(['325014', '540312'], dtype=object)], [array([0, 3, 5, 2, 1, 4]), array(['032514', '531204'], dtype=object)], [array([2, 3, 1, 5, 0, 4]), array(['032514', '531204'], dtype=object)], [array([4, 0, 5, 2, 1, 3]), array(['430215', '105432'], dtype=object)], [array([1, 3, 0, 4, 5, 2]), array(['430215', '105432'], dtype=object)], [array([1, 3, 0, 5, 4, 2]), array(['103542', '240513'], dtype=object)], [array([2, 4, 3, 5, 1, 0]), array(['103542', '240513'], dtype=object)], [array([3, 1, 2, 5, 4, 0]), array(['315042', '412530'], dtype=object)], [array([4, 1, 5, 0, 3, 2]), array(['315042', '412530'], dtype=object)], [array([1, 5, 3, 4, 0, 2]), array(['152403', '503421'], dtype=object)], [array([5, 0, 2, 4, 3, 1]), array(['152403', '503421'], dtype=object)], [array([4, 2, 1, 0, 3, 5]), array(['425031', '531204'], dtype=object)], [array([1, 3, 5, 2, 0, 4]), array(['425031', '531204'], dtype=object)], [array([5, 2, 0, 1, 4, 3]), array(['125043', '230154'], dtype=object)], [array([2, 3, 5, 0, 1, 4]), array(['125043', '230154'], dtype=object)], [array([4, 1, 3, 2, 5, 0]), array(['423150', '013524'], dtype=object)], [array([0, 2, 3, 5, 1, 4]), array(['423150', '013524'], dtype=object)], [array([4, 2, 3, 1, 5, 0]), array(['132450', '423105'], dtype=object)], [array([1, 3, 2, 4, 0, 5]), array(['132450', '423105'], dtype=object)], [array([5, 0, 2, 4, 3, 1]), array(['234501', '102453'], dtype=object)], [array([1, 3, 4, 5, 2, 0]), array(['234501', '102453'], dtype=object)], [array([3, 4, 5, 2, 1, 0]), array(['305214', '345021'], dtype=object)], [array([3, 0, 5, 4, 2, 1]), array(['305214', '345021'], dtype=object)], [array([1, 5, 3, 4, 2, 0]), array(['143520', '032451'], dtype=object)], [array([0, 3, 2, 5, 4, 1]), array(['143520', '032451'], dtype=object)], [array([3, 1, 4, 2, 5, 0]), array(['413052', '034251'], dtype=object)], [array([2, 4, 3, 0, 5, 1]), array(['413052', '034251'], dtype=object)], [array([4, 3, 0, 2, 1, 5]), array(['430215', '531204'], dtype=object)], [array([5, 3, 1, 2, 0, 4]), array(['430215', '531204'], dtype=object)], [array([5, 3, 1, 4, 0, 2]), array(['534201', '021435'], dtype=object)], [array([0, 1, 4, 2, 3, 5]), array(['534201', '021435'], dtype=object)], [array([5, 3, 4, 2, 1, 0]), array(['231540', '034251'], dtype=object)], [array([0, 3, 1, 5, 2, 4]), array(['231540', '034251'], dtype=object)], [array([1, 2, 5, 4, 3, 0]), array(['105432', '423150'], dtype=object)], [array([4, 0, 3, 1, 5, 2]), array(['105432', '423150'], dtype=object)], [array([4, 2, 3, 1, 0, 5]), array(['423105', '423051'], dtype=object)], [array([4, 2, 3, 0, 5, 1]), array(['423105', '423051'], dtype=object)], [array([1, 3, 0, 2, 4, 5]), array(['310245', '230154'], dtype=object)], [array([2, 1, 0, 3, 5, 4]), array(['310245', '230154'], dtype=object)], [array([2, 0, 4, 5, 1, 3]), array(['240513', '204513'], dtype=object)], [array([2, 4, 0, 5, 1, 3]), array(['240513', '204513'], dtype=object)], [array([3, 4, 5, 0, 1, 2]), array(['325014', '345021'], dtype=object)], [array([3, 2, 5, 0, 4, 1]), array(['325014', '345021'], dtype=object)], [array([1, 2, 3, 0, 4, 5]), array(['130245', '423051'], dtype=object)], [array([4, 3, 0, 2, 5, 1]), array(['130245', '423051'], dtype=object)], [array([5, 4, 1, 2, 0, 3]), array(['531204', '345021'], dtype=object)], [array([4, 3, 5, 0, 2, 1]), array(['531204', '345021'], dtype=object)], [array([5, 3, 0, 4, 1, 2]), array(['510342', '230415'], dtype=object)], [array([2, 1, 0, 3, 4, 5]), array(['510342', '230415'], dtype=object)], [array([0, 5, 4, 3, 1, 2]), array(['035412', '354021'], dtype=object)], [array([4, 3, 5, 0, 2, 1]), array(['035412', '354021'], dtype=object)], [array([5, 3, 4, 1, 2, 0]), array(['425031', '034125'], dtype=object)], [array([1, 2, 5, 0, 3, 4]), array(['425031', '034125'], dtype=object)], [array([3, 0, 4, 5, 2, 1]), array(['354021', '204513'], dtype=object)], [array([2, 5, 4, 0, 1, 3]), array(['354021', '204513'], dtype=object)], [array([4, 1, 3, 0, 5, 2]), array(['413052', '345021'], dtype=object)], [array([3, 4, 5, 0, 2, 1]), array(['413052', '345021'], dtype=object)], [array([3, 1, 5, 4, 0, 2]), array(['314052', '105432'], dtype=object)], [array([1, 5, 4, 0, 3, 2]), array(['314052', '105432'], dtype=object)], [array([1, 2, 0, 4, 5, 3]), array(['102453', '450321'], dtype=object)], [array([4, 5, 2, 3, 0, 1]), array(['102453', '450321'], dtype=object)]]\n",
      "Generación: 10\n",
      "20907.188374999987\n",
      "Convergencia alcanzada\n",
      "Tiempo de ejecucion iteracion 0: -0.43796372413635254 segundos\n"
     ]
    }
   ],
   "source": [
    "#Tiempo del experimento total\n",
    "start_exp_time = time.time()\n",
    "for i in range(len(pobs)): \n",
    "    #Cargar población incial\n",
    "    print(f\"Población inicial: {i}\")\n",
    "    poblacion = pobs[i]\n",
    "    #evaluar la población\n",
    "    pob_aptitud = evaluar(poblacion)\n",
    "    poblacion[:,3] = pob_aptitud\n",
    "    #La población esta ordenada de mayor a menor, por lo tanto los últimos indiviudos siempre son los más aptos \n",
    "    poblacion = ordenar_poblacion(poblacion,reverse=True)\n",
    "    \n",
    "\n",
    "    # print(poblacion.shape)\n",
    "    # print(poblacion[-10:])\n",
    "    \n",
    "    \n",
    "    #Experimentación\n",
    "    GEN = 0\n",
    "    GENERACIONES = []\n",
    "    HISTDF = []\n",
    "     \n",
    "    GENERACIONES.append(poblacion)\n",
    "    \n",
    "    start_time = time.time()\n",
    "    while True:\n",
    "        #poblacion actual\n",
    "        print(f\"Generación: {GEN}\")\n",
    "        print(np.mean(poblacion[:,3]))\n",
    "        \n",
    "        if GEN >= MAX_GEN or paro_epsilon(poblacion,14000,0.9,opt=1):\n",
    "            print(\"Convergencia alcanzada\")\n",
    "            break\n",
    "        \n",
    "        else:\n",
    "            \n",
    "            #Obtener siguiente generacion\n",
    "            #Selección y cruza\n",
    "            hijos = get_next_gen(poblacion,op_seleccion=0,op_cruza=2,mode=\"min\")\n",
    "            print(hijos)\n",
    "            \n",
    "            GEN += 1\n",
    "            \n",
    "            \n",
    "            \n",
    "    end_time = time.time()\n",
    "    elapsed_time = start_time - end_time\n",
    "    print(f\"Tiempo de ejecucion iteracion {i}: {elapsed_time} segundos\")\n",
    "    break\n",
    "\n",
    "\n",
    "end_exp_time = time.time()\n",
    "elapsed_exp_time = end_exp_time - start_exp_time"
   ]
  },
  {
   "cell_type": "code",
   "execution_count": 10,
   "metadata": {},
   "outputs": [
    {
     "name": "stdout",
     "output_type": "stream",
     "text": [
      "Tiempo de experimentación: 0.4429662227630615\n"
     ]
    }
   ],
   "source": [
    "print(f\"Tiempo de experimentación: {elapsed_exp_time}\")"
   ]
  }
 ],
 "metadata": {
  "kernelspec": {
   "display_name": "metah",
   "language": "python",
   "name": "python3"
  },
  "language_info": {
   "codemirror_mode": {
    "name": "ipython",
    "version": 3
   },
   "file_extension": ".py",
   "mimetype": "text/x-python",
   "name": "python",
   "nbconvert_exporter": "python",
   "pygments_lexer": "ipython3",
   "version": "3.8.19"
  }
 },
 "nbformat": 4,
 "nbformat_minor": 2
}
