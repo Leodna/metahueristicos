{
 "cells": [
  {
   "cell_type": "code",
   "execution_count": 1,
   "metadata": {},
   "outputs": [],
   "source": [
    "import numpy as np\n",
    "import matplotlib.pyplot as plt\n",
    "import pandas as pd\n",
    "import plotly.graph_objects as go\n",
    "import time\n",
    "import os\n",
    "import pickle\n",
    "\n",
    "from plotly.subplots import make_subplots\n",
    "from my_lib.utility import *\n",
    "from openpyxl import load_workbook\n",
    "from openpyxl.styles import PatternFill"
   ]
  },
  {
   "cell_type": "markdown",
   "metadata": {},
   "source": [
    "## Actividad 3: Algoritmo genético para resolver el problema del viajero frecuente\n",
    "\n",
    "El problema es de tipo TSP con 18 ciudades del conteninte Americano. Por lo tanto existen $18!\\$ soluciones posibles ($6402373705728000$), dada el basto espacio de busqueda la población de individuos se debe limitar a minimo 100 y máximo 500.\n",
    "\n",
    "> Criterios para la evaluación\n",
    "> - Implementar 2 métodos de cruza, PMX y algún otro método como OX o CX\n",
    "> - Implementar 2 métodos de mutación, Scramble y Heuristic\n",
    "> - Implementar un método de selección, cualquiera de los ya vistos\n",
    "> - Implementar un método hibrido de paro\n",
    "> - Implementar un méotodo elitista\n",
    "> - Realizar las comparaciones y la discusión de los resultados"
   ]
  },
  {
   "cell_type": "code",
   "execution_count": 2,
   "metadata": {},
   "outputs": [],
   "source": [
    "max_gen_ = 40"
   ]
  },
  {
   "cell_type": "markdown",
   "metadata": {},
   "source": [
    "# Codificación del dominio"
   ]
  },
  {
   "cell_type": "code",
   "execution_count": 3,
   "metadata": {},
   "outputs": [],
   "source": [
    "ciudades18 = {\n",
    "    'Ciudad': ['Mexico City', 'Merida', 'Buenos Aires', 'Quito', 'Washington D.C.', \n",
    "               'New York', 'Miami', 'Monterrey', 'Panama City', 'San Salvador',\n",
    "               'Managua', 'Brazilia', 'Mendoza', 'Caracas', 'Montevideo', \n",
    "               'Guadalajara', 'Boston', 'Bogotá'],\n",
    "    'Latitud': [19.4326, 20.9674, -34.6037, -0.1807, 38.9072, \n",
    "                40.7128, 25.7617, 25.6866, 8.9824, 13.6929, \n",
    "                12.1140, -15.8267, -32.8895, 10.4806, -34.9011, \n",
    "                20.6597, 42.3601, 4.7110],\n",
    "    'Longitud': [-99.1332, -89.5926, -58.3816, -78.4678, -77.0369, \n",
    "                 -74.0060, -80.1918, -100.3161, -79.5199, -89.2182, \n",
    "                 -86.2362, -47.9218, -68.8458, -66.9036, -56.1645, \n",
    "                 -103.3496, -71.0589, -74.0721]\n",
    "} \n",
    "nombre_ciudades = np.array(ciudades18['Ciudad'])"
   ]
  },
  {
   "cell_type": "code",
   "execution_count": 4,
   "metadata": {},
   "outputs": [
    {
     "name": "stdout",
     "output_type": "stream",
     "text": [
      "[['Mexico City' 0 '000' 0.0]\n",
      " ['Merida' 1 '001' 0.0]\n",
      " ['Buenos Aires' 2 '010' 0.0]\n",
      " ['Quito' 3 '011' 0.0]\n",
      " ['Washington D.C.' 4 '100' 0.0]\n",
      " ['New York' 5 '101' 0.0]\n",
      " ['Miami' 6 '110' 0.0]\n",
      " ['Monterrey' 7 '111' 0.0]\n",
      " ['Panama City' 8 '1000' 0.0]\n",
      " ['San Salvador' 9 '1001' 0.0]\n",
      " ['Managua' 10 '1010' 0.0]\n",
      " ['Brazilia' 11 '1011' 0.0]\n",
      " ['Mendoza' 12 '1100' 0.0]\n",
      " ['Caracas' 13 '1101' 0.0]\n",
      " ['Montevideo' 14 '1110' 0.0]\n",
      " ['Guadalajara' 15 '1111' 0.0]\n",
      " ['Boston' 16 '10000' 0.0]\n",
      " ['Bogotá' 17 '10001' 0.0]]\n"
     ]
    }
   ],
   "source": [
    "id_ciudades = np.arange(nombre_ciudades.shape[0])\n",
    "bin_ciudades = binarizar(datos=id_ciudades,nbites=3)\n",
    "\n",
    "ciudades = np.zeros((nombre_ciudades.shape[0],4),dtype=\"object\")\n",
    "ciudades[:,0] = nombre_ciudades\n",
    "ciudades[:,1] = id_ciudades\n",
    "ciudades[:,2] = bin_ciudades\n",
    "ciudades[:,3] = np.zeros((nombre_ciudades.shape[0]))\n",
    "print(ciudades)"
   ]
  },
  {
   "cell_type": "markdown",
   "metadata": {},
   "source": [
    "## Matriz de distancias\n",
    "\n",
    "#### Fórmula de Haversine \n",
    "\n",
    "$d = 2r \\cdot arsin(\\sqrt{sin^2(\\frac{\\Delta\\phi}{2}) + cos(\\phi_1) \\cdot cos(\\phi_2) \\cdot sin^2(\\frac{\\Delta\\lambda}{2})})$\n",
    "\n",
    "* d es la distancia entre los dos puntos \n",
    "* r = radio de la tierra (6371)\n",
    "* $\\phi_1, \\phi_2$ = latitudes de los puntos en rad\n",
    "* $\\Delta\\phi$ = diferencia de las latitudes\n",
    "* $\\Delta\\lambda$ = diferencia de las longitudes\n"
   ]
  },
  {
   "cell_type": "code",
   "execution_count": 5,
   "metadata": {},
   "outputs": [
    {
     "data": {
      "text/html": [
       "<div>\n",
       "<style scoped>\n",
       "    .dataframe tbody tr th:only-of-type {\n",
       "        vertical-align: middle;\n",
       "    }\n",
       "\n",
       "    .dataframe tbody tr th {\n",
       "        vertical-align: top;\n",
       "    }\n",
       "\n",
       "    .dataframe thead th {\n",
       "        text-align: right;\n",
       "    }\n",
       "</style>\n",
       "<table border=\"1\" class=\"dataframe\">\n",
       "  <thead>\n",
       "    <tr style=\"text-align: right;\">\n",
       "      <th></th>\n",
       "      <th>Mexico City</th>\n",
       "      <th>Merida</th>\n",
       "      <th>Buenos Aires</th>\n",
       "      <th>Quito</th>\n",
       "      <th>Washington D.C.</th>\n",
       "      <th>New York</th>\n",
       "      <th>Miami</th>\n",
       "      <th>Monterrey</th>\n",
       "      <th>Panama City</th>\n",
       "      <th>San Salvador</th>\n",
       "      <th>Managua</th>\n",
       "      <th>Brazilia</th>\n",
       "      <th>Mendoza</th>\n",
       "      <th>Caracas</th>\n",
       "      <th>Montevideo</th>\n",
       "      <th>Guadalajara</th>\n",
       "      <th>Boston</th>\n",
       "      <th>Bogotá</th>\n",
       "    </tr>\n",
       "  </thead>\n",
       "  <tbody>\n",
       "    <tr>\n",
       "      <th>Mexico City</th>\n",
       "      <td>0.000000</td>\n",
       "      <td>1009.959843</td>\n",
       "      <td>7392.178684</td>\n",
       "      <td>3135.709015</td>\n",
       "      <td>3031.811604</td>\n",
       "      <td>3359.383041</td>\n",
       "      <td>2065.272960</td>\n",
       "      <td>705.925938</td>\n",
       "      <td>2408.857647</td>\n",
       "      <td>1233.956557</td>\n",
       "      <td>1600.957943</td>\n",
       "      <td>6835.065741</td>\n",
       "      <td>6648.609671</td>\n",
       "      <td>3595.449156</td>\n",
       "      <td>7554.599238</td>\n",
       "      <td>461.067374</td>\n",
       "      <td>3665.482788</td>\n",
       "      <td>3170.731318</td>\n",
       "    </tr>\n",
       "    <tr>\n",
       "      <th>Merida</th>\n",
       "      <td>1009.959843</td>\n",
       "      <td>0.000000</td>\n",
       "      <td>7004.211339</td>\n",
       "      <td>2644.150812</td>\n",
       "      <td>2327.565260</td>\n",
       "      <td>2643.050506</td>\n",
       "      <td>1097.212425</td>\n",
       "      <td>1213.520720</td>\n",
       "      <td>1715.030837</td>\n",
       "      <td>809.861482</td>\n",
       "      <td>1047.292813</td>\n",
       "      <td>6116.463263</td>\n",
       "      <td>6381.173335</td>\n",
       "      <td>2689.070020</td>\n",
       "      <td>7144.536815</td>\n",
       "      <td>1429.853511</td>\n",
       "      <td>2941.198434</td>\n",
       "      <td>2464.943628</td>\n",
       "    </tr>\n",
       "    <tr>\n",
       "      <th>Buenos Aires</th>\n",
       "      <td>7392.178684</td>\n",
       "      <td>7004.211339</td>\n",
       "      <td>0.000000</td>\n",
       "      <td>4360.060643</td>\n",
       "      <td>8396.527908</td>\n",
       "      <td>8526.194114</td>\n",
       "      <td>7094.952486</td>\n",
       "      <td>8028.590573</td>\n",
       "      <td>5333.037977</td>\n",
       "      <td>6280.332978</td>\n",
       "      <td>5968.507501</td>\n",
       "      <td>2334.403612</td>\n",
       "      <td>985.614665</td>\n",
       "      <td>5093.044534</td>\n",
       "      <td>205.232076</td>\n",
       "      <td>7766.608993</td>\n",
       "      <td>8654.780454</td>\n",
       "      <td>4670.520317</td>\n",
       "    </tr>\n",
       "    <tr>\n",
       "      <th>Quito</th>\n",
       "      <td>3135.709015</td>\n",
       "      <td>2644.150812</td>\n",
       "      <td>4360.060643</td>\n",
       "      <td>0.000000</td>\n",
       "      <td>4348.827501</td>\n",
       "      <td>4569.460001</td>\n",
       "      <td>2890.594533</td>\n",
       "      <td>3711.248568</td>\n",
       "      <td>1025.530802</td>\n",
       "      <td>1944.679440</td>\n",
       "      <td>1613.735904</td>\n",
       "      <td>3776.161246</td>\n",
       "      <td>3774.047997</td>\n",
       "      <td>1743.741681</td>\n",
       "      <td>4501.636863</td>\n",
       "      <td>3562.151769</td>\n",
       "      <td>4788.167318</td>\n",
       "      <td>730.923189</td>\n",
       "    </tr>\n",
       "    <tr>\n",
       "      <th>Washington D.C.</th>\n",
       "      <td>3031.811604</td>\n",
       "      <td>2327.565260</td>\n",
       "      <td>8396.527908</td>\n",
       "      <td>4348.827501</td>\n",
       "      <td>0.000000</td>\n",
       "      <td>327.582714</td>\n",
       "      <td>1491.176569</td>\n",
       "      <td>2623.500270</td>\n",
       "      <td>3336.690529</td>\n",
       "      <td>3048.362836</td>\n",
       "      <td>3114.733025</td>\n",
       "      <td>6797.691847</td>\n",
       "      <td>8028.085133</td>\n",
       "      <td>3317.116974</td>\n",
       "      <td>8483.304262</td>\n",
       "      <td>3229.236038</td>\n",
       "      <td>633.671486</td>\n",
       "      <td>3814.195109</td>\n",
       "    </tr>\n",
       "    <tr>\n",
       "      <th>New York</th>\n",
       "      <td>3359.383041</td>\n",
       "      <td>2643.050506</td>\n",
       "      <td>8526.194114</td>\n",
       "      <td>4569.460001</td>\n",
       "      <td>327.582714</td>\n",
       "      <td>0.000000</td>\n",
       "      <td>1757.961225</td>\n",
       "      <td>2945.076096</td>\n",
       "      <td>3570.004517</td>\n",
       "      <td>3348.328915</td>\n",
       "      <td>3397.166346</td>\n",
       "      <td>6839.011011</td>\n",
       "      <td>8201.327390</td>\n",
       "      <td>3433.343519</td>\n",
       "      <td>8603.779701</td>\n",
       "      <td>3554.283691</td>\n",
       "      <td>306.108494</td>\n",
       "      <td>4003.222959</td>\n",
       "    </tr>\n",
       "    <tr>\n",
       "      <th>Miami</th>\n",
       "      <td>2065.272960</td>\n",
       "      <td>1097.212425</td>\n",
       "      <td>7094.952486</td>\n",
       "      <td>2890.594533</td>\n",
       "      <td>1491.176569</td>\n",
       "      <td>1757.961225</td>\n",
       "      <td>0.000000</td>\n",
       "      <td>2013.994655</td>\n",
       "      <td>1867.122418</td>\n",
       "      <td>1639.742840</td>\n",
       "      <td>1644.533412</td>\n",
       "      <td>5794.758090</td>\n",
       "      <td>6631.402300</td>\n",
       "      <td>2200.658515</td>\n",
       "      <td>7204.245436</td>\n",
       "      <td>2430.007251</td>\n",
       "      <td>2025.336834</td>\n",
       "      <td>2429.837957</td>\n",
       "    </tr>\n",
       "    <tr>\n",
       "      <th>Monterrey</th>\n",
       "      <td>705.925938</td>\n",
       "      <td>1213.520720</td>\n",
       "      <td>8028.590573</td>\n",
       "      <td>3711.248568</td>\n",
       "      <td>2623.500270</td>\n",
       "      <td>2945.076096</td>\n",
       "      <td>2013.994655</td>\n",
       "      <td>0.000000</td>\n",
       "      <td>2876.282439</td>\n",
       "      <td>1766.700637</td>\n",
       "      <td>2111.060860</td>\n",
       "      <td>7310.080266</td>\n",
       "      <td>7315.684383</td>\n",
       "      <td>3898.681265</td>\n",
       "      <td>8184.245928</td>\n",
       "      <td>639.142332</td>\n",
       "      <td>3245.755067</td>\n",
       "      <td>3640.297547</td>\n",
       "    </tr>\n",
       "    <tr>\n",
       "      <th>Panama City</th>\n",
       "      <td>2408.857647</td>\n",
       "      <td>1715.030837</td>\n",
       "      <td>5333.037977</td>\n",
       "      <td>1025.530802</td>\n",
       "      <td>3336.690529</td>\n",
       "      <td>3570.004517</td>\n",
       "      <td>1867.122418</td>\n",
       "      <td>2876.282439</td>\n",
       "      <td>0.000000</td>\n",
       "      <td>1179.637483</td>\n",
       "      <td>812.486225</td>\n",
       "      <td>4440.058794</td>\n",
       "      <td>4791.336430</td>\n",
       "      <td>1392.559785</td>\n",
       "      <td>5462.750288</td>\n",
       "      <td>2865.971802</td>\n",
       "      <td>3802.437689</td>\n",
       "      <td>766.254430</td>\n",
       "    </tr>\n",
       "    <tr>\n",
       "      <th>San Salvador</th>\n",
       "      <td>1233.956557</td>\n",
       "      <td>809.861482</td>\n",
       "      <td>6280.332978</td>\n",
       "      <td>1944.679440</td>\n",
       "      <td>3048.362836</td>\n",
       "      <td>3348.328915</td>\n",
       "      <td>1639.742840</td>\n",
       "      <td>1766.700637</td>\n",
       "      <td>1179.637483</td>\n",
       "      <td>0.000000</td>\n",
       "      <td>367.803223</td>\n",
       "      <td>5601.769099</td>\n",
       "      <td>5613.686901</td>\n",
       "      <td>2451.382655</td>\n",
       "      <td>6430.418383</td>\n",
       "      <td>1687.991760</td>\n",
       "      <td>3634.269046</td>\n",
       "      <td>1937.742276</td>\n",
       "    </tr>\n",
       "    <tr>\n",
       "      <th>Managua</th>\n",
       "      <td>1600.957943</td>\n",
       "      <td>1047.292813</td>\n",
       "      <td>5968.507501</td>\n",
       "      <td>1613.735904</td>\n",
       "      <td>3114.733025</td>\n",
       "      <td>3397.166346</td>\n",
       "      <td>1644.533412</td>\n",
       "      <td>2111.060860</td>\n",
       "      <td>812.486225</td>\n",
       "      <td>367.803223</td>\n",
       "      <td>0.000000</td>\n",
       "      <td>5236.308661</td>\n",
       "      <td>5333.888045</td>\n",
       "      <td>2115.377939</td>\n",
       "      <td>6113.421650</td>\n",
       "      <td>2055.740017</td>\n",
       "      <td>3669.436397</td>\n",
       "      <td>1570.079360</td>\n",
       "    </tr>\n",
       "    <tr>\n",
       "      <th>Brazilia</th>\n",
       "      <td>6835.065741</td>\n",
       "      <td>6116.463263</td>\n",
       "      <td>2334.403612</td>\n",
       "      <td>3776.161246</td>\n",
       "      <td>6797.691847</td>\n",
       "      <td>6839.011011</td>\n",
       "      <td>5794.758090</td>\n",
       "      <td>7310.080266</td>\n",
       "      <td>4440.058794</td>\n",
       "      <td>5601.769099</td>\n",
       "      <td>5236.308661</td>\n",
       "      <td>0.000000</td>\n",
       "      <td>2833.659702</td>\n",
       "      <td>3594.881652</td>\n",
       "      <td>2274.548522</td>\n",
       "      <td>7283.905238</td>\n",
       "      <td>6890.481786</td>\n",
       "      <td>3673.816692</td>\n",
       "    </tr>\n",
       "    <tr>\n",
       "      <th>Mendoza</th>\n",
       "      <td>6648.609671</td>\n",
       "      <td>6381.173335</td>\n",
       "      <td>985.614665</td>\n",
       "      <td>3774.047997</td>\n",
       "      <td>8028.085133</td>\n",
       "      <td>8201.327390</td>\n",
       "      <td>6631.402300</td>\n",
       "      <td>7315.684383</td>\n",
       "      <td>4791.336430</td>\n",
       "      <td>5613.686901</td>\n",
       "      <td>5333.888045</td>\n",
       "      <td>2833.659702</td>\n",
       "      <td>0.000000</td>\n",
       "      <td>4826.934304</td>\n",
       "      <td>1190.771756</td>\n",
       "      <td>6991.509315</td>\n",
       "      <td>8370.422638</td>\n",
       "      <td>4217.179927</td>\n",
       "    </tr>\n",
       "    <tr>\n",
       "      <th>Caracas</th>\n",
       "      <td>3595.449156</td>\n",
       "      <td>2689.070020</td>\n",
       "      <td>5093.044534</td>\n",
       "      <td>1743.741681</td>\n",
       "      <td>3317.116974</td>\n",
       "      <td>3433.343519</td>\n",
       "      <td>2200.658515</td>\n",
       "      <td>3898.681265</td>\n",
       "      <td>1392.559785</td>\n",
       "      <td>2451.382655</td>\n",
       "      <td>2115.377939</td>\n",
       "      <td>3594.881652</td>\n",
       "      <td>4826.934304</td>\n",
       "      <td>0.000000</td>\n",
       "      <td>5171.429669</td>\n",
       "      <td>4053.781673</td>\n",
       "      <td>3567.812815</td>\n",
       "      <td>1017.489437</td>\n",
       "    </tr>\n",
       "    <tr>\n",
       "      <th>Montevideo</th>\n",
       "      <td>7554.599238</td>\n",
       "      <td>7144.536815</td>\n",
       "      <td>205.232076</td>\n",
       "      <td>4501.636863</td>\n",
       "      <td>8483.304262</td>\n",
       "      <td>8603.779701</td>\n",
       "      <td>7204.245436</td>\n",
       "      <td>8184.245928</td>\n",
       "      <td>5462.750288</td>\n",
       "      <td>6430.418383</td>\n",
       "      <td>6113.421650</td>\n",
       "      <td>2274.548522</td>\n",
       "      <td>1190.771756</td>\n",
       "      <td>5171.429669</td>\n",
       "      <td>0.000000</td>\n",
       "      <td>7934.464666</td>\n",
       "      <td>8723.748233</td>\n",
       "      <td>4786.738843</td>\n",
       "    </tr>\n",
       "    <tr>\n",
       "      <th>Guadalajara</th>\n",
       "      <td>461.067374</td>\n",
       "      <td>1429.853511</td>\n",
       "      <td>7766.608993</td>\n",
       "      <td>3562.151769</td>\n",
       "      <td>3229.236038</td>\n",
       "      <td>3554.283691</td>\n",
       "      <td>2430.007251</td>\n",
       "      <td>639.142332</td>\n",
       "      <td>2865.971802</td>\n",
       "      <td>1687.991760</td>\n",
       "      <td>2055.740017</td>\n",
       "      <td>7283.905238</td>\n",
       "      <td>6991.509315</td>\n",
       "      <td>4053.781673</td>\n",
       "      <td>7934.464666</td>\n",
       "      <td>0.000000</td>\n",
       "      <td>3857.803952</td>\n",
       "      <td>3625.717865</td>\n",
       "    </tr>\n",
       "    <tr>\n",
       "      <th>Boston</th>\n",
       "      <td>3665.482788</td>\n",
       "      <td>2941.198434</td>\n",
       "      <td>8654.780454</td>\n",
       "      <td>4788.167318</td>\n",
       "      <td>633.671486</td>\n",
       "      <td>306.108494</td>\n",
       "      <td>2025.336834</td>\n",
       "      <td>3245.755067</td>\n",
       "      <td>3802.437689</td>\n",
       "      <td>3634.269046</td>\n",
       "      <td>3669.436397</td>\n",
       "      <td>6890.481786</td>\n",
       "      <td>8370.422638</td>\n",
       "      <td>3567.812815</td>\n",
       "      <td>8723.748233</td>\n",
       "      <td>3857.803952</td>\n",
       "      <td>0.000000</td>\n",
       "      <td>4196.996936</td>\n",
       "    </tr>\n",
       "    <tr>\n",
       "      <th>Bogotá</th>\n",
       "      <td>3170.731318</td>\n",
       "      <td>2464.943628</td>\n",
       "      <td>4670.520317</td>\n",
       "      <td>730.923189</td>\n",
       "      <td>3814.195109</td>\n",
       "      <td>4003.222959</td>\n",
       "      <td>2429.837957</td>\n",
       "      <td>3640.297547</td>\n",
       "      <td>766.254430</td>\n",
       "      <td>1937.742276</td>\n",
       "      <td>1570.079360</td>\n",
       "      <td>3673.816692</td>\n",
       "      <td>4217.179927</td>\n",
       "      <td>1017.489437</td>\n",
       "      <td>4786.738843</td>\n",
       "      <td>3625.717865</td>\n",
       "      <td>4196.996936</td>\n",
       "      <td>0.000000</td>\n",
       "    </tr>\n",
       "  </tbody>\n",
       "</table>\n",
       "</div>"
      ],
      "text/plain": [
       "                 Mexico City       Merida  Buenos Aires        Quito  \\\n",
       "Mexico City         0.000000  1009.959843   7392.178684  3135.709015   \n",
       "Merida           1009.959843     0.000000   7004.211339  2644.150812   \n",
       "Buenos Aires     7392.178684  7004.211339      0.000000  4360.060643   \n",
       "Quito            3135.709015  2644.150812   4360.060643     0.000000   \n",
       "Washington D.C.  3031.811604  2327.565260   8396.527908  4348.827501   \n",
       "New York         3359.383041  2643.050506   8526.194114  4569.460001   \n",
       "Miami            2065.272960  1097.212425   7094.952486  2890.594533   \n",
       "Monterrey         705.925938  1213.520720   8028.590573  3711.248568   \n",
       "Panama City      2408.857647  1715.030837   5333.037977  1025.530802   \n",
       "San Salvador     1233.956557   809.861482   6280.332978  1944.679440   \n",
       "Managua          1600.957943  1047.292813   5968.507501  1613.735904   \n",
       "Brazilia         6835.065741  6116.463263   2334.403612  3776.161246   \n",
       "Mendoza          6648.609671  6381.173335    985.614665  3774.047997   \n",
       "Caracas          3595.449156  2689.070020   5093.044534  1743.741681   \n",
       "Montevideo       7554.599238  7144.536815    205.232076  4501.636863   \n",
       "Guadalajara       461.067374  1429.853511   7766.608993  3562.151769   \n",
       "Boston           3665.482788  2941.198434   8654.780454  4788.167318   \n",
       "Bogotá           3170.731318  2464.943628   4670.520317   730.923189   \n",
       "\n",
       "                 Washington D.C.     New York        Miami    Monterrey  \\\n",
       "Mexico City          3031.811604  3359.383041  2065.272960   705.925938   \n",
       "Merida               2327.565260  2643.050506  1097.212425  1213.520720   \n",
       "Buenos Aires         8396.527908  8526.194114  7094.952486  8028.590573   \n",
       "Quito                4348.827501  4569.460001  2890.594533  3711.248568   \n",
       "Washington D.C.         0.000000   327.582714  1491.176569  2623.500270   \n",
       "New York              327.582714     0.000000  1757.961225  2945.076096   \n",
       "Miami                1491.176569  1757.961225     0.000000  2013.994655   \n",
       "Monterrey            2623.500270  2945.076096  2013.994655     0.000000   \n",
       "Panama City          3336.690529  3570.004517  1867.122418  2876.282439   \n",
       "San Salvador         3048.362836  3348.328915  1639.742840  1766.700637   \n",
       "Managua              3114.733025  3397.166346  1644.533412  2111.060860   \n",
       "Brazilia             6797.691847  6839.011011  5794.758090  7310.080266   \n",
       "Mendoza              8028.085133  8201.327390  6631.402300  7315.684383   \n",
       "Caracas              3317.116974  3433.343519  2200.658515  3898.681265   \n",
       "Montevideo           8483.304262  8603.779701  7204.245436  8184.245928   \n",
       "Guadalajara          3229.236038  3554.283691  2430.007251   639.142332   \n",
       "Boston                633.671486   306.108494  2025.336834  3245.755067   \n",
       "Bogotá               3814.195109  4003.222959  2429.837957  3640.297547   \n",
       "\n",
       "                 Panama City  San Salvador      Managua     Brazilia  \\\n",
       "Mexico City      2408.857647   1233.956557  1600.957943  6835.065741   \n",
       "Merida           1715.030837    809.861482  1047.292813  6116.463263   \n",
       "Buenos Aires     5333.037977   6280.332978  5968.507501  2334.403612   \n",
       "Quito            1025.530802   1944.679440  1613.735904  3776.161246   \n",
       "Washington D.C.  3336.690529   3048.362836  3114.733025  6797.691847   \n",
       "New York         3570.004517   3348.328915  3397.166346  6839.011011   \n",
       "Miami            1867.122418   1639.742840  1644.533412  5794.758090   \n",
       "Monterrey        2876.282439   1766.700637  2111.060860  7310.080266   \n",
       "Panama City         0.000000   1179.637483   812.486225  4440.058794   \n",
       "San Salvador     1179.637483      0.000000   367.803223  5601.769099   \n",
       "Managua           812.486225    367.803223     0.000000  5236.308661   \n",
       "Brazilia         4440.058794   5601.769099  5236.308661     0.000000   \n",
       "Mendoza          4791.336430   5613.686901  5333.888045  2833.659702   \n",
       "Caracas          1392.559785   2451.382655  2115.377939  3594.881652   \n",
       "Montevideo       5462.750288   6430.418383  6113.421650  2274.548522   \n",
       "Guadalajara      2865.971802   1687.991760  2055.740017  7283.905238   \n",
       "Boston           3802.437689   3634.269046  3669.436397  6890.481786   \n",
       "Bogotá            766.254430   1937.742276  1570.079360  3673.816692   \n",
       "\n",
       "                     Mendoza      Caracas   Montevideo  Guadalajara  \\\n",
       "Mexico City      6648.609671  3595.449156  7554.599238   461.067374   \n",
       "Merida           6381.173335  2689.070020  7144.536815  1429.853511   \n",
       "Buenos Aires      985.614665  5093.044534   205.232076  7766.608993   \n",
       "Quito            3774.047997  1743.741681  4501.636863  3562.151769   \n",
       "Washington D.C.  8028.085133  3317.116974  8483.304262  3229.236038   \n",
       "New York         8201.327390  3433.343519  8603.779701  3554.283691   \n",
       "Miami            6631.402300  2200.658515  7204.245436  2430.007251   \n",
       "Monterrey        7315.684383  3898.681265  8184.245928   639.142332   \n",
       "Panama City      4791.336430  1392.559785  5462.750288  2865.971802   \n",
       "San Salvador     5613.686901  2451.382655  6430.418383  1687.991760   \n",
       "Managua          5333.888045  2115.377939  6113.421650  2055.740017   \n",
       "Brazilia         2833.659702  3594.881652  2274.548522  7283.905238   \n",
       "Mendoza             0.000000  4826.934304  1190.771756  6991.509315   \n",
       "Caracas          4826.934304     0.000000  5171.429669  4053.781673   \n",
       "Montevideo       1190.771756  5171.429669     0.000000  7934.464666   \n",
       "Guadalajara      6991.509315  4053.781673  7934.464666     0.000000   \n",
       "Boston           8370.422638  3567.812815  8723.748233  3857.803952   \n",
       "Bogotá           4217.179927  1017.489437  4786.738843  3625.717865   \n",
       "\n",
       "                      Boston       Bogotá  \n",
       "Mexico City      3665.482788  3170.731318  \n",
       "Merida           2941.198434  2464.943628  \n",
       "Buenos Aires     8654.780454  4670.520317  \n",
       "Quito            4788.167318   730.923189  \n",
       "Washington D.C.   633.671486  3814.195109  \n",
       "New York          306.108494  4003.222959  \n",
       "Miami            2025.336834  2429.837957  \n",
       "Monterrey        3245.755067  3640.297547  \n",
       "Panama City      3802.437689   766.254430  \n",
       "San Salvador     3634.269046  1937.742276  \n",
       "Managua          3669.436397  1570.079360  \n",
       "Brazilia         6890.481786  3673.816692  \n",
       "Mendoza          8370.422638  4217.179927  \n",
       "Caracas          3567.812815  1017.489437  \n",
       "Montevideo       8723.748233  4786.738843  \n",
       "Guadalajara      3857.803952  3625.717865  \n",
       "Boston              0.000000  4196.996936  \n",
       "Bogotá           4196.996936     0.000000  "
      ]
     },
     "metadata": {},
     "output_type": "display_data"
    }
   ],
   "source": [
    "# Latitud y longitud de cada ciudad\n",
    "\n",
    "n_ciudades = ciudades.shape[0]\n",
    "distancias = np.zeros((n_ciudades, n_ciudades))\n",
    "\n",
    "for i in range(n_ciudades):\n",
    "    c1_latitud = ciudades18[\"Latitud\"][i]\n",
    "    c1_longitud = ciudades18[\"Longitud\"][i]\n",
    "    for j in range(n_ciudades):\n",
    "        if i != j:\n",
    "            c2_latitud = ciudades18[\"Latitud\"][j]\n",
    "            c2_longitud = ciudades18[\"Longitud\"][j]\n",
    "            distancias[i][j] = get_distancia(\n",
    "                lat1=c1_latitud, long1=c1_longitud, lat2=c2_latitud, long2=c2_longitud\n",
    "            )\n",
    "\n",
    "distancias_df = pd.DataFrame(distancias,columns=ciudades18[\"Ciudad\"],index=ciudades18[\"Ciudad\"])\n",
    "display(distancias_df)"
   ]
  },
  {
   "cell_type": "markdown",
   "metadata": {},
   "source": [
    "# Función Objetivo"
   ]
  },
  {
   "cell_type": "code",
   "execution_count": 6,
   "metadata": {},
   "outputs": [],
   "source": [
    "def y(ciudad1,ciudad2):\n",
    "    return distancias[ciudad1,ciudad2]\n",
    "\n",
    "def evaluar(poblacion):\n",
    "    evaluacion = np.zeros((poblacion.shape[0]))\n",
    "    for idx,fila in enumerate(poblacion):\n",
    "        individuo = fila[0]\n",
    "        n = len(individuo) - 1\n",
    "        aptitud = 0\n",
    "        \n",
    "        for i in range (n,-1,-1):\n",
    "            c1 = int(individuo[i]) #Id de la ciudad\n",
    "            c2 = int(individuo[i-1])\n",
    "            distancia = y(c1,c2)\n",
    "            aptitud += distancia\n",
    "        evaluacion[idx] = np.around(aptitud,4)\n",
    "        \n",
    "    return evaluacion"
   ]
  },
  {
   "cell_type": "markdown",
   "metadata": {},
   "source": [
    "# Generación de población\n",
    "\n",
    "Para poder realizar una buena comparación con las distintas combinaciones de operadores genéticos se trabajará con 5 poblaciones iniciales, las cuales son las mismas parar cada experimento\n",
    "\n",
    "\n",
    "Si ya existe el archivo de poblaciones no hay necesidad de crear nuevamente las poblaciones iniciales"
   ]
  },
  {
   "cell_type": "code",
   "execution_count": 7,
   "metadata": {},
   "outputs": [],
   "source": [
    "POB_FILE = \"files\\poblaciones_3.pkl\""
   ]
  },
  {
   "cell_type": "code",
   "execution_count": 8,
   "metadata": {},
   "outputs": [],
   "source": [
    "def get_poblaciones_iniciales(n=5, tam_pob=60):\n",
    "    \"\"\"\n",
    "    Genera y carga las poblaciones iniciales para un algoritmo genético.\n",
    "\n",
    "    Si el archivo de poblaciones no existe, la función lo crea generando las poblaciones iniciales y guardándolas en el archivo.\n",
    "    Si el archivo ya existe, la función lo carga y devuelve las poblaciones.\n",
    "\n",
    "    Parámetros:\n",
    "        n (int): Número de poblaciones iniciales a generar (por defecto, 5).\n",
    "        tam_pob (int): Tamaño de cada población (por defecto, 60).\n",
    "\n",
    "    Valor de retorno:\n",
    "        list: Lista de poblaciones iniciales, donde cada población es una matriz de numpy con 4 columnas: ruta, aptitud, individuo y aptitud.\n",
    "    \"\"\"\n",
    "    poblaciones = []\n",
    "    POB_PATH = os.path.join(\"..\", POB_FILE)\n",
    "    if not os.path.exists(POB_PATH):\n",
    "        print(\"El archivo de poblaciones no existse, creando archivo\")\n",
    "        \n",
    "        for i in range(n):\n",
    "            recorrido = generar_poblacion_perm(ciudades, tam_pob)\n",
    "            \n",
    "            poblacion = np.zeros((recorrido.shape[0], 4), dtype=\"object\")\n",
    "            poblacion[:, 0] = [c.astype(int) for c in recorrido]  # Ruta\n",
    "            poblacion[:, 1] = np.ones((recorrido.shape[0]))\n",
    "            poblacion[:,2] = [\" \".join([chr(c+64) for c in perm.astype(int)]) for perm in recorrido]\n",
    "            # poblacion[:, 2] = [individuo_toString(c.astype(int)) for c in recorrido]\n",
    "            #poblacion[:, 3] = np.zeros((recorrido.shape[0]))  # Aptitud\n",
    "            poblacion[:, 3] = evaluar(poblacion)\n",
    "        \n",
    "            poblaciones.append(poblacion)\n",
    "        \n",
    "        try:\n",
    "            with open(POB_PATH, \"wb\") as f:\n",
    "                pickle.dump(poblaciones,f)\n",
    "            print(\"Archivo de poblaciones creado correctamente\")\n",
    "        except Exception as e:\n",
    "            print(f\"Error al guardar archivo: {e}\")\n",
    "            \n",
    "    else:\n",
    "        try:\n",
    "            with open(POB_PATH, \"rb\") as f:\n",
    "                poblaciones = pickle.load(f)\n",
    "            print(\"Archivo de poblaciones cargado correctamente\")\n",
    "        except Exception as e:\n",
    "            print(f\"Error al cargar archivo: {e}\")\n",
    "    \n",
    "    return poblaciones"
   ]
  },
  {
   "cell_type": "code",
   "execution_count": 9,
   "metadata": {},
   "outputs": [
    {
     "name": "stdout",
     "output_type": "stream",
     "text": [
      "Archivo de poblaciones cargado correctamente\n",
      "5\n",
      "[[array([ 3,  8,  9, 17, 11,  2,  6, 13, 15, 14,  7, 12,  4,  0,  1, 10, 16,\n",
      "          5])\n",
      "  1.0 'C H I Q K B F M O N G L D @ A J P E' 68597.0728]\n",
      " [array([14,  9,  2,  7,  6,  3,  8, 15,  1,  5, 10, 16, 17, 13,  0, 11,  4,\n",
      "         12])\n",
      "  1.0 'N I B G F C H O A E J P Q M @ K D L' 72336.4905]]\n"
     ]
    }
   ],
   "source": [
    "pobs = get_poblaciones_iniciales(n=5,tam_pob=100)\n",
    "print(len(pobs))\n",
    "print(pobs[0][:2])"
   ]
  },
  {
   "cell_type": "code",
   "execution_count": 10,
   "metadata": {},
   "outputs": [],
   "source": [
    "def historial_cruces(descendencia):\n",
    "    hijos = [ind[0] for ind in descendencia]\n",
    "    padres_codificados = [ind[1] for ind in descendencia]\n",
    "    padres_codificados = [\n",
    "        [p.replace(\" \", \"\") for p in padres] for padres in padres_codificados\n",
    "    ]\n",
    "    padres_decodificados = [\n",
    "        [[ord(c) - 64 for c in p] for p in padres] for padres in padres_codificados\n",
    "    ]\n",
    "    \n",
    "    historial = []\n",
    "    \n",
    "    for j in range(0,len(hijos),2):\n",
    "        fila = np.array([padres_decodificados[j][0],padres_decodificados[j][1],hijos[j],hijos[j+1]])\n",
    "        historial.append(fila)\n",
    "\n",
    "    return np.array(historial)"
   ]
  },
  {
   "cell_type": "code",
   "execution_count": 11,
   "metadata": {},
   "outputs": [],
   "source": [
    "def get_report(n_poblacion,poblacion,time=None):\n",
    "    info = np.zeros((8))\n",
    "    info[0] = n_poblacion\n",
    "    info[1] = np.around(np.mean(poblacion[:,3]),decimals=2)\n",
    "    info[2] = np.around(np.var(poblacion[:,3]),decimals=2)\n",
    "    info[3] = np.around(np.std(poblacion[:,3]),decimals=2)\n",
    "    info[4] = np.around(np.min(poblacion[:,3]),decimals=2)\n",
    "    info[5] = np.around(np.max(poblacion[:,3]),decimals=2)\n",
    "    info[6] = np.around(diversity_rate(poblacion),decimals=2)\n",
    "    if time:\n",
    "        info[7] = time\n",
    "    \n",
    "    return info"
   ]
  },
  {
   "cell_type": "code",
   "execution_count": 12,
   "metadata": {},
   "outputs": [],
   "source": [
    "def intial_stats(pobs, msg):\n",
    "    reportes_iniciales = np.array([get_report(i + 1, p) for i, p in enumerate(pobs)])\n",
    "    # Comportamiento de las poblaciones iniciales\n",
    "    fig = make_subplots(\n",
    "        rows=2,\n",
    "        cols=3,\n",
    "        subplot_titles=[\n",
    "            \"Costo promedio\",\n",
    "            \"Varianza del costo\",\n",
    "            \"Desviación estándar\",\n",
    "            \"Individuos con menor costo población inicial\",\n",
    "            \"Individuos mayor costo población inicial\",\n",
    "            \"Diversidad de genes\",\n",
    "        ],\n",
    "    )\n",
    "\n",
    "    fig.add_trace(\n",
    "        go.Scatter(\n",
    "            x=reportes_iniciales[:, 0],\n",
    "            y=reportes_iniciales[:, 1],\n",
    "            mode=\"markers+lines\",\n",
    "            name=\"Costo promedio inicial\",\n",
    "            marker=dict(symbol=\"star-diamond\", size=8),\n",
    "        ),\n",
    "        row=1,\n",
    "        col=1,\n",
    "    )\n",
    "    fig.add_trace(\n",
    "        go.Scatter(\n",
    "            x=reportes_iniciales[:, 0],\n",
    "            y=reportes_iniciales[:, 2],\n",
    "            mode=\"markers+lines\",\n",
    "            marker=dict(symbol=\"diamond-x\", size=8),\n",
    "            name=\"Varianza costo\",\n",
    "        ),\n",
    "        row=1,\n",
    "        col=2,\n",
    "    )\n",
    "    fig.add_trace(\n",
    "        go.Scatter(\n",
    "            x=reportes_iniciales[:, 0],\n",
    "            y=reportes_iniciales[:, 3],\n",
    "            mode=\"markers+lines\",\n",
    "            marker=dict(symbol=\"octagon\", size=8),\n",
    "            name=\"Desviación costo\",\n",
    "        ),\n",
    "        row=1,\n",
    "        col=3,\n",
    "    )\n",
    "    fig.add_trace(\n",
    "        go.Scatter(\n",
    "            x=reportes_iniciales[:, 0],\n",
    "            y=reportes_iniciales[:, 4],\n",
    "            mode=\"markers+lines\",\n",
    "            marker=dict(symbol=\"bowtie\", size=8),\n",
    "            name=\"Ruta con Menor Distancia\",\n",
    "        ),\n",
    "        row=2,\n",
    "        col=1,\n",
    "    )\n",
    "    fig.add_trace(\n",
    "        go.Scatter(\n",
    "            x=reportes_iniciales[:, 0],\n",
    "            y=reportes_iniciales[:, 5],\n",
    "            mode=\"markers+lines\",\n",
    "            marker=dict(symbol=\"bowtie\", size=8),\n",
    "            name=\"Ruta con Mayor Distancia\",\n",
    "        ),\n",
    "        row=2,\n",
    "        col=2,\n",
    "    )\n",
    "    fig.add_trace(\n",
    "        go.Scatter(\n",
    "            x=reportes_iniciales[:, 0],\n",
    "            y=reportes_iniciales[:, 6],\n",
    "            mode=\"markers+lines\",\n",
    "            marker=dict(symbol=\"hexagram\", size=8),\n",
    "            name=\"Costo mayor\",\n",
    "        ),\n",
    "        row=2,\n",
    "        col=3,\n",
    "    )\n",
    "\n",
    "    fig.update_layout(height=800, width=1600)  # Ajusta el tamaño de la figura\n",
    "    # Agrega títulos a los ejes x y y de cada gráfica\n",
    "    fig.update_layout(\n",
    "        title=f\"{msg}\",\n",
    "        xaxis1=dict(title=\"número población\"),  # Eje x de la primera gráfica\n",
    "        yaxis1=dict(title=\"Costo\"),  # Eje y de la primera gráfica\n",
    "        xaxis2=dict(title=\"número población\"),  # Eje x de la segunda gráfica\n",
    "        yaxis2=dict(title=\"Costo\"),  # Eje y de la segunda gráfica\n",
    "        xaxis3=dict(title=\"número población\"),  # Eje x de la tercera gráfica\n",
    "        yaxis3=dict(title=\"Costo\"),  # Eje y de la tercera gráfica\n",
    "        xaxis4=dict(title=\"número población\"),  # Eje x de la tercera gráfica\n",
    "        yaxis4=dict(title=\"Costo\"),  # Eje y de la tercera gráfica\n",
    "        xaxis5=dict(title=\"número población\"),  # Eje x de la tercera gráfica\n",
    "        yaxis6=dict(title=\"Genes\"),  # Eje y de la tercera gráfica\n",
    "    )\n",
    "    fig.show()"
   ]
  },
  {
   "cell_type": "code",
   "execution_count": 13,
   "metadata": {},
   "outputs": [],
   "source": [
    "def show_report(resutaldos, n_gen, total_pobs=5, msg=\"\"):\n",
    "    # gen_reports = np.zeros((total_pobs, n_gen, 8))\n",
    "    gen_reports =[]\n",
    "    for i, rg in enumerate(resutaldos):\n",
    "        rg_tiempos = rg[:, 1]\n",
    "        rg_res = rg[:, 0]\n",
    "\n",
    "        rg_res_pobs = np.array([respob[0] for respob in rg_res])\n",
    "        rg_report = np.array(\n",
    "            [\n",
    "                get_report(k + 1, rpob, rg_tiempos[k])\n",
    "                for k, rpob in enumerate(rg_res_pobs)\n",
    "            ]\n",
    "        )\n",
    "        gen_reports.append(rg_report)\n",
    "\n",
    "    fig = make_subplots(\n",
    "        rows=3,\n",
    "        cols=2,\n",
    "        subplot_titles=[\n",
    "            \"Costo promedio\",\n",
    "            \"Varianza\",\n",
    "            \"Desviación estándar\",\n",
    "            \"Ruta con la Menor Distancia\",\n",
    "            \"Ruta con la Mayor Distancia\",\n",
    "            \"Diversidad genética\",\n",
    "        ],\n",
    "    )\n",
    "\n",
    "    colors = [\n",
    "        \"#f5bde6\",  # Pink\n",
    "        \"#c6a0f6\",  # Mauve\n",
    "        \"#ed8796\",  # Red\n",
    "        \"#a6da95\",  # Green\n",
    "        \"#7dc4e4\",  # Sapphire\n",
    "        \"#8bd5ca\",  # Teal\n",
    "        \"#f5a97f\",  # Peach\n",
    "        \"#91d7e3\",  # Sky\n",
    "        \"#8aadf4\",  # Blue\n",
    "        \"#5b6078\"   # Surface\n",
    "    ]\n",
    "    \n",
    "    marker_symbols = [\n",
    "        \"pentagon\",\n",
    "        \"diamond\",\n",
    "        \"circle\",\n",
    "        \"hexagram\",\n",
    "        \"star\",\n",
    "        \"square\",\n",
    "        \"x\",\n",
    "        \"star-square\",\n",
    "        \"bowtie\",\n",
    "        \"circle-x\"\n",
    "    ]\n",
    "    for i, pop in enumerate(gen_reports):\n",
    "        fig.add_trace(\n",
    "            go.Scatter(\n",
    "                x=pop[:, 0],\n",
    "                y=pop[:, 1],\n",
    "                name=f\"Población {i+1}\",\n",
    "                mode=\"markers+lines\",\n",
    "                marker=dict(symbol=marker_symbols[i], size=8, color=colors[i]),\n",
    "                legendgroup=f\"Población {i+1}\",\n",
    "            ),\n",
    "            row=1,\n",
    "            col=1,\n",
    "        )\n",
    "\n",
    "        fig.add_trace(\n",
    "            go.Scatter(\n",
    "                x=pop[:, 0],\n",
    "                y=pop[:, 2],\n",
    "                name=f\"Población {i+1}\",\n",
    "                mode=\"markers+lines\",\n",
    "                marker=dict(symbol=marker_symbols[i], size=8, color=colors[i]),\n",
    "                legendgroup=f\"Población {i+1}\",\n",
    "            ),\n",
    "            row=1,\n",
    "            col=2,\n",
    "        )\n",
    "\n",
    "        fig.add_trace(\n",
    "            go.Scatter(\n",
    "                x=pop[:, 0],\n",
    "                y=pop[:, 3],\n",
    "                name=f\"Población {i+1}\",\n",
    "                mode=\"markers+lines\",\n",
    "                marker=dict(symbol=marker_symbols[i], size=8, color=colors[i]),\n",
    "                legendgroup=f\"Población {i+1}\",\n",
    "            ),\n",
    "            row=2,\n",
    "            col=1,\n",
    "        )\n",
    "\n",
    "        fig.add_trace(\n",
    "            go.Scatter(\n",
    "                x=pop[:, 0],\n",
    "                y=pop[:, 4],\n",
    "                name=f\"Población {i+1}\",\n",
    "                mode=\"markers+lines\",\n",
    "                marker=dict(symbol=marker_symbols[i], size=8, color=colors[i]),\n",
    "                legendgroup=f\"Población {i+1}\",\n",
    "            ),\n",
    "            row=2,\n",
    "            col=2,\n",
    "        )\n",
    "\n",
    "        fig.add_trace(\n",
    "            go.Scatter(\n",
    "                x=pop[:, 0],\n",
    "                y=pop[:, 5],\n",
    "                name=f\"Población {i+1}\",\n",
    "                mode=\"markers+lines\",\n",
    "                marker=dict(symbol=marker_symbols[i], size=8, color=colors[i]),\n",
    "                legendgroup=f\"Población {i+1}\",\n",
    "            ),\n",
    "            row=3,\n",
    "            col=1,\n",
    "        )\n",
    "\n",
    "        fig.add_trace(\n",
    "            go.Scatter(\n",
    "                x=pop[:, 0],\n",
    "                y=pop[:, 6],\n",
    "                name=f\"Población {i+1}\",\n",
    "                mode=\"markers+lines\",\n",
    "                marker=dict(symbol=marker_symbols[i], size=8, color=colors[i]),\n",
    "                legendgroup=f\"Población {i+1}\",\n",
    "            ),\n",
    "            row=3,\n",
    "            col=2,\n",
    "        )\n",
    "\n",
    "    for i in range(6):\n",
    "        fig.update_xaxes(title_text=\"Generación\", row=(i // 2) + 1, col=(i % 2) + 1)\n",
    "\n",
    "    fig.update_layout(height=1200, width=1500, title=f\"{msg}\")\n",
    "    fig.show()"
   ]
  },
  {
   "cell_type": "code",
   "execution_count": 14,
   "metadata": {},
   "outputs": [],
   "source": [
    "def save_results(res_file_name,reslt):\n",
    "    res_path = f\"../files/act_2/Resultados/{res_file_name}.pkl\"\n",
    "    try:\n",
    "        with open(res_path,\"wb\") as f:\n",
    "            pickle.dump(reslt,f)\n",
    "    except Exception as e:\n",
    "        print(f\"Error al gaurdar el archvio de resultados: {e}\")"
   ]
  },
  {
   "cell_type": "code",
   "execution_count": 15,
   "metadata": {},
   "outputs": [],
   "source": [
    "def create_excel_hist(reslt,file_name):\n",
    "    # Colores de resaltado\n",
    "    fill_green = PatternFill(start_color=\"00FF00\", end_color=\"00FF00\", fill_type=\"solid\")\n",
    "    fill_yellow = PatternFill(start_color=\"FFFF00\", end_color=\"FFFF00\", fill_type=\"solid\")\n",
    "\n",
    "    #arch = \"exp1_no_mutacion_style2.xlsx\"\n",
    "    hist_file = f\"../files/act_2/historial/{file_name}.xlsx\"\n",
    "\n",
    "    with pd.ExcelWriter(hist_file, engine='openpyxl') as writer:\n",
    "        for i, res in enumerate(reslt):\n",
    "            start_row = 0\n",
    "\n",
    "            for g, gen_res in enumerate(res[:, 0]):\n",
    "                # Crear los DataFrames\n",
    "                historial_generaciones = np.zeros((gen_res[0][:, 0].shape[0], 2), dtype=\"object\")\n",
    "                historial_generaciones[:, 0] = np.array([\" \".join([str(c) for c in r]) for r in gen_res[0][:, 0]])\n",
    "                historial_generaciones[:, 1] = gen_res[0][:, 3]\n",
    "                \n",
    "                hg_df = pd.DataFrame(historial_generaciones, columns=[\"Ruta\", \"Distancia\"])\n",
    "\n",
    "                # DataFrame de cruces con columnas adicionales\n",
    "                historial_cruces = np.zeros((gen_res[1].shape[0], 4), dtype=\"object\")\n",
    "                historial_cruces[:, 0] = np.array([\" \".join([str(c) for c in r]) for r in gen_res[1][:, 0]])\n",
    "                historial_cruces[:, 1] = np.array([\" \".join([str(c) for c in r]) for r in gen_res[1][:, 1]])\n",
    "                historial_cruces[:, 2] = np.array([\" \".join([str(c) for c in r]) for r in gen_res[1][:, 2]])\n",
    "                historial_cruces[:, 3] = np.array([\" \".join([str(c) for c in r]) for r in gen_res[1][:, 3]])\n",
    "                \n",
    "                hc_df = pd.DataFrame(historial_cruces, columns=[\"Padre 1\", \"Padre 2\", \"Hijo 1\", \"Hijo 2\"])\n",
    "                hc_df[\"Apto h1\"] = hc_df[\"Hijo 1\"].isin(hg_df[\"Ruta\"])\n",
    "                hc_df[\"Apto h2\"] = hc_df[\"Hijo 2\"].isin(hg_df[\"Ruta\"])\n",
    "\n",
    "                # DataFrame de mutantes con columna adicional\n",
    "                historial_mutante = gen_res[2]\n",
    "                hm_df = pd.DataFrame(historial_mutante, columns=[\"Original\", \"Mutante\", \"Incio mutación\", \"Genes mutados\"])\n",
    "                hc_df[\"mutado 1\"] = hc_df[\"Hijo 1\"].isin(hm_df[\"Original\"])\n",
    "                hc_df[\"mutado 2\"] = hc_df[\"Hijo 2\"].isin(hm_df[\"Original\"])\n",
    "                hm_df[\"Apto mut\"] = hm_df[\"Mutante\"].isin(hg_df[\"Ruta\"])\n",
    "\n",
    "                # Agregar columnas \"Cruza\" y \"Mutado\" a hg_df\n",
    "                hg_df[\"Cruza\"] = hg_df[\"Ruta\"].isin(hc_df[\"Hijo 1\"]) | hg_df[\"Ruta\"].isin(hc_df[\"Hijo 2\"])\n",
    "                hg_df[\"Mutado\"] = hg_df[\"Ruta\"].isin(hm_df[\"Mutante\"])\n",
    "\n",
    "                start_col = 0\n",
    "                hg_df.to_excel(writer, sheet_name=f\"Poblacion_{i}\", index=False, startrow=start_row, startcol=start_col)\n",
    "                start_col += hg_df.shape[1] + 1\n",
    "                \n",
    "                hc_df.to_excel(writer, sheet_name=f\"Poblacion_{i}\", index=False, startrow=start_row, startcol=start_col)\n",
    "                start_col += hc_df.shape[1] + 1\n",
    "                \n",
    "                hm_df.to_excel(writer, sheet_name=f\"Poblacion_{i}\", index=False, startrow=start_row, startcol=start_col)\n",
    "                \n",
    "                start_row += hg_df.shape[0] + 2\n",
    "                \n",
    "    # Resaltar las celdas\n",
    "    wb = load_workbook(hist_file)\n",
    "    for sheet_name in wb.sheetnames:\n",
    "        ws = wb[sheet_name]\n",
    "        \n",
    "        for row in ws.iter_rows(min_row=2, max_row=ws.max_row, min_col=1, max_col=ws.max_column):\n",
    "            ruta_value = row[0].value  # Valor de la columna \"Ruta\"\n",
    "            cruza_value = row[2].value  # Valor de la columna \"Cruza\"\n",
    "            mutado_value = row[3].value  # Valor de la columna \"Mutado\"\n",
    "            \n",
    "            # Resaltar en verde si \"Cruza\" es True\n",
    "            if cruza_value:\n",
    "                row[0].fill = fill_green\n",
    "            # Resaltar en amarillo si \"Mutado\" es True\n",
    "            if mutado_value:\n",
    "                row[0].fill = fill_yellow\n",
    "\n",
    "    wb.save(hist_file)"
   ]
  },
  {
   "cell_type": "code",
   "execution_count": 16,
   "metadata": {},
   "outputs": [],
   "source": [
    "def msg_info_exp(msg):\n",
    "    return (\n",
    "        \"===================================================================\\n\"\n",
    "        + f\"{msg}\\n\"\n",
    "    )\n",
    "\n",
    "\n",
    "def msg_info_inicial(num_pob, poblacion):\n",
    "    info = \"===================================================================\\n\"\n",
    "    info += f\"Población inicial #{num_pob + 1}\\n\"\n",
    "    info += f\"Costo promedio inicial {np.mean(poblacion[:, 3])}\\n\"\n",
    "    return info\n",
    "\n",
    "\n",
    "def msg_info_generacion(num_gen, poblacion, tiempo):\n",
    "    info = \"...................................................................\\n\"\n",
    "    info += f\"Generación: {num_gen}\\n\"\n",
    "    info += f\"Costo promedio: {np.mean(poblacion[:, 3])}\\n\"\n",
    "    info += f\"Varianza del costo en la generación: {np.var(poblacion[:, 3])}\\n\"\n",
    "    info += (\n",
    "        f\"Desviación estándar del costo en la generación: {np.std(poblacion[:, 3])}\\n\"\n",
    "    )\n",
    "    info += f\"Diversidad promedio: {diversity_rate(poblacion)} genes\\n\"\n",
    "    info += f\"Menor costo de toda la generación: {np.min(poblacion[:, 3])}\\n\"\n",
    "    info += f\"Mayor costo de toda la generación: {np.max(poblacion[:, 3])}\\n\"\n",
    "    info += f\"Tiempo de ejecución de la generación {num_gen}: {tiempo}\\n\"\n",
    "    info += \"...................................................................\\n\"\n",
    "    return info\n",
    "\n",
    "\n",
    "def msg_tiempo_pob(num_pob, tiempo):\n",
    "    info = \"--------------------------------------------------------------------\\n\"\n",
    "    info += f\"Tiempo de ejecución para la población #{num_pob + 1}: {tiempo}\\n\"\n",
    "    info += \"===================================================================\\n\"\n",
    "    return info"
   ]
  },
  {
   "cell_type": "code",
   "execution_count": 17,
   "metadata": {},
   "outputs": [],
   "source": [
    "def seleccion_cruza(poblacion, op_seleccion=0, op_cruza=3, mode=\"min\"):\n",
    "    desc = get_next_gen(poblacion, op_seleccion, op_cruza, mode)\n",
    "    cruces = historial_cruces(desc)\n",
    "    hijos = np.array([hijo[0] for hijo in desc])\n",
    "    # new_age = poblacion.copy()\n",
    "    new_age = np.zeros((hijos.shape[0], 4), dtype=\"object\")\n",
    "    for i, hijo in enumerate(hijos):\n",
    "        # nuevo_indiviudo = np.zeros((1, 4), dtype=\"object\")\n",
    "        # nuevo_indiviudo[0, 0] = hijo\n",
    "        # nuevo_indiviudo[0, 1] = 1.0\n",
    "        # nuevo_indiviudo[0, 2] = \" \".join([chr(c + 64) for c in hijo])\n",
    "        # nuevo_indiviudo[0, 3] = evaluar(nuevo_indiviudo)[0]\n",
    "        # new_age = np.vstack([new_age, nuevo_indiviudo])\n",
    "        new_age[i, 0] = hijo\n",
    "        new_age[i, 1] = 1.0\n",
    "        new_age[i, 2] = \" \".join([chr(c + 64) for c in hijo])\n",
    "    # new_age[:, 3] = evaluar(new_age)\n",
    "    return new_age, cruces"
   ]
  },
  {
   "cell_type": "code",
   "execution_count": 38,
   "metadata": {},
   "outputs": [],
   "source": [
    "def experimentacion(\n",
    "    poblaciones_iniciales,\n",
    "    log_file,\n",
    "    max_gen=10,\n",
    "    op_seleccion=0,\n",
    "    op_cruza=3,\n",
    "    mode=\"min\",\n",
    "    mutar=False,\n",
    "    n_genes_mutatation=6,\n",
    "    op_mutation=0,\n",
    "):\n",
    "    start_exp_time = time.time()\n",
    "    msg_info_exp(\"Inicio del algoritimo genético\")\n",
    "    gen_results = []\n",
    "\n",
    "    tam_pob = poblaciones_iniciales[0].shape[0]\n",
    "    \n",
    "    exp_log = f\"LOGS_EXPERIMENTO_{log_file}\"\n",
    "    log_file = f\"../files/act_2/logs/{log_file}.txt\"\n",
    "    for i in range(len(poblaciones_iniciales)):\n",
    "        poblacion = poblaciones_iniciales[i]\n",
    "        # poblacion[:, 3] = evaluar(poblacion)\n",
    "        poblacion = ordenar_poblacion(poblacion, reverse=True)\n",
    "\n",
    "        exp_log += msg_info_inicial(i, poblacion)\n",
    "        pob_time = 0\n",
    "\n",
    "        historial_generacional = np.zeros((max_gen, 2), dtype=\"object\")\n",
    "\n",
    "        gen_stop = 0\n",
    "        for gen in range(max_gen):\n",
    "            start_gen_time = time.time()\n",
    "            pob_cost_ant = np.mean(poblacion[:, 3])\n",
    "            new_age, cruces = seleccion_cruza(poblacion, op_seleccion, op_cruza, \"min\")\n",
    "            mutantes = np.zeros((1, 4))\n",
    "\n",
    "            if mutar:\n",
    "                pob_mutante, mutantes = mutation(\n",
    "                    new_age,\n",
    "                    opt=1,\n",
    "                    operator=op_mutation,\n",
    "                    funcion_aptitud=evaluar,\n",
    "                    cromosomas_mutation=n_genes_mutatation,\n",
    "                )\n",
    "                new_age = pob_mutante.copy()\n",
    "\n",
    "            new_age = np.vstack([poblacion, new_age])\n",
    "            new_age[:, 3] = evaluar(new_age)\n",
    "            new_age = ordenar_poblacion(new_age, reverse=True)[:tam_pob]\n",
    "\n",
    "            poblacion = new_age\n",
    "\n",
    "            end_gen_time = time.time()\n",
    "            elapsed_gen_time = end_gen_time - start_gen_time\n",
    "            pob_time += elapsed_gen_time\n",
    "\n",
    "            exp_log += msg_info_generacion(gen, poblacion, elapsed_gen_time)\n",
    "            historial_generacional[gen, 0] = [poblacion, cruces, mutantes]\n",
    "            historial_generacional[gen, 1] = elapsed_gen_time\n",
    "            gen_stop = gen\n",
    "            if paro_delta(apt_prev=pob_cost_ant, pob=new_age, delta=100):\n",
    "                break\n",
    "\n",
    "        exp_log += msg_tiempo_pob(i, pob_time)\n",
    "        gen_results.append(historial_generacional[: gen_stop + 1])\n",
    "\n",
    "    end_exp_time = time.time()\n",
    "    elapsed_exp_time = end_exp_time - start_exp_time\n",
    "    exp_log += msg_info_exp(f\"Tiempo de experimentación: {elapsed_exp_time}\")\n",
    "    \n",
    "    with open (log_file,\"w\") as f:\n",
    "        f.write(exp_log)\n",
    "        \n",
    "    print(exp_log)\n",
    "    return gen_results, elapsed_exp_time"
   ]
  },
  {
   "cell_type": "markdown",
   "metadata": {},
   "source": [
    "# Exploración de poblaciones"
   ]
  },
  {
   "cell_type": "code",
   "execution_count": 18,
   "metadata": {},
   "outputs": [
    {
     "name": "stdout",
     "output_type": "stream",
     "text": [
      "Archivo de poblaciones cargado correctamente\n"
     ]
    },
    {
     "data": {
      "application/vnd.plotly.v1+json": {
       "config": {
        "plotlyServerURL": "https://plot.ly"
       },
       "data": [
        {
         "marker": {
          "size": 8,
          "symbol": "star-diamond"
         },
         "mode": "markers+lines",
         "name": "Costo promedio inicial",
         "type": "scatter",
         "x": [
          1,
          2,
          3,
          4,
          5
         ],
         "xaxis": "x",
         "y": [
          69534.31,
          69124.37,
          69042.94,
          69414.77,
          68891.17
         ],
         "yaxis": "y"
        },
        {
         "marker": {
          "size": 8,
          "symbol": "diamond-x"
         },
         "mode": "markers+lines",
         "name": "Varianza costo",
         "type": "scatter",
         "x": [
          1,
          2,
          3,
          4,
          5
         ],
         "xaxis": "x2",
         "y": [
          65671898.77,
          47970303.26,
          47704640.53,
          66635678.59,
          53756648.99
         ],
         "yaxis": "y2"
        },
        {
         "marker": {
          "size": 8,
          "symbol": "octagon"
         },
         "mode": "markers+lines",
         "name": "Desviación costo",
         "type": "scatter",
         "x": [
          1,
          2,
          3,
          4,
          5
         ],
         "xaxis": "x3",
         "y": [
          8103.82,
          6926.06,
          6906.85,
          8163.07,
          7331.89
         ],
         "yaxis": "y3"
        },
        {
         "marker": {
          "size": 8,
          "symbol": "bowtie"
         },
         "mode": "markers+lines",
         "name": "Ruta con Menor Distancia",
         "type": "scatter",
         "x": [
          1,
          2,
          3,
          4,
          5
         ],
         "xaxis": "x4",
         "y": [
          45541.1,
          53552.57,
          44103.04,
          49002.44,
          51694.1
         ],
         "yaxis": "y4"
        },
        {
         "marker": {
          "size": 8,
          "symbol": "bowtie"
         },
         "mode": "markers+lines",
         "name": "Ruta con Mayor Distancia",
         "type": "scatter",
         "x": [
          1,
          2,
          3,
          4,
          5
         ],
         "xaxis": "x5",
         "y": [
          85204.17,
          83891.18,
          83161.1,
          87213.25,
          83200.85
         ],
         "yaxis": "y5"
        },
        {
         "marker": {
          "size": 8,
          "symbol": "hexagram"
         },
         "mode": "markers+lines",
         "name": "Costo mayor",
         "type": "scatter",
         "x": [
          1,
          2,
          3,
          4,
          5
         ],
         "xaxis": "x6",
         "y": [
          16.99,
          17.01,
          17,
          17.01,
          17.01
         ],
         "yaxis": "y6"
        }
       ],
       "layout": {
        "annotations": [
         {
          "font": {
           "size": 16
          },
          "showarrow": false,
          "text": "Costo promedio",
          "x": 0.14444444444444446,
          "xanchor": "center",
          "xref": "paper",
          "y": 1,
          "yanchor": "bottom",
          "yref": "paper"
         },
         {
          "font": {
           "size": 16
          },
          "showarrow": false,
          "text": "Varianza del costo",
          "x": 0.5,
          "xanchor": "center",
          "xref": "paper",
          "y": 1,
          "yanchor": "bottom",
          "yref": "paper"
         },
         {
          "font": {
           "size": 16
          },
          "showarrow": false,
          "text": "Desviación estándar",
          "x": 0.8555555555555556,
          "xanchor": "center",
          "xref": "paper",
          "y": 1,
          "yanchor": "bottom",
          "yref": "paper"
         },
         {
          "font": {
           "size": 16
          },
          "showarrow": false,
          "text": "Individuos con menor costo población inicial",
          "x": 0.14444444444444446,
          "xanchor": "center",
          "xref": "paper",
          "y": 0.375,
          "yanchor": "bottom",
          "yref": "paper"
         },
         {
          "font": {
           "size": 16
          },
          "showarrow": false,
          "text": "Individuos mayor costo población inicial",
          "x": 0.5,
          "xanchor": "center",
          "xref": "paper",
          "y": 0.375,
          "yanchor": "bottom",
          "yref": "paper"
         },
         {
          "font": {
           "size": 16
          },
          "showarrow": false,
          "text": "Diversidad de genes",
          "x": 0.8555555555555556,
          "xanchor": "center",
          "xref": "paper",
          "y": 0.375,
          "yanchor": "bottom",
          "yref": "paper"
         }
        ],
        "height": 800,
        "template": {
         "data": {
          "bar": [
           {
            "error_x": {
             "color": "#2a3f5f"
            },
            "error_y": {
             "color": "#2a3f5f"
            },
            "marker": {
             "line": {
              "color": "#E5ECF6",
              "width": 0.5
             },
             "pattern": {
              "fillmode": "overlay",
              "size": 10,
              "solidity": 0.2
             }
            },
            "type": "bar"
           }
          ],
          "barpolar": [
           {
            "marker": {
             "line": {
              "color": "#E5ECF6",
              "width": 0.5
             },
             "pattern": {
              "fillmode": "overlay",
              "size": 10,
              "solidity": 0.2
             }
            },
            "type": "barpolar"
           }
          ],
          "carpet": [
           {
            "aaxis": {
             "endlinecolor": "#2a3f5f",
             "gridcolor": "white",
             "linecolor": "white",
             "minorgridcolor": "white",
             "startlinecolor": "#2a3f5f"
            },
            "baxis": {
             "endlinecolor": "#2a3f5f",
             "gridcolor": "white",
             "linecolor": "white",
             "minorgridcolor": "white",
             "startlinecolor": "#2a3f5f"
            },
            "type": "carpet"
           }
          ],
          "choropleth": [
           {
            "colorbar": {
             "outlinewidth": 0,
             "ticks": ""
            },
            "type": "choropleth"
           }
          ],
          "contour": [
           {
            "colorbar": {
             "outlinewidth": 0,
             "ticks": ""
            },
            "colorscale": [
             [
              0,
              "#0d0887"
             ],
             [
              0.1111111111111111,
              "#46039f"
             ],
             [
              0.2222222222222222,
              "#7201a8"
             ],
             [
              0.3333333333333333,
              "#9c179e"
             ],
             [
              0.4444444444444444,
              "#bd3786"
             ],
             [
              0.5555555555555556,
              "#d8576b"
             ],
             [
              0.6666666666666666,
              "#ed7953"
             ],
             [
              0.7777777777777778,
              "#fb9f3a"
             ],
             [
              0.8888888888888888,
              "#fdca26"
             ],
             [
              1,
              "#f0f921"
             ]
            ],
            "type": "contour"
           }
          ],
          "contourcarpet": [
           {
            "colorbar": {
             "outlinewidth": 0,
             "ticks": ""
            },
            "type": "contourcarpet"
           }
          ],
          "heatmap": [
           {
            "colorbar": {
             "outlinewidth": 0,
             "ticks": ""
            },
            "colorscale": [
             [
              0,
              "#0d0887"
             ],
             [
              0.1111111111111111,
              "#46039f"
             ],
             [
              0.2222222222222222,
              "#7201a8"
             ],
             [
              0.3333333333333333,
              "#9c179e"
             ],
             [
              0.4444444444444444,
              "#bd3786"
             ],
             [
              0.5555555555555556,
              "#d8576b"
             ],
             [
              0.6666666666666666,
              "#ed7953"
             ],
             [
              0.7777777777777778,
              "#fb9f3a"
             ],
             [
              0.8888888888888888,
              "#fdca26"
             ],
             [
              1,
              "#f0f921"
             ]
            ],
            "type": "heatmap"
           }
          ],
          "heatmapgl": [
           {
            "colorbar": {
             "outlinewidth": 0,
             "ticks": ""
            },
            "colorscale": [
             [
              0,
              "#0d0887"
             ],
             [
              0.1111111111111111,
              "#46039f"
             ],
             [
              0.2222222222222222,
              "#7201a8"
             ],
             [
              0.3333333333333333,
              "#9c179e"
             ],
             [
              0.4444444444444444,
              "#bd3786"
             ],
             [
              0.5555555555555556,
              "#d8576b"
             ],
             [
              0.6666666666666666,
              "#ed7953"
             ],
             [
              0.7777777777777778,
              "#fb9f3a"
             ],
             [
              0.8888888888888888,
              "#fdca26"
             ],
             [
              1,
              "#f0f921"
             ]
            ],
            "type": "heatmapgl"
           }
          ],
          "histogram": [
           {
            "marker": {
             "pattern": {
              "fillmode": "overlay",
              "size": 10,
              "solidity": 0.2
             }
            },
            "type": "histogram"
           }
          ],
          "histogram2d": [
           {
            "colorbar": {
             "outlinewidth": 0,
             "ticks": ""
            },
            "colorscale": [
             [
              0,
              "#0d0887"
             ],
             [
              0.1111111111111111,
              "#46039f"
             ],
             [
              0.2222222222222222,
              "#7201a8"
             ],
             [
              0.3333333333333333,
              "#9c179e"
             ],
             [
              0.4444444444444444,
              "#bd3786"
             ],
             [
              0.5555555555555556,
              "#d8576b"
             ],
             [
              0.6666666666666666,
              "#ed7953"
             ],
             [
              0.7777777777777778,
              "#fb9f3a"
             ],
             [
              0.8888888888888888,
              "#fdca26"
             ],
             [
              1,
              "#f0f921"
             ]
            ],
            "type": "histogram2d"
           }
          ],
          "histogram2dcontour": [
           {
            "colorbar": {
             "outlinewidth": 0,
             "ticks": ""
            },
            "colorscale": [
             [
              0,
              "#0d0887"
             ],
             [
              0.1111111111111111,
              "#46039f"
             ],
             [
              0.2222222222222222,
              "#7201a8"
             ],
             [
              0.3333333333333333,
              "#9c179e"
             ],
             [
              0.4444444444444444,
              "#bd3786"
             ],
             [
              0.5555555555555556,
              "#d8576b"
             ],
             [
              0.6666666666666666,
              "#ed7953"
             ],
             [
              0.7777777777777778,
              "#fb9f3a"
             ],
             [
              0.8888888888888888,
              "#fdca26"
             ],
             [
              1,
              "#f0f921"
             ]
            ],
            "type": "histogram2dcontour"
           }
          ],
          "mesh3d": [
           {
            "colorbar": {
             "outlinewidth": 0,
             "ticks": ""
            },
            "type": "mesh3d"
           }
          ],
          "parcoords": [
           {
            "line": {
             "colorbar": {
              "outlinewidth": 0,
              "ticks": ""
             }
            },
            "type": "parcoords"
           }
          ],
          "pie": [
           {
            "automargin": true,
            "type": "pie"
           }
          ],
          "scatter": [
           {
            "fillpattern": {
             "fillmode": "overlay",
             "size": 10,
             "solidity": 0.2
            },
            "type": "scatter"
           }
          ],
          "scatter3d": [
           {
            "line": {
             "colorbar": {
              "outlinewidth": 0,
              "ticks": ""
             }
            },
            "marker": {
             "colorbar": {
              "outlinewidth": 0,
              "ticks": ""
             }
            },
            "type": "scatter3d"
           }
          ],
          "scattercarpet": [
           {
            "marker": {
             "colorbar": {
              "outlinewidth": 0,
              "ticks": ""
             }
            },
            "type": "scattercarpet"
           }
          ],
          "scattergeo": [
           {
            "marker": {
             "colorbar": {
              "outlinewidth": 0,
              "ticks": ""
             }
            },
            "type": "scattergeo"
           }
          ],
          "scattergl": [
           {
            "marker": {
             "colorbar": {
              "outlinewidth": 0,
              "ticks": ""
             }
            },
            "type": "scattergl"
           }
          ],
          "scattermapbox": [
           {
            "marker": {
             "colorbar": {
              "outlinewidth": 0,
              "ticks": ""
             }
            },
            "type": "scattermapbox"
           }
          ],
          "scatterpolar": [
           {
            "marker": {
             "colorbar": {
              "outlinewidth": 0,
              "ticks": ""
             }
            },
            "type": "scatterpolar"
           }
          ],
          "scatterpolargl": [
           {
            "marker": {
             "colorbar": {
              "outlinewidth": 0,
              "ticks": ""
             }
            },
            "type": "scatterpolargl"
           }
          ],
          "scatterternary": [
           {
            "marker": {
             "colorbar": {
              "outlinewidth": 0,
              "ticks": ""
             }
            },
            "type": "scatterternary"
           }
          ],
          "surface": [
           {
            "colorbar": {
             "outlinewidth": 0,
             "ticks": ""
            },
            "colorscale": [
             [
              0,
              "#0d0887"
             ],
             [
              0.1111111111111111,
              "#46039f"
             ],
             [
              0.2222222222222222,
              "#7201a8"
             ],
             [
              0.3333333333333333,
              "#9c179e"
             ],
             [
              0.4444444444444444,
              "#bd3786"
             ],
             [
              0.5555555555555556,
              "#d8576b"
             ],
             [
              0.6666666666666666,
              "#ed7953"
             ],
             [
              0.7777777777777778,
              "#fb9f3a"
             ],
             [
              0.8888888888888888,
              "#fdca26"
             ],
             [
              1,
              "#f0f921"
             ]
            ],
            "type": "surface"
           }
          ],
          "table": [
           {
            "cells": {
             "fill": {
              "color": "#EBF0F8"
             },
             "line": {
              "color": "white"
             }
            },
            "header": {
             "fill": {
              "color": "#C8D4E3"
             },
             "line": {
              "color": "white"
             }
            },
            "type": "table"
           }
          ]
         },
         "layout": {
          "annotationdefaults": {
           "arrowcolor": "#2a3f5f",
           "arrowhead": 0,
           "arrowwidth": 1
          },
          "autotypenumbers": "strict",
          "coloraxis": {
           "colorbar": {
            "outlinewidth": 0,
            "ticks": ""
           }
          },
          "colorscale": {
           "diverging": [
            [
             0,
             "#8e0152"
            ],
            [
             0.1,
             "#c51b7d"
            ],
            [
             0.2,
             "#de77ae"
            ],
            [
             0.3,
             "#f1b6da"
            ],
            [
             0.4,
             "#fde0ef"
            ],
            [
             0.5,
             "#f7f7f7"
            ],
            [
             0.6,
             "#e6f5d0"
            ],
            [
             0.7,
             "#b8e186"
            ],
            [
             0.8,
             "#7fbc41"
            ],
            [
             0.9,
             "#4d9221"
            ],
            [
             1,
             "#276419"
            ]
           ],
           "sequential": [
            [
             0,
             "#0d0887"
            ],
            [
             0.1111111111111111,
             "#46039f"
            ],
            [
             0.2222222222222222,
             "#7201a8"
            ],
            [
             0.3333333333333333,
             "#9c179e"
            ],
            [
             0.4444444444444444,
             "#bd3786"
            ],
            [
             0.5555555555555556,
             "#d8576b"
            ],
            [
             0.6666666666666666,
             "#ed7953"
            ],
            [
             0.7777777777777778,
             "#fb9f3a"
            ],
            [
             0.8888888888888888,
             "#fdca26"
            ],
            [
             1,
             "#f0f921"
            ]
           ],
           "sequentialminus": [
            [
             0,
             "#0d0887"
            ],
            [
             0.1111111111111111,
             "#46039f"
            ],
            [
             0.2222222222222222,
             "#7201a8"
            ],
            [
             0.3333333333333333,
             "#9c179e"
            ],
            [
             0.4444444444444444,
             "#bd3786"
            ],
            [
             0.5555555555555556,
             "#d8576b"
            ],
            [
             0.6666666666666666,
             "#ed7953"
            ],
            [
             0.7777777777777778,
             "#fb9f3a"
            ],
            [
             0.8888888888888888,
             "#fdca26"
            ],
            [
             1,
             "#f0f921"
            ]
           ]
          },
          "colorway": [
           "#636efa",
           "#EF553B",
           "#00cc96",
           "#ab63fa",
           "#FFA15A",
           "#19d3f3",
           "#FF6692",
           "#B6E880",
           "#FF97FF",
           "#FECB52"
          ],
          "font": {
           "color": "#2a3f5f"
          },
          "geo": {
           "bgcolor": "white",
           "lakecolor": "white",
           "landcolor": "#E5ECF6",
           "showlakes": true,
           "showland": true,
           "subunitcolor": "white"
          },
          "hoverlabel": {
           "align": "left"
          },
          "hovermode": "closest",
          "mapbox": {
           "style": "light"
          },
          "paper_bgcolor": "white",
          "plot_bgcolor": "#E5ECF6",
          "polar": {
           "angularaxis": {
            "gridcolor": "white",
            "linecolor": "white",
            "ticks": ""
           },
           "bgcolor": "#E5ECF6",
           "radialaxis": {
            "gridcolor": "white",
            "linecolor": "white",
            "ticks": ""
           }
          },
          "scene": {
           "xaxis": {
            "backgroundcolor": "#E5ECF6",
            "gridcolor": "white",
            "gridwidth": 2,
            "linecolor": "white",
            "showbackground": true,
            "ticks": "",
            "zerolinecolor": "white"
           },
           "yaxis": {
            "backgroundcolor": "#E5ECF6",
            "gridcolor": "white",
            "gridwidth": 2,
            "linecolor": "white",
            "showbackground": true,
            "ticks": "",
            "zerolinecolor": "white"
           },
           "zaxis": {
            "backgroundcolor": "#E5ECF6",
            "gridcolor": "white",
            "gridwidth": 2,
            "linecolor": "white",
            "showbackground": true,
            "ticks": "",
            "zerolinecolor": "white"
           }
          },
          "shapedefaults": {
           "line": {
            "color": "#2a3f5f"
           }
          },
          "ternary": {
           "aaxis": {
            "gridcolor": "white",
            "linecolor": "white",
            "ticks": ""
           },
           "baxis": {
            "gridcolor": "white",
            "linecolor": "white",
            "ticks": ""
           },
           "bgcolor": "#E5ECF6",
           "caxis": {
            "gridcolor": "white",
            "linecolor": "white",
            "ticks": ""
           }
          },
          "title": {
           "x": 0.05
          },
          "xaxis": {
           "automargin": true,
           "gridcolor": "white",
           "linecolor": "white",
           "ticks": "",
           "title": {
            "standoff": 15
           },
           "zerolinecolor": "white",
           "zerolinewidth": 2
          },
          "yaxis": {
           "automargin": true,
           "gridcolor": "white",
           "linecolor": "white",
           "ticks": "",
           "title": {
            "standoff": 15
           },
           "zerolinecolor": "white",
           "zerolinewidth": 2
          }
         }
        },
        "title": {
         "text": "Estadísticas de las 5 poblaciones con 100 individuos"
        },
        "width": 1600,
        "xaxis": {
         "anchor": "y",
         "domain": [
          0,
          0.2888888888888889
         ],
         "title": {
          "text": "número población"
         }
        },
        "xaxis2": {
         "anchor": "y2",
         "domain": [
          0.35555555555555557,
          0.6444444444444445
         ],
         "title": {
          "text": "número población"
         }
        },
        "xaxis3": {
         "anchor": "y3",
         "domain": [
          0.7111111111111111,
          1
         ],
         "title": {
          "text": "número población"
         }
        },
        "xaxis4": {
         "anchor": "y4",
         "domain": [
          0,
          0.2888888888888889
         ],
         "title": {
          "text": "número población"
         }
        },
        "xaxis5": {
         "anchor": "y5",
         "domain": [
          0.35555555555555557,
          0.6444444444444445
         ],
         "title": {
          "text": "número población"
         }
        },
        "xaxis6": {
         "anchor": "y6",
         "domain": [
          0.7111111111111111,
          1
         ]
        },
        "yaxis": {
         "anchor": "x",
         "domain": [
          0.625,
          1
         ],
         "title": {
          "text": "Costo"
         }
        },
        "yaxis2": {
         "anchor": "x2",
         "domain": [
          0.625,
          1
         ],
         "title": {
          "text": "Costo"
         }
        },
        "yaxis3": {
         "anchor": "x3",
         "domain": [
          0.625,
          1
         ],
         "title": {
          "text": "Costo"
         }
        },
        "yaxis4": {
         "anchor": "x4",
         "domain": [
          0,
          0.375
         ],
         "title": {
          "text": "Costo"
         }
        },
        "yaxis5": {
         "anchor": "x5",
         "domain": [
          0,
          0.375
         ]
        },
        "yaxis6": {
         "anchor": "x6",
         "domain": [
          0,
          0.375
         ],
         "title": {
          "text": "Genes"
         }
        }
       }
      }
     },
     "metadata": {},
     "output_type": "display_data"
    }
   ],
   "source": [
    "POB_FILE = \"files\\\\act_2\\\\poblaciones\\\\pob_5_100.pkl\"\n",
    "pobs = get_poblaciones_iniciales(n=5,tam_pob=100)\n",
    "intial_stats(pobs, f\"Estadísticas de las {5} poblaciones con {100} individuos\")"
   ]
  },
  {
   "cell_type": "code",
   "execution_count": 19,
   "metadata": {},
   "outputs": [
    {
     "name": "stdout",
     "output_type": "stream",
     "text": [
      "Archivo de poblaciones cargado correctamente\n"
     ]
    },
    {
     "data": {
      "application/vnd.plotly.v1+json": {
       "config": {
        "plotlyServerURL": "https://plot.ly"
       },
       "data": [
        {
         "marker": {
          "size": 8,
          "symbol": "star-diamond"
         },
         "mode": "markers+lines",
         "name": "Costo promedio inicial",
         "type": "scatter",
         "x": [
          1,
          2,
          3,
          4,
          5,
          6,
          7
         ],
         "xaxis": "x",
         "y": [
          70925.67,
          68811.34,
          70825.83,
          69376.19,
          68361.68,
          69315.79,
          67822.86
         ],
         "yaxis": "y"
        },
        {
         "marker": {
          "size": 8,
          "symbol": "diamond-x"
         },
         "mode": "markers+lines",
         "name": "Varianza costo",
         "type": "scatter",
         "x": [
          1,
          2,
          3,
          4,
          5,
          6,
          7
         ],
         "xaxis": "x2",
         "y": [
          54360229.61,
          46509076.92,
          58781761.17,
          51132461.26,
          59402383.72,
          56712024.73,
          55790125.38
         ],
         "yaxis": "y2"
        },
        {
         "marker": {
          "size": 8,
          "symbol": "octagon"
         },
         "mode": "markers+lines",
         "name": "Desviación costo",
         "type": "scatter",
         "x": [
          1,
          2,
          3,
          4,
          5,
          6,
          7
         ],
         "xaxis": "x3",
         "y": [
          7372.94,
          6819.76,
          7666.93,
          7150.7,
          7707.29,
          7530.74,
          7469.28
         ],
         "yaxis": "y3"
        },
        {
         "marker": {
          "size": 8,
          "symbol": "bowtie"
         },
         "mode": "markers+lines",
         "name": "Ruta con Menor Distancia",
         "type": "scatter",
         "x": [
          1,
          2,
          3,
          4,
          5,
          6,
          7
         ],
         "xaxis": "x4",
         "y": [
          47819.25,
          51893.55,
          50167.43,
          51305.36,
          47334.38,
          50865.27,
          48720.53
         ],
         "yaxis": "y4"
        },
        {
         "marker": {
          "size": 8,
          "symbol": "bowtie"
         },
         "mode": "markers+lines",
         "name": "Ruta con Mayor Distancia",
         "type": "scatter",
         "x": [
          1,
          2,
          3,
          4,
          5,
          6,
          7
         ],
         "xaxis": "x5",
         "y": [
          84082.54,
          82090.8,
          84590.49,
          81724.87,
          83398.26,
          84686.14,
          84797.14
         ],
         "yaxis": "y5"
        },
        {
         "marker": {
          "size": 8,
          "symbol": "hexagram"
         },
         "mode": "markers+lines",
         "name": "Costo mayor",
         "type": "scatter",
         "x": [
          1,
          2,
          3,
          4,
          5,
          6,
          7
         ],
         "xaxis": "x6",
         "y": [
          16.99,
          16.99,
          17.02,
          16.99,
          16.98,
          16.99,
          16.99
         ],
         "yaxis": "y6"
        }
       ],
       "layout": {
        "annotations": [
         {
          "font": {
           "size": 16
          },
          "showarrow": false,
          "text": "Costo promedio",
          "x": 0.14444444444444446,
          "xanchor": "center",
          "xref": "paper",
          "y": 1,
          "yanchor": "bottom",
          "yref": "paper"
         },
         {
          "font": {
           "size": 16
          },
          "showarrow": false,
          "text": "Varianza del costo",
          "x": 0.5,
          "xanchor": "center",
          "xref": "paper",
          "y": 1,
          "yanchor": "bottom",
          "yref": "paper"
         },
         {
          "font": {
           "size": 16
          },
          "showarrow": false,
          "text": "Desviación estándar",
          "x": 0.8555555555555556,
          "xanchor": "center",
          "xref": "paper",
          "y": 1,
          "yanchor": "bottom",
          "yref": "paper"
         },
         {
          "font": {
           "size": 16
          },
          "showarrow": false,
          "text": "Individuos con menor costo población inicial",
          "x": 0.14444444444444446,
          "xanchor": "center",
          "xref": "paper",
          "y": 0.375,
          "yanchor": "bottom",
          "yref": "paper"
         },
         {
          "font": {
           "size": 16
          },
          "showarrow": false,
          "text": "Individuos mayor costo población inicial",
          "x": 0.5,
          "xanchor": "center",
          "xref": "paper",
          "y": 0.375,
          "yanchor": "bottom",
          "yref": "paper"
         },
         {
          "font": {
           "size": 16
          },
          "showarrow": false,
          "text": "Diversidad de genes",
          "x": 0.8555555555555556,
          "xanchor": "center",
          "xref": "paper",
          "y": 0.375,
          "yanchor": "bottom",
          "yref": "paper"
         }
        ],
        "height": 800,
        "template": {
         "data": {
          "bar": [
           {
            "error_x": {
             "color": "#2a3f5f"
            },
            "error_y": {
             "color": "#2a3f5f"
            },
            "marker": {
             "line": {
              "color": "#E5ECF6",
              "width": 0.5
             },
             "pattern": {
              "fillmode": "overlay",
              "size": 10,
              "solidity": 0.2
             }
            },
            "type": "bar"
           }
          ],
          "barpolar": [
           {
            "marker": {
             "line": {
              "color": "#E5ECF6",
              "width": 0.5
             },
             "pattern": {
              "fillmode": "overlay",
              "size": 10,
              "solidity": 0.2
             }
            },
            "type": "barpolar"
           }
          ],
          "carpet": [
           {
            "aaxis": {
             "endlinecolor": "#2a3f5f",
             "gridcolor": "white",
             "linecolor": "white",
             "minorgridcolor": "white",
             "startlinecolor": "#2a3f5f"
            },
            "baxis": {
             "endlinecolor": "#2a3f5f",
             "gridcolor": "white",
             "linecolor": "white",
             "minorgridcolor": "white",
             "startlinecolor": "#2a3f5f"
            },
            "type": "carpet"
           }
          ],
          "choropleth": [
           {
            "colorbar": {
             "outlinewidth": 0,
             "ticks": ""
            },
            "type": "choropleth"
           }
          ],
          "contour": [
           {
            "colorbar": {
             "outlinewidth": 0,
             "ticks": ""
            },
            "colorscale": [
             [
              0,
              "#0d0887"
             ],
             [
              0.1111111111111111,
              "#46039f"
             ],
             [
              0.2222222222222222,
              "#7201a8"
             ],
             [
              0.3333333333333333,
              "#9c179e"
             ],
             [
              0.4444444444444444,
              "#bd3786"
             ],
             [
              0.5555555555555556,
              "#d8576b"
             ],
             [
              0.6666666666666666,
              "#ed7953"
             ],
             [
              0.7777777777777778,
              "#fb9f3a"
             ],
             [
              0.8888888888888888,
              "#fdca26"
             ],
             [
              1,
              "#f0f921"
             ]
            ],
            "type": "contour"
           }
          ],
          "contourcarpet": [
           {
            "colorbar": {
             "outlinewidth": 0,
             "ticks": ""
            },
            "type": "contourcarpet"
           }
          ],
          "heatmap": [
           {
            "colorbar": {
             "outlinewidth": 0,
             "ticks": ""
            },
            "colorscale": [
             [
              0,
              "#0d0887"
             ],
             [
              0.1111111111111111,
              "#46039f"
             ],
             [
              0.2222222222222222,
              "#7201a8"
             ],
             [
              0.3333333333333333,
              "#9c179e"
             ],
             [
              0.4444444444444444,
              "#bd3786"
             ],
             [
              0.5555555555555556,
              "#d8576b"
             ],
             [
              0.6666666666666666,
              "#ed7953"
             ],
             [
              0.7777777777777778,
              "#fb9f3a"
             ],
             [
              0.8888888888888888,
              "#fdca26"
             ],
             [
              1,
              "#f0f921"
             ]
            ],
            "type": "heatmap"
           }
          ],
          "heatmapgl": [
           {
            "colorbar": {
             "outlinewidth": 0,
             "ticks": ""
            },
            "colorscale": [
             [
              0,
              "#0d0887"
             ],
             [
              0.1111111111111111,
              "#46039f"
             ],
             [
              0.2222222222222222,
              "#7201a8"
             ],
             [
              0.3333333333333333,
              "#9c179e"
             ],
             [
              0.4444444444444444,
              "#bd3786"
             ],
             [
              0.5555555555555556,
              "#d8576b"
             ],
             [
              0.6666666666666666,
              "#ed7953"
             ],
             [
              0.7777777777777778,
              "#fb9f3a"
             ],
             [
              0.8888888888888888,
              "#fdca26"
             ],
             [
              1,
              "#f0f921"
             ]
            ],
            "type": "heatmapgl"
           }
          ],
          "histogram": [
           {
            "marker": {
             "pattern": {
              "fillmode": "overlay",
              "size": 10,
              "solidity": 0.2
             }
            },
            "type": "histogram"
           }
          ],
          "histogram2d": [
           {
            "colorbar": {
             "outlinewidth": 0,
             "ticks": ""
            },
            "colorscale": [
             [
              0,
              "#0d0887"
             ],
             [
              0.1111111111111111,
              "#46039f"
             ],
             [
              0.2222222222222222,
              "#7201a8"
             ],
             [
              0.3333333333333333,
              "#9c179e"
             ],
             [
              0.4444444444444444,
              "#bd3786"
             ],
             [
              0.5555555555555556,
              "#d8576b"
             ],
             [
              0.6666666666666666,
              "#ed7953"
             ],
             [
              0.7777777777777778,
              "#fb9f3a"
             ],
             [
              0.8888888888888888,
              "#fdca26"
             ],
             [
              1,
              "#f0f921"
             ]
            ],
            "type": "histogram2d"
           }
          ],
          "histogram2dcontour": [
           {
            "colorbar": {
             "outlinewidth": 0,
             "ticks": ""
            },
            "colorscale": [
             [
              0,
              "#0d0887"
             ],
             [
              0.1111111111111111,
              "#46039f"
             ],
             [
              0.2222222222222222,
              "#7201a8"
             ],
             [
              0.3333333333333333,
              "#9c179e"
             ],
             [
              0.4444444444444444,
              "#bd3786"
             ],
             [
              0.5555555555555556,
              "#d8576b"
             ],
             [
              0.6666666666666666,
              "#ed7953"
             ],
             [
              0.7777777777777778,
              "#fb9f3a"
             ],
             [
              0.8888888888888888,
              "#fdca26"
             ],
             [
              1,
              "#f0f921"
             ]
            ],
            "type": "histogram2dcontour"
           }
          ],
          "mesh3d": [
           {
            "colorbar": {
             "outlinewidth": 0,
             "ticks": ""
            },
            "type": "mesh3d"
           }
          ],
          "parcoords": [
           {
            "line": {
             "colorbar": {
              "outlinewidth": 0,
              "ticks": ""
             }
            },
            "type": "parcoords"
           }
          ],
          "pie": [
           {
            "automargin": true,
            "type": "pie"
           }
          ],
          "scatter": [
           {
            "fillpattern": {
             "fillmode": "overlay",
             "size": 10,
             "solidity": 0.2
            },
            "type": "scatter"
           }
          ],
          "scatter3d": [
           {
            "line": {
             "colorbar": {
              "outlinewidth": 0,
              "ticks": ""
             }
            },
            "marker": {
             "colorbar": {
              "outlinewidth": 0,
              "ticks": ""
             }
            },
            "type": "scatter3d"
           }
          ],
          "scattercarpet": [
           {
            "marker": {
             "colorbar": {
              "outlinewidth": 0,
              "ticks": ""
             }
            },
            "type": "scattercarpet"
           }
          ],
          "scattergeo": [
           {
            "marker": {
             "colorbar": {
              "outlinewidth": 0,
              "ticks": ""
             }
            },
            "type": "scattergeo"
           }
          ],
          "scattergl": [
           {
            "marker": {
             "colorbar": {
              "outlinewidth": 0,
              "ticks": ""
             }
            },
            "type": "scattergl"
           }
          ],
          "scattermapbox": [
           {
            "marker": {
             "colorbar": {
              "outlinewidth": 0,
              "ticks": ""
             }
            },
            "type": "scattermapbox"
           }
          ],
          "scatterpolar": [
           {
            "marker": {
             "colorbar": {
              "outlinewidth": 0,
              "ticks": ""
             }
            },
            "type": "scatterpolar"
           }
          ],
          "scatterpolargl": [
           {
            "marker": {
             "colorbar": {
              "outlinewidth": 0,
              "ticks": ""
             }
            },
            "type": "scatterpolargl"
           }
          ],
          "scatterternary": [
           {
            "marker": {
             "colorbar": {
              "outlinewidth": 0,
              "ticks": ""
             }
            },
            "type": "scatterternary"
           }
          ],
          "surface": [
           {
            "colorbar": {
             "outlinewidth": 0,
             "ticks": ""
            },
            "colorscale": [
             [
              0,
              "#0d0887"
             ],
             [
              0.1111111111111111,
              "#46039f"
             ],
             [
              0.2222222222222222,
              "#7201a8"
             ],
             [
              0.3333333333333333,
              "#9c179e"
             ],
             [
              0.4444444444444444,
              "#bd3786"
             ],
             [
              0.5555555555555556,
              "#d8576b"
             ],
             [
              0.6666666666666666,
              "#ed7953"
             ],
             [
              0.7777777777777778,
              "#fb9f3a"
             ],
             [
              0.8888888888888888,
              "#fdca26"
             ],
             [
              1,
              "#f0f921"
             ]
            ],
            "type": "surface"
           }
          ],
          "table": [
           {
            "cells": {
             "fill": {
              "color": "#EBF0F8"
             },
             "line": {
              "color": "white"
             }
            },
            "header": {
             "fill": {
              "color": "#C8D4E3"
             },
             "line": {
              "color": "white"
             }
            },
            "type": "table"
           }
          ]
         },
         "layout": {
          "annotationdefaults": {
           "arrowcolor": "#2a3f5f",
           "arrowhead": 0,
           "arrowwidth": 1
          },
          "autotypenumbers": "strict",
          "coloraxis": {
           "colorbar": {
            "outlinewidth": 0,
            "ticks": ""
           }
          },
          "colorscale": {
           "diverging": [
            [
             0,
             "#8e0152"
            ],
            [
             0.1,
             "#c51b7d"
            ],
            [
             0.2,
             "#de77ae"
            ],
            [
             0.3,
             "#f1b6da"
            ],
            [
             0.4,
             "#fde0ef"
            ],
            [
             0.5,
             "#f7f7f7"
            ],
            [
             0.6,
             "#e6f5d0"
            ],
            [
             0.7,
             "#b8e186"
            ],
            [
             0.8,
             "#7fbc41"
            ],
            [
             0.9,
             "#4d9221"
            ],
            [
             1,
             "#276419"
            ]
           ],
           "sequential": [
            [
             0,
             "#0d0887"
            ],
            [
             0.1111111111111111,
             "#46039f"
            ],
            [
             0.2222222222222222,
             "#7201a8"
            ],
            [
             0.3333333333333333,
             "#9c179e"
            ],
            [
             0.4444444444444444,
             "#bd3786"
            ],
            [
             0.5555555555555556,
             "#d8576b"
            ],
            [
             0.6666666666666666,
             "#ed7953"
            ],
            [
             0.7777777777777778,
             "#fb9f3a"
            ],
            [
             0.8888888888888888,
             "#fdca26"
            ],
            [
             1,
             "#f0f921"
            ]
           ],
           "sequentialminus": [
            [
             0,
             "#0d0887"
            ],
            [
             0.1111111111111111,
             "#46039f"
            ],
            [
             0.2222222222222222,
             "#7201a8"
            ],
            [
             0.3333333333333333,
             "#9c179e"
            ],
            [
             0.4444444444444444,
             "#bd3786"
            ],
            [
             0.5555555555555556,
             "#d8576b"
            ],
            [
             0.6666666666666666,
             "#ed7953"
            ],
            [
             0.7777777777777778,
             "#fb9f3a"
            ],
            [
             0.8888888888888888,
             "#fdca26"
            ],
            [
             1,
             "#f0f921"
            ]
           ]
          },
          "colorway": [
           "#636efa",
           "#EF553B",
           "#00cc96",
           "#ab63fa",
           "#FFA15A",
           "#19d3f3",
           "#FF6692",
           "#B6E880",
           "#FF97FF",
           "#FECB52"
          ],
          "font": {
           "color": "#2a3f5f"
          },
          "geo": {
           "bgcolor": "white",
           "lakecolor": "white",
           "landcolor": "#E5ECF6",
           "showlakes": true,
           "showland": true,
           "subunitcolor": "white"
          },
          "hoverlabel": {
           "align": "left"
          },
          "hovermode": "closest",
          "mapbox": {
           "style": "light"
          },
          "paper_bgcolor": "white",
          "plot_bgcolor": "#E5ECF6",
          "polar": {
           "angularaxis": {
            "gridcolor": "white",
            "linecolor": "white",
            "ticks": ""
           },
           "bgcolor": "#E5ECF6",
           "radialaxis": {
            "gridcolor": "white",
            "linecolor": "white",
            "ticks": ""
           }
          },
          "scene": {
           "xaxis": {
            "backgroundcolor": "#E5ECF6",
            "gridcolor": "white",
            "gridwidth": 2,
            "linecolor": "white",
            "showbackground": true,
            "ticks": "",
            "zerolinecolor": "white"
           },
           "yaxis": {
            "backgroundcolor": "#E5ECF6",
            "gridcolor": "white",
            "gridwidth": 2,
            "linecolor": "white",
            "showbackground": true,
            "ticks": "",
            "zerolinecolor": "white"
           },
           "zaxis": {
            "backgroundcolor": "#E5ECF6",
            "gridcolor": "white",
            "gridwidth": 2,
            "linecolor": "white",
            "showbackground": true,
            "ticks": "",
            "zerolinecolor": "white"
           }
          },
          "shapedefaults": {
           "line": {
            "color": "#2a3f5f"
           }
          },
          "ternary": {
           "aaxis": {
            "gridcolor": "white",
            "linecolor": "white",
            "ticks": ""
           },
           "baxis": {
            "gridcolor": "white",
            "linecolor": "white",
            "ticks": ""
           },
           "bgcolor": "#E5ECF6",
           "caxis": {
            "gridcolor": "white",
            "linecolor": "white",
            "ticks": ""
           }
          },
          "title": {
           "x": 0.05
          },
          "xaxis": {
           "automargin": true,
           "gridcolor": "white",
           "linecolor": "white",
           "ticks": "",
           "title": {
            "standoff": 15
           },
           "zerolinecolor": "white",
           "zerolinewidth": 2
          },
          "yaxis": {
           "automargin": true,
           "gridcolor": "white",
           "linecolor": "white",
           "ticks": "",
           "title": {
            "standoff": 15
           },
           "zerolinecolor": "white",
           "zerolinewidth": 2
          }
         }
        },
        "title": {
         "text": "Estadísticas de las 7 poblaciones con 100 individuos"
        },
        "width": 1600,
        "xaxis": {
         "anchor": "y",
         "domain": [
          0,
          0.2888888888888889
         ],
         "title": {
          "text": "número población"
         }
        },
        "xaxis2": {
         "anchor": "y2",
         "domain": [
          0.35555555555555557,
          0.6444444444444445
         ],
         "title": {
          "text": "número población"
         }
        },
        "xaxis3": {
         "anchor": "y3",
         "domain": [
          0.7111111111111111,
          1
         ],
         "title": {
          "text": "número población"
         }
        },
        "xaxis4": {
         "anchor": "y4",
         "domain": [
          0,
          0.2888888888888889
         ],
         "title": {
          "text": "número población"
         }
        },
        "xaxis5": {
         "anchor": "y5",
         "domain": [
          0.35555555555555557,
          0.6444444444444445
         ],
         "title": {
          "text": "número población"
         }
        },
        "xaxis6": {
         "anchor": "y6",
         "domain": [
          0.7111111111111111,
          1
         ]
        },
        "yaxis": {
         "anchor": "x",
         "domain": [
          0.625,
          1
         ],
         "title": {
          "text": "Costo"
         }
        },
        "yaxis2": {
         "anchor": "x2",
         "domain": [
          0.625,
          1
         ],
         "title": {
          "text": "Costo"
         }
        },
        "yaxis3": {
         "anchor": "x3",
         "domain": [
          0.625,
          1
         ],
         "title": {
          "text": "Costo"
         }
        },
        "yaxis4": {
         "anchor": "x4",
         "domain": [
          0,
          0.375
         ],
         "title": {
          "text": "Costo"
         }
        },
        "yaxis5": {
         "anchor": "x5",
         "domain": [
          0,
          0.375
         ]
        },
        "yaxis6": {
         "anchor": "x6",
         "domain": [
          0,
          0.375
         ],
         "title": {
          "text": "Genes"
         }
        }
       }
      }
     },
     "metadata": {},
     "output_type": "display_data"
    }
   ],
   "source": [
    "POB_FILE = \"files\\\\act_2\\\\poblaciones\\\\pob_7_100.pkl\"\n",
    "pobs = get_poblaciones_iniciales(n=7,tam_pob=100)\n",
    "intial_stats(pobs,f\"Estadísticas de las {7} poblaciones con {100} individuos\")"
   ]
  },
  {
   "cell_type": "code",
   "execution_count": 20,
   "metadata": {},
   "outputs": [
    {
     "name": "stdout",
     "output_type": "stream",
     "text": [
      "Archivo de poblaciones cargado correctamente\n"
     ]
    },
    {
     "data": {
      "application/vnd.plotly.v1+json": {
       "config": {
        "plotlyServerURL": "https://plot.ly"
       },
       "data": [
        {
         "marker": {
          "size": 8,
          "symbol": "star-diamond"
         },
         "mode": "markers+lines",
         "name": "Costo promedio inicial",
         "type": "scatter",
         "x": [
          1,
          2,
          3,
          4,
          5,
          6,
          7,
          8,
          9,
          10
         ],
         "xaxis": "x",
         "y": [
          69711.13,
          68324.31,
          68787.19,
          68655.57,
          68632.07,
          69497.35,
          69601.08,
          69554.43,
          67920.11,
          69001.17
         ],
         "yaxis": "y"
        },
        {
         "marker": {
          "size": 8,
          "symbol": "diamond-x"
         },
         "mode": "markers+lines",
         "name": "Varianza costo",
         "type": "scatter",
         "x": [
          1,
          2,
          3,
          4,
          5,
          6,
          7,
          8,
          9,
          10
         ],
         "xaxis": "x2",
         "y": [
          63045740.48,
          58036863.21,
          55311601.23,
          51505581.59,
          51535800.14,
          49761564.41,
          41876783.41,
          52131548.98,
          58179355.2,
          59048610.38
         ],
         "yaxis": "y2"
        },
        {
         "marker": {
          "size": 8,
          "symbol": "octagon"
         },
         "mode": "markers+lines",
         "name": "Desviación costo",
         "type": "scatter",
         "x": [
          1,
          2,
          3,
          4,
          5,
          6,
          7,
          8,
          9,
          10
         ],
         "xaxis": "x3",
         "y": [
          7940.13,
          7618.19,
          7437.18,
          7176.74,
          7178.84,
          7054.19,
          6471.23,
          7220.22,
          7627.54,
          7684.31
         ],
         "yaxis": "y3"
        },
        {
         "marker": {
          "size": 8,
          "symbol": "bowtie"
         },
         "mode": "markers+lines",
         "name": "Ruta con Menor Distancia",
         "type": "scatter",
         "x": [
          1,
          2,
          3,
          4,
          5,
          6,
          7,
          8,
          9,
          10
         ],
         "xaxis": "x4",
         "y": [
          49577.58,
          47198.9,
          49803.49,
          49022.96,
          51102.17,
          49944.05,
          52257.1,
          50062.69,
          46086.88,
          51322.5
         ],
         "yaxis": "y4"
        },
        {
         "marker": {
          "size": 8,
          "symbol": "bowtie"
         },
         "mode": "markers+lines",
         "name": "Ruta con Mayor Distancia",
         "type": "scatter",
         "x": [
          1,
          2,
          3,
          4,
          5,
          6,
          7,
          8,
          9,
          10
         ],
         "xaxis": "x5",
         "y": [
          85596.84,
          82519.44,
          83019.09,
          82565.13,
          87093.91,
          84041.72,
          84892.59,
          84541.09,
          82902.88,
          85058.76
         ],
         "yaxis": "y5"
        },
        {
         "marker": {
          "size": 8,
          "symbol": "hexagram"
         },
         "mode": "markers+lines",
         "name": "Costo mayor",
         "type": "scatter",
         "x": [
          1,
          2,
          3,
          4,
          5,
          6,
          7,
          8,
          9,
          10
         ],
         "xaxis": "x6",
         "y": [
          16.99,
          16.96,
          16.99,
          16.98,
          17.02,
          17.01,
          17.01,
          16.99,
          16.99,
          17.02
         ],
         "yaxis": "y6"
        }
       ],
       "layout": {
        "annotations": [
         {
          "font": {
           "size": 16
          },
          "showarrow": false,
          "text": "Costo promedio",
          "x": 0.14444444444444446,
          "xanchor": "center",
          "xref": "paper",
          "y": 1,
          "yanchor": "bottom",
          "yref": "paper"
         },
         {
          "font": {
           "size": 16
          },
          "showarrow": false,
          "text": "Varianza del costo",
          "x": 0.5,
          "xanchor": "center",
          "xref": "paper",
          "y": 1,
          "yanchor": "bottom",
          "yref": "paper"
         },
         {
          "font": {
           "size": 16
          },
          "showarrow": false,
          "text": "Desviación estándar",
          "x": 0.8555555555555556,
          "xanchor": "center",
          "xref": "paper",
          "y": 1,
          "yanchor": "bottom",
          "yref": "paper"
         },
         {
          "font": {
           "size": 16
          },
          "showarrow": false,
          "text": "Individuos con menor costo población inicial",
          "x": 0.14444444444444446,
          "xanchor": "center",
          "xref": "paper",
          "y": 0.375,
          "yanchor": "bottom",
          "yref": "paper"
         },
         {
          "font": {
           "size": 16
          },
          "showarrow": false,
          "text": "Individuos mayor costo población inicial",
          "x": 0.5,
          "xanchor": "center",
          "xref": "paper",
          "y": 0.375,
          "yanchor": "bottom",
          "yref": "paper"
         },
         {
          "font": {
           "size": 16
          },
          "showarrow": false,
          "text": "Diversidad de genes",
          "x": 0.8555555555555556,
          "xanchor": "center",
          "xref": "paper",
          "y": 0.375,
          "yanchor": "bottom",
          "yref": "paper"
         }
        ],
        "height": 800,
        "template": {
         "data": {
          "bar": [
           {
            "error_x": {
             "color": "#2a3f5f"
            },
            "error_y": {
             "color": "#2a3f5f"
            },
            "marker": {
             "line": {
              "color": "#E5ECF6",
              "width": 0.5
             },
             "pattern": {
              "fillmode": "overlay",
              "size": 10,
              "solidity": 0.2
             }
            },
            "type": "bar"
           }
          ],
          "barpolar": [
           {
            "marker": {
             "line": {
              "color": "#E5ECF6",
              "width": 0.5
             },
             "pattern": {
              "fillmode": "overlay",
              "size": 10,
              "solidity": 0.2
             }
            },
            "type": "barpolar"
           }
          ],
          "carpet": [
           {
            "aaxis": {
             "endlinecolor": "#2a3f5f",
             "gridcolor": "white",
             "linecolor": "white",
             "minorgridcolor": "white",
             "startlinecolor": "#2a3f5f"
            },
            "baxis": {
             "endlinecolor": "#2a3f5f",
             "gridcolor": "white",
             "linecolor": "white",
             "minorgridcolor": "white",
             "startlinecolor": "#2a3f5f"
            },
            "type": "carpet"
           }
          ],
          "choropleth": [
           {
            "colorbar": {
             "outlinewidth": 0,
             "ticks": ""
            },
            "type": "choropleth"
           }
          ],
          "contour": [
           {
            "colorbar": {
             "outlinewidth": 0,
             "ticks": ""
            },
            "colorscale": [
             [
              0,
              "#0d0887"
             ],
             [
              0.1111111111111111,
              "#46039f"
             ],
             [
              0.2222222222222222,
              "#7201a8"
             ],
             [
              0.3333333333333333,
              "#9c179e"
             ],
             [
              0.4444444444444444,
              "#bd3786"
             ],
             [
              0.5555555555555556,
              "#d8576b"
             ],
             [
              0.6666666666666666,
              "#ed7953"
             ],
             [
              0.7777777777777778,
              "#fb9f3a"
             ],
             [
              0.8888888888888888,
              "#fdca26"
             ],
             [
              1,
              "#f0f921"
             ]
            ],
            "type": "contour"
           }
          ],
          "contourcarpet": [
           {
            "colorbar": {
             "outlinewidth": 0,
             "ticks": ""
            },
            "type": "contourcarpet"
           }
          ],
          "heatmap": [
           {
            "colorbar": {
             "outlinewidth": 0,
             "ticks": ""
            },
            "colorscale": [
             [
              0,
              "#0d0887"
             ],
             [
              0.1111111111111111,
              "#46039f"
             ],
             [
              0.2222222222222222,
              "#7201a8"
             ],
             [
              0.3333333333333333,
              "#9c179e"
             ],
             [
              0.4444444444444444,
              "#bd3786"
             ],
             [
              0.5555555555555556,
              "#d8576b"
             ],
             [
              0.6666666666666666,
              "#ed7953"
             ],
             [
              0.7777777777777778,
              "#fb9f3a"
             ],
             [
              0.8888888888888888,
              "#fdca26"
             ],
             [
              1,
              "#f0f921"
             ]
            ],
            "type": "heatmap"
           }
          ],
          "heatmapgl": [
           {
            "colorbar": {
             "outlinewidth": 0,
             "ticks": ""
            },
            "colorscale": [
             [
              0,
              "#0d0887"
             ],
             [
              0.1111111111111111,
              "#46039f"
             ],
             [
              0.2222222222222222,
              "#7201a8"
             ],
             [
              0.3333333333333333,
              "#9c179e"
             ],
             [
              0.4444444444444444,
              "#bd3786"
             ],
             [
              0.5555555555555556,
              "#d8576b"
             ],
             [
              0.6666666666666666,
              "#ed7953"
             ],
             [
              0.7777777777777778,
              "#fb9f3a"
             ],
             [
              0.8888888888888888,
              "#fdca26"
             ],
             [
              1,
              "#f0f921"
             ]
            ],
            "type": "heatmapgl"
           }
          ],
          "histogram": [
           {
            "marker": {
             "pattern": {
              "fillmode": "overlay",
              "size": 10,
              "solidity": 0.2
             }
            },
            "type": "histogram"
           }
          ],
          "histogram2d": [
           {
            "colorbar": {
             "outlinewidth": 0,
             "ticks": ""
            },
            "colorscale": [
             [
              0,
              "#0d0887"
             ],
             [
              0.1111111111111111,
              "#46039f"
             ],
             [
              0.2222222222222222,
              "#7201a8"
             ],
             [
              0.3333333333333333,
              "#9c179e"
             ],
             [
              0.4444444444444444,
              "#bd3786"
             ],
             [
              0.5555555555555556,
              "#d8576b"
             ],
             [
              0.6666666666666666,
              "#ed7953"
             ],
             [
              0.7777777777777778,
              "#fb9f3a"
             ],
             [
              0.8888888888888888,
              "#fdca26"
             ],
             [
              1,
              "#f0f921"
             ]
            ],
            "type": "histogram2d"
           }
          ],
          "histogram2dcontour": [
           {
            "colorbar": {
             "outlinewidth": 0,
             "ticks": ""
            },
            "colorscale": [
             [
              0,
              "#0d0887"
             ],
             [
              0.1111111111111111,
              "#46039f"
             ],
             [
              0.2222222222222222,
              "#7201a8"
             ],
             [
              0.3333333333333333,
              "#9c179e"
             ],
             [
              0.4444444444444444,
              "#bd3786"
             ],
             [
              0.5555555555555556,
              "#d8576b"
             ],
             [
              0.6666666666666666,
              "#ed7953"
             ],
             [
              0.7777777777777778,
              "#fb9f3a"
             ],
             [
              0.8888888888888888,
              "#fdca26"
             ],
             [
              1,
              "#f0f921"
             ]
            ],
            "type": "histogram2dcontour"
           }
          ],
          "mesh3d": [
           {
            "colorbar": {
             "outlinewidth": 0,
             "ticks": ""
            },
            "type": "mesh3d"
           }
          ],
          "parcoords": [
           {
            "line": {
             "colorbar": {
              "outlinewidth": 0,
              "ticks": ""
             }
            },
            "type": "parcoords"
           }
          ],
          "pie": [
           {
            "automargin": true,
            "type": "pie"
           }
          ],
          "scatter": [
           {
            "fillpattern": {
             "fillmode": "overlay",
             "size": 10,
             "solidity": 0.2
            },
            "type": "scatter"
           }
          ],
          "scatter3d": [
           {
            "line": {
             "colorbar": {
              "outlinewidth": 0,
              "ticks": ""
             }
            },
            "marker": {
             "colorbar": {
              "outlinewidth": 0,
              "ticks": ""
             }
            },
            "type": "scatter3d"
           }
          ],
          "scattercarpet": [
           {
            "marker": {
             "colorbar": {
              "outlinewidth": 0,
              "ticks": ""
             }
            },
            "type": "scattercarpet"
           }
          ],
          "scattergeo": [
           {
            "marker": {
             "colorbar": {
              "outlinewidth": 0,
              "ticks": ""
             }
            },
            "type": "scattergeo"
           }
          ],
          "scattergl": [
           {
            "marker": {
             "colorbar": {
              "outlinewidth": 0,
              "ticks": ""
             }
            },
            "type": "scattergl"
           }
          ],
          "scattermapbox": [
           {
            "marker": {
             "colorbar": {
              "outlinewidth": 0,
              "ticks": ""
             }
            },
            "type": "scattermapbox"
           }
          ],
          "scatterpolar": [
           {
            "marker": {
             "colorbar": {
              "outlinewidth": 0,
              "ticks": ""
             }
            },
            "type": "scatterpolar"
           }
          ],
          "scatterpolargl": [
           {
            "marker": {
             "colorbar": {
              "outlinewidth": 0,
              "ticks": ""
             }
            },
            "type": "scatterpolargl"
           }
          ],
          "scatterternary": [
           {
            "marker": {
             "colorbar": {
              "outlinewidth": 0,
              "ticks": ""
             }
            },
            "type": "scatterternary"
           }
          ],
          "surface": [
           {
            "colorbar": {
             "outlinewidth": 0,
             "ticks": ""
            },
            "colorscale": [
             [
              0,
              "#0d0887"
             ],
             [
              0.1111111111111111,
              "#46039f"
             ],
             [
              0.2222222222222222,
              "#7201a8"
             ],
             [
              0.3333333333333333,
              "#9c179e"
             ],
             [
              0.4444444444444444,
              "#bd3786"
             ],
             [
              0.5555555555555556,
              "#d8576b"
             ],
             [
              0.6666666666666666,
              "#ed7953"
             ],
             [
              0.7777777777777778,
              "#fb9f3a"
             ],
             [
              0.8888888888888888,
              "#fdca26"
             ],
             [
              1,
              "#f0f921"
             ]
            ],
            "type": "surface"
           }
          ],
          "table": [
           {
            "cells": {
             "fill": {
              "color": "#EBF0F8"
             },
             "line": {
              "color": "white"
             }
            },
            "header": {
             "fill": {
              "color": "#C8D4E3"
             },
             "line": {
              "color": "white"
             }
            },
            "type": "table"
           }
          ]
         },
         "layout": {
          "annotationdefaults": {
           "arrowcolor": "#2a3f5f",
           "arrowhead": 0,
           "arrowwidth": 1
          },
          "autotypenumbers": "strict",
          "coloraxis": {
           "colorbar": {
            "outlinewidth": 0,
            "ticks": ""
           }
          },
          "colorscale": {
           "diverging": [
            [
             0,
             "#8e0152"
            ],
            [
             0.1,
             "#c51b7d"
            ],
            [
             0.2,
             "#de77ae"
            ],
            [
             0.3,
             "#f1b6da"
            ],
            [
             0.4,
             "#fde0ef"
            ],
            [
             0.5,
             "#f7f7f7"
            ],
            [
             0.6,
             "#e6f5d0"
            ],
            [
             0.7,
             "#b8e186"
            ],
            [
             0.8,
             "#7fbc41"
            ],
            [
             0.9,
             "#4d9221"
            ],
            [
             1,
             "#276419"
            ]
           ],
           "sequential": [
            [
             0,
             "#0d0887"
            ],
            [
             0.1111111111111111,
             "#46039f"
            ],
            [
             0.2222222222222222,
             "#7201a8"
            ],
            [
             0.3333333333333333,
             "#9c179e"
            ],
            [
             0.4444444444444444,
             "#bd3786"
            ],
            [
             0.5555555555555556,
             "#d8576b"
            ],
            [
             0.6666666666666666,
             "#ed7953"
            ],
            [
             0.7777777777777778,
             "#fb9f3a"
            ],
            [
             0.8888888888888888,
             "#fdca26"
            ],
            [
             1,
             "#f0f921"
            ]
           ],
           "sequentialminus": [
            [
             0,
             "#0d0887"
            ],
            [
             0.1111111111111111,
             "#46039f"
            ],
            [
             0.2222222222222222,
             "#7201a8"
            ],
            [
             0.3333333333333333,
             "#9c179e"
            ],
            [
             0.4444444444444444,
             "#bd3786"
            ],
            [
             0.5555555555555556,
             "#d8576b"
            ],
            [
             0.6666666666666666,
             "#ed7953"
            ],
            [
             0.7777777777777778,
             "#fb9f3a"
            ],
            [
             0.8888888888888888,
             "#fdca26"
            ],
            [
             1,
             "#f0f921"
            ]
           ]
          },
          "colorway": [
           "#636efa",
           "#EF553B",
           "#00cc96",
           "#ab63fa",
           "#FFA15A",
           "#19d3f3",
           "#FF6692",
           "#B6E880",
           "#FF97FF",
           "#FECB52"
          ],
          "font": {
           "color": "#2a3f5f"
          },
          "geo": {
           "bgcolor": "white",
           "lakecolor": "white",
           "landcolor": "#E5ECF6",
           "showlakes": true,
           "showland": true,
           "subunitcolor": "white"
          },
          "hoverlabel": {
           "align": "left"
          },
          "hovermode": "closest",
          "mapbox": {
           "style": "light"
          },
          "paper_bgcolor": "white",
          "plot_bgcolor": "#E5ECF6",
          "polar": {
           "angularaxis": {
            "gridcolor": "white",
            "linecolor": "white",
            "ticks": ""
           },
           "bgcolor": "#E5ECF6",
           "radialaxis": {
            "gridcolor": "white",
            "linecolor": "white",
            "ticks": ""
           }
          },
          "scene": {
           "xaxis": {
            "backgroundcolor": "#E5ECF6",
            "gridcolor": "white",
            "gridwidth": 2,
            "linecolor": "white",
            "showbackground": true,
            "ticks": "",
            "zerolinecolor": "white"
           },
           "yaxis": {
            "backgroundcolor": "#E5ECF6",
            "gridcolor": "white",
            "gridwidth": 2,
            "linecolor": "white",
            "showbackground": true,
            "ticks": "",
            "zerolinecolor": "white"
           },
           "zaxis": {
            "backgroundcolor": "#E5ECF6",
            "gridcolor": "white",
            "gridwidth": 2,
            "linecolor": "white",
            "showbackground": true,
            "ticks": "",
            "zerolinecolor": "white"
           }
          },
          "shapedefaults": {
           "line": {
            "color": "#2a3f5f"
           }
          },
          "ternary": {
           "aaxis": {
            "gridcolor": "white",
            "linecolor": "white",
            "ticks": ""
           },
           "baxis": {
            "gridcolor": "white",
            "linecolor": "white",
            "ticks": ""
           },
           "bgcolor": "#E5ECF6",
           "caxis": {
            "gridcolor": "white",
            "linecolor": "white",
            "ticks": ""
           }
          },
          "title": {
           "x": 0.05
          },
          "xaxis": {
           "automargin": true,
           "gridcolor": "white",
           "linecolor": "white",
           "ticks": "",
           "title": {
            "standoff": 15
           },
           "zerolinecolor": "white",
           "zerolinewidth": 2
          },
          "yaxis": {
           "automargin": true,
           "gridcolor": "white",
           "linecolor": "white",
           "ticks": "",
           "title": {
            "standoff": 15
           },
           "zerolinecolor": "white",
           "zerolinewidth": 2
          }
         }
        },
        "title": {
         "text": "Estadísticas de las 10 poblaciones con 100 individuos"
        },
        "width": 1600,
        "xaxis": {
         "anchor": "y",
         "domain": [
          0,
          0.2888888888888889
         ],
         "title": {
          "text": "número población"
         }
        },
        "xaxis2": {
         "anchor": "y2",
         "domain": [
          0.35555555555555557,
          0.6444444444444445
         ],
         "title": {
          "text": "número población"
         }
        },
        "xaxis3": {
         "anchor": "y3",
         "domain": [
          0.7111111111111111,
          1
         ],
         "title": {
          "text": "número población"
         }
        },
        "xaxis4": {
         "anchor": "y4",
         "domain": [
          0,
          0.2888888888888889
         ],
         "title": {
          "text": "número población"
         }
        },
        "xaxis5": {
         "anchor": "y5",
         "domain": [
          0.35555555555555557,
          0.6444444444444445
         ],
         "title": {
          "text": "número población"
         }
        },
        "xaxis6": {
         "anchor": "y6",
         "domain": [
          0.7111111111111111,
          1
         ]
        },
        "yaxis": {
         "anchor": "x",
         "domain": [
          0.625,
          1
         ],
         "title": {
          "text": "Costo"
         }
        },
        "yaxis2": {
         "anchor": "x2",
         "domain": [
          0.625,
          1
         ],
         "title": {
          "text": "Costo"
         }
        },
        "yaxis3": {
         "anchor": "x3",
         "domain": [
          0.625,
          1
         ],
         "title": {
          "text": "Costo"
         }
        },
        "yaxis4": {
         "anchor": "x4",
         "domain": [
          0,
          0.375
         ],
         "title": {
          "text": "Costo"
         }
        },
        "yaxis5": {
         "anchor": "x5",
         "domain": [
          0,
          0.375
         ]
        },
        "yaxis6": {
         "anchor": "x6",
         "domain": [
          0,
          0.375
         ],
         "title": {
          "text": "Genes"
         }
        }
       }
      }
     },
     "metadata": {},
     "output_type": "display_data"
    }
   ],
   "source": [
    "POB_FILE = \"files\\\\act_2\\\\poblaciones\\\\pob_10_100.pkl\"\n",
    "pobs = get_poblaciones_iniciales(n=10,tam_pob=100)\n",
    "intial_stats(pobs,f\"Estadísticas de las {10} poblaciones con {100} individuos\")"
   ]
  },
  {
   "cell_type": "code",
   "execution_count": 21,
   "metadata": {},
   "outputs": [
    {
     "name": "stdout",
     "output_type": "stream",
     "text": [
      "Archivo de poblaciones cargado correctamente\n"
     ]
    },
    {
     "data": {
      "application/vnd.plotly.v1+json": {
       "config": {
        "plotlyServerURL": "https://plot.ly"
       },
       "data": [
        {
         "marker": {
          "size": 8,
          "symbol": "star-diamond"
         },
         "mode": "markers+lines",
         "name": "Costo promedio inicial",
         "type": "scatter",
         "x": [
          1,
          2,
          3,
          4,
          5
         ],
         "xaxis": "x",
         "y": [
          69142.52,
          69232.63,
          68989.31,
          69485.73,
          69520.89
         ],
         "yaxis": "y"
        },
        {
         "marker": {
          "size": 8,
          "symbol": "diamond-x"
         },
         "mode": "markers+lines",
         "name": "Varianza costo",
         "type": "scatter",
         "x": [
          1,
          2,
          3,
          4,
          5
         ],
         "xaxis": "x2",
         "y": [
          61901709.89,
          54926473.4,
          57031778.42,
          51250480.31,
          50975216.15
         ],
         "yaxis": "y2"
        },
        {
         "marker": {
          "size": 8,
          "symbol": "octagon"
         },
         "mode": "markers+lines",
         "name": "Desviación costo",
         "type": "scatter",
         "x": [
          1,
          2,
          3,
          4,
          5
         ],
         "xaxis": "x3",
         "y": [
          7867.76,
          7411.24,
          7551.94,
          7158.94,
          7139.69
         ],
         "yaxis": "y3"
        },
        {
         "marker": {
          "size": 8,
          "symbol": "bowtie"
         },
         "mode": "markers+lines",
         "name": "Ruta con Menor Distancia",
         "type": "scatter",
         "x": [
          1,
          2,
          3,
          4,
          5
         ],
         "xaxis": "x4",
         "y": [
          47303.49,
          44468.76,
          48315.89,
          48737.3,
          44125
         ],
         "yaxis": "y4"
        },
        {
         "marker": {
          "size": 8,
          "symbol": "bowtie"
         },
         "mode": "markers+lines",
         "name": "Ruta con Mayor Distancia",
         "type": "scatter",
         "x": [
          1,
          2,
          3,
          4,
          5
         ],
         "xaxis": "x5",
         "y": [
          84682.25,
          86045.47,
          86011.72,
          85533.03,
          84837.71
         ],
         "yaxis": "y5"
        },
        {
         "marker": {
          "size": 8,
          "symbol": "hexagram"
         },
         "mode": "markers+lines",
         "name": "Costo mayor",
         "type": "scatter",
         "x": [
          1,
          2,
          3,
          4,
          5
         ],
         "xaxis": "x6",
         "y": [
          16.99,
          17,
          16.99,
          17,
          17
         ],
         "yaxis": "y6"
        }
       ],
       "layout": {
        "annotations": [
         {
          "font": {
           "size": 16
          },
          "showarrow": false,
          "text": "Costo promedio",
          "x": 0.14444444444444446,
          "xanchor": "center",
          "xref": "paper",
          "y": 1,
          "yanchor": "bottom",
          "yref": "paper"
         },
         {
          "font": {
           "size": 16
          },
          "showarrow": false,
          "text": "Varianza del costo",
          "x": 0.5,
          "xanchor": "center",
          "xref": "paper",
          "y": 1,
          "yanchor": "bottom",
          "yref": "paper"
         },
         {
          "font": {
           "size": 16
          },
          "showarrow": false,
          "text": "Desviación estándar",
          "x": 0.8555555555555556,
          "xanchor": "center",
          "xref": "paper",
          "y": 1,
          "yanchor": "bottom",
          "yref": "paper"
         },
         {
          "font": {
           "size": 16
          },
          "showarrow": false,
          "text": "Individuos con menor costo población inicial",
          "x": 0.14444444444444446,
          "xanchor": "center",
          "xref": "paper",
          "y": 0.375,
          "yanchor": "bottom",
          "yref": "paper"
         },
         {
          "font": {
           "size": 16
          },
          "showarrow": false,
          "text": "Individuos mayor costo población inicial",
          "x": 0.5,
          "xanchor": "center",
          "xref": "paper",
          "y": 0.375,
          "yanchor": "bottom",
          "yref": "paper"
         },
         {
          "font": {
           "size": 16
          },
          "showarrow": false,
          "text": "Diversidad de genes",
          "x": 0.8555555555555556,
          "xanchor": "center",
          "xref": "paper",
          "y": 0.375,
          "yanchor": "bottom",
          "yref": "paper"
         }
        ],
        "height": 800,
        "template": {
         "data": {
          "bar": [
           {
            "error_x": {
             "color": "#2a3f5f"
            },
            "error_y": {
             "color": "#2a3f5f"
            },
            "marker": {
             "line": {
              "color": "#E5ECF6",
              "width": 0.5
             },
             "pattern": {
              "fillmode": "overlay",
              "size": 10,
              "solidity": 0.2
             }
            },
            "type": "bar"
           }
          ],
          "barpolar": [
           {
            "marker": {
             "line": {
              "color": "#E5ECF6",
              "width": 0.5
             },
             "pattern": {
              "fillmode": "overlay",
              "size": 10,
              "solidity": 0.2
             }
            },
            "type": "barpolar"
           }
          ],
          "carpet": [
           {
            "aaxis": {
             "endlinecolor": "#2a3f5f",
             "gridcolor": "white",
             "linecolor": "white",
             "minorgridcolor": "white",
             "startlinecolor": "#2a3f5f"
            },
            "baxis": {
             "endlinecolor": "#2a3f5f",
             "gridcolor": "white",
             "linecolor": "white",
             "minorgridcolor": "white",
             "startlinecolor": "#2a3f5f"
            },
            "type": "carpet"
           }
          ],
          "choropleth": [
           {
            "colorbar": {
             "outlinewidth": 0,
             "ticks": ""
            },
            "type": "choropleth"
           }
          ],
          "contour": [
           {
            "colorbar": {
             "outlinewidth": 0,
             "ticks": ""
            },
            "colorscale": [
             [
              0,
              "#0d0887"
             ],
             [
              0.1111111111111111,
              "#46039f"
             ],
             [
              0.2222222222222222,
              "#7201a8"
             ],
             [
              0.3333333333333333,
              "#9c179e"
             ],
             [
              0.4444444444444444,
              "#bd3786"
             ],
             [
              0.5555555555555556,
              "#d8576b"
             ],
             [
              0.6666666666666666,
              "#ed7953"
             ],
             [
              0.7777777777777778,
              "#fb9f3a"
             ],
             [
              0.8888888888888888,
              "#fdca26"
             ],
             [
              1,
              "#f0f921"
             ]
            ],
            "type": "contour"
           }
          ],
          "contourcarpet": [
           {
            "colorbar": {
             "outlinewidth": 0,
             "ticks": ""
            },
            "type": "contourcarpet"
           }
          ],
          "heatmap": [
           {
            "colorbar": {
             "outlinewidth": 0,
             "ticks": ""
            },
            "colorscale": [
             [
              0,
              "#0d0887"
             ],
             [
              0.1111111111111111,
              "#46039f"
             ],
             [
              0.2222222222222222,
              "#7201a8"
             ],
             [
              0.3333333333333333,
              "#9c179e"
             ],
             [
              0.4444444444444444,
              "#bd3786"
             ],
             [
              0.5555555555555556,
              "#d8576b"
             ],
             [
              0.6666666666666666,
              "#ed7953"
             ],
             [
              0.7777777777777778,
              "#fb9f3a"
             ],
             [
              0.8888888888888888,
              "#fdca26"
             ],
             [
              1,
              "#f0f921"
             ]
            ],
            "type": "heatmap"
           }
          ],
          "heatmapgl": [
           {
            "colorbar": {
             "outlinewidth": 0,
             "ticks": ""
            },
            "colorscale": [
             [
              0,
              "#0d0887"
             ],
             [
              0.1111111111111111,
              "#46039f"
             ],
             [
              0.2222222222222222,
              "#7201a8"
             ],
             [
              0.3333333333333333,
              "#9c179e"
             ],
             [
              0.4444444444444444,
              "#bd3786"
             ],
             [
              0.5555555555555556,
              "#d8576b"
             ],
             [
              0.6666666666666666,
              "#ed7953"
             ],
             [
              0.7777777777777778,
              "#fb9f3a"
             ],
             [
              0.8888888888888888,
              "#fdca26"
             ],
             [
              1,
              "#f0f921"
             ]
            ],
            "type": "heatmapgl"
           }
          ],
          "histogram": [
           {
            "marker": {
             "pattern": {
              "fillmode": "overlay",
              "size": 10,
              "solidity": 0.2
             }
            },
            "type": "histogram"
           }
          ],
          "histogram2d": [
           {
            "colorbar": {
             "outlinewidth": 0,
             "ticks": ""
            },
            "colorscale": [
             [
              0,
              "#0d0887"
             ],
             [
              0.1111111111111111,
              "#46039f"
             ],
             [
              0.2222222222222222,
              "#7201a8"
             ],
             [
              0.3333333333333333,
              "#9c179e"
             ],
             [
              0.4444444444444444,
              "#bd3786"
             ],
             [
              0.5555555555555556,
              "#d8576b"
             ],
             [
              0.6666666666666666,
              "#ed7953"
             ],
             [
              0.7777777777777778,
              "#fb9f3a"
             ],
             [
              0.8888888888888888,
              "#fdca26"
             ],
             [
              1,
              "#f0f921"
             ]
            ],
            "type": "histogram2d"
           }
          ],
          "histogram2dcontour": [
           {
            "colorbar": {
             "outlinewidth": 0,
             "ticks": ""
            },
            "colorscale": [
             [
              0,
              "#0d0887"
             ],
             [
              0.1111111111111111,
              "#46039f"
             ],
             [
              0.2222222222222222,
              "#7201a8"
             ],
             [
              0.3333333333333333,
              "#9c179e"
             ],
             [
              0.4444444444444444,
              "#bd3786"
             ],
             [
              0.5555555555555556,
              "#d8576b"
             ],
             [
              0.6666666666666666,
              "#ed7953"
             ],
             [
              0.7777777777777778,
              "#fb9f3a"
             ],
             [
              0.8888888888888888,
              "#fdca26"
             ],
             [
              1,
              "#f0f921"
             ]
            ],
            "type": "histogram2dcontour"
           }
          ],
          "mesh3d": [
           {
            "colorbar": {
             "outlinewidth": 0,
             "ticks": ""
            },
            "type": "mesh3d"
           }
          ],
          "parcoords": [
           {
            "line": {
             "colorbar": {
              "outlinewidth": 0,
              "ticks": ""
             }
            },
            "type": "parcoords"
           }
          ],
          "pie": [
           {
            "automargin": true,
            "type": "pie"
           }
          ],
          "scatter": [
           {
            "fillpattern": {
             "fillmode": "overlay",
             "size": 10,
             "solidity": 0.2
            },
            "type": "scatter"
           }
          ],
          "scatter3d": [
           {
            "line": {
             "colorbar": {
              "outlinewidth": 0,
              "ticks": ""
             }
            },
            "marker": {
             "colorbar": {
              "outlinewidth": 0,
              "ticks": ""
             }
            },
            "type": "scatter3d"
           }
          ],
          "scattercarpet": [
           {
            "marker": {
             "colorbar": {
              "outlinewidth": 0,
              "ticks": ""
             }
            },
            "type": "scattercarpet"
           }
          ],
          "scattergeo": [
           {
            "marker": {
             "colorbar": {
              "outlinewidth": 0,
              "ticks": ""
             }
            },
            "type": "scattergeo"
           }
          ],
          "scattergl": [
           {
            "marker": {
             "colorbar": {
              "outlinewidth": 0,
              "ticks": ""
             }
            },
            "type": "scattergl"
           }
          ],
          "scattermapbox": [
           {
            "marker": {
             "colorbar": {
              "outlinewidth": 0,
              "ticks": ""
             }
            },
            "type": "scattermapbox"
           }
          ],
          "scatterpolar": [
           {
            "marker": {
             "colorbar": {
              "outlinewidth": 0,
              "ticks": ""
             }
            },
            "type": "scatterpolar"
           }
          ],
          "scatterpolargl": [
           {
            "marker": {
             "colorbar": {
              "outlinewidth": 0,
              "ticks": ""
             }
            },
            "type": "scatterpolargl"
           }
          ],
          "scatterternary": [
           {
            "marker": {
             "colorbar": {
              "outlinewidth": 0,
              "ticks": ""
             }
            },
            "type": "scatterternary"
           }
          ],
          "surface": [
           {
            "colorbar": {
             "outlinewidth": 0,
             "ticks": ""
            },
            "colorscale": [
             [
              0,
              "#0d0887"
             ],
             [
              0.1111111111111111,
              "#46039f"
             ],
             [
              0.2222222222222222,
              "#7201a8"
             ],
             [
              0.3333333333333333,
              "#9c179e"
             ],
             [
              0.4444444444444444,
              "#bd3786"
             ],
             [
              0.5555555555555556,
              "#d8576b"
             ],
             [
              0.6666666666666666,
              "#ed7953"
             ],
             [
              0.7777777777777778,
              "#fb9f3a"
             ],
             [
              0.8888888888888888,
              "#fdca26"
             ],
             [
              1,
              "#f0f921"
             ]
            ],
            "type": "surface"
           }
          ],
          "table": [
           {
            "cells": {
             "fill": {
              "color": "#EBF0F8"
             },
             "line": {
              "color": "white"
             }
            },
            "header": {
             "fill": {
              "color": "#C8D4E3"
             },
             "line": {
              "color": "white"
             }
            },
            "type": "table"
           }
          ]
         },
         "layout": {
          "annotationdefaults": {
           "arrowcolor": "#2a3f5f",
           "arrowhead": 0,
           "arrowwidth": 1
          },
          "autotypenumbers": "strict",
          "coloraxis": {
           "colorbar": {
            "outlinewidth": 0,
            "ticks": ""
           }
          },
          "colorscale": {
           "diverging": [
            [
             0,
             "#8e0152"
            ],
            [
             0.1,
             "#c51b7d"
            ],
            [
             0.2,
             "#de77ae"
            ],
            [
             0.3,
             "#f1b6da"
            ],
            [
             0.4,
             "#fde0ef"
            ],
            [
             0.5,
             "#f7f7f7"
            ],
            [
             0.6,
             "#e6f5d0"
            ],
            [
             0.7,
             "#b8e186"
            ],
            [
             0.8,
             "#7fbc41"
            ],
            [
             0.9,
             "#4d9221"
            ],
            [
             1,
             "#276419"
            ]
           ],
           "sequential": [
            [
             0,
             "#0d0887"
            ],
            [
             0.1111111111111111,
             "#46039f"
            ],
            [
             0.2222222222222222,
             "#7201a8"
            ],
            [
             0.3333333333333333,
             "#9c179e"
            ],
            [
             0.4444444444444444,
             "#bd3786"
            ],
            [
             0.5555555555555556,
             "#d8576b"
            ],
            [
             0.6666666666666666,
             "#ed7953"
            ],
            [
             0.7777777777777778,
             "#fb9f3a"
            ],
            [
             0.8888888888888888,
             "#fdca26"
            ],
            [
             1,
             "#f0f921"
            ]
           ],
           "sequentialminus": [
            [
             0,
             "#0d0887"
            ],
            [
             0.1111111111111111,
             "#46039f"
            ],
            [
             0.2222222222222222,
             "#7201a8"
            ],
            [
             0.3333333333333333,
             "#9c179e"
            ],
            [
             0.4444444444444444,
             "#bd3786"
            ],
            [
             0.5555555555555556,
             "#d8576b"
            ],
            [
             0.6666666666666666,
             "#ed7953"
            ],
            [
             0.7777777777777778,
             "#fb9f3a"
            ],
            [
             0.8888888888888888,
             "#fdca26"
            ],
            [
             1,
             "#f0f921"
            ]
           ]
          },
          "colorway": [
           "#636efa",
           "#EF553B",
           "#00cc96",
           "#ab63fa",
           "#FFA15A",
           "#19d3f3",
           "#FF6692",
           "#B6E880",
           "#FF97FF",
           "#FECB52"
          ],
          "font": {
           "color": "#2a3f5f"
          },
          "geo": {
           "bgcolor": "white",
           "lakecolor": "white",
           "landcolor": "#E5ECF6",
           "showlakes": true,
           "showland": true,
           "subunitcolor": "white"
          },
          "hoverlabel": {
           "align": "left"
          },
          "hovermode": "closest",
          "mapbox": {
           "style": "light"
          },
          "paper_bgcolor": "white",
          "plot_bgcolor": "#E5ECF6",
          "polar": {
           "angularaxis": {
            "gridcolor": "white",
            "linecolor": "white",
            "ticks": ""
           },
           "bgcolor": "#E5ECF6",
           "radialaxis": {
            "gridcolor": "white",
            "linecolor": "white",
            "ticks": ""
           }
          },
          "scene": {
           "xaxis": {
            "backgroundcolor": "#E5ECF6",
            "gridcolor": "white",
            "gridwidth": 2,
            "linecolor": "white",
            "showbackground": true,
            "ticks": "",
            "zerolinecolor": "white"
           },
           "yaxis": {
            "backgroundcolor": "#E5ECF6",
            "gridcolor": "white",
            "gridwidth": 2,
            "linecolor": "white",
            "showbackground": true,
            "ticks": "",
            "zerolinecolor": "white"
           },
           "zaxis": {
            "backgroundcolor": "#E5ECF6",
            "gridcolor": "white",
            "gridwidth": 2,
            "linecolor": "white",
            "showbackground": true,
            "ticks": "",
            "zerolinecolor": "white"
           }
          },
          "shapedefaults": {
           "line": {
            "color": "#2a3f5f"
           }
          },
          "ternary": {
           "aaxis": {
            "gridcolor": "white",
            "linecolor": "white",
            "ticks": ""
           },
           "baxis": {
            "gridcolor": "white",
            "linecolor": "white",
            "ticks": ""
           },
           "bgcolor": "#E5ECF6",
           "caxis": {
            "gridcolor": "white",
            "linecolor": "white",
            "ticks": ""
           }
          },
          "title": {
           "x": 0.05
          },
          "xaxis": {
           "automargin": true,
           "gridcolor": "white",
           "linecolor": "white",
           "ticks": "",
           "title": {
            "standoff": 15
           },
           "zerolinecolor": "white",
           "zerolinewidth": 2
          },
          "yaxis": {
           "automargin": true,
           "gridcolor": "white",
           "linecolor": "white",
           "ticks": "",
           "title": {
            "standoff": 15
           },
           "zerolinecolor": "white",
           "zerolinewidth": 2
          }
         }
        },
        "title": {
         "text": "Estadísticas de las 5 poblaciones con 250 individuos"
        },
        "width": 1600,
        "xaxis": {
         "anchor": "y",
         "domain": [
          0,
          0.2888888888888889
         ],
         "title": {
          "text": "número población"
         }
        },
        "xaxis2": {
         "anchor": "y2",
         "domain": [
          0.35555555555555557,
          0.6444444444444445
         ],
         "title": {
          "text": "número población"
         }
        },
        "xaxis3": {
         "anchor": "y3",
         "domain": [
          0.7111111111111111,
          1
         ],
         "title": {
          "text": "número población"
         }
        },
        "xaxis4": {
         "anchor": "y4",
         "domain": [
          0,
          0.2888888888888889
         ],
         "title": {
          "text": "número población"
         }
        },
        "xaxis5": {
         "anchor": "y5",
         "domain": [
          0.35555555555555557,
          0.6444444444444445
         ],
         "title": {
          "text": "número población"
         }
        },
        "xaxis6": {
         "anchor": "y6",
         "domain": [
          0.7111111111111111,
          1
         ]
        },
        "yaxis": {
         "anchor": "x",
         "domain": [
          0.625,
          1
         ],
         "title": {
          "text": "Costo"
         }
        },
        "yaxis2": {
         "anchor": "x2",
         "domain": [
          0.625,
          1
         ],
         "title": {
          "text": "Costo"
         }
        },
        "yaxis3": {
         "anchor": "x3",
         "domain": [
          0.625,
          1
         ],
         "title": {
          "text": "Costo"
         }
        },
        "yaxis4": {
         "anchor": "x4",
         "domain": [
          0,
          0.375
         ],
         "title": {
          "text": "Costo"
         }
        },
        "yaxis5": {
         "anchor": "x5",
         "domain": [
          0,
          0.375
         ]
        },
        "yaxis6": {
         "anchor": "x6",
         "domain": [
          0,
          0.375
         ],
         "title": {
          "text": "Genes"
         }
        }
       }
      }
     },
     "metadata": {},
     "output_type": "display_data"
    }
   ],
   "source": [
    "POB_FILE = \"files\\\\act_2\\\\poblaciones\\\\pob_5_250.pkl\"\n",
    "pobs = get_poblaciones_iniciales(n=5,tam_pob=250)\n",
    "intial_stats(pobs,f\"Estadísticas de las {5} poblaciones con {250} individuos\")"
   ]
  },
  {
   "cell_type": "code",
   "execution_count": 22,
   "metadata": {},
   "outputs": [
    {
     "name": "stdout",
     "output_type": "stream",
     "text": [
      "Archivo de poblaciones cargado correctamente\n"
     ]
    },
    {
     "data": {
      "application/vnd.plotly.v1+json": {
       "config": {
        "plotlyServerURL": "https://plot.ly"
       },
       "data": [
        {
         "marker": {
          "size": 8,
          "symbol": "star-diamond"
         },
         "mode": "markers+lines",
         "name": "Costo promedio inicial",
         "type": "scatter",
         "x": [
          1,
          2,
          3,
          4,
          5,
          6,
          7
         ],
         "xaxis": "x",
         "y": [
          70021.8,
          69360.71,
          69230.47,
          69331.72,
          68976.89,
          69193.24,
          68899.89
         ],
         "yaxis": "y"
        },
        {
         "marker": {
          "size": 8,
          "symbol": "diamond-x"
         },
         "mode": "markers+lines",
         "name": "Varianza costo",
         "type": "scatter",
         "x": [
          1,
          2,
          3,
          4,
          5,
          6,
          7
         ],
         "xaxis": "x2",
         "y": [
          50081300.07,
          49211912.94,
          61178065.66,
          67262723.27,
          59045222.46,
          52501533.7,
          54171341.19
         ],
         "yaxis": "y2"
        },
        {
         "marker": {
          "size": 8,
          "symbol": "octagon"
         },
         "mode": "markers+lines",
         "name": "Desviación costo",
         "type": "scatter",
         "x": [
          1,
          2,
          3,
          4,
          5,
          6,
          7
         ],
         "xaxis": "x3",
         "y": [
          7076.81,
          7015.12,
          7821.64,
          8201.39,
          7684.09,
          7245.79,
          7360.12
         ],
         "yaxis": "y3"
        },
        {
         "marker": {
          "size": 8,
          "symbol": "bowtie"
         },
         "mode": "markers+lines",
         "name": "Ruta con Menor Distancia",
         "type": "scatter",
         "x": [
          1,
          2,
          3,
          4,
          5,
          6,
          7
         ],
         "xaxis": "x4",
         "y": [
          45829.07,
          50260.3,
          44645.69,
          44427.27,
          41643.57,
          46591.81,
          45693.9
         ],
         "yaxis": "y4"
        },
        {
         "marker": {
          "size": 8,
          "symbol": "bowtie"
         },
         "mode": "markers+lines",
         "name": "Ruta con Mayor Distancia",
         "type": "scatter",
         "x": [
          1,
          2,
          3,
          4,
          5,
          6,
          7
         ],
         "xaxis": "x5",
         "y": [
          84487.56,
          88604.92,
          85535.16,
          85490.7,
          90233.34,
          83113.49,
          81930.64
         ],
         "yaxis": "y5"
        },
        {
         "marker": {
          "size": 8,
          "symbol": "hexagram"
         },
         "mode": "markers+lines",
         "name": "Costo mayor",
         "type": "scatter",
         "x": [
          1,
          2,
          3,
          4,
          5,
          6,
          7
         ],
         "xaxis": "x6",
         "y": [
          17.01,
          16.99,
          17,
          17,
          17,
          17,
          17
         ],
         "yaxis": "y6"
        }
       ],
       "layout": {
        "annotations": [
         {
          "font": {
           "size": 16
          },
          "showarrow": false,
          "text": "Costo promedio",
          "x": 0.14444444444444446,
          "xanchor": "center",
          "xref": "paper",
          "y": 1,
          "yanchor": "bottom",
          "yref": "paper"
         },
         {
          "font": {
           "size": 16
          },
          "showarrow": false,
          "text": "Varianza del costo",
          "x": 0.5,
          "xanchor": "center",
          "xref": "paper",
          "y": 1,
          "yanchor": "bottom",
          "yref": "paper"
         },
         {
          "font": {
           "size": 16
          },
          "showarrow": false,
          "text": "Desviación estándar",
          "x": 0.8555555555555556,
          "xanchor": "center",
          "xref": "paper",
          "y": 1,
          "yanchor": "bottom",
          "yref": "paper"
         },
         {
          "font": {
           "size": 16
          },
          "showarrow": false,
          "text": "Individuos con menor costo población inicial",
          "x": 0.14444444444444446,
          "xanchor": "center",
          "xref": "paper",
          "y": 0.375,
          "yanchor": "bottom",
          "yref": "paper"
         },
         {
          "font": {
           "size": 16
          },
          "showarrow": false,
          "text": "Individuos mayor costo población inicial",
          "x": 0.5,
          "xanchor": "center",
          "xref": "paper",
          "y": 0.375,
          "yanchor": "bottom",
          "yref": "paper"
         },
         {
          "font": {
           "size": 16
          },
          "showarrow": false,
          "text": "Diversidad de genes",
          "x": 0.8555555555555556,
          "xanchor": "center",
          "xref": "paper",
          "y": 0.375,
          "yanchor": "bottom",
          "yref": "paper"
         }
        ],
        "height": 800,
        "template": {
         "data": {
          "bar": [
           {
            "error_x": {
             "color": "#2a3f5f"
            },
            "error_y": {
             "color": "#2a3f5f"
            },
            "marker": {
             "line": {
              "color": "#E5ECF6",
              "width": 0.5
             },
             "pattern": {
              "fillmode": "overlay",
              "size": 10,
              "solidity": 0.2
             }
            },
            "type": "bar"
           }
          ],
          "barpolar": [
           {
            "marker": {
             "line": {
              "color": "#E5ECF6",
              "width": 0.5
             },
             "pattern": {
              "fillmode": "overlay",
              "size": 10,
              "solidity": 0.2
             }
            },
            "type": "barpolar"
           }
          ],
          "carpet": [
           {
            "aaxis": {
             "endlinecolor": "#2a3f5f",
             "gridcolor": "white",
             "linecolor": "white",
             "minorgridcolor": "white",
             "startlinecolor": "#2a3f5f"
            },
            "baxis": {
             "endlinecolor": "#2a3f5f",
             "gridcolor": "white",
             "linecolor": "white",
             "minorgridcolor": "white",
             "startlinecolor": "#2a3f5f"
            },
            "type": "carpet"
           }
          ],
          "choropleth": [
           {
            "colorbar": {
             "outlinewidth": 0,
             "ticks": ""
            },
            "type": "choropleth"
           }
          ],
          "contour": [
           {
            "colorbar": {
             "outlinewidth": 0,
             "ticks": ""
            },
            "colorscale": [
             [
              0,
              "#0d0887"
             ],
             [
              0.1111111111111111,
              "#46039f"
             ],
             [
              0.2222222222222222,
              "#7201a8"
             ],
             [
              0.3333333333333333,
              "#9c179e"
             ],
             [
              0.4444444444444444,
              "#bd3786"
             ],
             [
              0.5555555555555556,
              "#d8576b"
             ],
             [
              0.6666666666666666,
              "#ed7953"
             ],
             [
              0.7777777777777778,
              "#fb9f3a"
             ],
             [
              0.8888888888888888,
              "#fdca26"
             ],
             [
              1,
              "#f0f921"
             ]
            ],
            "type": "contour"
           }
          ],
          "contourcarpet": [
           {
            "colorbar": {
             "outlinewidth": 0,
             "ticks": ""
            },
            "type": "contourcarpet"
           }
          ],
          "heatmap": [
           {
            "colorbar": {
             "outlinewidth": 0,
             "ticks": ""
            },
            "colorscale": [
             [
              0,
              "#0d0887"
             ],
             [
              0.1111111111111111,
              "#46039f"
             ],
             [
              0.2222222222222222,
              "#7201a8"
             ],
             [
              0.3333333333333333,
              "#9c179e"
             ],
             [
              0.4444444444444444,
              "#bd3786"
             ],
             [
              0.5555555555555556,
              "#d8576b"
             ],
             [
              0.6666666666666666,
              "#ed7953"
             ],
             [
              0.7777777777777778,
              "#fb9f3a"
             ],
             [
              0.8888888888888888,
              "#fdca26"
             ],
             [
              1,
              "#f0f921"
             ]
            ],
            "type": "heatmap"
           }
          ],
          "heatmapgl": [
           {
            "colorbar": {
             "outlinewidth": 0,
             "ticks": ""
            },
            "colorscale": [
             [
              0,
              "#0d0887"
             ],
             [
              0.1111111111111111,
              "#46039f"
             ],
             [
              0.2222222222222222,
              "#7201a8"
             ],
             [
              0.3333333333333333,
              "#9c179e"
             ],
             [
              0.4444444444444444,
              "#bd3786"
             ],
             [
              0.5555555555555556,
              "#d8576b"
             ],
             [
              0.6666666666666666,
              "#ed7953"
             ],
             [
              0.7777777777777778,
              "#fb9f3a"
             ],
             [
              0.8888888888888888,
              "#fdca26"
             ],
             [
              1,
              "#f0f921"
             ]
            ],
            "type": "heatmapgl"
           }
          ],
          "histogram": [
           {
            "marker": {
             "pattern": {
              "fillmode": "overlay",
              "size": 10,
              "solidity": 0.2
             }
            },
            "type": "histogram"
           }
          ],
          "histogram2d": [
           {
            "colorbar": {
             "outlinewidth": 0,
             "ticks": ""
            },
            "colorscale": [
             [
              0,
              "#0d0887"
             ],
             [
              0.1111111111111111,
              "#46039f"
             ],
             [
              0.2222222222222222,
              "#7201a8"
             ],
             [
              0.3333333333333333,
              "#9c179e"
             ],
             [
              0.4444444444444444,
              "#bd3786"
             ],
             [
              0.5555555555555556,
              "#d8576b"
             ],
             [
              0.6666666666666666,
              "#ed7953"
             ],
             [
              0.7777777777777778,
              "#fb9f3a"
             ],
             [
              0.8888888888888888,
              "#fdca26"
             ],
             [
              1,
              "#f0f921"
             ]
            ],
            "type": "histogram2d"
           }
          ],
          "histogram2dcontour": [
           {
            "colorbar": {
             "outlinewidth": 0,
             "ticks": ""
            },
            "colorscale": [
             [
              0,
              "#0d0887"
             ],
             [
              0.1111111111111111,
              "#46039f"
             ],
             [
              0.2222222222222222,
              "#7201a8"
             ],
             [
              0.3333333333333333,
              "#9c179e"
             ],
             [
              0.4444444444444444,
              "#bd3786"
             ],
             [
              0.5555555555555556,
              "#d8576b"
             ],
             [
              0.6666666666666666,
              "#ed7953"
             ],
             [
              0.7777777777777778,
              "#fb9f3a"
             ],
             [
              0.8888888888888888,
              "#fdca26"
             ],
             [
              1,
              "#f0f921"
             ]
            ],
            "type": "histogram2dcontour"
           }
          ],
          "mesh3d": [
           {
            "colorbar": {
             "outlinewidth": 0,
             "ticks": ""
            },
            "type": "mesh3d"
           }
          ],
          "parcoords": [
           {
            "line": {
             "colorbar": {
              "outlinewidth": 0,
              "ticks": ""
             }
            },
            "type": "parcoords"
           }
          ],
          "pie": [
           {
            "automargin": true,
            "type": "pie"
           }
          ],
          "scatter": [
           {
            "fillpattern": {
             "fillmode": "overlay",
             "size": 10,
             "solidity": 0.2
            },
            "type": "scatter"
           }
          ],
          "scatter3d": [
           {
            "line": {
             "colorbar": {
              "outlinewidth": 0,
              "ticks": ""
             }
            },
            "marker": {
             "colorbar": {
              "outlinewidth": 0,
              "ticks": ""
             }
            },
            "type": "scatter3d"
           }
          ],
          "scattercarpet": [
           {
            "marker": {
             "colorbar": {
              "outlinewidth": 0,
              "ticks": ""
             }
            },
            "type": "scattercarpet"
           }
          ],
          "scattergeo": [
           {
            "marker": {
             "colorbar": {
              "outlinewidth": 0,
              "ticks": ""
             }
            },
            "type": "scattergeo"
           }
          ],
          "scattergl": [
           {
            "marker": {
             "colorbar": {
              "outlinewidth": 0,
              "ticks": ""
             }
            },
            "type": "scattergl"
           }
          ],
          "scattermapbox": [
           {
            "marker": {
             "colorbar": {
              "outlinewidth": 0,
              "ticks": ""
             }
            },
            "type": "scattermapbox"
           }
          ],
          "scatterpolar": [
           {
            "marker": {
             "colorbar": {
              "outlinewidth": 0,
              "ticks": ""
             }
            },
            "type": "scatterpolar"
           }
          ],
          "scatterpolargl": [
           {
            "marker": {
             "colorbar": {
              "outlinewidth": 0,
              "ticks": ""
             }
            },
            "type": "scatterpolargl"
           }
          ],
          "scatterternary": [
           {
            "marker": {
             "colorbar": {
              "outlinewidth": 0,
              "ticks": ""
             }
            },
            "type": "scatterternary"
           }
          ],
          "surface": [
           {
            "colorbar": {
             "outlinewidth": 0,
             "ticks": ""
            },
            "colorscale": [
             [
              0,
              "#0d0887"
             ],
             [
              0.1111111111111111,
              "#46039f"
             ],
             [
              0.2222222222222222,
              "#7201a8"
             ],
             [
              0.3333333333333333,
              "#9c179e"
             ],
             [
              0.4444444444444444,
              "#bd3786"
             ],
             [
              0.5555555555555556,
              "#d8576b"
             ],
             [
              0.6666666666666666,
              "#ed7953"
             ],
             [
              0.7777777777777778,
              "#fb9f3a"
             ],
             [
              0.8888888888888888,
              "#fdca26"
             ],
             [
              1,
              "#f0f921"
             ]
            ],
            "type": "surface"
           }
          ],
          "table": [
           {
            "cells": {
             "fill": {
              "color": "#EBF0F8"
             },
             "line": {
              "color": "white"
             }
            },
            "header": {
             "fill": {
              "color": "#C8D4E3"
             },
             "line": {
              "color": "white"
             }
            },
            "type": "table"
           }
          ]
         },
         "layout": {
          "annotationdefaults": {
           "arrowcolor": "#2a3f5f",
           "arrowhead": 0,
           "arrowwidth": 1
          },
          "autotypenumbers": "strict",
          "coloraxis": {
           "colorbar": {
            "outlinewidth": 0,
            "ticks": ""
           }
          },
          "colorscale": {
           "diverging": [
            [
             0,
             "#8e0152"
            ],
            [
             0.1,
             "#c51b7d"
            ],
            [
             0.2,
             "#de77ae"
            ],
            [
             0.3,
             "#f1b6da"
            ],
            [
             0.4,
             "#fde0ef"
            ],
            [
             0.5,
             "#f7f7f7"
            ],
            [
             0.6,
             "#e6f5d0"
            ],
            [
             0.7,
             "#b8e186"
            ],
            [
             0.8,
             "#7fbc41"
            ],
            [
             0.9,
             "#4d9221"
            ],
            [
             1,
             "#276419"
            ]
           ],
           "sequential": [
            [
             0,
             "#0d0887"
            ],
            [
             0.1111111111111111,
             "#46039f"
            ],
            [
             0.2222222222222222,
             "#7201a8"
            ],
            [
             0.3333333333333333,
             "#9c179e"
            ],
            [
             0.4444444444444444,
             "#bd3786"
            ],
            [
             0.5555555555555556,
             "#d8576b"
            ],
            [
             0.6666666666666666,
             "#ed7953"
            ],
            [
             0.7777777777777778,
             "#fb9f3a"
            ],
            [
             0.8888888888888888,
             "#fdca26"
            ],
            [
             1,
             "#f0f921"
            ]
           ],
           "sequentialminus": [
            [
             0,
             "#0d0887"
            ],
            [
             0.1111111111111111,
             "#46039f"
            ],
            [
             0.2222222222222222,
             "#7201a8"
            ],
            [
             0.3333333333333333,
             "#9c179e"
            ],
            [
             0.4444444444444444,
             "#bd3786"
            ],
            [
             0.5555555555555556,
             "#d8576b"
            ],
            [
             0.6666666666666666,
             "#ed7953"
            ],
            [
             0.7777777777777778,
             "#fb9f3a"
            ],
            [
             0.8888888888888888,
             "#fdca26"
            ],
            [
             1,
             "#f0f921"
            ]
           ]
          },
          "colorway": [
           "#636efa",
           "#EF553B",
           "#00cc96",
           "#ab63fa",
           "#FFA15A",
           "#19d3f3",
           "#FF6692",
           "#B6E880",
           "#FF97FF",
           "#FECB52"
          ],
          "font": {
           "color": "#2a3f5f"
          },
          "geo": {
           "bgcolor": "white",
           "lakecolor": "white",
           "landcolor": "#E5ECF6",
           "showlakes": true,
           "showland": true,
           "subunitcolor": "white"
          },
          "hoverlabel": {
           "align": "left"
          },
          "hovermode": "closest",
          "mapbox": {
           "style": "light"
          },
          "paper_bgcolor": "white",
          "plot_bgcolor": "#E5ECF6",
          "polar": {
           "angularaxis": {
            "gridcolor": "white",
            "linecolor": "white",
            "ticks": ""
           },
           "bgcolor": "#E5ECF6",
           "radialaxis": {
            "gridcolor": "white",
            "linecolor": "white",
            "ticks": ""
           }
          },
          "scene": {
           "xaxis": {
            "backgroundcolor": "#E5ECF6",
            "gridcolor": "white",
            "gridwidth": 2,
            "linecolor": "white",
            "showbackground": true,
            "ticks": "",
            "zerolinecolor": "white"
           },
           "yaxis": {
            "backgroundcolor": "#E5ECF6",
            "gridcolor": "white",
            "gridwidth": 2,
            "linecolor": "white",
            "showbackground": true,
            "ticks": "",
            "zerolinecolor": "white"
           },
           "zaxis": {
            "backgroundcolor": "#E5ECF6",
            "gridcolor": "white",
            "gridwidth": 2,
            "linecolor": "white",
            "showbackground": true,
            "ticks": "",
            "zerolinecolor": "white"
           }
          },
          "shapedefaults": {
           "line": {
            "color": "#2a3f5f"
           }
          },
          "ternary": {
           "aaxis": {
            "gridcolor": "white",
            "linecolor": "white",
            "ticks": ""
           },
           "baxis": {
            "gridcolor": "white",
            "linecolor": "white",
            "ticks": ""
           },
           "bgcolor": "#E5ECF6",
           "caxis": {
            "gridcolor": "white",
            "linecolor": "white",
            "ticks": ""
           }
          },
          "title": {
           "x": 0.05
          },
          "xaxis": {
           "automargin": true,
           "gridcolor": "white",
           "linecolor": "white",
           "ticks": "",
           "title": {
            "standoff": 15
           },
           "zerolinecolor": "white",
           "zerolinewidth": 2
          },
          "yaxis": {
           "automargin": true,
           "gridcolor": "white",
           "linecolor": "white",
           "ticks": "",
           "title": {
            "standoff": 15
           },
           "zerolinecolor": "white",
           "zerolinewidth": 2
          }
         }
        },
        "title": {
         "text": "Estadísticas de las 7 poblaciones con 250 individuos"
        },
        "width": 1600,
        "xaxis": {
         "anchor": "y",
         "domain": [
          0,
          0.2888888888888889
         ],
         "title": {
          "text": "número población"
         }
        },
        "xaxis2": {
         "anchor": "y2",
         "domain": [
          0.35555555555555557,
          0.6444444444444445
         ],
         "title": {
          "text": "número población"
         }
        },
        "xaxis3": {
         "anchor": "y3",
         "domain": [
          0.7111111111111111,
          1
         ],
         "title": {
          "text": "número población"
         }
        },
        "xaxis4": {
         "anchor": "y4",
         "domain": [
          0,
          0.2888888888888889
         ],
         "title": {
          "text": "número población"
         }
        },
        "xaxis5": {
         "anchor": "y5",
         "domain": [
          0.35555555555555557,
          0.6444444444444445
         ],
         "title": {
          "text": "número población"
         }
        },
        "xaxis6": {
         "anchor": "y6",
         "domain": [
          0.7111111111111111,
          1
         ]
        },
        "yaxis": {
         "anchor": "x",
         "domain": [
          0.625,
          1
         ],
         "title": {
          "text": "Costo"
         }
        },
        "yaxis2": {
         "anchor": "x2",
         "domain": [
          0.625,
          1
         ],
         "title": {
          "text": "Costo"
         }
        },
        "yaxis3": {
         "anchor": "x3",
         "domain": [
          0.625,
          1
         ],
         "title": {
          "text": "Costo"
         }
        },
        "yaxis4": {
         "anchor": "x4",
         "domain": [
          0,
          0.375
         ],
         "title": {
          "text": "Costo"
         }
        },
        "yaxis5": {
         "anchor": "x5",
         "domain": [
          0,
          0.375
         ]
        },
        "yaxis6": {
         "anchor": "x6",
         "domain": [
          0,
          0.375
         ],
         "title": {
          "text": "Genes"
         }
        }
       }
      }
     },
     "metadata": {},
     "output_type": "display_data"
    }
   ],
   "source": [
    "POB_FILE = \"files\\\\act_2\\\\poblaciones\\\\pob_7_250.pkl\"\n",
    "pobs = get_poblaciones_iniciales(n=7,tam_pob=250)\n",
    "intial_stats(pobs,f\"Estadísticas de las {7} poblaciones con {250} individuos\")"
   ]
  },
  {
   "cell_type": "code",
   "execution_count": 23,
   "metadata": {},
   "outputs": [
    {
     "name": "stdout",
     "output_type": "stream",
     "text": [
      "Archivo de poblaciones cargado correctamente\n"
     ]
    },
    {
     "data": {
      "application/vnd.plotly.v1+json": {
       "config": {
        "plotlyServerURL": "https://plot.ly"
       },
       "data": [
        {
         "marker": {
          "size": 8,
          "symbol": "star-diamond"
         },
         "mode": "markers+lines",
         "name": "Costo promedio inicial",
         "type": "scatter",
         "x": [
          1,
          2,
          3,
          4,
          5,
          6,
          7,
          8,
          9,
          10
         ],
         "xaxis": "x",
         "y": [
          69542.41,
          68692.95,
          69007.56,
          69264.47,
          68982.12,
          69543.7,
          68834.93,
          69115.71,
          68600.82,
          68541.94
         ],
         "yaxis": "y"
        },
        {
         "marker": {
          "size": 8,
          "symbol": "diamond-x"
         },
         "mode": "markers+lines",
         "name": "Varianza costo",
         "type": "scatter",
         "x": [
          1,
          2,
          3,
          4,
          5,
          6,
          7,
          8,
          9,
          10
         ],
         "xaxis": "x2",
         "y": [
          51576225.59,
          59785942.86,
          52725251.81,
          48297628.46,
          62338778.34,
          64118050.76,
          65590657.47,
          54557295.87,
          59837134.44,
          57786652.42
         ],
         "yaxis": "y2"
        },
        {
         "marker": {
          "size": 8,
          "symbol": "octagon"
         },
         "mode": "markers+lines",
         "name": "Desviación costo",
         "type": "scatter",
         "x": [
          1,
          2,
          3,
          4,
          5,
          6,
          7,
          8,
          9,
          10
         ],
         "xaxis": "x3",
         "y": [
          7181.66,
          7732.14,
          7261.22,
          6949.65,
          7895.49,
          8007.37,
          8098.81,
          7386.29,
          7735.45,
          7601.75
         ],
         "yaxis": "y3"
        },
        {
         "marker": {
          "size": 8,
          "symbol": "bowtie"
         },
         "mode": "markers+lines",
         "name": "Ruta con Menor Distancia",
         "type": "scatter",
         "x": [
          1,
          2,
          3,
          4,
          5,
          6,
          7,
          8,
          9,
          10
         ],
         "xaxis": "x4",
         "y": [
          42767.32,
          47343.41,
          47077.27,
          47917.54,
          50577.94,
          42542.66,
          47943.22,
          47031.36,
          45995.56,
          51083.23
         ],
         "yaxis": "y4"
        },
        {
         "marker": {
          "size": 8,
          "symbol": "bowtie"
         },
         "mode": "markers+lines",
         "name": "Ruta con Mayor Distancia",
         "type": "scatter",
         "x": [
          1,
          2,
          3,
          4,
          5,
          6,
          7,
          8,
          9,
          10
         ],
         "xaxis": "x5",
         "y": [
          88155.46,
          84426.07,
          83861.77,
          87600.34,
          86981.45,
          85444.07,
          86684.33,
          85095.54,
          87604.77,
          83375.06
         ],
         "yaxis": "y5"
        },
        {
         "marker": {
          "size": 8,
          "symbol": "hexagram"
         },
         "mode": "markers+lines",
         "name": "Costo mayor",
         "type": "scatter",
         "x": [
          1,
          2,
          3,
          4,
          5,
          6,
          7,
          8,
          9,
          10
         ],
         "xaxis": "x6",
         "y": [
          17.01,
          17.01,
          17,
          17.01,
          17,
          17,
          17,
          17,
          16.99,
          17
         ],
         "yaxis": "y6"
        }
       ],
       "layout": {
        "annotations": [
         {
          "font": {
           "size": 16
          },
          "showarrow": false,
          "text": "Costo promedio",
          "x": 0.14444444444444446,
          "xanchor": "center",
          "xref": "paper",
          "y": 1,
          "yanchor": "bottom",
          "yref": "paper"
         },
         {
          "font": {
           "size": 16
          },
          "showarrow": false,
          "text": "Varianza del costo",
          "x": 0.5,
          "xanchor": "center",
          "xref": "paper",
          "y": 1,
          "yanchor": "bottom",
          "yref": "paper"
         },
         {
          "font": {
           "size": 16
          },
          "showarrow": false,
          "text": "Desviación estándar",
          "x": 0.8555555555555556,
          "xanchor": "center",
          "xref": "paper",
          "y": 1,
          "yanchor": "bottom",
          "yref": "paper"
         },
         {
          "font": {
           "size": 16
          },
          "showarrow": false,
          "text": "Individuos con menor costo población inicial",
          "x": 0.14444444444444446,
          "xanchor": "center",
          "xref": "paper",
          "y": 0.375,
          "yanchor": "bottom",
          "yref": "paper"
         },
         {
          "font": {
           "size": 16
          },
          "showarrow": false,
          "text": "Individuos mayor costo población inicial",
          "x": 0.5,
          "xanchor": "center",
          "xref": "paper",
          "y": 0.375,
          "yanchor": "bottom",
          "yref": "paper"
         },
         {
          "font": {
           "size": 16
          },
          "showarrow": false,
          "text": "Diversidad de genes",
          "x": 0.8555555555555556,
          "xanchor": "center",
          "xref": "paper",
          "y": 0.375,
          "yanchor": "bottom",
          "yref": "paper"
         }
        ],
        "height": 800,
        "template": {
         "data": {
          "bar": [
           {
            "error_x": {
             "color": "#2a3f5f"
            },
            "error_y": {
             "color": "#2a3f5f"
            },
            "marker": {
             "line": {
              "color": "#E5ECF6",
              "width": 0.5
             },
             "pattern": {
              "fillmode": "overlay",
              "size": 10,
              "solidity": 0.2
             }
            },
            "type": "bar"
           }
          ],
          "barpolar": [
           {
            "marker": {
             "line": {
              "color": "#E5ECF6",
              "width": 0.5
             },
             "pattern": {
              "fillmode": "overlay",
              "size": 10,
              "solidity": 0.2
             }
            },
            "type": "barpolar"
           }
          ],
          "carpet": [
           {
            "aaxis": {
             "endlinecolor": "#2a3f5f",
             "gridcolor": "white",
             "linecolor": "white",
             "minorgridcolor": "white",
             "startlinecolor": "#2a3f5f"
            },
            "baxis": {
             "endlinecolor": "#2a3f5f",
             "gridcolor": "white",
             "linecolor": "white",
             "minorgridcolor": "white",
             "startlinecolor": "#2a3f5f"
            },
            "type": "carpet"
           }
          ],
          "choropleth": [
           {
            "colorbar": {
             "outlinewidth": 0,
             "ticks": ""
            },
            "type": "choropleth"
           }
          ],
          "contour": [
           {
            "colorbar": {
             "outlinewidth": 0,
             "ticks": ""
            },
            "colorscale": [
             [
              0,
              "#0d0887"
             ],
             [
              0.1111111111111111,
              "#46039f"
             ],
             [
              0.2222222222222222,
              "#7201a8"
             ],
             [
              0.3333333333333333,
              "#9c179e"
             ],
             [
              0.4444444444444444,
              "#bd3786"
             ],
             [
              0.5555555555555556,
              "#d8576b"
             ],
             [
              0.6666666666666666,
              "#ed7953"
             ],
             [
              0.7777777777777778,
              "#fb9f3a"
             ],
             [
              0.8888888888888888,
              "#fdca26"
             ],
             [
              1,
              "#f0f921"
             ]
            ],
            "type": "contour"
           }
          ],
          "contourcarpet": [
           {
            "colorbar": {
             "outlinewidth": 0,
             "ticks": ""
            },
            "type": "contourcarpet"
           }
          ],
          "heatmap": [
           {
            "colorbar": {
             "outlinewidth": 0,
             "ticks": ""
            },
            "colorscale": [
             [
              0,
              "#0d0887"
             ],
             [
              0.1111111111111111,
              "#46039f"
             ],
             [
              0.2222222222222222,
              "#7201a8"
             ],
             [
              0.3333333333333333,
              "#9c179e"
             ],
             [
              0.4444444444444444,
              "#bd3786"
             ],
             [
              0.5555555555555556,
              "#d8576b"
             ],
             [
              0.6666666666666666,
              "#ed7953"
             ],
             [
              0.7777777777777778,
              "#fb9f3a"
             ],
             [
              0.8888888888888888,
              "#fdca26"
             ],
             [
              1,
              "#f0f921"
             ]
            ],
            "type": "heatmap"
           }
          ],
          "heatmapgl": [
           {
            "colorbar": {
             "outlinewidth": 0,
             "ticks": ""
            },
            "colorscale": [
             [
              0,
              "#0d0887"
             ],
             [
              0.1111111111111111,
              "#46039f"
             ],
             [
              0.2222222222222222,
              "#7201a8"
             ],
             [
              0.3333333333333333,
              "#9c179e"
             ],
             [
              0.4444444444444444,
              "#bd3786"
             ],
             [
              0.5555555555555556,
              "#d8576b"
             ],
             [
              0.6666666666666666,
              "#ed7953"
             ],
             [
              0.7777777777777778,
              "#fb9f3a"
             ],
             [
              0.8888888888888888,
              "#fdca26"
             ],
             [
              1,
              "#f0f921"
             ]
            ],
            "type": "heatmapgl"
           }
          ],
          "histogram": [
           {
            "marker": {
             "pattern": {
              "fillmode": "overlay",
              "size": 10,
              "solidity": 0.2
             }
            },
            "type": "histogram"
           }
          ],
          "histogram2d": [
           {
            "colorbar": {
             "outlinewidth": 0,
             "ticks": ""
            },
            "colorscale": [
             [
              0,
              "#0d0887"
             ],
             [
              0.1111111111111111,
              "#46039f"
             ],
             [
              0.2222222222222222,
              "#7201a8"
             ],
             [
              0.3333333333333333,
              "#9c179e"
             ],
             [
              0.4444444444444444,
              "#bd3786"
             ],
             [
              0.5555555555555556,
              "#d8576b"
             ],
             [
              0.6666666666666666,
              "#ed7953"
             ],
             [
              0.7777777777777778,
              "#fb9f3a"
             ],
             [
              0.8888888888888888,
              "#fdca26"
             ],
             [
              1,
              "#f0f921"
             ]
            ],
            "type": "histogram2d"
           }
          ],
          "histogram2dcontour": [
           {
            "colorbar": {
             "outlinewidth": 0,
             "ticks": ""
            },
            "colorscale": [
             [
              0,
              "#0d0887"
             ],
             [
              0.1111111111111111,
              "#46039f"
             ],
             [
              0.2222222222222222,
              "#7201a8"
             ],
             [
              0.3333333333333333,
              "#9c179e"
             ],
             [
              0.4444444444444444,
              "#bd3786"
             ],
             [
              0.5555555555555556,
              "#d8576b"
             ],
             [
              0.6666666666666666,
              "#ed7953"
             ],
             [
              0.7777777777777778,
              "#fb9f3a"
             ],
             [
              0.8888888888888888,
              "#fdca26"
             ],
             [
              1,
              "#f0f921"
             ]
            ],
            "type": "histogram2dcontour"
           }
          ],
          "mesh3d": [
           {
            "colorbar": {
             "outlinewidth": 0,
             "ticks": ""
            },
            "type": "mesh3d"
           }
          ],
          "parcoords": [
           {
            "line": {
             "colorbar": {
              "outlinewidth": 0,
              "ticks": ""
             }
            },
            "type": "parcoords"
           }
          ],
          "pie": [
           {
            "automargin": true,
            "type": "pie"
           }
          ],
          "scatter": [
           {
            "fillpattern": {
             "fillmode": "overlay",
             "size": 10,
             "solidity": 0.2
            },
            "type": "scatter"
           }
          ],
          "scatter3d": [
           {
            "line": {
             "colorbar": {
              "outlinewidth": 0,
              "ticks": ""
             }
            },
            "marker": {
             "colorbar": {
              "outlinewidth": 0,
              "ticks": ""
             }
            },
            "type": "scatter3d"
           }
          ],
          "scattercarpet": [
           {
            "marker": {
             "colorbar": {
              "outlinewidth": 0,
              "ticks": ""
             }
            },
            "type": "scattercarpet"
           }
          ],
          "scattergeo": [
           {
            "marker": {
             "colorbar": {
              "outlinewidth": 0,
              "ticks": ""
             }
            },
            "type": "scattergeo"
           }
          ],
          "scattergl": [
           {
            "marker": {
             "colorbar": {
              "outlinewidth": 0,
              "ticks": ""
             }
            },
            "type": "scattergl"
           }
          ],
          "scattermapbox": [
           {
            "marker": {
             "colorbar": {
              "outlinewidth": 0,
              "ticks": ""
             }
            },
            "type": "scattermapbox"
           }
          ],
          "scatterpolar": [
           {
            "marker": {
             "colorbar": {
              "outlinewidth": 0,
              "ticks": ""
             }
            },
            "type": "scatterpolar"
           }
          ],
          "scatterpolargl": [
           {
            "marker": {
             "colorbar": {
              "outlinewidth": 0,
              "ticks": ""
             }
            },
            "type": "scatterpolargl"
           }
          ],
          "scatterternary": [
           {
            "marker": {
             "colorbar": {
              "outlinewidth": 0,
              "ticks": ""
             }
            },
            "type": "scatterternary"
           }
          ],
          "surface": [
           {
            "colorbar": {
             "outlinewidth": 0,
             "ticks": ""
            },
            "colorscale": [
             [
              0,
              "#0d0887"
             ],
             [
              0.1111111111111111,
              "#46039f"
             ],
             [
              0.2222222222222222,
              "#7201a8"
             ],
             [
              0.3333333333333333,
              "#9c179e"
             ],
             [
              0.4444444444444444,
              "#bd3786"
             ],
             [
              0.5555555555555556,
              "#d8576b"
             ],
             [
              0.6666666666666666,
              "#ed7953"
             ],
             [
              0.7777777777777778,
              "#fb9f3a"
             ],
             [
              0.8888888888888888,
              "#fdca26"
             ],
             [
              1,
              "#f0f921"
             ]
            ],
            "type": "surface"
           }
          ],
          "table": [
           {
            "cells": {
             "fill": {
              "color": "#EBF0F8"
             },
             "line": {
              "color": "white"
             }
            },
            "header": {
             "fill": {
              "color": "#C8D4E3"
             },
             "line": {
              "color": "white"
             }
            },
            "type": "table"
           }
          ]
         },
         "layout": {
          "annotationdefaults": {
           "arrowcolor": "#2a3f5f",
           "arrowhead": 0,
           "arrowwidth": 1
          },
          "autotypenumbers": "strict",
          "coloraxis": {
           "colorbar": {
            "outlinewidth": 0,
            "ticks": ""
           }
          },
          "colorscale": {
           "diverging": [
            [
             0,
             "#8e0152"
            ],
            [
             0.1,
             "#c51b7d"
            ],
            [
             0.2,
             "#de77ae"
            ],
            [
             0.3,
             "#f1b6da"
            ],
            [
             0.4,
             "#fde0ef"
            ],
            [
             0.5,
             "#f7f7f7"
            ],
            [
             0.6,
             "#e6f5d0"
            ],
            [
             0.7,
             "#b8e186"
            ],
            [
             0.8,
             "#7fbc41"
            ],
            [
             0.9,
             "#4d9221"
            ],
            [
             1,
             "#276419"
            ]
           ],
           "sequential": [
            [
             0,
             "#0d0887"
            ],
            [
             0.1111111111111111,
             "#46039f"
            ],
            [
             0.2222222222222222,
             "#7201a8"
            ],
            [
             0.3333333333333333,
             "#9c179e"
            ],
            [
             0.4444444444444444,
             "#bd3786"
            ],
            [
             0.5555555555555556,
             "#d8576b"
            ],
            [
             0.6666666666666666,
             "#ed7953"
            ],
            [
             0.7777777777777778,
             "#fb9f3a"
            ],
            [
             0.8888888888888888,
             "#fdca26"
            ],
            [
             1,
             "#f0f921"
            ]
           ],
           "sequentialminus": [
            [
             0,
             "#0d0887"
            ],
            [
             0.1111111111111111,
             "#46039f"
            ],
            [
             0.2222222222222222,
             "#7201a8"
            ],
            [
             0.3333333333333333,
             "#9c179e"
            ],
            [
             0.4444444444444444,
             "#bd3786"
            ],
            [
             0.5555555555555556,
             "#d8576b"
            ],
            [
             0.6666666666666666,
             "#ed7953"
            ],
            [
             0.7777777777777778,
             "#fb9f3a"
            ],
            [
             0.8888888888888888,
             "#fdca26"
            ],
            [
             1,
             "#f0f921"
            ]
           ]
          },
          "colorway": [
           "#636efa",
           "#EF553B",
           "#00cc96",
           "#ab63fa",
           "#FFA15A",
           "#19d3f3",
           "#FF6692",
           "#B6E880",
           "#FF97FF",
           "#FECB52"
          ],
          "font": {
           "color": "#2a3f5f"
          },
          "geo": {
           "bgcolor": "white",
           "lakecolor": "white",
           "landcolor": "#E5ECF6",
           "showlakes": true,
           "showland": true,
           "subunitcolor": "white"
          },
          "hoverlabel": {
           "align": "left"
          },
          "hovermode": "closest",
          "mapbox": {
           "style": "light"
          },
          "paper_bgcolor": "white",
          "plot_bgcolor": "#E5ECF6",
          "polar": {
           "angularaxis": {
            "gridcolor": "white",
            "linecolor": "white",
            "ticks": ""
           },
           "bgcolor": "#E5ECF6",
           "radialaxis": {
            "gridcolor": "white",
            "linecolor": "white",
            "ticks": ""
           }
          },
          "scene": {
           "xaxis": {
            "backgroundcolor": "#E5ECF6",
            "gridcolor": "white",
            "gridwidth": 2,
            "linecolor": "white",
            "showbackground": true,
            "ticks": "",
            "zerolinecolor": "white"
           },
           "yaxis": {
            "backgroundcolor": "#E5ECF6",
            "gridcolor": "white",
            "gridwidth": 2,
            "linecolor": "white",
            "showbackground": true,
            "ticks": "",
            "zerolinecolor": "white"
           },
           "zaxis": {
            "backgroundcolor": "#E5ECF6",
            "gridcolor": "white",
            "gridwidth": 2,
            "linecolor": "white",
            "showbackground": true,
            "ticks": "",
            "zerolinecolor": "white"
           }
          },
          "shapedefaults": {
           "line": {
            "color": "#2a3f5f"
           }
          },
          "ternary": {
           "aaxis": {
            "gridcolor": "white",
            "linecolor": "white",
            "ticks": ""
           },
           "baxis": {
            "gridcolor": "white",
            "linecolor": "white",
            "ticks": ""
           },
           "bgcolor": "#E5ECF6",
           "caxis": {
            "gridcolor": "white",
            "linecolor": "white",
            "ticks": ""
           }
          },
          "title": {
           "x": 0.05
          },
          "xaxis": {
           "automargin": true,
           "gridcolor": "white",
           "linecolor": "white",
           "ticks": "",
           "title": {
            "standoff": 15
           },
           "zerolinecolor": "white",
           "zerolinewidth": 2
          },
          "yaxis": {
           "automargin": true,
           "gridcolor": "white",
           "linecolor": "white",
           "ticks": "",
           "title": {
            "standoff": 15
           },
           "zerolinecolor": "white",
           "zerolinewidth": 2
          }
         }
        },
        "title": {
         "text": "Estadísticas de las 10 poblaciones con 250 individuos"
        },
        "width": 1600,
        "xaxis": {
         "anchor": "y",
         "domain": [
          0,
          0.2888888888888889
         ],
         "title": {
          "text": "número población"
         }
        },
        "xaxis2": {
         "anchor": "y2",
         "domain": [
          0.35555555555555557,
          0.6444444444444445
         ],
         "title": {
          "text": "número población"
         }
        },
        "xaxis3": {
         "anchor": "y3",
         "domain": [
          0.7111111111111111,
          1
         ],
         "title": {
          "text": "número población"
         }
        },
        "xaxis4": {
         "anchor": "y4",
         "domain": [
          0,
          0.2888888888888889
         ],
         "title": {
          "text": "número población"
         }
        },
        "xaxis5": {
         "anchor": "y5",
         "domain": [
          0.35555555555555557,
          0.6444444444444445
         ],
         "title": {
          "text": "número población"
         }
        },
        "xaxis6": {
         "anchor": "y6",
         "domain": [
          0.7111111111111111,
          1
         ]
        },
        "yaxis": {
         "anchor": "x",
         "domain": [
          0.625,
          1
         ],
         "title": {
          "text": "Costo"
         }
        },
        "yaxis2": {
         "anchor": "x2",
         "domain": [
          0.625,
          1
         ],
         "title": {
          "text": "Costo"
         }
        },
        "yaxis3": {
         "anchor": "x3",
         "domain": [
          0.625,
          1
         ],
         "title": {
          "text": "Costo"
         }
        },
        "yaxis4": {
         "anchor": "x4",
         "domain": [
          0,
          0.375
         ],
         "title": {
          "text": "Costo"
         }
        },
        "yaxis5": {
         "anchor": "x5",
         "domain": [
          0,
          0.375
         ]
        },
        "yaxis6": {
         "anchor": "x6",
         "domain": [
          0,
          0.375
         ],
         "title": {
          "text": "Genes"
         }
        }
       }
      }
     },
     "metadata": {},
     "output_type": "display_data"
    }
   ],
   "source": [
    "POB_FILE = \"files\\\\act_2\\\\poblaciones\\\\pob_10_250.pkl\"\n",
    "pobs = get_poblaciones_iniciales(n=10,tam_pob=250)\n",
    "intial_stats(pobs,f\"Estadísticas de las {10} poblaciones con {250} individuos\")"
   ]
  },
  {
   "cell_type": "code",
   "execution_count": 24,
   "metadata": {},
   "outputs": [
    {
     "name": "stdout",
     "output_type": "stream",
     "text": [
      "Archivo de poblaciones cargado correctamente\n"
     ]
    },
    {
     "data": {
      "application/vnd.plotly.v1+json": {
       "config": {
        "plotlyServerURL": "https://plot.ly"
       },
       "data": [
        {
         "marker": {
          "size": 8,
          "symbol": "star-diamond"
         },
         "mode": "markers+lines",
         "name": "Costo promedio inicial",
         "type": "scatter",
         "x": [
          1,
          2,
          3,
          4,
          5
         ],
         "xaxis": "x",
         "y": [
          68655.97,
          69212.32,
          68968.2,
          69601.07,
          69186.04
         ],
         "yaxis": "y"
        },
        {
         "marker": {
          "size": 8,
          "symbol": "diamond-x"
         },
         "mode": "markers+lines",
         "name": "Varianza costo",
         "type": "scatter",
         "x": [
          1,
          2,
          3,
          4,
          5
         ],
         "xaxis": "x2",
         "y": [
          59268564.08,
          52917160.37,
          52903403.1,
          54209778.76,
          52101164
         ],
         "yaxis": "y2"
        },
        {
         "marker": {
          "size": 8,
          "symbol": "octagon"
         },
         "mode": "markers+lines",
         "name": "Desviación costo",
         "type": "scatter",
         "x": [
          1,
          2,
          3,
          4,
          5
         ],
         "xaxis": "x3",
         "y": [
          7698.61,
          7274.42,
          7273.47,
          7362.73,
          7218.11
         ],
         "yaxis": "y3"
        },
        {
         "marker": {
          "size": 8,
          "symbol": "bowtie"
         },
         "mode": "markers+lines",
         "name": "Ruta con Menor Distancia",
         "type": "scatter",
         "x": [
          1,
          2,
          3,
          4,
          5
         ],
         "xaxis": "x4",
         "y": [
          41605.57,
          45291.68,
          45508.91,
          43523.58,
          46426.59
         ],
         "yaxis": "y4"
        },
        {
         "marker": {
          "size": 8,
          "symbol": "bowtie"
         },
         "mode": "markers+lines",
         "name": "Ruta con Mayor Distancia",
         "type": "scatter",
         "x": [
          1,
          2,
          3,
          4,
          5
         ],
         "xaxis": "x5",
         "y": [
          87619.73,
          85533.99,
          87233.81,
          85857.59,
          84761.39
         ],
         "yaxis": "y5"
        },
        {
         "marker": {
          "size": 8,
          "symbol": "hexagram"
         },
         "mode": "markers+lines",
         "name": "Costo mayor",
         "type": "scatter",
         "x": [
          1,
          2,
          3,
          4,
          5
         ],
         "xaxis": "x6",
         "y": [
          17,
          17,
          17,
          17,
          17
         ],
         "yaxis": "y6"
        }
       ],
       "layout": {
        "annotations": [
         {
          "font": {
           "size": 16
          },
          "showarrow": false,
          "text": "Costo promedio",
          "x": 0.14444444444444446,
          "xanchor": "center",
          "xref": "paper",
          "y": 1,
          "yanchor": "bottom",
          "yref": "paper"
         },
         {
          "font": {
           "size": 16
          },
          "showarrow": false,
          "text": "Varianza del costo",
          "x": 0.5,
          "xanchor": "center",
          "xref": "paper",
          "y": 1,
          "yanchor": "bottom",
          "yref": "paper"
         },
         {
          "font": {
           "size": 16
          },
          "showarrow": false,
          "text": "Desviación estándar",
          "x": 0.8555555555555556,
          "xanchor": "center",
          "xref": "paper",
          "y": 1,
          "yanchor": "bottom",
          "yref": "paper"
         },
         {
          "font": {
           "size": 16
          },
          "showarrow": false,
          "text": "Individuos con menor costo población inicial",
          "x": 0.14444444444444446,
          "xanchor": "center",
          "xref": "paper",
          "y": 0.375,
          "yanchor": "bottom",
          "yref": "paper"
         },
         {
          "font": {
           "size": 16
          },
          "showarrow": false,
          "text": "Individuos mayor costo población inicial",
          "x": 0.5,
          "xanchor": "center",
          "xref": "paper",
          "y": 0.375,
          "yanchor": "bottom",
          "yref": "paper"
         },
         {
          "font": {
           "size": 16
          },
          "showarrow": false,
          "text": "Diversidad de genes",
          "x": 0.8555555555555556,
          "xanchor": "center",
          "xref": "paper",
          "y": 0.375,
          "yanchor": "bottom",
          "yref": "paper"
         }
        ],
        "height": 800,
        "template": {
         "data": {
          "bar": [
           {
            "error_x": {
             "color": "#2a3f5f"
            },
            "error_y": {
             "color": "#2a3f5f"
            },
            "marker": {
             "line": {
              "color": "#E5ECF6",
              "width": 0.5
             },
             "pattern": {
              "fillmode": "overlay",
              "size": 10,
              "solidity": 0.2
             }
            },
            "type": "bar"
           }
          ],
          "barpolar": [
           {
            "marker": {
             "line": {
              "color": "#E5ECF6",
              "width": 0.5
             },
             "pattern": {
              "fillmode": "overlay",
              "size": 10,
              "solidity": 0.2
             }
            },
            "type": "barpolar"
           }
          ],
          "carpet": [
           {
            "aaxis": {
             "endlinecolor": "#2a3f5f",
             "gridcolor": "white",
             "linecolor": "white",
             "minorgridcolor": "white",
             "startlinecolor": "#2a3f5f"
            },
            "baxis": {
             "endlinecolor": "#2a3f5f",
             "gridcolor": "white",
             "linecolor": "white",
             "minorgridcolor": "white",
             "startlinecolor": "#2a3f5f"
            },
            "type": "carpet"
           }
          ],
          "choropleth": [
           {
            "colorbar": {
             "outlinewidth": 0,
             "ticks": ""
            },
            "type": "choropleth"
           }
          ],
          "contour": [
           {
            "colorbar": {
             "outlinewidth": 0,
             "ticks": ""
            },
            "colorscale": [
             [
              0,
              "#0d0887"
             ],
             [
              0.1111111111111111,
              "#46039f"
             ],
             [
              0.2222222222222222,
              "#7201a8"
             ],
             [
              0.3333333333333333,
              "#9c179e"
             ],
             [
              0.4444444444444444,
              "#bd3786"
             ],
             [
              0.5555555555555556,
              "#d8576b"
             ],
             [
              0.6666666666666666,
              "#ed7953"
             ],
             [
              0.7777777777777778,
              "#fb9f3a"
             ],
             [
              0.8888888888888888,
              "#fdca26"
             ],
             [
              1,
              "#f0f921"
             ]
            ],
            "type": "contour"
           }
          ],
          "contourcarpet": [
           {
            "colorbar": {
             "outlinewidth": 0,
             "ticks": ""
            },
            "type": "contourcarpet"
           }
          ],
          "heatmap": [
           {
            "colorbar": {
             "outlinewidth": 0,
             "ticks": ""
            },
            "colorscale": [
             [
              0,
              "#0d0887"
             ],
             [
              0.1111111111111111,
              "#46039f"
             ],
             [
              0.2222222222222222,
              "#7201a8"
             ],
             [
              0.3333333333333333,
              "#9c179e"
             ],
             [
              0.4444444444444444,
              "#bd3786"
             ],
             [
              0.5555555555555556,
              "#d8576b"
             ],
             [
              0.6666666666666666,
              "#ed7953"
             ],
             [
              0.7777777777777778,
              "#fb9f3a"
             ],
             [
              0.8888888888888888,
              "#fdca26"
             ],
             [
              1,
              "#f0f921"
             ]
            ],
            "type": "heatmap"
           }
          ],
          "heatmapgl": [
           {
            "colorbar": {
             "outlinewidth": 0,
             "ticks": ""
            },
            "colorscale": [
             [
              0,
              "#0d0887"
             ],
             [
              0.1111111111111111,
              "#46039f"
             ],
             [
              0.2222222222222222,
              "#7201a8"
             ],
             [
              0.3333333333333333,
              "#9c179e"
             ],
             [
              0.4444444444444444,
              "#bd3786"
             ],
             [
              0.5555555555555556,
              "#d8576b"
             ],
             [
              0.6666666666666666,
              "#ed7953"
             ],
             [
              0.7777777777777778,
              "#fb9f3a"
             ],
             [
              0.8888888888888888,
              "#fdca26"
             ],
             [
              1,
              "#f0f921"
             ]
            ],
            "type": "heatmapgl"
           }
          ],
          "histogram": [
           {
            "marker": {
             "pattern": {
              "fillmode": "overlay",
              "size": 10,
              "solidity": 0.2
             }
            },
            "type": "histogram"
           }
          ],
          "histogram2d": [
           {
            "colorbar": {
             "outlinewidth": 0,
             "ticks": ""
            },
            "colorscale": [
             [
              0,
              "#0d0887"
             ],
             [
              0.1111111111111111,
              "#46039f"
             ],
             [
              0.2222222222222222,
              "#7201a8"
             ],
             [
              0.3333333333333333,
              "#9c179e"
             ],
             [
              0.4444444444444444,
              "#bd3786"
             ],
             [
              0.5555555555555556,
              "#d8576b"
             ],
             [
              0.6666666666666666,
              "#ed7953"
             ],
             [
              0.7777777777777778,
              "#fb9f3a"
             ],
             [
              0.8888888888888888,
              "#fdca26"
             ],
             [
              1,
              "#f0f921"
             ]
            ],
            "type": "histogram2d"
           }
          ],
          "histogram2dcontour": [
           {
            "colorbar": {
             "outlinewidth": 0,
             "ticks": ""
            },
            "colorscale": [
             [
              0,
              "#0d0887"
             ],
             [
              0.1111111111111111,
              "#46039f"
             ],
             [
              0.2222222222222222,
              "#7201a8"
             ],
             [
              0.3333333333333333,
              "#9c179e"
             ],
             [
              0.4444444444444444,
              "#bd3786"
             ],
             [
              0.5555555555555556,
              "#d8576b"
             ],
             [
              0.6666666666666666,
              "#ed7953"
             ],
             [
              0.7777777777777778,
              "#fb9f3a"
             ],
             [
              0.8888888888888888,
              "#fdca26"
             ],
             [
              1,
              "#f0f921"
             ]
            ],
            "type": "histogram2dcontour"
           }
          ],
          "mesh3d": [
           {
            "colorbar": {
             "outlinewidth": 0,
             "ticks": ""
            },
            "type": "mesh3d"
           }
          ],
          "parcoords": [
           {
            "line": {
             "colorbar": {
              "outlinewidth": 0,
              "ticks": ""
             }
            },
            "type": "parcoords"
           }
          ],
          "pie": [
           {
            "automargin": true,
            "type": "pie"
           }
          ],
          "scatter": [
           {
            "fillpattern": {
             "fillmode": "overlay",
             "size": 10,
             "solidity": 0.2
            },
            "type": "scatter"
           }
          ],
          "scatter3d": [
           {
            "line": {
             "colorbar": {
              "outlinewidth": 0,
              "ticks": ""
             }
            },
            "marker": {
             "colorbar": {
              "outlinewidth": 0,
              "ticks": ""
             }
            },
            "type": "scatter3d"
           }
          ],
          "scattercarpet": [
           {
            "marker": {
             "colorbar": {
              "outlinewidth": 0,
              "ticks": ""
             }
            },
            "type": "scattercarpet"
           }
          ],
          "scattergeo": [
           {
            "marker": {
             "colorbar": {
              "outlinewidth": 0,
              "ticks": ""
             }
            },
            "type": "scattergeo"
           }
          ],
          "scattergl": [
           {
            "marker": {
             "colorbar": {
              "outlinewidth": 0,
              "ticks": ""
             }
            },
            "type": "scattergl"
           }
          ],
          "scattermapbox": [
           {
            "marker": {
             "colorbar": {
              "outlinewidth": 0,
              "ticks": ""
             }
            },
            "type": "scattermapbox"
           }
          ],
          "scatterpolar": [
           {
            "marker": {
             "colorbar": {
              "outlinewidth": 0,
              "ticks": ""
             }
            },
            "type": "scatterpolar"
           }
          ],
          "scatterpolargl": [
           {
            "marker": {
             "colorbar": {
              "outlinewidth": 0,
              "ticks": ""
             }
            },
            "type": "scatterpolargl"
           }
          ],
          "scatterternary": [
           {
            "marker": {
             "colorbar": {
              "outlinewidth": 0,
              "ticks": ""
             }
            },
            "type": "scatterternary"
           }
          ],
          "surface": [
           {
            "colorbar": {
             "outlinewidth": 0,
             "ticks": ""
            },
            "colorscale": [
             [
              0,
              "#0d0887"
             ],
             [
              0.1111111111111111,
              "#46039f"
             ],
             [
              0.2222222222222222,
              "#7201a8"
             ],
             [
              0.3333333333333333,
              "#9c179e"
             ],
             [
              0.4444444444444444,
              "#bd3786"
             ],
             [
              0.5555555555555556,
              "#d8576b"
             ],
             [
              0.6666666666666666,
              "#ed7953"
             ],
             [
              0.7777777777777778,
              "#fb9f3a"
             ],
             [
              0.8888888888888888,
              "#fdca26"
             ],
             [
              1,
              "#f0f921"
             ]
            ],
            "type": "surface"
           }
          ],
          "table": [
           {
            "cells": {
             "fill": {
              "color": "#EBF0F8"
             },
             "line": {
              "color": "white"
             }
            },
            "header": {
             "fill": {
              "color": "#C8D4E3"
             },
             "line": {
              "color": "white"
             }
            },
            "type": "table"
           }
          ]
         },
         "layout": {
          "annotationdefaults": {
           "arrowcolor": "#2a3f5f",
           "arrowhead": 0,
           "arrowwidth": 1
          },
          "autotypenumbers": "strict",
          "coloraxis": {
           "colorbar": {
            "outlinewidth": 0,
            "ticks": ""
           }
          },
          "colorscale": {
           "diverging": [
            [
             0,
             "#8e0152"
            ],
            [
             0.1,
             "#c51b7d"
            ],
            [
             0.2,
             "#de77ae"
            ],
            [
             0.3,
             "#f1b6da"
            ],
            [
             0.4,
             "#fde0ef"
            ],
            [
             0.5,
             "#f7f7f7"
            ],
            [
             0.6,
             "#e6f5d0"
            ],
            [
             0.7,
             "#b8e186"
            ],
            [
             0.8,
             "#7fbc41"
            ],
            [
             0.9,
             "#4d9221"
            ],
            [
             1,
             "#276419"
            ]
           ],
           "sequential": [
            [
             0,
             "#0d0887"
            ],
            [
             0.1111111111111111,
             "#46039f"
            ],
            [
             0.2222222222222222,
             "#7201a8"
            ],
            [
             0.3333333333333333,
             "#9c179e"
            ],
            [
             0.4444444444444444,
             "#bd3786"
            ],
            [
             0.5555555555555556,
             "#d8576b"
            ],
            [
             0.6666666666666666,
             "#ed7953"
            ],
            [
             0.7777777777777778,
             "#fb9f3a"
            ],
            [
             0.8888888888888888,
             "#fdca26"
            ],
            [
             1,
             "#f0f921"
            ]
           ],
           "sequentialminus": [
            [
             0,
             "#0d0887"
            ],
            [
             0.1111111111111111,
             "#46039f"
            ],
            [
             0.2222222222222222,
             "#7201a8"
            ],
            [
             0.3333333333333333,
             "#9c179e"
            ],
            [
             0.4444444444444444,
             "#bd3786"
            ],
            [
             0.5555555555555556,
             "#d8576b"
            ],
            [
             0.6666666666666666,
             "#ed7953"
            ],
            [
             0.7777777777777778,
             "#fb9f3a"
            ],
            [
             0.8888888888888888,
             "#fdca26"
            ],
            [
             1,
             "#f0f921"
            ]
           ]
          },
          "colorway": [
           "#636efa",
           "#EF553B",
           "#00cc96",
           "#ab63fa",
           "#FFA15A",
           "#19d3f3",
           "#FF6692",
           "#B6E880",
           "#FF97FF",
           "#FECB52"
          ],
          "font": {
           "color": "#2a3f5f"
          },
          "geo": {
           "bgcolor": "white",
           "lakecolor": "white",
           "landcolor": "#E5ECF6",
           "showlakes": true,
           "showland": true,
           "subunitcolor": "white"
          },
          "hoverlabel": {
           "align": "left"
          },
          "hovermode": "closest",
          "mapbox": {
           "style": "light"
          },
          "paper_bgcolor": "white",
          "plot_bgcolor": "#E5ECF6",
          "polar": {
           "angularaxis": {
            "gridcolor": "white",
            "linecolor": "white",
            "ticks": ""
           },
           "bgcolor": "#E5ECF6",
           "radialaxis": {
            "gridcolor": "white",
            "linecolor": "white",
            "ticks": ""
           }
          },
          "scene": {
           "xaxis": {
            "backgroundcolor": "#E5ECF6",
            "gridcolor": "white",
            "gridwidth": 2,
            "linecolor": "white",
            "showbackground": true,
            "ticks": "",
            "zerolinecolor": "white"
           },
           "yaxis": {
            "backgroundcolor": "#E5ECF6",
            "gridcolor": "white",
            "gridwidth": 2,
            "linecolor": "white",
            "showbackground": true,
            "ticks": "",
            "zerolinecolor": "white"
           },
           "zaxis": {
            "backgroundcolor": "#E5ECF6",
            "gridcolor": "white",
            "gridwidth": 2,
            "linecolor": "white",
            "showbackground": true,
            "ticks": "",
            "zerolinecolor": "white"
           }
          },
          "shapedefaults": {
           "line": {
            "color": "#2a3f5f"
           }
          },
          "ternary": {
           "aaxis": {
            "gridcolor": "white",
            "linecolor": "white",
            "ticks": ""
           },
           "baxis": {
            "gridcolor": "white",
            "linecolor": "white",
            "ticks": ""
           },
           "bgcolor": "#E5ECF6",
           "caxis": {
            "gridcolor": "white",
            "linecolor": "white",
            "ticks": ""
           }
          },
          "title": {
           "x": 0.05
          },
          "xaxis": {
           "automargin": true,
           "gridcolor": "white",
           "linecolor": "white",
           "ticks": "",
           "title": {
            "standoff": 15
           },
           "zerolinecolor": "white",
           "zerolinewidth": 2
          },
          "yaxis": {
           "automargin": true,
           "gridcolor": "white",
           "linecolor": "white",
           "ticks": "",
           "title": {
            "standoff": 15
           },
           "zerolinecolor": "white",
           "zerolinewidth": 2
          }
         }
        },
        "title": {
         "text": "Estadísticas de las 5 poblaciones con 500 individuos"
        },
        "width": 1600,
        "xaxis": {
         "anchor": "y",
         "domain": [
          0,
          0.2888888888888889
         ],
         "title": {
          "text": "número población"
         }
        },
        "xaxis2": {
         "anchor": "y2",
         "domain": [
          0.35555555555555557,
          0.6444444444444445
         ],
         "title": {
          "text": "número población"
         }
        },
        "xaxis3": {
         "anchor": "y3",
         "domain": [
          0.7111111111111111,
          1
         ],
         "title": {
          "text": "número población"
         }
        },
        "xaxis4": {
         "anchor": "y4",
         "domain": [
          0,
          0.2888888888888889
         ],
         "title": {
          "text": "número población"
         }
        },
        "xaxis5": {
         "anchor": "y5",
         "domain": [
          0.35555555555555557,
          0.6444444444444445
         ],
         "title": {
          "text": "número población"
         }
        },
        "xaxis6": {
         "anchor": "y6",
         "domain": [
          0.7111111111111111,
          1
         ]
        },
        "yaxis": {
         "anchor": "x",
         "domain": [
          0.625,
          1
         ],
         "title": {
          "text": "Costo"
         }
        },
        "yaxis2": {
         "anchor": "x2",
         "domain": [
          0.625,
          1
         ],
         "title": {
          "text": "Costo"
         }
        },
        "yaxis3": {
         "anchor": "x3",
         "domain": [
          0.625,
          1
         ],
         "title": {
          "text": "Costo"
         }
        },
        "yaxis4": {
         "anchor": "x4",
         "domain": [
          0,
          0.375
         ],
         "title": {
          "text": "Costo"
         }
        },
        "yaxis5": {
         "anchor": "x5",
         "domain": [
          0,
          0.375
         ]
        },
        "yaxis6": {
         "anchor": "x6",
         "domain": [
          0,
          0.375
         ],
         "title": {
          "text": "Genes"
         }
        }
       }
      }
     },
     "metadata": {},
     "output_type": "display_data"
    }
   ],
   "source": [
    "POB_FILE = \"files\\\\act_2\\\\poblaciones\\\\pob_5_500.pkl\"\n",
    "pobs = get_poblaciones_iniciales(n=5,tam_pob=500)\n",
    "intial_stats(pobs,f\"Estadísticas de las {5} poblaciones con {500} individuos\")"
   ]
  },
  {
   "cell_type": "code",
   "execution_count": 25,
   "metadata": {},
   "outputs": [
    {
     "name": "stdout",
     "output_type": "stream",
     "text": [
      "Archivo de poblaciones cargado correctamente\n"
     ]
    },
    {
     "data": {
      "application/vnd.plotly.v1+json": {
       "config": {
        "plotlyServerURL": "https://plot.ly"
       },
       "data": [
        {
         "marker": {
          "size": 8,
          "symbol": "star-diamond"
         },
         "mode": "markers+lines",
         "name": "Costo promedio inicial",
         "type": "scatter",
         "x": [
          1,
          2,
          3,
          4,
          5,
          6,
          7
         ],
         "xaxis": "x",
         "y": [
          69359.61,
          69297.91,
          70043.04,
          68633.33,
          68948.05,
          68872.84,
          69415.56
         ],
         "yaxis": "y"
        },
        {
         "marker": {
          "size": 8,
          "symbol": "diamond-x"
         },
         "mode": "markers+lines",
         "name": "Varianza costo",
         "type": "scatter",
         "x": [
          1,
          2,
          3,
          4,
          5,
          6,
          7
         ],
         "xaxis": "x2",
         "y": [
          47787166.09,
          58518598.22,
          54376448.5,
          55992103.76,
          50270657.92,
          58246720.57,
          55952039.85
         ],
         "yaxis": "y2"
        },
        {
         "marker": {
          "size": 8,
          "symbol": "octagon"
         },
         "mode": "markers+lines",
         "name": "Desviación costo",
         "type": "scatter",
         "x": [
          1,
          2,
          3,
          4,
          5,
          6,
          7
         ],
         "xaxis": "x3",
         "y": [
          6912.83,
          7649.74,
          7374.04,
          7482.79,
          7090.18,
          7631.95,
          7480.11
         ],
         "yaxis": "y3"
        },
        {
         "marker": {
          "size": 8,
          "symbol": "bowtie"
         },
         "mode": "markers+lines",
         "name": "Ruta con Menor Distancia",
         "type": "scatter",
         "x": [
          1,
          2,
          3,
          4,
          5,
          6,
          7
         ],
         "xaxis": "x4",
         "y": [
          50137.26,
          50011.34,
          36380.5,
          42939,
          46543.76,
          46919.82,
          47671.61
         ],
         "yaxis": "y4"
        },
        {
         "marker": {
          "size": 8,
          "symbol": "bowtie"
         },
         "mode": "markers+lines",
         "name": "Ruta con Mayor Distancia",
         "type": "scatter",
         "x": [
          1,
          2,
          3,
          4,
          5,
          6,
          7
         ],
         "xaxis": "x5",
         "y": [
          85644.89,
          87225.54,
          85864.88,
          85504.24,
          86079.33,
          86521.15,
          86972.04
         ],
         "yaxis": "y5"
        },
        {
         "marker": {
          "size": 8,
          "symbol": "hexagram"
         },
         "mode": "markers+lines",
         "name": "Costo mayor",
         "type": "scatter",
         "x": [
          1,
          2,
          3,
          4,
          5,
          6,
          7
         ],
         "xaxis": "x6",
         "y": [
          17,
          17,
          17,
          17,
          17,
          17,
          17
         ],
         "yaxis": "y6"
        }
       ],
       "layout": {
        "annotations": [
         {
          "font": {
           "size": 16
          },
          "showarrow": false,
          "text": "Costo promedio",
          "x": 0.14444444444444446,
          "xanchor": "center",
          "xref": "paper",
          "y": 1,
          "yanchor": "bottom",
          "yref": "paper"
         },
         {
          "font": {
           "size": 16
          },
          "showarrow": false,
          "text": "Varianza del costo",
          "x": 0.5,
          "xanchor": "center",
          "xref": "paper",
          "y": 1,
          "yanchor": "bottom",
          "yref": "paper"
         },
         {
          "font": {
           "size": 16
          },
          "showarrow": false,
          "text": "Desviación estándar",
          "x": 0.8555555555555556,
          "xanchor": "center",
          "xref": "paper",
          "y": 1,
          "yanchor": "bottom",
          "yref": "paper"
         },
         {
          "font": {
           "size": 16
          },
          "showarrow": false,
          "text": "Individuos con menor costo población inicial",
          "x": 0.14444444444444446,
          "xanchor": "center",
          "xref": "paper",
          "y": 0.375,
          "yanchor": "bottom",
          "yref": "paper"
         },
         {
          "font": {
           "size": 16
          },
          "showarrow": false,
          "text": "Individuos mayor costo población inicial",
          "x": 0.5,
          "xanchor": "center",
          "xref": "paper",
          "y": 0.375,
          "yanchor": "bottom",
          "yref": "paper"
         },
         {
          "font": {
           "size": 16
          },
          "showarrow": false,
          "text": "Diversidad de genes",
          "x": 0.8555555555555556,
          "xanchor": "center",
          "xref": "paper",
          "y": 0.375,
          "yanchor": "bottom",
          "yref": "paper"
         }
        ],
        "height": 800,
        "template": {
         "data": {
          "bar": [
           {
            "error_x": {
             "color": "#2a3f5f"
            },
            "error_y": {
             "color": "#2a3f5f"
            },
            "marker": {
             "line": {
              "color": "#E5ECF6",
              "width": 0.5
             },
             "pattern": {
              "fillmode": "overlay",
              "size": 10,
              "solidity": 0.2
             }
            },
            "type": "bar"
           }
          ],
          "barpolar": [
           {
            "marker": {
             "line": {
              "color": "#E5ECF6",
              "width": 0.5
             },
             "pattern": {
              "fillmode": "overlay",
              "size": 10,
              "solidity": 0.2
             }
            },
            "type": "barpolar"
           }
          ],
          "carpet": [
           {
            "aaxis": {
             "endlinecolor": "#2a3f5f",
             "gridcolor": "white",
             "linecolor": "white",
             "minorgridcolor": "white",
             "startlinecolor": "#2a3f5f"
            },
            "baxis": {
             "endlinecolor": "#2a3f5f",
             "gridcolor": "white",
             "linecolor": "white",
             "minorgridcolor": "white",
             "startlinecolor": "#2a3f5f"
            },
            "type": "carpet"
           }
          ],
          "choropleth": [
           {
            "colorbar": {
             "outlinewidth": 0,
             "ticks": ""
            },
            "type": "choropleth"
           }
          ],
          "contour": [
           {
            "colorbar": {
             "outlinewidth": 0,
             "ticks": ""
            },
            "colorscale": [
             [
              0,
              "#0d0887"
             ],
             [
              0.1111111111111111,
              "#46039f"
             ],
             [
              0.2222222222222222,
              "#7201a8"
             ],
             [
              0.3333333333333333,
              "#9c179e"
             ],
             [
              0.4444444444444444,
              "#bd3786"
             ],
             [
              0.5555555555555556,
              "#d8576b"
             ],
             [
              0.6666666666666666,
              "#ed7953"
             ],
             [
              0.7777777777777778,
              "#fb9f3a"
             ],
             [
              0.8888888888888888,
              "#fdca26"
             ],
             [
              1,
              "#f0f921"
             ]
            ],
            "type": "contour"
           }
          ],
          "contourcarpet": [
           {
            "colorbar": {
             "outlinewidth": 0,
             "ticks": ""
            },
            "type": "contourcarpet"
           }
          ],
          "heatmap": [
           {
            "colorbar": {
             "outlinewidth": 0,
             "ticks": ""
            },
            "colorscale": [
             [
              0,
              "#0d0887"
             ],
             [
              0.1111111111111111,
              "#46039f"
             ],
             [
              0.2222222222222222,
              "#7201a8"
             ],
             [
              0.3333333333333333,
              "#9c179e"
             ],
             [
              0.4444444444444444,
              "#bd3786"
             ],
             [
              0.5555555555555556,
              "#d8576b"
             ],
             [
              0.6666666666666666,
              "#ed7953"
             ],
             [
              0.7777777777777778,
              "#fb9f3a"
             ],
             [
              0.8888888888888888,
              "#fdca26"
             ],
             [
              1,
              "#f0f921"
             ]
            ],
            "type": "heatmap"
           }
          ],
          "heatmapgl": [
           {
            "colorbar": {
             "outlinewidth": 0,
             "ticks": ""
            },
            "colorscale": [
             [
              0,
              "#0d0887"
             ],
             [
              0.1111111111111111,
              "#46039f"
             ],
             [
              0.2222222222222222,
              "#7201a8"
             ],
             [
              0.3333333333333333,
              "#9c179e"
             ],
             [
              0.4444444444444444,
              "#bd3786"
             ],
             [
              0.5555555555555556,
              "#d8576b"
             ],
             [
              0.6666666666666666,
              "#ed7953"
             ],
             [
              0.7777777777777778,
              "#fb9f3a"
             ],
             [
              0.8888888888888888,
              "#fdca26"
             ],
             [
              1,
              "#f0f921"
             ]
            ],
            "type": "heatmapgl"
           }
          ],
          "histogram": [
           {
            "marker": {
             "pattern": {
              "fillmode": "overlay",
              "size": 10,
              "solidity": 0.2
             }
            },
            "type": "histogram"
           }
          ],
          "histogram2d": [
           {
            "colorbar": {
             "outlinewidth": 0,
             "ticks": ""
            },
            "colorscale": [
             [
              0,
              "#0d0887"
             ],
             [
              0.1111111111111111,
              "#46039f"
             ],
             [
              0.2222222222222222,
              "#7201a8"
             ],
             [
              0.3333333333333333,
              "#9c179e"
             ],
             [
              0.4444444444444444,
              "#bd3786"
             ],
             [
              0.5555555555555556,
              "#d8576b"
             ],
             [
              0.6666666666666666,
              "#ed7953"
             ],
             [
              0.7777777777777778,
              "#fb9f3a"
             ],
             [
              0.8888888888888888,
              "#fdca26"
             ],
             [
              1,
              "#f0f921"
             ]
            ],
            "type": "histogram2d"
           }
          ],
          "histogram2dcontour": [
           {
            "colorbar": {
             "outlinewidth": 0,
             "ticks": ""
            },
            "colorscale": [
             [
              0,
              "#0d0887"
             ],
             [
              0.1111111111111111,
              "#46039f"
             ],
             [
              0.2222222222222222,
              "#7201a8"
             ],
             [
              0.3333333333333333,
              "#9c179e"
             ],
             [
              0.4444444444444444,
              "#bd3786"
             ],
             [
              0.5555555555555556,
              "#d8576b"
             ],
             [
              0.6666666666666666,
              "#ed7953"
             ],
             [
              0.7777777777777778,
              "#fb9f3a"
             ],
             [
              0.8888888888888888,
              "#fdca26"
             ],
             [
              1,
              "#f0f921"
             ]
            ],
            "type": "histogram2dcontour"
           }
          ],
          "mesh3d": [
           {
            "colorbar": {
             "outlinewidth": 0,
             "ticks": ""
            },
            "type": "mesh3d"
           }
          ],
          "parcoords": [
           {
            "line": {
             "colorbar": {
              "outlinewidth": 0,
              "ticks": ""
             }
            },
            "type": "parcoords"
           }
          ],
          "pie": [
           {
            "automargin": true,
            "type": "pie"
           }
          ],
          "scatter": [
           {
            "fillpattern": {
             "fillmode": "overlay",
             "size": 10,
             "solidity": 0.2
            },
            "type": "scatter"
           }
          ],
          "scatter3d": [
           {
            "line": {
             "colorbar": {
              "outlinewidth": 0,
              "ticks": ""
             }
            },
            "marker": {
             "colorbar": {
              "outlinewidth": 0,
              "ticks": ""
             }
            },
            "type": "scatter3d"
           }
          ],
          "scattercarpet": [
           {
            "marker": {
             "colorbar": {
              "outlinewidth": 0,
              "ticks": ""
             }
            },
            "type": "scattercarpet"
           }
          ],
          "scattergeo": [
           {
            "marker": {
             "colorbar": {
              "outlinewidth": 0,
              "ticks": ""
             }
            },
            "type": "scattergeo"
           }
          ],
          "scattergl": [
           {
            "marker": {
             "colorbar": {
              "outlinewidth": 0,
              "ticks": ""
             }
            },
            "type": "scattergl"
           }
          ],
          "scattermapbox": [
           {
            "marker": {
             "colorbar": {
              "outlinewidth": 0,
              "ticks": ""
             }
            },
            "type": "scattermapbox"
           }
          ],
          "scatterpolar": [
           {
            "marker": {
             "colorbar": {
              "outlinewidth": 0,
              "ticks": ""
             }
            },
            "type": "scatterpolar"
           }
          ],
          "scatterpolargl": [
           {
            "marker": {
             "colorbar": {
              "outlinewidth": 0,
              "ticks": ""
             }
            },
            "type": "scatterpolargl"
           }
          ],
          "scatterternary": [
           {
            "marker": {
             "colorbar": {
              "outlinewidth": 0,
              "ticks": ""
             }
            },
            "type": "scatterternary"
           }
          ],
          "surface": [
           {
            "colorbar": {
             "outlinewidth": 0,
             "ticks": ""
            },
            "colorscale": [
             [
              0,
              "#0d0887"
             ],
             [
              0.1111111111111111,
              "#46039f"
             ],
             [
              0.2222222222222222,
              "#7201a8"
             ],
             [
              0.3333333333333333,
              "#9c179e"
             ],
             [
              0.4444444444444444,
              "#bd3786"
             ],
             [
              0.5555555555555556,
              "#d8576b"
             ],
             [
              0.6666666666666666,
              "#ed7953"
             ],
             [
              0.7777777777777778,
              "#fb9f3a"
             ],
             [
              0.8888888888888888,
              "#fdca26"
             ],
             [
              1,
              "#f0f921"
             ]
            ],
            "type": "surface"
           }
          ],
          "table": [
           {
            "cells": {
             "fill": {
              "color": "#EBF0F8"
             },
             "line": {
              "color": "white"
             }
            },
            "header": {
             "fill": {
              "color": "#C8D4E3"
             },
             "line": {
              "color": "white"
             }
            },
            "type": "table"
           }
          ]
         },
         "layout": {
          "annotationdefaults": {
           "arrowcolor": "#2a3f5f",
           "arrowhead": 0,
           "arrowwidth": 1
          },
          "autotypenumbers": "strict",
          "coloraxis": {
           "colorbar": {
            "outlinewidth": 0,
            "ticks": ""
           }
          },
          "colorscale": {
           "diverging": [
            [
             0,
             "#8e0152"
            ],
            [
             0.1,
             "#c51b7d"
            ],
            [
             0.2,
             "#de77ae"
            ],
            [
             0.3,
             "#f1b6da"
            ],
            [
             0.4,
             "#fde0ef"
            ],
            [
             0.5,
             "#f7f7f7"
            ],
            [
             0.6,
             "#e6f5d0"
            ],
            [
             0.7,
             "#b8e186"
            ],
            [
             0.8,
             "#7fbc41"
            ],
            [
             0.9,
             "#4d9221"
            ],
            [
             1,
             "#276419"
            ]
           ],
           "sequential": [
            [
             0,
             "#0d0887"
            ],
            [
             0.1111111111111111,
             "#46039f"
            ],
            [
             0.2222222222222222,
             "#7201a8"
            ],
            [
             0.3333333333333333,
             "#9c179e"
            ],
            [
             0.4444444444444444,
             "#bd3786"
            ],
            [
             0.5555555555555556,
             "#d8576b"
            ],
            [
             0.6666666666666666,
             "#ed7953"
            ],
            [
             0.7777777777777778,
             "#fb9f3a"
            ],
            [
             0.8888888888888888,
             "#fdca26"
            ],
            [
             1,
             "#f0f921"
            ]
           ],
           "sequentialminus": [
            [
             0,
             "#0d0887"
            ],
            [
             0.1111111111111111,
             "#46039f"
            ],
            [
             0.2222222222222222,
             "#7201a8"
            ],
            [
             0.3333333333333333,
             "#9c179e"
            ],
            [
             0.4444444444444444,
             "#bd3786"
            ],
            [
             0.5555555555555556,
             "#d8576b"
            ],
            [
             0.6666666666666666,
             "#ed7953"
            ],
            [
             0.7777777777777778,
             "#fb9f3a"
            ],
            [
             0.8888888888888888,
             "#fdca26"
            ],
            [
             1,
             "#f0f921"
            ]
           ]
          },
          "colorway": [
           "#636efa",
           "#EF553B",
           "#00cc96",
           "#ab63fa",
           "#FFA15A",
           "#19d3f3",
           "#FF6692",
           "#B6E880",
           "#FF97FF",
           "#FECB52"
          ],
          "font": {
           "color": "#2a3f5f"
          },
          "geo": {
           "bgcolor": "white",
           "lakecolor": "white",
           "landcolor": "#E5ECF6",
           "showlakes": true,
           "showland": true,
           "subunitcolor": "white"
          },
          "hoverlabel": {
           "align": "left"
          },
          "hovermode": "closest",
          "mapbox": {
           "style": "light"
          },
          "paper_bgcolor": "white",
          "plot_bgcolor": "#E5ECF6",
          "polar": {
           "angularaxis": {
            "gridcolor": "white",
            "linecolor": "white",
            "ticks": ""
           },
           "bgcolor": "#E5ECF6",
           "radialaxis": {
            "gridcolor": "white",
            "linecolor": "white",
            "ticks": ""
           }
          },
          "scene": {
           "xaxis": {
            "backgroundcolor": "#E5ECF6",
            "gridcolor": "white",
            "gridwidth": 2,
            "linecolor": "white",
            "showbackground": true,
            "ticks": "",
            "zerolinecolor": "white"
           },
           "yaxis": {
            "backgroundcolor": "#E5ECF6",
            "gridcolor": "white",
            "gridwidth": 2,
            "linecolor": "white",
            "showbackground": true,
            "ticks": "",
            "zerolinecolor": "white"
           },
           "zaxis": {
            "backgroundcolor": "#E5ECF6",
            "gridcolor": "white",
            "gridwidth": 2,
            "linecolor": "white",
            "showbackground": true,
            "ticks": "",
            "zerolinecolor": "white"
           }
          },
          "shapedefaults": {
           "line": {
            "color": "#2a3f5f"
           }
          },
          "ternary": {
           "aaxis": {
            "gridcolor": "white",
            "linecolor": "white",
            "ticks": ""
           },
           "baxis": {
            "gridcolor": "white",
            "linecolor": "white",
            "ticks": ""
           },
           "bgcolor": "#E5ECF6",
           "caxis": {
            "gridcolor": "white",
            "linecolor": "white",
            "ticks": ""
           }
          },
          "title": {
           "x": 0.05
          },
          "xaxis": {
           "automargin": true,
           "gridcolor": "white",
           "linecolor": "white",
           "ticks": "",
           "title": {
            "standoff": 15
           },
           "zerolinecolor": "white",
           "zerolinewidth": 2
          },
          "yaxis": {
           "automargin": true,
           "gridcolor": "white",
           "linecolor": "white",
           "ticks": "",
           "title": {
            "standoff": 15
           },
           "zerolinecolor": "white",
           "zerolinewidth": 2
          }
         }
        },
        "title": {
         "text": "Estadísticas de las 7 poblaciones con 500 individuos"
        },
        "width": 1600,
        "xaxis": {
         "anchor": "y",
         "domain": [
          0,
          0.2888888888888889
         ],
         "title": {
          "text": "número población"
         }
        },
        "xaxis2": {
         "anchor": "y2",
         "domain": [
          0.35555555555555557,
          0.6444444444444445
         ],
         "title": {
          "text": "número población"
         }
        },
        "xaxis3": {
         "anchor": "y3",
         "domain": [
          0.7111111111111111,
          1
         ],
         "title": {
          "text": "número población"
         }
        },
        "xaxis4": {
         "anchor": "y4",
         "domain": [
          0,
          0.2888888888888889
         ],
         "title": {
          "text": "número población"
         }
        },
        "xaxis5": {
         "anchor": "y5",
         "domain": [
          0.35555555555555557,
          0.6444444444444445
         ],
         "title": {
          "text": "número población"
         }
        },
        "xaxis6": {
         "anchor": "y6",
         "domain": [
          0.7111111111111111,
          1
         ]
        },
        "yaxis": {
         "anchor": "x",
         "domain": [
          0.625,
          1
         ],
         "title": {
          "text": "Costo"
         }
        },
        "yaxis2": {
         "anchor": "x2",
         "domain": [
          0.625,
          1
         ],
         "title": {
          "text": "Costo"
         }
        },
        "yaxis3": {
         "anchor": "x3",
         "domain": [
          0.625,
          1
         ],
         "title": {
          "text": "Costo"
         }
        },
        "yaxis4": {
         "anchor": "x4",
         "domain": [
          0,
          0.375
         ],
         "title": {
          "text": "Costo"
         }
        },
        "yaxis5": {
         "anchor": "x5",
         "domain": [
          0,
          0.375
         ]
        },
        "yaxis6": {
         "anchor": "x6",
         "domain": [
          0,
          0.375
         ],
         "title": {
          "text": "Genes"
         }
        }
       }
      }
     },
     "metadata": {},
     "output_type": "display_data"
    }
   ],
   "source": [
    "POB_FILE = \"files\\\\act_2\\\\poblaciones\\\\pob_7_500.pkl\"\n",
    "pobs = get_poblaciones_iniciales(n=7,tam_pob=500)\n",
    "intial_stats(pobs,f\"Estadísticas de las {7} poblaciones con {500} individuos\")"
   ]
  },
  {
   "cell_type": "code",
   "execution_count": 26,
   "metadata": {},
   "outputs": [
    {
     "name": "stdout",
     "output_type": "stream",
     "text": [
      "Archivo de poblaciones cargado correctamente\n"
     ]
    },
    {
     "data": {
      "application/vnd.plotly.v1+json": {
       "config": {
        "plotlyServerURL": "https://plot.ly"
       },
       "data": [
        {
         "marker": {
          "size": 8,
          "symbol": "star-diamond"
         },
         "mode": "markers+lines",
         "name": "Costo promedio inicial",
         "type": "scatter",
         "x": [
          1,
          2,
          3,
          4,
          5,
          6,
          7,
          8,
          9,
          10
         ],
         "xaxis": "x",
         "y": [
          69184.38,
          69510.39,
          69094.24,
          69481.53,
          69022.36,
          69588.59,
          69312.48,
          69683.87,
          68813.47,
          69340.83
         ],
         "yaxis": "y"
        },
        {
         "marker": {
          "size": 8,
          "symbol": "diamond-x"
         },
         "mode": "markers+lines",
         "name": "Varianza costo",
         "type": "scatter",
         "x": [
          1,
          2,
          3,
          4,
          5,
          6,
          7,
          8,
          9,
          10
         ],
         "xaxis": "x2",
         "y": [
          58355229.63,
          54466042.56,
          56384392.03,
          62414608.53,
          54828076.64,
          59388536.28,
          60334684.58,
          58545541.56,
          60118851.83,
          56552549.12
         ],
         "yaxis": "y2"
        },
        {
         "marker": {
          "size": 8,
          "symbol": "octagon"
         },
         "mode": "markers+lines",
         "name": "Desviación costo",
         "type": "scatter",
         "x": [
          1,
          2,
          3,
          4,
          5,
          6,
          7,
          8,
          9,
          10
         ],
         "xaxis": "x3",
         "y": [
          7639.06,
          7380.11,
          7508.95,
          7900.29,
          7404.6,
          7706.4,
          7767.54,
          7651.51,
          7753.63,
          7520.14
         ],
         "yaxis": "y3"
        },
        {
         "marker": {
          "size": 8,
          "symbol": "bowtie"
         },
         "mode": "markers+lines",
         "name": "Ruta con Menor Distancia",
         "type": "scatter",
         "x": [
          1,
          2,
          3,
          4,
          5,
          6,
          7,
          8,
          9,
          10
         ],
         "xaxis": "x4",
         "y": [
          45427.14,
          47651.31,
          46209.42,
          44048.73,
          45424.03,
          47206.96,
          41092.5,
          38998.75,
          35165.7,
          46809.73
         ],
         "yaxis": "y4"
        },
        {
         "marker": {
          "size": 8,
          "symbol": "bowtie"
         },
         "mode": "markers+lines",
         "name": "Ruta con Mayor Distancia",
         "type": "scatter",
         "x": [
          1,
          2,
          3,
          4,
          5,
          6,
          7,
          8,
          9,
          10
         ],
         "xaxis": "x5",
         "y": [
          84453.45,
          85978.7,
          86804.87,
          85656.83,
          85898.31,
          86609.38,
          85978.21,
          86700.12,
          86099.29,
          85526.68
         ],
         "yaxis": "y5"
        },
        {
         "marker": {
          "size": 8,
          "symbol": "hexagram"
         },
         "mode": "markers+lines",
         "name": "Costo mayor",
         "type": "scatter",
         "x": [
          1,
          2,
          3,
          4,
          5,
          6,
          7,
          8,
          9,
          10
         ],
         "xaxis": "x6",
         "y": [
          17,
          17,
          17,
          17.01,
          17,
          17,
          17,
          17,
          17,
          17
         ],
         "yaxis": "y6"
        }
       ],
       "layout": {
        "annotations": [
         {
          "font": {
           "size": 16
          },
          "showarrow": false,
          "text": "Costo promedio",
          "x": 0.14444444444444446,
          "xanchor": "center",
          "xref": "paper",
          "y": 1,
          "yanchor": "bottom",
          "yref": "paper"
         },
         {
          "font": {
           "size": 16
          },
          "showarrow": false,
          "text": "Varianza del costo",
          "x": 0.5,
          "xanchor": "center",
          "xref": "paper",
          "y": 1,
          "yanchor": "bottom",
          "yref": "paper"
         },
         {
          "font": {
           "size": 16
          },
          "showarrow": false,
          "text": "Desviación estándar",
          "x": 0.8555555555555556,
          "xanchor": "center",
          "xref": "paper",
          "y": 1,
          "yanchor": "bottom",
          "yref": "paper"
         },
         {
          "font": {
           "size": 16
          },
          "showarrow": false,
          "text": "Individuos con menor costo población inicial",
          "x": 0.14444444444444446,
          "xanchor": "center",
          "xref": "paper",
          "y": 0.375,
          "yanchor": "bottom",
          "yref": "paper"
         },
         {
          "font": {
           "size": 16
          },
          "showarrow": false,
          "text": "Individuos mayor costo población inicial",
          "x": 0.5,
          "xanchor": "center",
          "xref": "paper",
          "y": 0.375,
          "yanchor": "bottom",
          "yref": "paper"
         },
         {
          "font": {
           "size": 16
          },
          "showarrow": false,
          "text": "Diversidad de genes",
          "x": 0.8555555555555556,
          "xanchor": "center",
          "xref": "paper",
          "y": 0.375,
          "yanchor": "bottom",
          "yref": "paper"
         }
        ],
        "height": 800,
        "template": {
         "data": {
          "bar": [
           {
            "error_x": {
             "color": "#2a3f5f"
            },
            "error_y": {
             "color": "#2a3f5f"
            },
            "marker": {
             "line": {
              "color": "#E5ECF6",
              "width": 0.5
             },
             "pattern": {
              "fillmode": "overlay",
              "size": 10,
              "solidity": 0.2
             }
            },
            "type": "bar"
           }
          ],
          "barpolar": [
           {
            "marker": {
             "line": {
              "color": "#E5ECF6",
              "width": 0.5
             },
             "pattern": {
              "fillmode": "overlay",
              "size": 10,
              "solidity": 0.2
             }
            },
            "type": "barpolar"
           }
          ],
          "carpet": [
           {
            "aaxis": {
             "endlinecolor": "#2a3f5f",
             "gridcolor": "white",
             "linecolor": "white",
             "minorgridcolor": "white",
             "startlinecolor": "#2a3f5f"
            },
            "baxis": {
             "endlinecolor": "#2a3f5f",
             "gridcolor": "white",
             "linecolor": "white",
             "minorgridcolor": "white",
             "startlinecolor": "#2a3f5f"
            },
            "type": "carpet"
           }
          ],
          "choropleth": [
           {
            "colorbar": {
             "outlinewidth": 0,
             "ticks": ""
            },
            "type": "choropleth"
           }
          ],
          "contour": [
           {
            "colorbar": {
             "outlinewidth": 0,
             "ticks": ""
            },
            "colorscale": [
             [
              0,
              "#0d0887"
             ],
             [
              0.1111111111111111,
              "#46039f"
             ],
             [
              0.2222222222222222,
              "#7201a8"
             ],
             [
              0.3333333333333333,
              "#9c179e"
             ],
             [
              0.4444444444444444,
              "#bd3786"
             ],
             [
              0.5555555555555556,
              "#d8576b"
             ],
             [
              0.6666666666666666,
              "#ed7953"
             ],
             [
              0.7777777777777778,
              "#fb9f3a"
             ],
             [
              0.8888888888888888,
              "#fdca26"
             ],
             [
              1,
              "#f0f921"
             ]
            ],
            "type": "contour"
           }
          ],
          "contourcarpet": [
           {
            "colorbar": {
             "outlinewidth": 0,
             "ticks": ""
            },
            "type": "contourcarpet"
           }
          ],
          "heatmap": [
           {
            "colorbar": {
             "outlinewidth": 0,
             "ticks": ""
            },
            "colorscale": [
             [
              0,
              "#0d0887"
             ],
             [
              0.1111111111111111,
              "#46039f"
             ],
             [
              0.2222222222222222,
              "#7201a8"
             ],
             [
              0.3333333333333333,
              "#9c179e"
             ],
             [
              0.4444444444444444,
              "#bd3786"
             ],
             [
              0.5555555555555556,
              "#d8576b"
             ],
             [
              0.6666666666666666,
              "#ed7953"
             ],
             [
              0.7777777777777778,
              "#fb9f3a"
             ],
             [
              0.8888888888888888,
              "#fdca26"
             ],
             [
              1,
              "#f0f921"
             ]
            ],
            "type": "heatmap"
           }
          ],
          "heatmapgl": [
           {
            "colorbar": {
             "outlinewidth": 0,
             "ticks": ""
            },
            "colorscale": [
             [
              0,
              "#0d0887"
             ],
             [
              0.1111111111111111,
              "#46039f"
             ],
             [
              0.2222222222222222,
              "#7201a8"
             ],
             [
              0.3333333333333333,
              "#9c179e"
             ],
             [
              0.4444444444444444,
              "#bd3786"
             ],
             [
              0.5555555555555556,
              "#d8576b"
             ],
             [
              0.6666666666666666,
              "#ed7953"
             ],
             [
              0.7777777777777778,
              "#fb9f3a"
             ],
             [
              0.8888888888888888,
              "#fdca26"
             ],
             [
              1,
              "#f0f921"
             ]
            ],
            "type": "heatmapgl"
           }
          ],
          "histogram": [
           {
            "marker": {
             "pattern": {
              "fillmode": "overlay",
              "size": 10,
              "solidity": 0.2
             }
            },
            "type": "histogram"
           }
          ],
          "histogram2d": [
           {
            "colorbar": {
             "outlinewidth": 0,
             "ticks": ""
            },
            "colorscale": [
             [
              0,
              "#0d0887"
             ],
             [
              0.1111111111111111,
              "#46039f"
             ],
             [
              0.2222222222222222,
              "#7201a8"
             ],
             [
              0.3333333333333333,
              "#9c179e"
             ],
             [
              0.4444444444444444,
              "#bd3786"
             ],
             [
              0.5555555555555556,
              "#d8576b"
             ],
             [
              0.6666666666666666,
              "#ed7953"
             ],
             [
              0.7777777777777778,
              "#fb9f3a"
             ],
             [
              0.8888888888888888,
              "#fdca26"
             ],
             [
              1,
              "#f0f921"
             ]
            ],
            "type": "histogram2d"
           }
          ],
          "histogram2dcontour": [
           {
            "colorbar": {
             "outlinewidth": 0,
             "ticks": ""
            },
            "colorscale": [
             [
              0,
              "#0d0887"
             ],
             [
              0.1111111111111111,
              "#46039f"
             ],
             [
              0.2222222222222222,
              "#7201a8"
             ],
             [
              0.3333333333333333,
              "#9c179e"
             ],
             [
              0.4444444444444444,
              "#bd3786"
             ],
             [
              0.5555555555555556,
              "#d8576b"
             ],
             [
              0.6666666666666666,
              "#ed7953"
             ],
             [
              0.7777777777777778,
              "#fb9f3a"
             ],
             [
              0.8888888888888888,
              "#fdca26"
             ],
             [
              1,
              "#f0f921"
             ]
            ],
            "type": "histogram2dcontour"
           }
          ],
          "mesh3d": [
           {
            "colorbar": {
             "outlinewidth": 0,
             "ticks": ""
            },
            "type": "mesh3d"
           }
          ],
          "parcoords": [
           {
            "line": {
             "colorbar": {
              "outlinewidth": 0,
              "ticks": ""
             }
            },
            "type": "parcoords"
           }
          ],
          "pie": [
           {
            "automargin": true,
            "type": "pie"
           }
          ],
          "scatter": [
           {
            "fillpattern": {
             "fillmode": "overlay",
             "size": 10,
             "solidity": 0.2
            },
            "type": "scatter"
           }
          ],
          "scatter3d": [
           {
            "line": {
             "colorbar": {
              "outlinewidth": 0,
              "ticks": ""
             }
            },
            "marker": {
             "colorbar": {
              "outlinewidth": 0,
              "ticks": ""
             }
            },
            "type": "scatter3d"
           }
          ],
          "scattercarpet": [
           {
            "marker": {
             "colorbar": {
              "outlinewidth": 0,
              "ticks": ""
             }
            },
            "type": "scattercarpet"
           }
          ],
          "scattergeo": [
           {
            "marker": {
             "colorbar": {
              "outlinewidth": 0,
              "ticks": ""
             }
            },
            "type": "scattergeo"
           }
          ],
          "scattergl": [
           {
            "marker": {
             "colorbar": {
              "outlinewidth": 0,
              "ticks": ""
             }
            },
            "type": "scattergl"
           }
          ],
          "scattermapbox": [
           {
            "marker": {
             "colorbar": {
              "outlinewidth": 0,
              "ticks": ""
             }
            },
            "type": "scattermapbox"
           }
          ],
          "scatterpolar": [
           {
            "marker": {
             "colorbar": {
              "outlinewidth": 0,
              "ticks": ""
             }
            },
            "type": "scatterpolar"
           }
          ],
          "scatterpolargl": [
           {
            "marker": {
             "colorbar": {
              "outlinewidth": 0,
              "ticks": ""
             }
            },
            "type": "scatterpolargl"
           }
          ],
          "scatterternary": [
           {
            "marker": {
             "colorbar": {
              "outlinewidth": 0,
              "ticks": ""
             }
            },
            "type": "scatterternary"
           }
          ],
          "surface": [
           {
            "colorbar": {
             "outlinewidth": 0,
             "ticks": ""
            },
            "colorscale": [
             [
              0,
              "#0d0887"
             ],
             [
              0.1111111111111111,
              "#46039f"
             ],
             [
              0.2222222222222222,
              "#7201a8"
             ],
             [
              0.3333333333333333,
              "#9c179e"
             ],
             [
              0.4444444444444444,
              "#bd3786"
             ],
             [
              0.5555555555555556,
              "#d8576b"
             ],
             [
              0.6666666666666666,
              "#ed7953"
             ],
             [
              0.7777777777777778,
              "#fb9f3a"
             ],
             [
              0.8888888888888888,
              "#fdca26"
             ],
             [
              1,
              "#f0f921"
             ]
            ],
            "type": "surface"
           }
          ],
          "table": [
           {
            "cells": {
             "fill": {
              "color": "#EBF0F8"
             },
             "line": {
              "color": "white"
             }
            },
            "header": {
             "fill": {
              "color": "#C8D4E3"
             },
             "line": {
              "color": "white"
             }
            },
            "type": "table"
           }
          ]
         },
         "layout": {
          "annotationdefaults": {
           "arrowcolor": "#2a3f5f",
           "arrowhead": 0,
           "arrowwidth": 1
          },
          "autotypenumbers": "strict",
          "coloraxis": {
           "colorbar": {
            "outlinewidth": 0,
            "ticks": ""
           }
          },
          "colorscale": {
           "diverging": [
            [
             0,
             "#8e0152"
            ],
            [
             0.1,
             "#c51b7d"
            ],
            [
             0.2,
             "#de77ae"
            ],
            [
             0.3,
             "#f1b6da"
            ],
            [
             0.4,
             "#fde0ef"
            ],
            [
             0.5,
             "#f7f7f7"
            ],
            [
             0.6,
             "#e6f5d0"
            ],
            [
             0.7,
             "#b8e186"
            ],
            [
             0.8,
             "#7fbc41"
            ],
            [
             0.9,
             "#4d9221"
            ],
            [
             1,
             "#276419"
            ]
           ],
           "sequential": [
            [
             0,
             "#0d0887"
            ],
            [
             0.1111111111111111,
             "#46039f"
            ],
            [
             0.2222222222222222,
             "#7201a8"
            ],
            [
             0.3333333333333333,
             "#9c179e"
            ],
            [
             0.4444444444444444,
             "#bd3786"
            ],
            [
             0.5555555555555556,
             "#d8576b"
            ],
            [
             0.6666666666666666,
             "#ed7953"
            ],
            [
             0.7777777777777778,
             "#fb9f3a"
            ],
            [
             0.8888888888888888,
             "#fdca26"
            ],
            [
             1,
             "#f0f921"
            ]
           ],
           "sequentialminus": [
            [
             0,
             "#0d0887"
            ],
            [
             0.1111111111111111,
             "#46039f"
            ],
            [
             0.2222222222222222,
             "#7201a8"
            ],
            [
             0.3333333333333333,
             "#9c179e"
            ],
            [
             0.4444444444444444,
             "#bd3786"
            ],
            [
             0.5555555555555556,
             "#d8576b"
            ],
            [
             0.6666666666666666,
             "#ed7953"
            ],
            [
             0.7777777777777778,
             "#fb9f3a"
            ],
            [
             0.8888888888888888,
             "#fdca26"
            ],
            [
             1,
             "#f0f921"
            ]
           ]
          },
          "colorway": [
           "#636efa",
           "#EF553B",
           "#00cc96",
           "#ab63fa",
           "#FFA15A",
           "#19d3f3",
           "#FF6692",
           "#B6E880",
           "#FF97FF",
           "#FECB52"
          ],
          "font": {
           "color": "#2a3f5f"
          },
          "geo": {
           "bgcolor": "white",
           "lakecolor": "white",
           "landcolor": "#E5ECF6",
           "showlakes": true,
           "showland": true,
           "subunitcolor": "white"
          },
          "hoverlabel": {
           "align": "left"
          },
          "hovermode": "closest",
          "mapbox": {
           "style": "light"
          },
          "paper_bgcolor": "white",
          "plot_bgcolor": "#E5ECF6",
          "polar": {
           "angularaxis": {
            "gridcolor": "white",
            "linecolor": "white",
            "ticks": ""
           },
           "bgcolor": "#E5ECF6",
           "radialaxis": {
            "gridcolor": "white",
            "linecolor": "white",
            "ticks": ""
           }
          },
          "scene": {
           "xaxis": {
            "backgroundcolor": "#E5ECF6",
            "gridcolor": "white",
            "gridwidth": 2,
            "linecolor": "white",
            "showbackground": true,
            "ticks": "",
            "zerolinecolor": "white"
           },
           "yaxis": {
            "backgroundcolor": "#E5ECF6",
            "gridcolor": "white",
            "gridwidth": 2,
            "linecolor": "white",
            "showbackground": true,
            "ticks": "",
            "zerolinecolor": "white"
           },
           "zaxis": {
            "backgroundcolor": "#E5ECF6",
            "gridcolor": "white",
            "gridwidth": 2,
            "linecolor": "white",
            "showbackground": true,
            "ticks": "",
            "zerolinecolor": "white"
           }
          },
          "shapedefaults": {
           "line": {
            "color": "#2a3f5f"
           }
          },
          "ternary": {
           "aaxis": {
            "gridcolor": "white",
            "linecolor": "white",
            "ticks": ""
           },
           "baxis": {
            "gridcolor": "white",
            "linecolor": "white",
            "ticks": ""
           },
           "bgcolor": "#E5ECF6",
           "caxis": {
            "gridcolor": "white",
            "linecolor": "white",
            "ticks": ""
           }
          },
          "title": {
           "x": 0.05
          },
          "xaxis": {
           "automargin": true,
           "gridcolor": "white",
           "linecolor": "white",
           "ticks": "",
           "title": {
            "standoff": 15
           },
           "zerolinecolor": "white",
           "zerolinewidth": 2
          },
          "yaxis": {
           "automargin": true,
           "gridcolor": "white",
           "linecolor": "white",
           "ticks": "",
           "title": {
            "standoff": 15
           },
           "zerolinecolor": "white",
           "zerolinewidth": 2
          }
         }
        },
        "title": {
         "text": "Estadísticas de las 10 poblaciones con 500 individuos"
        },
        "width": 1600,
        "xaxis": {
         "anchor": "y",
         "domain": [
          0,
          0.2888888888888889
         ],
         "title": {
          "text": "número población"
         }
        },
        "xaxis2": {
         "anchor": "y2",
         "domain": [
          0.35555555555555557,
          0.6444444444444445
         ],
         "title": {
          "text": "número población"
         }
        },
        "xaxis3": {
         "anchor": "y3",
         "domain": [
          0.7111111111111111,
          1
         ],
         "title": {
          "text": "número población"
         }
        },
        "xaxis4": {
         "anchor": "y4",
         "domain": [
          0,
          0.2888888888888889
         ],
         "title": {
          "text": "número población"
         }
        },
        "xaxis5": {
         "anchor": "y5",
         "domain": [
          0.35555555555555557,
          0.6444444444444445
         ],
         "title": {
          "text": "número población"
         }
        },
        "xaxis6": {
         "anchor": "y6",
         "domain": [
          0.7111111111111111,
          1
         ]
        },
        "yaxis": {
         "anchor": "x",
         "domain": [
          0.625,
          1
         ],
         "title": {
          "text": "Costo"
         }
        },
        "yaxis2": {
         "anchor": "x2",
         "domain": [
          0.625,
          1
         ],
         "title": {
          "text": "Costo"
         }
        },
        "yaxis3": {
         "anchor": "x3",
         "domain": [
          0.625,
          1
         ],
         "title": {
          "text": "Costo"
         }
        },
        "yaxis4": {
         "anchor": "x4",
         "domain": [
          0,
          0.375
         ],
         "title": {
          "text": "Costo"
         }
        },
        "yaxis5": {
         "anchor": "x5",
         "domain": [
          0,
          0.375
         ]
        },
        "yaxis6": {
         "anchor": "x6",
         "domain": [
          0,
          0.375
         ],
         "title": {
          "text": "Genes"
         }
        }
       }
      }
     },
     "metadata": {},
     "output_type": "display_data"
    }
   ],
   "source": [
    "POB_FILE = \"files\\\\act_2\\\\poblaciones\\\\pob_10_500.pkl\"\n",
    "pobs = get_poblaciones_iniciales(n=10,tam_pob=500)\n",
    "intial_stats(pobs,f\"Estadísticas de las {10} poblaciones con {500} individuos\")"
   ]
  },
  {
   "cell_type": "markdown",
   "metadata": {},
   "source": [
    "# Experimento 1 \n",
    "\n",
    "> Condiciones generales\n",
    ">- Cromosomas con 18 genes\n",
    ">- Método hibrido de paro, 40 generaciones y épsilon\n",
    ">-  Mutación desde la primera generación\n",
    ">- 10% de los individuos producto de la cruza se mutan\n",
    ">- Se mutan los individuos con menor aptitud\n",
    ">- Se mutan 6 genes\n",
    ">- Método elitistas de selección, solo los más aptos prevalecen\n",
    ">"
   ]
  },
  {
   "cell_type": "markdown",
   "metadata": {},
   "source": [
    "## 5 POBLACIONES CON 100 INDIVIDUOS"
   ]
  },
  {
   "cell_type": "code",
   "execution_count": 33,
   "metadata": {},
   "outputs": [
    {
     "name": "stdout",
     "output_type": "stream",
     "text": [
      "Archivo de poblaciones cargado correctamente\n"
     ]
    }
   ],
   "source": [
    "POB_FILE = \"files\\\\act_2\\\\poblaciones\\\\pob_5_100.pkl\"\n",
    "pobs = get_poblaciones_iniciales(n=5,tam_pob=100)"
   ]
  },
  {
   "cell_type": "markdown",
   "metadata": {},
   "source": [
    "### 1 Combinación\n",
    "> #### Primer combinación de operadores\n",
    ">- Selección Monogámica\n",
    ">- Cruza PMX\n",
    ">- Mutación heurística\n",
    ">"
   ]
  },
  {
   "cell_type": "code",
   "execution_count": 34,
   "metadata": {},
   "outputs": [],
   "source": [
    "#5 poblaciones de 100 individuos, con mutacion y primer combinacion de operadores\n",
    "exp_name1 = \"pob_5_100_1comb_mut\"\n",
    "exp_name2 = \"pob_5_100_1comb_no_mut\"\n",
    "max_gen_ = 40"
   ]
  },
  {
   "cell_type": "code",
   "execution_count": 39,
   "metadata": {},
   "outputs": [
    {
     "name": "stdout",
     "output_type": "stream",
     "text": [
      "LOGS_EXPERIMENTO_aaaaa===================================================================\n",
      "Población inicial #1\n",
      "Costo promedio inicial 69534.30825900001\n",
      "...................................................................\n",
      "Generación: 0\n",
      "Costo promedio: 63048.15479199998\n",
      "Varianza del costo en la generación: 34595969.62907557\n",
      "Desviación estándar del costo en la generación: 5881.833866157354\n",
      "Diversidad promedio: 16.90888888888889 genes\n",
      "Menor costo de toda la generación: 45541.0976\n",
      "Mayor costo de toda la generación: 70665.4011\n",
      "Tiempo de ejecución de la generación 0: 0.04983043670654297\n",
      "...................................................................\n",
      "...................................................................\n",
      "Generación: 1\n",
      "Costo promedio: 59305.391844\n",
      "Varianza del costo en la generación: 22483430.147755753\n",
      "Desviación estándar del costo en la generación: 4741.669552779459\n",
      "Diversidad promedio: 16.807070707070707 genes\n",
      "Menor costo de toda la generación: 45541.0976\n",
      "Mayor costo de toda la generación: 64700.0024\n",
      "Tiempo de ejecución de la generación 1: 0.029116153717041016\n",
      "...................................................................\n",
      "...................................................................\n",
      "Generación: 2\n",
      "Costo promedio: 56770.734803\n",
      "Varianza del costo en la generación: 19159803.111969177\n",
      "Desviación estándar del costo en la generación: 4377.191235480714\n",
      "Diversidad promedio: 16.673131313131314 genes\n",
      "Menor costo de toda la generación: 41497.1464\n",
      "Mayor costo de toda la generación: 62105.0105\n",
      "Tiempo de ejecución de la generación 2: 0.026424884796142578\n",
      "...................................................................\n",
      "...................................................................\n",
      "Generación: 3\n",
      "Costo promedio: 53648.39490100001\n",
      "Varianza del costo en la generación: 17892555.369540676\n",
      "Desviación estándar del costo en la generación: 4229.959263342932\n",
      "Diversidad promedio: 16.565050505050504 genes\n",
      "Menor costo de toda la generación: 38733.0739\n",
      "Mayor costo de toda la generación: 59017.0952\n",
      "Tiempo de ejecución de la generación 3: 0.026380062103271484\n",
      "...................................................................\n",
      "...................................................................\n",
      "Generación: 4\n",
      "Costo promedio: 51262.18894300001\n",
      "Varianza del costo en la generación: 12983844.190865025\n",
      "Desviación estándar del costo en la generación: 3603.3101713376027\n",
      "Diversidad promedio: 16.484040404040403 genes\n",
      "Menor costo de toda la generación: 38733.0739\n",
      "Mayor costo de toda la generación: 55767.9284\n",
      "Tiempo de ejecución de la generación 4: 0.02618575096130371\n",
      "...................................................................\n",
      "...................................................................\n",
      "Generación: 5\n",
      "Costo promedio: 49606.133263999975\n",
      "Varianza del costo en la generación: 10868727.68064233\n",
      "Desviación estándar del costo en la generación: 3296.775345795089\n",
      "Diversidad promedio: 16.2979797979798 genes\n",
      "Menor costo de toda la generación: 38733.0739\n",
      "Mayor costo de toda la generación: 53631.4668\n",
      "Tiempo de ejecución de la generación 5: 0.026462078094482422\n",
      "...................................................................\n",
      "...................................................................\n",
      "Generación: 6\n",
      "Costo promedio: 47870.07919100001\n",
      "Varianza del costo en la generación: 9024906.30963637\n",
      "Desviación estándar del costo en la generación: 3004.1481837013916\n",
      "Diversidad promedio: 16.086262626262627 genes\n",
      "Menor costo de toda la generación: 38733.0739\n",
      "Mayor costo de toda la generación: 51513.9886\n",
      "Tiempo de ejecución de la generación 6: 0.026257991790771484\n",
      "...................................................................\n",
      "...................................................................\n",
      "Generación: 7\n",
      "Costo promedio: 46109.92681799999\n",
      "Varianza del costo en la generación: 10523483.963827271\n",
      "Desviación estándar del costo en la generación: 3243.99197961821\n",
      "Diversidad promedio: 15.854747474747475 genes\n",
      "Menor costo de toda la generación: 34849.5052\n",
      "Mayor costo de toda la generación: 49959.6159\n",
      "Tiempo de ejecución de la generación 7: 0.0247347354888916\n",
      "...................................................................\n",
      "...................................................................\n",
      "Generación: 8\n",
      "Costo promedio: 44816.244113\n",
      "Varianza del costo en la generación: 8905555.689481128\n",
      "Desviación estándar del costo en la generación: 2984.2177684413596\n",
      "Diversidad promedio: 15.459393939393939 genes\n",
      "Menor costo de toda la generación: 34849.5052\n",
      "Mayor costo de toda la generación: 48102.8125\n",
      "Tiempo de ejecución de la generación 8: 0.026391983032226562\n",
      "...................................................................\n",
      "...................................................................\n",
      "Generación: 9\n",
      "Costo promedio: 43537.52737499999\n",
      "Varianza del costo en la generación: 7358515.585936552\n",
      "Desviación estándar del costo en la generación: 2712.658398312724\n",
      "Diversidad promedio: 15.189292929292929 genes\n",
      "Menor costo de toda la generación: 34595.8914\n",
      "Mayor costo de toda la generación: 46672.8479\n",
      "Tiempo de ejecución de la generación 9: 0.02543807029724121\n",
      "...................................................................\n",
      "...................................................................\n",
      "Generación: 10\n",
      "Costo promedio: 42234.83020599999\n",
      "Varianza del costo en la generación: 6939530.2330002645\n",
      "Desviación estándar del costo en la generación: 2634.298812397763\n",
      "Diversidad promedio: 14.95111111111111 genes\n",
      "Menor costo de toda la generación: 31401.1954\n",
      "Mayor costo de toda la generación: 45321.9463\n",
      "Tiempo de ejecución de la generación 10: 0.026044130325317383\n",
      "...................................................................\n",
      "...................................................................\n",
      "Generación: 11\n",
      "Costo promedio: 40963.708746000004\n",
      "Varianza del costo en la generación: 5563892.928427829\n",
      "Desviación estándar del costo en la generación: 2358.7905647657294\n",
      "Diversidad promedio: 14.473131313131313 genes\n",
      "Menor costo de toda la generación: 31401.1954\n",
      "Mayor costo de toda la generación: 43801.347\n",
      "Tiempo de ejecución de la generación 11: 0.024994611740112305\n",
      "...................................................................\n",
      "...................................................................\n",
      "Generación: 12\n",
      "Costo promedio: 39847.48575299999\n",
      "Varianza del costo en la generación: 5515983.443789304\n",
      "Desviación estándar del costo en la generación: 2348.613089418797\n",
      "Diversidad promedio: 13.957979797979798 genes\n",
      "Menor costo de toda la generación: 31401.1954\n",
      "Mayor costo de toda la generación: 42117.0338\n",
      "Tiempo de ejecución de la generación 12: 0.026068449020385742\n",
      "...................................................................\n",
      "...................................................................\n",
      "Generación: 13\n",
      "Costo promedio: 39103.869635999996\n",
      "Varianza del costo en la generación: 4939529.912829623\n",
      "Desviación estándar del costo en la generación: 2222.505323464856\n",
      "Diversidad promedio: 13.80060606060606 genes\n",
      "Menor costo de toda la generación: 31401.1954\n",
      "Mayor costo de toda la generación: 41473.9548\n",
      "Tiempo de ejecución de la generación 13: 0.02385234832763672\n",
      "...................................................................\n",
      "...................................................................\n",
      "Generación: 14\n",
      "Costo promedio: 37937.42681599999\n",
      "Varianza del costo en la generación: 4669306.437416296\n",
      "Desviación estándar del costo en la generación: 2160.8578012947305\n",
      "Diversidad promedio: 13.341212121212122 genes\n",
      "Menor costo de toda la generación: 31401.1954\n",
      "Mayor costo de toda la generación: 40483.6691\n",
      "Tiempo de ejecución de la generación 14: 0.026188373565673828\n",
      "...................................................................\n",
      "...................................................................\n",
      "Generación: 15\n",
      "Costo promedio: 36986.178360000034\n",
      "Varianza del costo en la generación: 4404460.599065977\n",
      "Desviación estándar del costo en la generación: 2098.680680586253\n",
      "Diversidad promedio: 12.694141414141415 genes\n",
      "Menor costo de toda la generación: 31076.8477\n",
      "Mayor costo de toda la generación: 38892.7223\n",
      "Tiempo de ejecución de la generación 15: 0.02234816551208496\n",
      "...................................................................\n",
      "...................................................................\n",
      "Generación: 16\n",
      "Costo promedio: 35862.66105500001\n",
      "Varianza del costo en la generación: 3769609.637610506\n",
      "Desviación estándar del costo en la generación: 1941.5482578629112\n",
      "Diversidad promedio: 12.946060606060605 genes\n",
      "Menor costo de toda la generación: 31076.8477\n",
      "Mayor costo de toda la generación: 38217.2877\n",
      "Tiempo de ejecución de la generación 16: 0.025346755981445312\n",
      "...................................................................\n",
      "...................................................................\n",
      "Generación: 17\n",
      "Costo promedio: 34523.21012599999\n",
      "Varianza del costo en la generación: 2629930.692158471\n",
      "Desviación estándar del costo en la generación: 1621.706105358943\n",
      "Diversidad promedio: 12.34 genes\n",
      "Menor costo de toda la generación: 29351.4438\n",
      "Mayor costo de toda la generación: 36831.1128\n",
      "Tiempo de ejecución de la generación 17: 0.029274702072143555\n",
      "...................................................................\n",
      "...................................................................\n",
      "Generación: 18\n",
      "Costo promedio: 33605.324547000004\n",
      "Varianza del costo en la generación: 1705345.202009549\n",
      "Desviación estándar del costo en la generación: 1305.888663711248\n",
      "Diversidad promedio: 11.996969696969696 genes\n",
      "Menor costo de toda la generación: 29351.4438\n",
      "Mayor costo de toda la generación: 35319.7737\n",
      "Tiempo de ejecución de la generación 18: 0.027478933334350586\n",
      "...................................................................\n",
      "...................................................................\n",
      "Generación: 19\n",
      "Costo promedio: 32724.97448499998\n",
      "Varianza del costo en la generación: 1136287.9117973698\n",
      "Desviación estándar del costo en la generación: 1065.968063216422\n",
      "Diversidad promedio: 11.288686868686868 genes\n",
      "Menor costo de toda la generación: 29351.4438\n",
      "Mayor costo de toda la generación: 34211.639\n",
      "Tiempo de ejecución de la generación 19: 0.024725914001464844\n",
      "...................................................................\n",
      "...................................................................\n",
      "Generación: 20\n",
      "Costo promedio: 32091.455029000008\n",
      "Varianza del costo en la generación: 942274.2564362134\n",
      "Desviación estándar del costo en la generación: 970.7081211343673\n",
      "Diversidad promedio: 10.832323232323231 genes\n",
      "Menor costo de toda la generación: 28620.7722\n",
      "Mayor costo de toda la generación: 33470.8407\n",
      "Tiempo de ejecución de la generación 20: 0.025635719299316406\n",
      "...................................................................\n",
      "...................................................................\n",
      "Generación: 21\n",
      "Costo promedio: 31252.851455\n",
      "Varianza del costo en la generación: 1161673.001308955\n",
      "Desviación estándar del costo en la generación: 1077.80935295114\n",
      "Diversidad promedio: 9.894141414141414 genes\n",
      "Menor costo de toda la generación: 27532.9057\n",
      "Mayor costo de toda la generación: 32434.2517\n",
      "Tiempo de ejecución de la generación 21: 0.025846242904663086\n",
      "...................................................................\n",
      "...................................................................\n",
      "Generación: 22\n",
      "Costo promedio: 30557.064864000007\n",
      "Varianza del costo en la generación: 992730.9748495845\n",
      "Desviación estándar del costo en la generación: 996.3588584689677\n",
      "Diversidad promedio: 9.935757575757576 genes\n",
      "Menor costo de toda la generación: 27532.9057\n",
      "Mayor costo de toda la generación: 31747.8058\n",
      "Tiempo de ejecución de la generación 22: 0.026842355728149414\n",
      "...................................................................\n",
      "...................................................................\n",
      "Generación: 23\n",
      "Costo promedio: 29869.134161000005\n",
      "Varianza del costo en la generación: 995508.9036160816\n",
      "Desviación estándar del costo en la generación: 997.7519248871844\n",
      "Diversidad promedio: 9.38929292929293 genes\n",
      "Menor costo de toda la generación: 27307.0334\n",
      "Mayor costo de toda la generación: 31155.0535\n",
      "Tiempo de ejecución de la generación 23: 0.024095773696899414\n",
      "...................................................................\n",
      "...................................................................\n",
      "Generación: 24\n",
      "Costo promedio: 29181.71274700002\n",
      "Varianza del costo en la generación: 704759.2270814173\n",
      "Desviación estándar del costo en la generación: 839.4993907570257\n",
      "Diversidad promedio: 8.602626262626263 genes\n",
      "Menor costo de toda la generación: 26723.8465\n",
      "Mayor costo de toda la generación: 30273.8874\n",
      "Tiempo de ejecución de la generación 24: 0.026666879653930664\n",
      "...................................................................\n",
      "...................................................................\n",
      "Generación: 25\n",
      "Costo promedio: 28603.647691999995\n",
      "Varianza del costo en la generación: 700922.5651255675\n",
      "Desviación estándar del costo en la generación: 837.2111831106698\n",
      "Diversidad promedio: 7.586464646464647 genes\n",
      "Menor costo de toda la generación: 26723.8465\n",
      "Mayor costo de toda la generación: 29628.2117\n",
      "Tiempo de ejecución de la generación 25: 0.026795148849487305\n",
      "...................................................................\n",
      "...................................................................\n",
      "Generación: 26\n",
      "Costo promedio: 27940.46402099998\n",
      "Varianza del costo en la generación: 422434.7972603576\n",
      "Desviación estándar del costo en la generación: 649.9498421111875\n",
      "Diversidad promedio: 6.071919191919192 genes\n",
      "Menor costo de toda la generación: 26461.5536\n",
      "Mayor costo de toda la generación: 28885.7844\n",
      "Tiempo de ejecución de la generación 26: 0.02687382698059082\n",
      "...................................................................\n",
      "...................................................................\n",
      "Generación: 27\n",
      "Costo promedio: 27356.972207999956\n",
      "Varianza del costo en la generación: 233920.6299727518\n",
      "Desviación estándar del costo en la generación: 483.6534192712296\n",
      "Diversidad promedio: 5.001010101010101 genes\n",
      "Menor costo de toda la generación: 25409.3528\n",
      "Mayor costo de toda la generación: 27901.706\n",
      "Tiempo de ejecución de la generación 27: 0.028838634490966797\n",
      "...................................................................\n",
      "...................................................................\n",
      "Generación: 28\n",
      "Costo promedio: 26895.583561000003\n",
      "Varianza del costo en la generación: 185754.86578280723\n",
      "Desviación estándar del costo en la generación: 430.99288368000606\n",
      "Diversidad promedio: 4.646868686868687 genes\n",
      "Menor costo de toda la generación: 25409.3528\n",
      "Mayor costo de toda la generación: 27536.3867\n",
      "Tiempo de ejecución de la generación 28: 0.026056289672851562\n",
      "...................................................................\n",
      "...................................................................\n",
      "Generación: 29\n",
      "Costo promedio: 26509.220252000006\n",
      "Varianza del costo en la generación: 160277.84255130813\n",
      "Desviación estándar del costo en la generación: 400.3471525455228\n",
      "Diversidad promedio: 4.008080808080808 genes\n",
      "Menor costo de toda la generación: 25409.3528\n",
      "Mayor costo de toda la generación: 26802.2341\n",
      "Tiempo de ejecución de la generación 29: 0.02533411979675293\n",
      "...................................................................\n",
      "...................................................................\n",
      "Generación: 30\n",
      "Costo promedio: 26173.88082399997\n",
      "Varianza del costo en la generación: 272043.5452552685\n",
      "Desviación estándar del costo en la generación: 521.577937853269\n",
      "Diversidad promedio: 4.323636363636363 genes\n",
      "Menor costo de toda la generación: 24393.3374\n",
      "Mayor costo de toda la generación: 26723.8465\n",
      "Tiempo de ejecución de la generación 30: 0.024030447006225586\n",
      "...................................................................\n",
      "...................................................................\n",
      "Generación: 31\n",
      "Costo promedio: 25730.277610000012\n",
      "Varianza del costo en la generación: 184195.24837085194\n",
      "Desviación estándar del costo en la generación: 429.1797390031966\n",
      "Diversidad promedio: 3.909090909090909 genes\n",
      "Menor costo de toda la generación: 24393.3374\n",
      "Mayor costo de toda la generación: 26445.4533\n",
      "Tiempo de ejecución de la generación 31: 0.02557206153869629\n",
      "...................................................................\n",
      "...................................................................\n",
      "Generación: 32\n",
      "Costo promedio: 25390.509736\n",
      "Varianza del costo en la generación: 132323.01842058016\n",
      "Desviación estándar del costo en la generación: 363.7623103354444\n",
      "Diversidad promedio: 3.1595959595959595 genes\n",
      "Menor costo de toda la generación: 24393.3374\n",
      "Mayor costo de toda la generación: 25820.3602\n",
      "Tiempo de ejecución de la generación 32: 0.0289151668548584\n",
      "...................................................................\n",
      "...................................................................\n",
      "Generación: 33\n",
      "Costo promedio: 25171.699631999996\n",
      "Varianza del costo en la generación: 174704.90862239004\n",
      "Desviación estándar del costo en la generación: 417.9771628000626\n",
      "Diversidad promedio: 1.7618181818181817 genes\n",
      "Menor costo de toda la generación: 24344.7049\n",
      "Mayor costo de toda la generación: 25409.3528\n",
      "Tiempo de ejecución de la generación 33: 0.023157119750976562\n",
      "...................................................................\n",
      "...................................................................\n",
      "Generación: 34\n",
      "Costo promedio: 24929.01237099999\n",
      "Varianza del costo en la generación: 237193.9068233593\n",
      "Desviación estándar del costo en la generación: 487.02557101589576\n",
      "Diversidad promedio: 2.4313131313131313 genes\n",
      "Menor costo de toda la generación: 24344.7049\n",
      "Mayor costo de toda la generación: 25409.3528\n",
      "Tiempo de ejecución de la generación 34: 0.020312786102294922\n",
      "...................................................................\n",
      "...................................................................\n",
      "Generación: 35\n",
      "Costo promedio: 24468.128110000005\n",
      "Varianza del costo en la generación: 29175.997285889243\n",
      "Desviación estándar del costo en la generación: 170.80982783753763\n",
      "Diversidad promedio: 1.1563636363636363 genes\n",
      "Menor costo de toda la generación: 24310.5633\n",
      "Mayor costo de toda la generación: 25229.7581\n",
      "Tiempo de ejecución de la generación 35: 0.02206873893737793\n",
      "...................................................................\n",
      "...................................................................\n",
      "Generación: 36\n",
      "Costo promedio: 24388.763968000036\n",
      "Varianza del costo en la generación: 258.02195573257103\n",
      "Desviación estándar del costo en la generación: 16.063061841771358\n",
      "Diversidad promedio: 0.41373737373737374 genes\n",
      "Menor costo de toda la generación: 24310.5633\n",
      "Mayor costo de toda la generación: 24393.3374\n",
      "Tiempo de ejecución de la generación 36: 0.022185087203979492\n",
      "...................................................................\n",
      "--------------------------------------------------------------------\n",
      "Tiempo de ejecución para la población #1: 0.9727709293365479\n",
      "===================================================================\n",
      "===================================================================\n",
      "Población inicial #2\n",
      "Costo promedio inicial 69124.36718599999\n",
      "...................................................................\n",
      "Generación: 0\n",
      "Costo promedio: 62928.097040999986\n",
      "Varianza del costo en la generación: 23336633.181410838\n",
      "Desviación estándar del costo en la generación: 4830.800470047468\n",
      "Diversidad promedio: 16.913737373737373 genes\n",
      "Menor costo de toda la generación: 47125.0984\n",
      "Mayor costo de toda la generación: 69439.8015\n",
      "Tiempo de ejecución de la generación 0: 0.03085494041442871\n",
      "...................................................................\n",
      "...................................................................\n",
      "Generación: 1\n",
      "Costo promedio: 59488.10658400002\n",
      "Varianza del costo en la generación: 20087769.2739945\n",
      "Desviación estándar del costo en la generación: 4481.93811581491\n",
      "Diversidad promedio: 16.797171717171718 genes\n",
      "Menor costo de toda la generación: 47039.0926\n",
      "Mayor costo de toda la generación: 64850.9028\n",
      "Tiempo de ejecución de la generación 1: 0.034861087799072266\n",
      "...................................................................\n",
      "...................................................................\n",
      "Generación: 2\n",
      "Costo promedio: 56552.95087699999\n",
      "Varianza del costo en la generación: 18455847.054698046\n",
      "Desviación estándar del costo en la generación: 4296.026891756853\n",
      "Diversidad promedio: 16.664242424242424 genes\n",
      "Menor costo de toda la generación: 43497.392\n",
      "Mayor costo de toda la generación: 61949.4807\n",
      "Tiempo de ejecución de la generación 2: 0.0441431999206543\n",
      "...................................................................\n",
      "...................................................................\n",
      "Generación: 3\n",
      "Costo promedio: 53523.30492100001\n",
      "Varianza del costo en la generación: 13107647.546726592\n",
      "Desviación estándar del costo en la generación: 3620.4485283907284\n",
      "Diversidad promedio: 16.509696969696968 genes\n",
      "Menor costo de toda la generación: 41405.9477\n",
      "Mayor costo de toda la generación: 58374.4039\n",
      "Tiempo de ejecución de la generación 3: 0.02530503273010254\n",
      "...................................................................\n",
      "...................................................................\n",
      "Generación: 4\n",
      "Costo promedio: 51867.866097000006\n",
      "Varianza del costo en la generación: 9628255.026712624\n",
      "Desviación estándar del costo en la generación: 3102.942962207431\n",
      "Diversidad promedio: 16.414545454545454 genes\n",
      "Menor costo de toda la generación: 41405.9477\n",
      "Mayor costo de toda la generación: 55617.9085\n",
      "Tiempo de ejecución de la generación 4: 0.04078221321105957\n",
      "...................................................................\n",
      "...................................................................\n",
      "Generación: 5\n",
      "Costo promedio: 50020.340065000004\n",
      "Varianza del costo en la generación: 9387805.777726427\n",
      "Desviación estándar del costo en la generación: 3063.9526396023857\n",
      "Diversidad promedio: 16.32020202020202 genes\n",
      "Menor costo de toda la generación: 40250.3177\n",
      "Mayor costo de toda la generación: 53392.9435\n",
      "Tiempo de ejecución de la generación 5: 0.02532029151916504\n",
      "...................................................................\n",
      "...................................................................\n",
      "Generación: 6\n",
      "Costo promedio: 48408.912638\n",
      "Varianza del costo en la generación: 8019595.35270762\n",
      "Desviación estándar del costo en la generación: 2831.8890078369277\n",
      "Diversidad promedio: 16.09050505050505 genes\n",
      "Menor costo de toda la generación: 40250.3177\n",
      "Mayor costo de toda la generación: 51973.8158\n",
      "Tiempo de ejecución de la generación 6: 0.023180007934570312\n",
      "...................................................................\n",
      "...................................................................\n",
      "Generación: 7\n",
      "Costo promedio: 46940.33797299999\n",
      "Varianza del costo en la generación: 7583566.993863434\n",
      "Desviación estándar del costo en la generación: 2753.827698652084\n",
      "Diversidad promedio: 15.738787878787878 genes\n",
      "Menor costo de toda la generación: 38726.3369\n",
      "Mayor costo de toda la generación: 50298.1628\n",
      "Tiempo de ejecución de la generación 7: 0.024301528930664062\n",
      "...................................................................\n",
      "...................................................................\n",
      "Generación: 8\n",
      "Costo promedio: 45074.33533899999\n",
      "Varianza del costo en la generación: 6668341.999201749\n",
      "Desviación estándar del costo en la generación: 2582.3133038424576\n",
      "Diversidad promedio: 15.334141414141413 genes\n",
      "Menor costo de toda la generación: 37619.8301\n",
      "Mayor costo de toda la generación: 48515.0496\n",
      "Tiempo de ejecución de la generación 8: 0.0252687931060791\n",
      "...................................................................\n",
      "...................................................................\n",
      "Generación: 9\n",
      "Costo promedio: 43599.68882399998\n",
      "Varianza del costo en la generación: 5728313.94858955\n",
      "Desviación estándar del costo en la generación: 2393.389635765466\n",
      "Diversidad promedio: 15.026464646464646 genes\n",
      "Menor costo de toda la generación: 33171.5007\n",
      "Mayor costo de toda la generación: 46950.6853\n",
      "Tiempo de ejecución de la generación 9: 0.02504706382751465\n",
      "...................................................................\n",
      "...................................................................\n",
      "Generación: 10\n",
      "Costo promedio: 42293.81790599999\n",
      "Varianza del costo en la generación: 4470632.168989548\n",
      "Desviación estándar del costo en la generación: 2114.3869487370443\n",
      "Diversidad promedio: 14.523434343434344 genes\n",
      "Menor costo de toda la generación: 33171.5007\n",
      "Mayor costo de toda la generación: 44893.3013\n",
      "Tiempo de ejecución de la generación 10: 0.02694225311279297\n",
      "...................................................................\n",
      "...................................................................\n",
      "Generación: 11\n",
      "Costo promedio: 41261.83745200001\n",
      "Varianza del costo en la generación: 4745484.876809832\n",
      "Desviación estándar del costo en la generación: 2178.413385198005\n",
      "Diversidad promedio: 14.106666666666667 genes\n",
      "Menor costo de toda la generación: 33171.5007\n",
      "Mayor costo de toda la generación: 43681.4596\n",
      "Tiempo de ejecución de la generación 11: 0.025202035903930664\n",
      "...................................................................\n",
      "...................................................................\n",
      "Generación: 12\n",
      "Costo promedio: 39715.54110100002\n",
      "Varianza del costo en la generación: 5225374.873632387\n",
      "Desviación estándar del costo en la generación: 2285.9078882650515\n",
      "Diversidad promedio: 13.785454545454545 genes\n",
      "Menor costo de toda la generación: 32165.549\n",
      "Mayor costo de toda la generación: 42439.8645\n",
      "Tiempo de ejecución de la generación 12: 0.026813507080078125\n",
      "...................................................................\n",
      "...................................................................\n",
      "Generación: 13\n",
      "Costo promedio: 38513.72311700003\n",
      "Varianza del costo en la generación: 4274567.963613234\n",
      "Desviación estándar del costo en la generación: 2067.5028327944883\n",
      "Diversidad promedio: 13.527676767676768 genes\n",
      "Menor costo de toda la generación: 31224.2624\n",
      "Mayor costo de toda la generación: 41226.8094\n",
      "Tiempo de ejecución de la generación 13: 0.024950265884399414\n",
      "...................................................................\n",
      "...................................................................\n",
      "Generación: 14\n",
      "Costo promedio: 37225.595518\n",
      "Varianza del costo en la generación: 4420591.286512429\n",
      "Desviación estándar del costo en la generación: 2102.52022261676\n",
      "Diversidad promedio: 13.134747474747474 genes\n",
      "Menor costo de toda la generación: 29952.9912\n",
      "Mayor costo de toda la generación: 39785.0763\n",
      "Tiempo de ejecución de la generación 14: 0.025203943252563477\n",
      "...................................................................\n",
      "...................................................................\n",
      "Generación: 15\n",
      "Costo promedio: 36309.19992300001\n",
      "Varianza del costo en la generación: 4211947.441418118\n",
      "Desviación estándar del costo en la generación: 2052.302960436913\n",
      "Diversidad promedio: 12.367474747474747 genes\n",
      "Menor costo de toda la generación: 29654.5985\n",
      "Mayor costo de toda la generación: 38509.4542\n",
      "Tiempo de ejecución de la generación 15: 0.02402043342590332\n",
      "...................................................................\n",
      "...................................................................\n",
      "Generación: 16\n",
      "Costo promedio: 34894.93803700001\n",
      "Varianza del costo en la generación: 4161378.1507113073\n",
      "Desviación estándar del costo en la generación: 2039.9456244496585\n",
      "Diversidad promedio: 11.249494949494949 genes\n",
      "Menor costo de toda la generación: 29654.5985\n",
      "Mayor costo de toda la generación: 37341.2431\n",
      "Tiempo de ejecución de la generación 16: 0.027318239212036133\n",
      "...................................................................\n",
      "...................................................................\n",
      "Generación: 17\n",
      "Costo promedio: 33492.288929999995\n",
      "Varianza del costo en la generación: 2594720.2759988788\n",
      "Desviación estándar del costo en la generación: 1610.8135447651534\n",
      "Diversidad promedio: 10.624242424242425 genes\n",
      "Menor costo de toda la generación: 29510.5023\n",
      "Mayor costo de toda la generación: 35757.9804\n",
      "Tiempo de ejecución de la generación 17: 0.02627420425415039\n",
      "...................................................................\n",
      "...................................................................\n",
      "Generación: 18\n",
      "Costo promedio: 32491.355050000002\n",
      "Varianza del costo en la generación: 2149418.161262516\n",
      "Desviación estándar del costo en la generación: 1466.0894110737297\n",
      "Diversidad promedio: 10.193333333333333 genes\n",
      "Menor costo de toda la generación: 28456.6027\n",
      "Mayor costo de toda la generación: 34244.6256\n",
      "Tiempo de ejecución de la generación 18: 0.02545475959777832\n",
      "...................................................................\n",
      "...................................................................\n",
      "Generación: 19\n",
      "Costo promedio: 31545.142017000002\n",
      "Varianza del costo en la generación: 1734455.1961089773\n",
      "Desviación estándar del costo en la generación: 1316.987166265859\n",
      "Diversidad promedio: 9.738181818181818 genes\n",
      "Menor costo de toda la generación: 28456.6027\n",
      "Mayor costo de toda la generación: 33315.3688\n",
      "Tiempo de ejecución de la generación 19: 0.02480316162109375\n",
      "...................................................................\n",
      "...................................................................\n",
      "Generación: 20\n",
      "Costo promedio: 30593.878341999985\n",
      "Varianza del costo en la generación: 931840.7554255467\n",
      "Desviación estándar del costo en la generación: 965.3189915388315\n",
      "Diversidad promedio: 9.230707070707071 genes\n",
      "Menor costo de toda la generación: 27757.0302\n",
      "Mayor costo de toda la generación: 31965.1559\n",
      "Tiempo de ejecución de la generación 20: 0.027484893798828125\n",
      "...................................................................\n",
      "...................................................................\n",
      "Generación: 21\n",
      "Costo promedio: 29835.206733999996\n",
      "Varianza del costo en la generación: 664784.6509483198\n",
      "Desviación estándar del costo en la generación: 815.3432718483177\n",
      "Diversidad promedio: 8.817777777777778 genes\n",
      "Menor costo de toda la generación: 27362.3783\n",
      "Mayor costo de toda la generación: 30923.5303\n",
      "Tiempo de ejecución de la generación 21: 0.028010845184326172\n",
      "...................................................................\n",
      "...................................................................\n",
      "Generación: 22\n",
      "Costo promedio: 29188.356131999986\n",
      "Varianza del costo en la generación: 722370.4793061547\n",
      "Desviación estándar del costo en la generación: 849.9238079417205\n",
      "Diversidad promedio: 8.25959595959596 genes\n",
      "Menor costo de toda la generación: 26622.1685\n",
      "Mayor costo de toda la generación: 30039.1761\n",
      "Tiempo de ejecución de la generación 22: 0.025000810623168945\n",
      "...................................................................\n",
      "...................................................................\n",
      "Generación: 23\n",
      "Costo promedio: 28553.99067599998\n",
      "Varianza del costo en la generación: 525487.8394850155\n",
      "Desviación estándar del costo en la generación: 724.9054003696037\n",
      "Diversidad promedio: 8.294545454545455 genes\n",
      "Menor costo de toda la generación: 26622.1685\n",
      "Mayor costo de toda la generación: 29573.2775\n",
      "Tiempo de ejecución de la generación 23: 0.027243375778198242\n",
      "...................................................................\n",
      "...................................................................\n",
      "Generación: 24\n",
      "Costo promedio: 28104.29515899999\n",
      "Varianza del costo en la generación: 472120.45141266676\n",
      "Desviación estándar del costo en la generación: 687.11021780546\n",
      "Diversidad promedio: 7.811717171717172 genes\n",
      "Menor costo de toda la generación: 26092.3446\n",
      "Mayor costo de toda la generación: 28813.8819\n",
      "Tiempo de ejecución de la generación 24: 0.02614903450012207\n",
      "...................................................................\n",
      "...................................................................\n",
      "Generación: 25\n",
      "Costo promedio: 27598.366543000015\n",
      "Varianza del costo en la generación: 662788.1580880414\n",
      "Desviación estándar del costo en la generación: 814.1180246672109\n",
      "Diversidad promedio: 7.631515151515152 genes\n",
      "Menor costo de toda la generación: 25056.1023\n",
      "Mayor costo de toda la generación: 28535.425\n",
      "Tiempo de ejecución de la generación 25: 0.026173830032348633\n",
      "...................................................................\n",
      "...................................................................\n",
      "Generación: 26\n",
      "Costo promedio: 26974.552106000003\n",
      "Varianza del costo en la generación: 418985.37603636296\n",
      "Desviación estándar del costo en la generación: 647.2907971200912\n",
      "Diversidad promedio: 6.135959595959596 genes\n",
      "Menor costo de toda la generación: 25056.1023\n",
      "Mayor costo de toda la generación: 27821.3325\n",
      "Tiempo de ejecución de la generación 26: 0.025035858154296875\n",
      "...................................................................\n",
      "...................................................................\n",
      "Generación: 27\n",
      "Costo promedio: 26440.759401999992\n",
      "Varianza del costo en la generación: 283192.62859695876\n",
      "Desviación estándar del costo en la generación: 532.158461923663\n",
      "Diversidad promedio: 4.450707070707071 genes\n",
      "Menor costo de toda la generación: 25056.1023\n",
      "Mayor costo de toda la generación: 26989.5639\n",
      "Tiempo de ejecución de la generación 27: 0.02567911148071289\n",
      "...................................................................\n",
      "...................................................................\n",
      "Generación: 28\n",
      "Costo promedio: 25985.970738000018\n",
      "Varianza del costo en la generación: 371289.46997502225\n",
      "Desviación estándar del costo en la generación: 609.3352689406894\n",
      "Diversidad promedio: 3.6286868686868687 genes\n",
      "Menor costo de toda la generación: 25007.0759\n",
      "Mayor costo de toda la generación: 26622.735\n",
      "Tiempo de ejecución de la generación 28: 0.025531768798828125\n",
      "...................................................................\n",
      "...................................................................\n",
      "Generación: 29\n",
      "Costo promedio: 25490.48929199997\n",
      "Varianza del costo en la generación: 182435.58859741152\n",
      "Desviación estándar del costo en la generación: 427.12479276835654\n",
      "Diversidad promedio: 2.6884848484848485 genes\n",
      "Menor costo de toda la generación: 25007.0759\n",
      "Mayor costo de toda la generación: 26141.371\n",
      "Tiempo de ejecución de la generación 29: 0.024338483810424805\n",
      "...................................................................\n",
      "...................................................................\n",
      "Generación: 30\n",
      "Costo promedio: 25081.963040999963\n",
      "Varianza del costo en la generación: 14070.553462229705\n",
      "Desviación estándar del costo en la generación: 118.6193637743421\n",
      "Diversidad promedio: 1.1422222222222222 genes\n",
      "Menor costo de toda la generación: 24791.0901\n",
      "Mayor costo de toda la generación: 25493.4984\n",
      "Tiempo de ejecución de la generación 30: 0.024782419204711914\n",
      "...................................................................\n",
      "...................................................................\n",
      "Generación: 31\n",
      "Costo promedio: 25033.735475999954\n",
      "Varianza del costo en la generación: 2885.8449253769695\n",
      "Desviación estándar del costo en la generación: 53.72006073504543\n",
      "Diversidad promedio: 0.8921212121212121 genes\n",
      "Menor costo de toda la generación: 24791.0901\n",
      "Mayor costo de toda la generación: 25056.1023\n",
      "Tiempo de ejecución de la generación 31: 0.018793821334838867\n",
      "...................................................................\n",
      "--------------------------------------------------------------------\n",
      "Tiempo de ejecución para la población #2: 0.8602712154388428\n",
      "===================================================================\n",
      "===================================================================\n",
      "Población inicial #3\n",
      "Costo promedio inicial 69042.94076200001\n",
      "...................................................................\n",
      "Generación: 0\n",
      "Costo promedio: 63387.21608099999\n",
      "Varianza del costo en la generación: 24535991.271561295\n",
      "Desviación estándar del costo en la generación: 4953.381801513113\n",
      "Diversidad promedio: 16.88080808080808 genes\n",
      "Menor costo de toda la generación: 44103.0354\n",
      "Mayor costo de toda la generación: 69814.5948\n",
      "Tiempo de ejecución de la generación 0: 0.03218793869018555\n",
      "...................................................................\n",
      "...................................................................\n",
      "Generación: 1\n",
      "Costo promedio: 60023.86937800001\n",
      "Varianza del costo en la generación: 15595036.646265147\n",
      "Desviación estándar del costo en la generación: 3949.055158675952\n",
      "Diversidad promedio: 16.803636363636365 genes\n",
      "Menor costo de toda la generación: 44103.0354\n",
      "Mayor costo de toda la generación: 64518.712\n",
      "Tiempo de ejecución de la generación 1: 0.02873539924621582\n",
      "...................................................................\n",
      "...................................................................\n",
      "Generación: 2\n",
      "Costo promedio: 56957.80800800002\n",
      "Varianza del costo en la generación: 13859412.001233263\n",
      "Desviación estándar del costo en la generación: 3722.823122474833\n",
      "Diversidad promedio: 16.715555555555557 genes\n",
      "Menor costo de toda la generación: 44103.0354\n",
      "Mayor costo de toda la generación: 61924.0709\n",
      "Tiempo de ejecución de la generación 2: 0.0316777229309082\n",
      "...................................................................\n",
      "...................................................................\n",
      "Generación: 3\n",
      "Costo promedio: 54202.79288900004\n",
      "Varianza del costo en la generación: 14239661.495963557\n",
      "Desviación estándar del costo en la generación: 3773.5476008609667\n",
      "Diversidad promedio: 16.646868686868686 genes\n",
      "Menor costo de toda la generación: 39232.9643\n",
      "Mayor costo de toda la generación: 58371.2094\n",
      "Tiempo de ejecución de la generación 3: 0.028252840042114258\n",
      "...................................................................\n",
      "...................................................................\n",
      "Generación: 4\n",
      "Costo promedio: 52202.04297100001\n",
      "Varianza del costo en la generación: 15124455.462791096\n",
      "Desviación estándar del costo en la generación: 3889.0172875407866\n",
      "Diversidad promedio: 16.578181818181818 genes\n",
      "Menor costo de toda la generación: 39232.9643\n",
      "Mayor costo de toda la generación: 56087.1246\n",
      "Tiempo de ejecución de la generación 4: 0.025725841522216797\n",
      "...................................................................\n",
      "...................................................................\n",
      "Generación: 5\n",
      "Costo promedio: 50243.81703600002\n",
      "Varianza del costo en la generación: 14743079.395347841\n",
      "Desviación estándar del costo en la generación: 3839.6717822423107\n",
      "Diversidad promedio: 16.456767676767676 genes\n",
      "Menor costo de toda la generación: 39232.9643\n",
      "Mayor costo de toda la generación: 54315.4549\n",
      "Tiempo de ejecución de la generación 5: 0.02525019645690918\n",
      "...................................................................\n",
      "...................................................................\n",
      "Generación: 6\n",
      "Costo promedio: 48172.55950699998\n",
      "Varianza del costo en la generación: 11957517.823133593\n",
      "Desviación estándar del costo en la generación: 3457.9644045498203\n",
      "Diversidad promedio: 16.264848484848486 genes\n",
      "Menor costo de toda la generación: 39232.9643\n",
      "Mayor costo de toda la generación: 52766.5572\n",
      "Tiempo de ejecución de la generación 6: 0.02400827407836914\n",
      "...................................................................\n",
      "...................................................................\n",
      "Generación: 7\n",
      "Costo promedio: 46910.01466699996\n",
      "Varianza del costo en la generación: 8546296.232988385\n",
      "Desviación estándar del costo en la generación: 2923.404904043979\n",
      "Diversidad promedio: 15.971919191919191 genes\n",
      "Menor costo de toda la generación: 39232.9643\n",
      "Mayor costo de toda la generación: 50803.8582\n",
      "Tiempo de ejecución de la generación 7: 0.023329496383666992\n",
      "...................................................................\n",
      "...................................................................\n",
      "Generación: 8\n",
      "Costo promedio: 45415.618610999976\n",
      "Varianza del costo en la generación: 5602719.543345962\n",
      "Desviación estándar del costo en la generación: 2367.006451902056\n",
      "Diversidad promedio: 15.494545454545454 genes\n",
      "Menor costo de toda la generación: 39232.9643\n",
      "Mayor costo de toda la generación: 48675.4372\n",
      "Tiempo de ejecución de la generación 8: 0.025017976760864258\n",
      "...................................................................\n",
      "...................................................................\n",
      "Generación: 9\n",
      "Costo promedio: 43900.511556000005\n",
      "Varianza del costo en la generación: 4691217.834450542\n",
      "Desviación estándar del costo en la generación: 2165.921936370409\n",
      "Diversidad promedio: 15.001818181818182 genes\n",
      "Menor costo de toda la generación: 36184.4372\n",
      "Mayor costo de toda la generación: 46825.5749\n",
      "Tiempo de ejecución de la generación 9: 0.026880741119384766\n",
      "...................................................................\n",
      "...................................................................\n",
      "Generación: 10\n",
      "Costo promedio: 42743.482934\n",
      "Varianza del costo en la generación: 3626352.8103994126\n",
      "Desviación estándar del costo en la generación: 1904.298508742632\n",
      "Diversidad promedio: 14.50161616161616 genes\n",
      "Menor costo de toda la generación: 36184.4372\n",
      "Mayor costo de toda la generación: 45007.2921\n",
      "Tiempo de ejecución de la generación 10: 0.02819204330444336\n",
      "...................................................................\n",
      "...................................................................\n",
      "Generación: 11\n",
      "Costo promedio: 41744.001557999974\n",
      "Varianza del costo en la generación: 3664848.9059719928\n",
      "Desviación estándar del costo en la generación: 1914.3795093899205\n",
      "Diversidad promedio: 14.052121212121213 genes\n",
      "Menor costo de toda la generación: 34502.5539\n",
      "Mayor costo de toda la generación: 44103.0354\n",
      "Tiempo de ejecución de la generación 11: 0.025336503982543945\n",
      "...................................................................\n",
      "...................................................................\n",
      "Generación: 12\n",
      "Costo promedio: 40614.300727999995\n",
      "Varianza del costo en la generación: 3098763.2588201542\n",
      "Desviación estándar del costo en la generación: 1760.3304402356264\n",
      "Diversidad promedio: 13.836969696969698 genes\n",
      "Menor costo de toda la generación: 34165.6523\n",
      "Mayor costo de toda la generación: 42682.5308\n",
      "Tiempo de ejecución de la generación 12: 0.024509191513061523\n",
      "...................................................................\n",
      "...................................................................\n",
      "Generación: 13\n",
      "Costo promedio: 39671.26910900001\n",
      "Varianza del costo en la generación: 3052916.844426229\n",
      "Desviación estándar del costo en la generación: 1747.2598102246354\n",
      "Diversidad promedio: 13.571515151515152 genes\n",
      "Menor costo de toda la generación: 33459.8358\n",
      "Mayor costo de toda la generación: 41484.4233\n",
      "Tiempo de ejecución de la generación 13: 0.024446725845336914\n",
      "...................................................................\n",
      "...................................................................\n",
      "Generación: 14\n",
      "Costo promedio: 38714.414038999996\n",
      "Varianza del costo en la generación: 2910723.060673765\n",
      "Desviación estándar del costo en la generación: 1706.084130596661\n",
      "Diversidad promedio: 13.242626262626263 genes\n",
      "Menor costo de toda la generación: 32944.9296\n",
      "Mayor costo de toda la generación: 40582.9011\n",
      "Tiempo de ejecución de la generación 14: 0.025097370147705078\n",
      "...................................................................\n",
      "...................................................................\n",
      "Generación: 15\n",
      "Costo promedio: 37834.40281200002\n",
      "Varianza del costo en la generación: 2509874.6685178014\n",
      "Desviación estándar del costo en la generación: 1584.2583970166613\n",
      "Diversidad promedio: 12.822626262626263 genes\n",
      "Menor costo de toda la generación: 32373.497\n",
      "Mayor costo de toda la generación: 39706.0868\n",
      "Tiempo de ejecución de la generación 15: 0.025385141372680664\n",
      "...................................................................\n",
      "...................................................................\n",
      "Generación: 16\n",
      "Costo promedio: 36718.13127500001\n",
      "Varianza del costo en la generación: 2743602.608442085\n",
      "Desviación estándar del costo en la generación: 1656.3823859369204\n",
      "Diversidad promedio: 12.902424242424242 genes\n",
      "Menor costo de toda la generación: 31596.1951\n",
      "Mayor costo de toda la generación: 38732.1083\n",
      "Tiempo de ejecución de la generación 16: 0.02482914924621582\n",
      "...................................................................\n",
      "...................................................................\n",
      "Generación: 17\n",
      "Costo promedio: 35802.964739999996\n",
      "Varianza del costo en la generación: 2207386.5267764325\n",
      "Desviación estándar del costo en la generación: 1485.7276085394767\n",
      "Diversidad promedio: 12.378181818181819 genes\n",
      "Menor costo de toda la generación: 30997.4936\n",
      "Mayor costo de toda la generación: 37357.2117\n",
      "Tiempo de ejecución de la generación 17: 0.024652719497680664\n",
      "...................................................................\n",
      "...................................................................\n",
      "Generación: 18\n",
      "Costo promedio: 35133.21635999999\n",
      "Varianza del costo en la generación: 2381909.4120967267\n",
      "Desviación estándar del costo en la generación: 1543.3435819987483\n",
      "Diversidad promedio: 12.64121212121212 genes\n",
      "Menor costo de toda la generación: 29601.1886\n",
      "Mayor costo de toda la generación: 36840.3681\n",
      "Tiempo de ejecución de la generación 18: 0.023112058639526367\n",
      "...................................................................\n",
      "...................................................................\n",
      "Generación: 19\n",
      "Costo promedio: 34396.880522000014\n",
      "Varianza del costo en la generación: 2030152.1871187473\n",
      "Desviación estándar del costo en la generación: 1424.834091085256\n",
      "Diversidad promedio: 12.276767676767676 genes\n",
      "Menor costo de toda la generación: 29601.1886\n",
      "Mayor costo de toda la generación: 36109.1578\n",
      "Tiempo de ejecución de la generación 19: 0.0237581729888916\n",
      "...................................................................\n",
      "...................................................................\n",
      "Generación: 20\n",
      "Costo promedio: 33591.23769400001\n",
      "Varianza del costo en la generación: 1853867.368732954\n",
      "Desviación estándar del costo en la generación: 1361.5679816788268\n",
      "Diversidad promedio: 12.47959595959596 genes\n",
      "Menor costo de toda la generación: 29601.1886\n",
      "Mayor costo de toda la generación: 35347.331\n",
      "Tiempo de ejecución de la generación 20: 0.024695396423339844\n",
      "...................................................................\n",
      "...................................................................\n",
      "Generación: 21\n",
      "Costo promedio: 32877.929160000014\n",
      "Varianza del costo en la generación: 1609895.4740948828\n",
      "Desviación estándar del costo en la generación: 1268.816564399631\n",
      "Diversidad promedio: 12.243030303030302 genes\n",
      "Menor costo de toda la generación: 28543.5435\n",
      "Mayor costo de toda la generación: 34544.4081\n",
      "Tiempo de ejecución de la generación 21: 0.04456329345703125\n",
      "...................................................................\n",
      "...................................................................\n",
      "Generación: 22\n",
      "Costo promedio: 32424.936014\n",
      "Varianza del costo en la generación: 1347400.5467322476\n",
      "Desviación estándar del costo en la generación: 1160.775838278971\n",
      "Diversidad promedio: 12.226666666666667 genes\n",
      "Menor costo de toda la generación: 28543.5435\n",
      "Mayor costo de toda la generación: 33827.9371\n",
      "Tiempo de ejecución de la generación 22: 0.023257732391357422\n",
      "...................................................................\n",
      "...................................................................\n",
      "Generación: 23\n",
      "Costo promedio: 31795.859000999993\n",
      "Varianza del costo en la generación: 1159472.0473794995\n",
      "Desviación estándar del costo en la generación: 1076.7878376818246\n",
      "Diversidad promedio: 11.887878787878789 genes\n",
      "Menor costo de toda la generación: 28543.5435\n",
      "Mayor costo de toda la generación: 33164.0985\n",
      "Tiempo de ejecución de la generación 23: 0.028741836547851562\n",
      "...................................................................\n",
      "...................................................................\n",
      "Generación: 24\n",
      "Costo promedio: 31242.943825999995\n",
      "Varianza del costo en la generación: 936594.1238357265\n",
      "Desviación estándar del costo en la generación: 967.7779310542923\n",
      "Diversidad promedio: 11.481010101010101 genes\n",
      "Menor costo de toda la generación: 28543.5435\n",
      "Mayor costo de toda la generación: 32529.7831\n",
      "Tiempo de ejecución de la generación 24: 0.042044878005981445\n",
      "...................................................................\n",
      "...................................................................\n",
      "Generación: 25\n",
      "Costo promedio: 30736.305619000006\n",
      "Varianza del costo en la generación: 731028.5138181002\n",
      "Desviación estándar del costo en la generación: 855.0020548619168\n",
      "Diversidad promedio: 10.572525252525253 genes\n",
      "Menor costo de toda la generación: 28543.5435\n",
      "Mayor costo de toda la generación: 31746.9308\n",
      "Tiempo de ejecución de la generación 25: 0.03355574607849121\n",
      "...................................................................\n",
      "...................................................................\n",
      "Generación: 26\n",
      "Costo promedio: 30173.096826000008\n",
      "Varianza del costo en la generación: 526529.5106623156\n",
      "Desviación estándar del costo en la generación: 725.62353232397\n",
      "Diversidad promedio: 9.852525252525252 genes\n",
      "Menor costo de toda la generación: 27413.1417\n",
      "Mayor costo de toda la generación: 30997.4936\n",
      "Tiempo de ejecución de la generación 26: 0.02935004234313965\n",
      "...................................................................\n",
      "...................................................................\n",
      "Generación: 27\n",
      "Costo promedio: 29742.54806500001\n",
      "Varianza del costo en la generación: 527010.6904006009\n",
      "Desviación estándar del costo en la generación: 725.955019543636\n",
      "Diversidad promedio: 8.891717171717172 genes\n",
      "Menor costo de toda la generación: 27340.9544\n",
      "Mayor costo de toda la generación: 30530.5177\n",
      "Tiempo de ejecución de la generación 27: 0.03042316436767578\n",
      "...................................................................\n",
      "...................................................................\n",
      "Generación: 28\n",
      "Costo promedio: 29222.491675\n",
      "Varianza del costo en la generación: 512344.7511326907\n",
      "Desviación estándar del costo en la generación: 715.782614438693\n",
      "Diversidad promedio: 8.232323232323232 genes\n",
      "Menor costo de toda la generación: 27340.9544\n",
      "Mayor costo de toda la generación: 30096.3047\n",
      "Tiempo de ejecución de la generación 28: 0.04080367088317871\n",
      "...................................................................\n",
      "...................................................................\n",
      "Generación: 29\n",
      "Costo promedio: 28840.988241000006\n",
      "Varianza del costo en la generación: 464358.4238371299\n",
      "Desviación estándar del costo en la generación: 681.4384960046871\n",
      "Diversidad promedio: 7.741212121212121 genes\n",
      "Menor costo de toda la generación: 27340.9544\n",
      "Mayor costo de toda la generación: 29717.6222\n",
      "Tiempo de ejecución de la generación 29: 0.051923513412475586\n",
      "...................................................................\n",
      "...................................................................\n",
      "Generación: 30\n",
      "Costo promedio: 28309.86565500002\n",
      "Varianza del costo en la generación: 367700.7252532326\n",
      "Desviación estándar del costo en la generación: 606.3833154476074\n",
      "Diversidad promedio: 6.832525252525253 genes\n",
      "Menor costo de toda la generación: 26753.0343\n",
      "Mayor costo de toda la generación: 29120.2335\n",
      "Tiempo de ejecución de la generación 30: 0.04625558853149414\n",
      "...................................................................\n",
      "...................................................................\n",
      "Generación: 31\n",
      "Costo promedio: 27936.876324999997\n",
      "Varianza del costo en la generación: 160632.88686563002\n",
      "Desviación estándar del costo en la generación: 400.7903278094795\n",
      "Diversidad promedio: 5.461414141414141 genes\n",
      "Menor costo de toda la generación: 26753.0343\n",
      "Mayor costo de toda la generación: 28543.5435\n",
      "Tiempo de ejecución de la generación 31: 0.03005838394165039\n",
      "...................................................................\n",
      "...................................................................\n",
      "Generación: 32\n",
      "Costo promedio: 27682.062180000004\n",
      "Varianza del costo en la generación: 119252.80975947823\n",
      "Desviación estándar del costo en la generación: 345.3300012444303\n",
      "Diversidad promedio: 3.4145454545454546 genes\n",
      "Menor costo de toda la generación: 26598.5016\n",
      "Mayor costo de toda la generación: 28074.0129\n",
      "Tiempo de ejecución de la generación 32: 0.04478645324707031\n",
      "...................................................................\n",
      "...................................................................\n",
      "Generación: 33\n",
      "Costo promedio: 27431.943407000024\n",
      "Varianza del costo en la generación: 75168.60024051457\n",
      "Desviación estándar del costo en la generación: 274.16892646781577\n",
      "Diversidad promedio: 3.2305050505050503 genes\n",
      "Menor costo de toda la generación: 26598.5016\n",
      "Mayor costo de toda la generación: 27838.3031\n",
      "Tiempo de ejecución de la generación 33: 0.03296709060668945\n",
      "...................................................................\n",
      "...................................................................\n",
      "Generación: 34\n",
      "Costo promedio: 27267.547034000025\n",
      "Varianza del costo en la generación: 72851.29667671678\n",
      "Desviación estándar del costo en la generación: 269.90979359170495\n",
      "Diversidad promedio: 1.7383838383838384 genes\n",
      "Menor costo de toda la generación: 26598.5016\n",
      "Mayor costo de toda la generación: 27413.1417\n",
      "Tiempo de ejecución de la generación 34: 0.044973134994506836\n",
      "...................................................................\n",
      "...................................................................\n",
      "Generación: 35\n",
      "Costo promedio: 27201.115153000013\n",
      "Varianza del costo en la generación: 90597.3981562234\n",
      "Desviación estándar del costo en la generación: 300.99401681133696\n",
      "Diversidad promedio: 2.1505050505050507 genes\n",
      "Menor costo de toda la generación: 26598.5016\n",
      "Mayor costo de toda la generación: 27413.1417\n",
      "Tiempo de ejecución de la generación 35: 0.03619694709777832\n",
      "...................................................................\n",
      "--------------------------------------------------------------------\n",
      "Tiempo de ejecución para la población #3: 1.1049823760986328\n",
      "===================================================================\n",
      "===================================================================\n",
      "Población inicial #4\n",
      "Costo promedio inicial 69414.769563\n",
      "...................................................................\n",
      "Generación: 0\n",
      "Costo promedio: 62492.76841600002\n",
      "Varianza del costo en la generación: 20989352.48176144\n",
      "Desviación estándar del costo en la generación: 4581.4138081777155\n",
      "Diversidad promedio: 16.912525252525253 genes\n",
      "Menor costo de toda la generación: 49002.4362\n",
      "Mayor costo de toda la generación: 68756.7857\n",
      "Tiempo de ejecución de la generación 0: 0.05500078201293945\n",
      "...................................................................\n",
      "...................................................................\n",
      "Generación: 1\n",
      "Costo promedio: 58248.957408999995\n",
      "Varianza del costo en la generación: 13317943.171662226\n",
      "Desviación estándar del costo en la generación: 3649.3757235535813\n",
      "Diversidad promedio: 16.831515151515152 genes\n",
      "Menor costo de toda la generación: 47237.9812\n",
      "Mayor costo de toda la generación: 63029.2756\n",
      "Tiempo de ejecución de la generación 1: 0.05384016036987305\n",
      "...................................................................\n",
      "...................................................................\n",
      "Generación: 2\n",
      "Costo promedio: 55695.558640999996\n",
      "Varianza del costo en la generación: 10949114.066775452\n",
      "Desviación estándar del costo en la generación: 3308.944554805271\n",
      "Diversidad promedio: 16.73151515151515 genes\n",
      "Menor costo de toda la generación: 47237.9812\n",
      "Mayor costo de toda la generación: 59749.8315\n",
      "Tiempo de ejecución de la generación 2: 0.03346967697143555\n",
      "...................................................................\n",
      "...................................................................\n",
      "Generación: 3\n",
      "Costo promedio: 53245.17759499999\n",
      "Varianza del costo en la generación: 9709749.822792936\n",
      "Desviación estándar del costo en la generación: 3116.04714707479\n",
      "Diversidad promedio: 16.65010101010101 genes\n",
      "Menor costo de toda la generación: 42980.0939\n",
      "Mayor costo de toda la generación: 57215.0897\n",
      "Tiempo de ejecución de la generación 3: 0.04622244834899902\n",
      "...................................................................\n",
      "...................................................................\n",
      "Generación: 4\n",
      "Costo promedio: 51354.96671999998\n",
      "Varianza del costo en la generación: 7955521.498991826\n",
      "Desviación estándar del costo en la generación: 2820.55340296755\n",
      "Diversidad promedio: 16.592121212121214 genes\n",
      "Menor costo de toda la generación: 41782.4954\n",
      "Mayor costo de toda la generación: 54971.0457\n",
      "Tiempo de ejecución de la generación 4: 0.05277657508850098\n",
      "...................................................................\n",
      "...................................................................\n",
      "Generación: 5\n",
      "Costo promedio: 49816.158561\n",
      "Varianza del costo en la generación: 7255803.07208532\n",
      "Desviación estándar del costo en la generación: 2693.659791452016\n",
      "Diversidad promedio: 16.55010101010101 genes\n",
      "Menor costo de toda la generación: 38484.7499\n",
      "Mayor costo de toda la generación: 53020.261\n",
      "Tiempo de ejecución de la generación 5: 0.052651166915893555\n",
      "...................................................................\n",
      "...................................................................\n",
      "Generación: 6\n",
      "Costo promedio: 48633.40197899999\n",
      "Varianza del costo en la generación: 8980194.878797093\n",
      "Desviación estándar del costo en la generación: 2996.6973285263716\n",
      "Diversidad promedio: 16.46242424242424 genes\n",
      "Menor costo de toda la generación: 36258.7975\n",
      "Mayor costo de toda la generación: 51776.0552\n",
      "Tiempo de ejecución de la generación 6: 0.026482105255126953\n",
      "...................................................................\n",
      "...................................................................\n",
      "Generación: 7\n",
      "Costo promedio: 47438.879333000004\n",
      "Varianza del costo en la generación: 8308867.348947168\n",
      "Desviación estándar del costo en la generación: 2882.510598236747\n",
      "Diversidad promedio: 16.297777777777778 genes\n",
      "Menor costo de toda la generación: 36258.7975\n",
      "Mayor costo de toda la generación: 50614.1034\n",
      "Tiempo de ejecución de la generación 7: 0.05554962158203125\n",
      "...................................................................\n",
      "...................................................................\n",
      "Generación: 8\n",
      "Costo promedio: 46245.42702900002\n",
      "Varianza del costo en la generación: 6904193.6844527675\n",
      "Desviación estándar del costo en la generación: 2627.5832402519177\n",
      "Diversidad promedio: 16.18808080808081 genes\n",
      "Menor costo de toda la generación: 36258.7975\n",
      "Mayor costo de toda la generación: 49552.8434\n",
      "Tiempo de ejecución de la generación 8: 0.029132366180419922\n",
      "...................................................................\n",
      "...................................................................\n",
      "Generación: 9\n",
      "Costo promedio: 45048.124772\n",
      "Varianza del costo en la generación: 7214028.332714247\n",
      "Desviación estándar del costo en la generación: 2685.894326423556\n",
      "Diversidad promedio: 16.078585858585857 genes\n",
      "Menor costo de toda la generación: 35846.1668\n",
      "Mayor costo de toda la generación: 48372.2445\n",
      "Tiempo de ejecución de la generación 9: 0.060422658920288086\n",
      "...................................................................\n",
      "...................................................................\n",
      "Generación: 10\n",
      "Costo promedio: 43840.809103\n",
      "Varianza del costo en la generación: 7502792.462051333\n",
      "Desviación estándar del costo en la generación: 2739.122571563991\n",
      "Diversidad promedio: 15.921414141414141 genes\n",
      "Menor costo de toda la generación: 35846.1668\n",
      "Mayor costo de toda la generación: 46968.5903\n",
      "Tiempo de ejecución de la generación 10: 0.03324556350708008\n",
      "...................................................................\n",
      "...................................................................\n",
      "Generación: 11\n",
      "Costo promedio: 42698.76081099999\n",
      "Varianza del costo en la generación: 5869716.3629147755\n",
      "Desviación estándar del costo en la generación: 2422.7497524331266\n",
      "Diversidad promedio: 15.7610101010101 genes\n",
      "Menor costo de toda la generación: 35846.1668\n",
      "Mayor costo de toda la generación: 45697.3067\n",
      "Tiempo de ejecución de la generación 11: 0.05093097686767578\n",
      "...................................................................\n",
      "...................................................................\n",
      "Generación: 12\n",
      "Costo promedio: 41400.69447399999\n",
      "Varianza del costo en la generación: 5979181.418005488\n",
      "Desviación estándar del costo en la generación: 2445.236474864034\n",
      "Diversidad promedio: 15.108282828282828 genes\n",
      "Menor costo de toda la generación: 34485.0656\n",
      "Mayor costo de toda la generación: 44479.0889\n",
      "Tiempo de ejecución de la generación 12: 0.031890153884887695\n",
      "...................................................................\n",
      "...................................................................\n",
      "Generación: 13\n",
      "Costo promedio: 40224.87230499999\n",
      "Varianza del costo en la generación: 5087523.817787903\n",
      "Desviación estándar del costo en la generación: 2255.5539935430284\n",
      "Diversidad promedio: 13.627474747474748 genes\n",
      "Menor costo de toda la generación: 34485.0656\n",
      "Mayor costo de toda la generación: 42980.0939\n",
      "Tiempo de ejecución de la generación 13: 0.05304527282714844\n",
      "...................................................................\n",
      "...................................................................\n",
      "Generación: 14\n",
      "Costo promedio: 39114.130304\n",
      "Varianza del costo en la generación: 4305302.896704721\n",
      "Desviación estándar del costo en la generación: 2074.9223832964744\n",
      "Diversidad promedio: 12.987272727272726 genes\n",
      "Menor costo de toda la generación: 34345.0009\n",
      "Mayor costo de toda la generación: 41350.0963\n",
      "Tiempo de ejecución de la generación 14: 0.02688741683959961\n",
      "...................................................................\n",
      "...................................................................\n",
      "Generación: 15\n",
      "Costo promedio: 38052.03224799999\n",
      "Varianza del costo en la generación: 2714248.3817046974\n",
      "Desviación estándar del costo en la generación: 1647.4976120482534\n",
      "Diversidad promedio: 13.295959595959596 genes\n",
      "Menor costo de toda la generación: 34038.3394\n",
      "Mayor costo de toda la generación: 40319.398\n",
      "Tiempo de ejecución de la generación 15: 0.06089305877685547\n",
      "...................................................................\n",
      "...................................................................\n",
      "Generación: 16\n",
      "Costo promedio: 37004.15417800004\n",
      "Varianza del costo en la generación: 2581403.9320282517\n",
      "Desviación estándar del costo en la generación: 1606.6748059356166\n",
      "Diversidad promedio: 12.927070707070706 genes\n",
      "Menor costo de toda la generación: 31732.0199\n",
      "Mayor costo de toda la generación: 38955.7842\n",
      "Tiempo de ejecución de la generación 16: 0.044620513916015625\n",
      "...................................................................\n",
      "...................................................................\n",
      "Generación: 17\n",
      "Costo promedio: 36096.93783199999\n",
      "Varianza del costo en la generación: 2193844.803099448\n",
      "Desviación estándar del costo en la generación: 1481.163327624421\n",
      "Diversidad promedio: 13.296565656565656 genes\n",
      "Menor costo de toda la generación: 31732.0199\n",
      "Mayor costo de toda la generación: 37837.0084\n",
      "Tiempo de ejecución de la generación 17: 0.045805931091308594\n",
      "...................................................................\n",
      "...................................................................\n",
      "Generación: 18\n",
      "Costo promedio: 35337.058601\n",
      "Varianza del costo en la generación: 1746519.1181563763\n",
      "Desviación estándar del costo en la generación: 1321.5593509776154\n",
      "Diversidad promedio: 13.715959595959596 genes\n",
      "Menor costo de toda la generación: 31732.0199\n",
      "Mayor costo de toda la generación: 37158.4339\n",
      "Tiempo de ejecución de la generación 18: 0.025149106979370117\n",
      "...................................................................\n",
      "...................................................................\n",
      "Generación: 19\n",
      "Costo promedio: 34614.11732700001\n",
      "Varianza del costo en la generación: 1764678.2550368467\n",
      "Desviación estándar del costo en la generación: 1328.4119297254322\n",
      "Diversidad promedio: 13.613333333333333 genes\n",
      "Menor costo de toda la generación: 30784.2973\n",
      "Mayor costo de toda la generación: 36260.3586\n",
      "Tiempo de ejecución de la generación 19: 0.022644758224487305\n",
      "...................................................................\n",
      "...................................................................\n",
      "Generación: 20\n",
      "Costo promedio: 33859.613198\n",
      "Varianza del costo en la generación: 1487751.3460156205\n",
      "Desviación estándar del costo en la generación: 1219.7341292329327\n",
      "Diversidad promedio: 13.453333333333333 genes\n",
      "Menor costo de toda la generación: 30280.0316\n",
      "Mayor costo de toda la generación: 35404.583\n",
      "Tiempo de ejecución de la generación 20: 0.04052329063415527\n",
      "...................................................................\n",
      "...................................................................\n",
      "Generación: 21\n",
      "Costo promedio: 33152.970412000024\n",
      "Varianza del costo en la generación: 1651481.0081670952\n",
      "Desviación estándar del costo en la generación: 1285.0996102120237\n",
      "Diversidad promedio: 12.923030303030304 genes\n",
      "Menor costo de toda la generación: 28749.2952\n",
      "Mayor costo de toda la generación: 34540.237\n",
      "Tiempo de ejecución de la generación 21: 0.024613142013549805\n",
      "...................................................................\n",
      "...................................................................\n",
      "Generación: 22\n",
      "Costo promedio: 32435.942786999993\n",
      "Varianza del costo en la generación: 1330117.775091099\n",
      "Desviación estándar del costo en la generación: 1153.3073203145375\n",
      "Diversidad promedio: 12.385252525252525 genes\n",
      "Menor costo de toda la generación: 28749.2952\n",
      "Mayor costo de toda la generación: 34019.1225\n",
      "Tiempo de ejecución de la generación 22: 0.03239583969116211\n",
      "...................................................................\n",
      "...................................................................\n",
      "Generación: 23\n",
      "Costo promedio: 31702.901819999995\n",
      "Varianza del costo en la generación: 1274273.5482071955\n",
      "Desviación estándar del costo en la generación: 1128.837254969553\n",
      "Diversidad promedio: 11.984646464646465 genes\n",
      "Menor costo de toda la generación: 27664.0265\n",
      "Mayor costo de toda la generación: 33091.5121\n",
      "Tiempo de ejecución de la generación 23: 0.035306453704833984\n",
      "...................................................................\n",
      "...................................................................\n",
      "Generación: 24\n",
      "Costo promedio: 31020.557084000007\n",
      "Varianza del costo en la generación: 1163106.3005923503\n",
      "Desviación estándar del costo en la generación: 1078.474061158798\n",
      "Diversidad promedio: 11.5589898989899 genes\n",
      "Menor costo de toda la generación: 27321.6152\n",
      "Mayor costo de toda la generación: 32237.3198\n",
      "Tiempo de ejecución de la generación 24: 0.03914070129394531\n",
      "...................................................................\n",
      "...................................................................\n",
      "Generación: 25\n",
      "Costo promedio: 30277.882421\n",
      "Varianza del costo en la generación: 931070.3887541902\n",
      "Desviación estándar del costo en la generación: 964.9198872207942\n",
      "Diversidad promedio: 10.965454545454545 genes\n",
      "Menor costo de toda la generación: 27321.6152\n",
      "Mayor costo de toda la generación: 31621.6026\n",
      "Tiempo de ejecución de la generación 25: 0.025407791137695312\n",
      "...................................................................\n",
      "...................................................................\n",
      "Generación: 26\n",
      "Costo promedio: 29586.328619000007\n",
      "Varianza del costo en la generación: 721479.65581955\n",
      "Desviación estándar del costo en la generación: 849.399585483505\n",
      "Diversidad promedio: 10.32121212121212 genes\n",
      "Menor costo de toda la generación: 27321.6152\n",
      "Mayor costo de toda la generación: 30784.2973\n",
      "Tiempo de ejecución de la generación 26: 0.036234378814697266\n",
      "...................................................................\n",
      "...................................................................\n",
      "Generación: 27\n",
      "Costo promedio: 29042.766665999996\n",
      "Varianza del costo en la generación: 506191.6413528175\n",
      "Desviación estándar del costo en la generación: 711.4714620789913\n",
      "Diversidad promedio: 9.53979797979798 genes\n",
      "Menor costo de toda la generación: 26801.5294\n",
      "Mayor costo de toda la generación: 29978.4564\n",
      "Tiempo de ejecución de la generación 27: 0.025045156478881836\n",
      "...................................................................\n",
      "...................................................................\n",
      "Generación: 28\n",
      "Costo promedio: 28562.539705000014\n",
      "Varianza del costo en la generación: 408572.17968032515\n",
      "Desviación estándar del costo en la generación: 639.1965110044994\n",
      "Diversidad promedio: 9.622828282828284 genes\n",
      "Menor costo de toda la generación: 26801.5294\n",
      "Mayor costo de toda la generación: 29370.6455\n",
      "Tiempo de ejecución de la generación 28: 0.04389357566833496\n",
      "...................................................................\n",
      "...................................................................\n",
      "Generación: 29\n",
      "Costo promedio: 28187.768815000014\n",
      "Varianza del costo en la generación: 274867.75882780587\n",
      "Desviación estándar del costo en la generación: 524.2783219128995\n",
      "Diversidad promedio: 8.612323232323233 genes\n",
      "Menor costo de toda la generación: 26801.5294\n",
      "Mayor costo de toda la generación: 28837.3898\n",
      "Tiempo de ejecución de la generación 29: 0.03143024444580078\n",
      "...................................................................\n",
      "...................................................................\n",
      "Generación: 30\n",
      "Costo promedio: 27823.632580000005\n",
      "Varianza del costo en la generación: 184404.4279482491\n",
      "Desviación estándar del costo en la generación: 429.42336679348165\n",
      "Diversidad promedio: 8.70888888888889 genes\n",
      "Menor costo de toda la generación: 26782.7301\n",
      "Mayor costo de toda la generación: 28455.4907\n",
      "Tiempo de ejecución de la generación 30: 0.028356313705444336\n",
      "...................................................................\n",
      "...................................................................\n",
      "Generación: 31\n",
      "Costo promedio: 27524.191593999996\n",
      "Varianza del costo en la generación: 141634.01323835674\n",
      "Desviación estándar del costo en la generación: 376.3429463114152\n",
      "Diversidad promedio: 8.324444444444444 genes\n",
      "Menor costo de toda la generación: 26106.6868\n",
      "Mayor costo de toda la generación: 27997.6584\n",
      "Tiempo de ejecución de la generación 31: 0.05024528503417969\n",
      "...................................................................\n",
      "...................................................................\n",
      "Generación: 32\n",
      "Costo promedio: 27188.493118000017\n",
      "Varianza del costo en la generación: 202594.04551295334\n",
      "Desviación estándar del costo en la generación: 450.1044828847557\n",
      "Diversidad promedio: 7.184444444444445 genes\n",
      "Menor costo de toda la generación: 25841.6747\n",
      "Mayor costo de toda la generación: 27664.0265\n",
      "Tiempo de ejecución de la generación 32: 0.0497283935546875\n",
      "...................................................................\n",
      "...................................................................\n",
      "Generación: 33\n",
      "Costo promedio: 26880.67154899999\n",
      "Varianza del costo en la generación: 196254.60294797932\n",
      "Desviación estándar del costo en la generación: 443.00632382391484\n",
      "Diversidad promedio: 5.485050505050505 genes\n",
      "Menor costo de toda la generación: 25841.6747\n",
      "Mayor costo de toda la generación: 27321.6152\n",
      "Tiempo de ejecución de la generación 33: 0.05589103698730469\n",
      "...................................................................\n",
      "...................................................................\n",
      "Generación: 34\n",
      "Costo promedio: 26571.158181\n",
      "Varianza del costo en la generación: 194337.24888757538\n",
      "Desviación estándar del costo en la generación: 440.83698675085714\n",
      "Diversidad promedio: 4.666464646464647 genes\n",
      "Menor costo de toda la generación: 25841.6747\n",
      "Mayor costo de toda la generación: 27056.603\n",
      "Tiempo de ejecución de la generación 34: 0.036133766174316406\n",
      "...................................................................\n",
      "...................................................................\n",
      "Generación: 35\n",
      "Costo promedio: 26216.70598699996\n",
      "Varianza del costo en la generación: 128417.77157637484\n",
      "Desviación estándar del costo en la generación: 358.35425430204515\n",
      "Diversidad promedio: 3.124040404040404 genes\n",
      "Menor costo de toda la generación: 25841.6747\n",
      "Mayor costo de toda la generación: 26835.7635\n",
      "Tiempo de ejecución de la generación 35: 0.03310871124267578\n",
      "...................................................................\n",
      "...................................................................\n",
      "Generación: 36\n",
      "Costo promedio: 25923.748304999954\n",
      "Varianza del costo en la generación: 9871.217498568461\n",
      "Desviación estándar del costo en la generación: 99.3540009187776\n",
      "Diversidad promedio: 1.5397979797979797 genes\n",
      "Menor costo de toda la generación: 25841.6747\n",
      "Mayor costo de toda la generación: 26106.6868\n",
      "Tiempo de ejecución de la generación 36: 0.045641422271728516\n",
      "...................................................................\n",
      "...................................................................\n",
      "Generación: 37\n",
      "Costo promedio: 25843.436590000005\n",
      "Varianza del costo en la generación: 152.1085622328974\n",
      "Desviación estándar del costo en la generación: 12.333229999999896\n",
      "Diversidad promedio: 0.07919191919191919 genes\n",
      "Menor costo de toda la generación: 25841.6747\n",
      "Mayor costo de toda la generación: 25929.7692\n",
      "Tiempo de ejecución de la generación 37: 0.023550987243652344\n",
      "...................................................................\n",
      "--------------------------------------------------------------------\n",
      "Tiempo de ejecución para la población #4: 1.5173068046569824\n",
      "===================================================================\n",
      "===================================================================\n",
      "Población inicial #5\n",
      "Costo promedio inicial 68891.1662\n",
      "...................................................................\n",
      "Generación: 0\n",
      "Costo promedio: 62843.723355\n",
      "Varianza del costo en la generación: 20498510.1903474\n",
      "Desviación estándar del costo en la generación: 4527.528044125999\n",
      "Diversidad promedio: 16.91979797979798 genes\n",
      "Menor costo de toda la generación: 48752.4121\n",
      "Mayor costo de toda la generación: 69286.4243\n",
      "Tiempo de ejecución de la generación 0: 0.03582572937011719\n",
      "...................................................................\n",
      "...................................................................\n",
      "Generación: 1\n",
      "Costo promedio: 59059.507859\n",
      "Varianza del costo en la generación: 17028390.358245693\n",
      "Desviación estándar del costo en la generación: 4126.547026055282\n",
      "Diversidad promedio: 16.83878787878788 genes\n",
      "Menor costo de toda la generación: 41025.6377\n",
      "Mayor costo de toda la generación: 64319.4362\n",
      "Tiempo de ejecución de la generación 1: 0.04432964324951172\n",
      "...................................................................\n",
      "...................................................................\n",
      "Generación: 2\n",
      "Costo promedio: 56738.57354100003\n",
      "Varianza del costo en la generación: 13449528.86818766\n",
      "Desviación estándar del costo en la generación: 3667.359931638516\n",
      "Diversidad promedio: 16.765454545454546 genes\n",
      "Menor costo de toda la generación: 41025.6377\n",
      "Mayor costo de toda la generación: 61046.7231\n",
      "Tiempo de ejecución de la generación 2: 0.0301516056060791\n",
      "...................................................................\n",
      "...................................................................\n",
      "Generación: 3\n",
      "Costo promedio: 54889.13281500004\n",
      "Varianza del costo en la generación: 11900090.088822883\n",
      "Desviación estándar del costo en la generación: 3449.6507198298905\n",
      "Diversidad promedio: 16.64868686868687 genes\n",
      "Menor costo de toda la generación: 41025.6377\n",
      "Mayor costo de toda la generación: 59005.0694\n",
      "Tiempo de ejecución de la generación 3: 0.040880680084228516\n",
      "...................................................................\n",
      "...................................................................\n",
      "Generación: 4\n",
      "Costo promedio: 52648.32619700001\n",
      "Varianza del costo en la generación: 8934013.991904862\n",
      "Desviación estándar del costo en la generación: 2988.982099629381\n",
      "Diversidad promedio: 16.432525252525252 genes\n",
      "Menor costo de toda la generación: 41025.6377\n",
      "Mayor costo de toda la generación: 56819.0767\n",
      "Tiempo de ejecución de la generación 4: 0.028314590454101562\n",
      "...................................................................\n",
      "...................................................................\n",
      "Generación: 5\n",
      "Costo promedio: 50542.90981199998\n",
      "Varianza del costo en la generación: 8895455.716343926\n",
      "Desviación estándar del costo en la generación: 2982.5250571192064\n",
      "Diversidad promedio: 16.23050505050505 genes\n",
      "Menor costo de toda la generación: 40648.8089\n",
      "Mayor costo de toda la generación: 54167.4617\n",
      "Tiempo de ejecución de la generación 5: 0.04755830764770508\n",
      "...................................................................\n",
      "...................................................................\n",
      "Generación: 6\n",
      "Costo promedio: 48510.649577000004\n",
      "Varianza del costo en la generación: 9297757.713839537\n",
      "Desviación estándar del costo en la generación: 3049.222476934003\n",
      "Diversidad promedio: 15.911111111111111 genes\n",
      "Menor costo de toda la generación: 38440.4976\n",
      "Mayor costo de toda la generación: 52030.738\n",
      "Tiempo de ejecución de la generación 6: 0.031231164932250977\n",
      "...................................................................\n",
      "...................................................................\n",
      "Generación: 7\n",
      "Costo promedio: 46719.42418300001\n",
      "Varianza del costo en la generación: 10576386.663915899\n",
      "Desviación estándar del costo en la generación: 3252.1357081025844\n",
      "Diversidad promedio: 15.641818181818183 genes\n",
      "Menor costo de toda la generación: 33643.3377\n",
      "Mayor costo de toda la generación: 49856.4094\n",
      "Tiempo de ejecución de la generación 7: 0.03333330154418945\n",
      "...................................................................\n",
      "...................................................................\n",
      "Generación: 8\n",
      "Costo promedio: 45149.717143\n",
      "Varianza del costo en la generación: 10770019.81967656\n",
      "Desviación estándar del costo en la generación: 3281.7708359476533\n",
      "Diversidad promedio: 15.333939393939394 genes\n",
      "Menor costo de toda la generación: 33643.3377\n",
      "Mayor costo de toda la generación: 48566.0739\n",
      "Tiempo de ejecución de la generación 8: 0.04166364669799805\n",
      "...................................................................\n",
      "...................................................................\n",
      "Generación: 9\n",
      "Costo promedio: 43880.07196299999\n",
      "Varianza del costo en la generación: 8856131.15986097\n",
      "Desviación estándar del costo en la generación: 2975.9252611349248\n",
      "Diversidad promedio: 14.98060606060606 genes\n",
      "Menor costo de toda la generación: 33643.3377\n",
      "Mayor costo de toda la generación: 47325.7984\n",
      "Tiempo de ejecución de la generación 9: 0.03606748580932617\n",
      "...................................................................\n",
      "...................................................................\n",
      "Generación: 10\n",
      "Costo promedio: 41978.48301399999\n",
      "Varianza del costo en la generación: 7674168.2415586235\n",
      "Desviación estándar del costo en la generación: 2770.228915010206\n",
      "Diversidad promedio: 14.30949494949495 genes\n",
      "Menor costo de toda la generación: 33643.3377\n",
      "Mayor costo de toda la generación: 45860.6183\n",
      "Tiempo de ejecución de la generación 10: 0.039130449295043945\n",
      "...................................................................\n",
      "...................................................................\n",
      "Generación: 11\n",
      "Costo promedio: 40006.358276000006\n",
      "Varianza del costo en la generación: 5356676.539549358\n",
      "Desviación estándar del costo en la generación: 2314.4495111255633\n",
      "Diversidad promedio: 13.852525252525252 genes\n",
      "Menor costo de toda la generación: 33592.8789\n",
      "Mayor costo de toda la generación: 43001.4576\n",
      "Tiempo de ejecución de la generación 11: 0.0605776309967041\n",
      "...................................................................\n",
      "...................................................................\n",
      "Generación: 12\n",
      "Costo promedio: 38925.049694\n",
      "Varianza del costo en la generación: 3970790.274841191\n",
      "Desviación estándar del costo en la generación: 1992.6841884355863\n",
      "Diversidad promedio: 12.927070707070706 genes\n",
      "Menor costo de toda la generación: 33592.8789\n",
      "Mayor costo de toda la generación: 41396.5003\n",
      "Tiempo de ejecución de la generación 12: 0.03632855415344238\n",
      "...................................................................\n",
      "...................................................................\n",
      "Generación: 13\n",
      "Costo promedio: 37594.73889799999\n",
      "Varianza del costo en la generación: 3079899.4489964787\n",
      "Desviación estándar del costo en la generación: 1754.9642301188019\n",
      "Diversidad promedio: 12.106464646464646 genes\n",
      "Menor costo de toda la generación: 33287.0507\n",
      "Mayor costo de toda la generación: 39934.1449\n",
      "Tiempo de ejecución de la generación 13: 0.04264116287231445\n",
      "...................................................................\n",
      "...................................................................\n",
      "Generación: 14\n",
      "Costo promedio: 36598.42254599998\n",
      "Varianza del costo en la generación: 1887517.9512852104\n",
      "Desviación estándar del costo en la generación: 1373.8696995294752\n",
      "Diversidad promedio: 11.39050505050505 genes\n",
      "Menor costo de toda la generación: 33125.7252\n",
      "Mayor costo de toda la generación: 38440.4976\n",
      "Tiempo de ejecución de la generación 14: 0.027888774871826172\n",
      "...................................................................\n",
      "...................................................................\n",
      "Generación: 15\n",
      "Costo promedio: 35713.82873599998\n",
      "Varianza del costo en la generación: 1331890.055419104\n",
      "Desviación estándar del costo en la generación: 1154.0754114957583\n",
      "Diversidad promedio: 11.24868686868687 genes\n",
      "Menor costo de toda la generación: 31357.3203\n",
      "Mayor costo de toda la generación: 37000.8125\n",
      "Tiempo de ejecución de la generación 15: 0.026826143264770508\n",
      "...................................................................\n",
      "...................................................................\n",
      "Generación: 16\n",
      "Costo promedio: 34916.182372999996\n",
      "Varianza del costo en la generación: 1848993.152645209\n",
      "Desviación estándar del costo en la generación: 1359.776876051806\n",
      "Diversidad promedio: 11.438585858585858 genes\n",
      "Menor costo de toda la generación: 31171.4529\n",
      "Mayor costo de toda la generación: 36568.477\n",
      "Tiempo de ejecución de la generación 16: 0.02818751335144043\n",
      "...................................................................\n",
      "...................................................................\n",
      "Generación: 17\n",
      "Costo promedio: 34126.19689199999\n",
      "Varianza del costo en la generación: 1677571.2520240052\n",
      "Desviación estándar del costo en la generación: 1295.2108909455653\n",
      "Diversidad promedio: 11.134949494949495 genes\n",
      "Menor costo de toda la generación: 30469.9083\n",
      "Mayor costo de toda la generación: 35683.6047\n",
      "Tiempo de ejecución de la generación 17: 0.027768373489379883\n",
      "...................................................................\n",
      "...................................................................\n",
      "Generación: 18\n",
      "Costo promedio: 33383.048143\n",
      "Varianza del costo en la generación: 1072741.018466265\n",
      "Desviación estándar del costo en la generación: 1035.732117135635\n",
      "Diversidad promedio: 11.017575757575758 genes\n",
      "Menor costo de toda la generación: 30469.9083\n",
      "Mayor costo de toda la generación: 34789.9048\n",
      "Tiempo de ejecución de la generación 18: 0.034287214279174805\n",
      "...................................................................\n",
      "...................................................................\n",
      "Generación: 19\n",
      "Costo promedio: 32794.53458199999\n",
      "Varianza del costo en la generación: 1032024.3804782792\n",
      "Desviación estándar del costo en la generación: 1015.8860076200868\n",
      "Diversidad promedio: 10.920808080808081 genes\n",
      "Menor costo de toda la generación: 28808.9724\n",
      "Mayor costo de toda la generación: 33843.8748\n",
      "Tiempo de ejecución de la generación 19: 0.05578327178955078\n",
      "...................................................................\n",
      "...................................................................\n",
      "Generación: 20\n",
      "Costo promedio: 32268.413189999992\n",
      "Varianza del costo en la generación: 1066342.7060713675\n",
      "Desviación estándar del costo en la generación: 1032.638710329691\n",
      "Diversidad promedio: 10.536161616161616 genes\n",
      "Menor costo de toda la generación: 28702.9442\n",
      "Mayor costo de toda la generación: 33445.36\n",
      "Tiempo de ejecución de la generación 20: 0.028636455535888672\n",
      "...................................................................\n",
      "...................................................................\n",
      "Generación: 21\n",
      "Costo promedio: 31807.541515999994\n",
      "Varianza del costo en la generación: 919537.4934816037\n",
      "Desviación estándar del costo en la generación: 958.9251761642322\n",
      "Diversidad promedio: 10.043838383838384 genes\n",
      "Menor costo de toda la generación: 28702.9442\n",
      "Mayor costo de toda la generación: 33047.7544\n",
      "Tiempo de ejecución de la generación 21: 0.043175697326660156\n",
      "...................................................................\n",
      "...................................................................\n",
      "Generación: 22\n",
      "Costo promedio: 31343.14001600003\n",
      "Varianza del costo en la generación: 680360.5509796767\n",
      "Desviación estándar del costo en la generación: 824.8397122954718\n",
      "Diversidad promedio: 9.728282828282829 genes\n",
      "Menor costo de toda la generación: 28702.9442\n",
      "Mayor costo de toda la generación: 32390.2749\n",
      "Tiempo de ejecución de la generación 22: 0.03676915168762207\n",
      "...................................................................\n",
      "...................................................................\n",
      "Generación: 23\n",
      "Costo promedio: 30967.147530999962\n",
      "Varianza del costo en la generación: 546463.3767778055\n",
      "Desviación estándar del costo en la generación: 739.2316124042624\n",
      "Diversidad promedio: 9.698181818181817 genes\n",
      "Menor costo de toda la generación: 28702.9442\n",
      "Mayor costo de toda la generación: 31759.8095\n",
      "Tiempo de ejecución de la generación 23: 0.029599666595458984\n",
      "...................................................................\n",
      "...................................................................\n",
      "Generación: 24\n",
      "Costo promedio: 30637.195432999953\n",
      "Varianza del costo en la generación: 576455.8935448466\n",
      "Desviación estándar del costo en la generación: 759.2469252784937\n",
      "Diversidad promedio: 9.288484848484849 genes\n",
      "Menor costo de toda la generación: 27993.7255\n",
      "Mayor costo de toda la generación: 31413.4568\n",
      "Tiempo de ejecución de la generación 24: 0.0337216854095459\n",
      "...................................................................\n",
      "...................................................................\n",
      "Generación: 25\n",
      "Costo promedio: 30281.228191\n",
      "Varianza del costo en la generación: 609338.4079880132\n",
      "Desviación estándar del costo en la generación: 780.6013118026469\n",
      "Diversidad promedio: 8.925858585858586 genes\n",
      "Menor costo de toda la generación: 27993.7255\n",
      "Mayor costo de toda la generación: 31124.5309\n",
      "Tiempo de ejecución de la generación 25: 0.05682945251464844\n",
      "...................................................................\n",
      "...................................................................\n",
      "Generación: 26\n",
      "Costo promedio: 29804.286712999994\n",
      "Varianza del costo en la generación: 683021.0210147097\n",
      "Desviación estándar del costo en la generación: 826.4508581970919\n",
      "Diversidad promedio: 8.353333333333333 genes\n",
      "Menor costo de toda la generación: 27993.7255\n",
      "Mayor costo de toda la generación: 30700.1872\n",
      "Tiempo de ejecución de la generación 26: 0.03269529342651367\n",
      "...................................................................\n",
      "...................................................................\n",
      "Generación: 27\n",
      "Costo promedio: 29161.445414999995\n",
      "Varianza del costo en la generación: 495175.8774545216\n",
      "Desviación estándar del costo en la generación: 703.687343537257\n",
      "Diversidad promedio: 7.646868686868687 genes\n",
      "Menor costo de toda la generación: 27993.7255\n",
      "Mayor costo de toda la generación: 30235.9952\n",
      "Tiempo de ejecución de la generación 27: 0.04141688346862793\n",
      "...................................................................\n",
      "...................................................................\n",
      "Generación: 28\n",
      "Costo promedio: 28583.532008999988\n",
      "Varianza del costo en la generación: 114973.30829743514\n",
      "Desviación estándar del costo en la generación: 339.0771421040279\n",
      "Diversidad promedio: 5.697373737373737 genes\n",
      "Menor costo de toda la generación: 27970.1376\n",
      "Mayor costo de toda la generación: 29260.0826\n",
      "Tiempo de ejecución de la generación 28: 0.023527145385742188\n",
      "...................................................................\n",
      "...................................................................\n",
      "Generación: 29\n",
      "Costo promedio: 28298.001402000027\n",
      "Varianza del costo en la generación: 72989.28968131747\n",
      "Desviación estándar del costo en la generación: 270.1653006611276\n",
      "Diversidad promedio: 5.423838383838384 genes\n",
      "Menor costo de toda la generación: 27077.3008\n",
      "Mayor costo de toda la generación: 28679.4024\n",
      "Tiempo de ejecución de la generación 29: 0.04024195671081543\n",
      "...................................................................\n",
      "...................................................................\n",
      "Generación: 30\n",
      "Costo promedio: 28092.784453999986\n",
      "Varianza del costo en la generación: 27038.17908516778\n",
      "Desviación estándar del costo en la generación: 164.43290146794766\n",
      "Diversidad promedio: 4.411313131313132 genes\n",
      "Menor costo de toda la generación: 27077.3008\n",
      "Mayor costo de toda la generación: 28247.6939\n",
      "Tiempo de ejecución de la generación 30: 0.06060028076171875\n",
      "...................................................................\n",
      "...................................................................\n",
      "Generación: 31\n",
      "Costo promedio: 28005.95950499999\n",
      "Varianza del costo en la generación: 61044.54772581456\n",
      "Desviación estándar del costo en la generación: 247.0719484802242\n",
      "Diversidad promedio: 3.6173737373737374 genes\n",
      "Menor costo de toda la generación: 26391.6239\n",
      "Mayor costo de toda la generación: 28123.2955\n",
      "Tiempo de ejecución de la generación 31: 0.022202014923095703\n",
      "...................................................................\n",
      "--------------------------------------------------------------------\n",
      "Tiempo de ejecución para la población #5: 1.1981909275054932\n",
      "===================================================================\n",
      "===================================================================\n",
      "Tiempo de experimentación: 9.788135528564453\n",
      "\n"
     ]
    }
   ],
   "source": [
    "exp_res_file = f\"../files/act_2/Resultados/{exp_name1}.pkl\"\n",
    "if not os.path.exists(exp_res_file):\n",
    "    resultados1, tiempo_ejecucion1 = experimentacion(\n",
    "        poblaciones_iniciales=pobs,\n",
    "        max_gen=max_gen_,\n",
    "        op_seleccion=1,\n",
    "        op_cruza=3,\n",
    "        mode=\"min\",\n",
    "        mutar=False,\n",
    "        log_file=exp_name1\n",
    "    )\n",
    "else:\n",
    "    try:\n",
    "        with open(exp_res_file,\"rb\") as f:\n",
    "            resultados1 = pickle.load(f)\n",
    "            tiempo_ejecucion1 = 0\n",
    "    except Exception as e:\n",
    "        print(f\"Error al cargar el archivo {exp_res_file}: {e}\")\n",
    "    "
   ]
  },
  {
   "cell_type": "code",
   "execution_count": null,
   "metadata": {},
   "outputs": [],
   "source": [
    "create_excel_hist(resultados1,exp_name1)\n",
    "save_results(exp_name1,resultados1)"
   ]
  },
  {
   "cell_type": "code",
   "execution_count": null,
   "metadata": {},
   "outputs": [],
   "source": [
    "\n",
    "exp_res_file = f\"../files/act_2/Resultados/{exp_name2}.pkl\"\n",
    "if not os.path.exists(exp_res_file):\n",
    "    resultados2, tiempo_ejecucion2 = experimentacion(\n",
    "        poblaciones_iniciales=pobs,\n",
    "        max_gen=max_gen_,\n",
    "        op_seleccion=1,\n",
    "        op_cruza=3,\n",
    "        mode=\"min\",\n",
    "        mutar=False,\n",
    "    )\n",
    "else:\n",
    "    try:\n",
    "        with open(exp_res_file,\"rb\") as f:\n",
    "            resultados2 = pickle.load(f)\n",
    "            tiempo_ejecucion2 = 0\n",
    "    except Exception as e:\n",
    "        print(f\"Error al cargar el archivo {exp_res_file}: {e}\")"
   ]
  },
  {
   "cell_type": "code",
   "execution_count": 106,
   "metadata": {},
   "outputs": [],
   "source": [
    "create_excel_hist(resultados2,exp_name2)\n",
    "save_results(exp_name2,resultados2)"
   ]
  },
  {
   "cell_type": "code",
   "execution_count": null,
   "metadata": {},
   "outputs": [],
   "source": [
    "show_report(resultados1, max_gen_, msg=f\"Resultados {exp_name1} mutación\")"
   ]
  },
  {
   "cell_type": "code",
   "execution_count": null,
   "metadata": {},
   "outputs": [],
   "source": [
    "show_report(resultados2, max_gen_, msg=f\"Resultados {exp_name2} sin mutación\")"
   ]
  },
  {
   "cell_type": "markdown",
   "metadata": {},
   "source": [
    "### 2 Combinación\n",
    "> #### Primer combinación de operadores\n",
    ">- Selección Monogámica\n",
    ">- Cruza CX\n",
    ">- Mutación Scramble\n",
    ">"
   ]
  },
  {
   "cell_type": "code",
   "execution_count": 25,
   "metadata": {},
   "outputs": [],
   "source": [
    "#5 poblaciones de 100 individuos, con mutacion y primer combinacion de operadores\n",
    "exp_name3 = \"pob_5_100_2comb_mut\"\n",
    "exp_name4 = \"pob_5_100_2comb_no_mut\"\n",
    "max_gen_ = 40"
   ]
  },
  {
   "cell_type": "code",
   "execution_count": null,
   "metadata": {},
   "outputs": [],
   "source": [
    "exp_res_file = f\"../files/act_2/Resultados/{exp_name3}.pkl\"\n",
    "if not os.path.exists(exp_res_file):\n",
    "    resultados3, tiempo_ejecucion3 = experimentacion(\n",
    "        poblaciones_iniciales=pobs,\n",
    "        max_gen=max_gen_,\n",
    "        op_seleccion=1,\n",
    "        op_cruza=4,\n",
    "        op_mutation=1,\n",
    "        mode=\"min\",\n",
    "        mutar=True,\n",
    "    )\n",
    "else:\n",
    "    try:\n",
    "        with open(exp_res_file, \"rb\") as f:\n",
    "            resultados3 = pickle.load(f)\n",
    "            tiempo_ejecucion3 = 0\n",
    "    except Exception as e:\n",
    "        print(f\"Error al cargar el archivo {exp_res_file}: {e}\")"
   ]
  },
  {
   "cell_type": "code",
   "execution_count": 27,
   "metadata": {},
   "outputs": [],
   "source": [
    "create_excel_hist(resultados3,exp_name3)\n",
    "save_results(exp_name3,resultados3)"
   ]
  },
  {
   "cell_type": "code",
   "execution_count": null,
   "metadata": {},
   "outputs": [],
   "source": [
    "exp_res_file = f\"../files/act_2/Resultados/{exp_name4}.pkl\"\n",
    "if not os.path.exists(exp_res_file):\n",
    "    resultados4, tiempo_ejecucion4 = experimentacion(\n",
    "        poblaciones_iniciales=pobs,\n",
    "        max_gen=max_gen_,\n",
    "        op_seleccion=1,\n",
    "        op_cruza=4,\n",
    "        op_mutation=1,\n",
    "        mode=\"min\",\n",
    "        mutar=False,\n",
    "    )\n",
    "else:\n",
    "    try:\n",
    "        with open(exp_res_file, \"rb\") as f:\n",
    "            resultados4 = pickle.load(f)\n",
    "            tiempo_ejecucion4 = 0\n",
    "    except Exception as e:\n",
    "        print(f\"Error al cargar el archivo {exp_res_file}: {e}\")"
   ]
  },
  {
   "cell_type": "code",
   "execution_count": 29,
   "metadata": {},
   "outputs": [],
   "source": [
    "create_excel_hist(resultados4,exp_name4)\n",
    "save_results(exp_name4,resultados4)"
   ]
  },
  {
   "cell_type": "code",
   "execution_count": null,
   "metadata": {},
   "outputs": [],
   "source": [
    "show_report(resultados3, max_gen_, msg=f\"Resultados {exp_name3} mutación\")"
   ]
  },
  {
   "cell_type": "code",
   "execution_count": null,
   "metadata": {},
   "outputs": [],
   "source": [
    "show_report(resultados4, max_gen_, msg=f\"Resultados {exp_name4} mutación\")"
   ]
  },
  {
   "cell_type": "markdown",
   "metadata": {},
   "source": [
    "### 3 Combinación\n",
    "> #### Tercer combinación de operadores\n",
    ">- Selección Ruleta\n",
    ">- Cruza CX\n",
    ">- Mutación Heuristica"
   ]
  },
  {
   "cell_type": "code",
   "execution_count": 32,
   "metadata": {},
   "outputs": [],
   "source": [
    "#5 poblaciones de 100 individuos, con mutacion y primer combinacion de operadores\n",
    "exp_name5 = \"pob_5_100_3comb_mut\"\n",
    "exp_name6 = \"pob_5_100_3comb_no_mut\"\n",
    "max_gen_ = 40"
   ]
  },
  {
   "cell_type": "code",
   "execution_count": null,
   "metadata": {},
   "outputs": [],
   "source": [
    "exp_res_file = f\"../files/act_2/Resultados/{exp_name5}.pkl\"\n",
    "if not os.path.exists(exp_res_file):\n",
    "    resultados5, tiempo_ejecucion5 = experimentacion(\n",
    "        poblaciones_iniciales=pobs,\n",
    "        max_gen=max_gen_,\n",
    "        op_seleccion=0,\n",
    "        op_cruza=4,\n",
    "        mode=\"min\",\n",
    "        mutar=True,\n",
    "    )\n",
    "else:\n",
    "    try:\n",
    "        with open(exp_res_file, \"rb\") as f:\n",
    "            resultados5 = pickle.load(f)\n",
    "            tiempo_ejecucion5 = 0\n",
    "    except Exception as e:\n",
    "        print(f\"Error al cargar el archivo {exp_res_file}: {e}\")"
   ]
  },
  {
   "cell_type": "code",
   "execution_count": 34,
   "metadata": {},
   "outputs": [],
   "source": [
    "create_excel_hist(resultados5,exp_name5)\n",
    "save_results(exp_name5,resultados5)"
   ]
  },
  {
   "cell_type": "code",
   "execution_count": null,
   "metadata": {},
   "outputs": [],
   "source": [
    "exp_res_file = f\"../files/act_2/Resultados/{exp_name6}.pkl\"\n",
    "if not os.path.exists(exp_res_file):\n",
    "    resultados6, tiempo_ejecucion6 = experimentacion(\n",
    "        poblaciones_iniciales=pobs,\n",
    "        max_gen=max_gen_,\n",
    "        op_seleccion=0,\n",
    "        op_cruza=4,\n",
    "        mode=\"min\",\n",
    "        mutar=False,\n",
    "    )\n",
    "else:\n",
    "    try:\n",
    "        with open(exp_res_file, \"rb\") as f:\n",
    "            resultados6 = pickle.load(f)\n",
    "            tiempo_ejecucion6 = 0\n",
    "    except Exception as e:\n",
    "        print(f\"Error al cargar el archivo {exp_res_file}: {e}\")\n",
    "    "
   ]
  },
  {
   "cell_type": "code",
   "execution_count": 36,
   "metadata": {},
   "outputs": [],
   "source": [
    "create_excel_hist(resultados6,exp_name6)\n",
    "save_results(exp_name6,resultados6)"
   ]
  },
  {
   "cell_type": "code",
   "execution_count": null,
   "metadata": {},
   "outputs": [],
   "source": [
    "show_report(resultados5, max_gen_, msg=f\"Resultados {exp_name5} mutación\")"
   ]
  },
  {
   "cell_type": "code",
   "execution_count": null,
   "metadata": {},
   "outputs": [],
   "source": [
    "show_report(resultados6, max_gen_, msg=f\"Resultados {exp_name6} mutación\")"
   ]
  },
  {
   "cell_type": "markdown",
   "metadata": {},
   "source": [
    "### 4 Combinación\n",
    "\n",
    "> #### Cuarta combinación de operadores\n",
    ">- Selección Ruleta\n",
    ">- Cruza PMX\n",
    ">- Mutación Scramble\n"
   ]
  },
  {
   "cell_type": "code",
   "execution_count": 39,
   "metadata": {},
   "outputs": [],
   "source": [
    "#5 poblaciones de 100 individuos, con mutacion y primer combinacion de operadores\n",
    "exp_name7 = \"pob_5_100_4comb_mut\"\n",
    "exp_name8 = \"pob_5_100_4comb_no_mut\"\n",
    "max_gen_ = 40"
   ]
  },
  {
   "cell_type": "code",
   "execution_count": null,
   "metadata": {},
   "outputs": [],
   "source": [
    "exp_res_file = f\"../files/act_2/Resultados/{exp_name7}.pkl\"\n",
    "if not os.path.exists(exp_res_file):\n",
    "    resultados7, tiempo_ejecucion7 = experimentacion(\n",
    "        poblaciones_iniciales=pobs,\n",
    "        max_gen=max_gen_,\n",
    "        op_seleccion=0,\n",
    "        op_cruza=3,\n",
    "        op_mutation=1, \n",
    "        mode=\"min\",\n",
    "        mutar=True,\n",
    "    )\n",
    "else:\n",
    "    try:\n",
    "        with open(exp_res_file,\"rb\") as f:\n",
    "            resultados7 = pickle.load(f)\n",
    "            tiempo_ejecucion7 = 0\n",
    "    except Exception as e:\n",
    "        print(f\"Error al cargar el archivo {exp_res_file}: {e}\")"
   ]
  },
  {
   "cell_type": "code",
   "execution_count": 41,
   "metadata": {},
   "outputs": [],
   "source": [
    "create_excel_hist(resultados7,exp_name7)\n",
    "save_results(exp_name7,resultados7)"
   ]
  },
  {
   "cell_type": "code",
   "execution_count": null,
   "metadata": {},
   "outputs": [],
   "source": [
    "exp_res_file = f\"../files/act_2/Resultados/{exp_name8}.pkl\"\n",
    "if not os.path.exists(exp_res_file):\n",
    "    resultados8, tiempo_ejecucion8 = experimentacion(\n",
    "        poblaciones_iniciales=pobs,\n",
    "        max_gen=max_gen_,\n",
    "        op_seleccion=0,\n",
    "        op_cruza=3,\n",
    "        op_mutation=1, \n",
    "        mode=\"min\",\n",
    "        mutar=True,\n",
    "    )\n",
    "else:\n",
    "    try:\n",
    "        with open(exp_res_file,\"rb\") as f:\n",
    "            resultados8 = pickle.load(f)\n",
    "            tiempo_ejecucion8 = 0\n",
    "    except Exception as e:\n",
    "        print(f\"Error al cargar el archivo {exp_res_file}: {e}\")"
   ]
  },
  {
   "cell_type": "code",
   "execution_count": 43,
   "metadata": {},
   "outputs": [],
   "source": [
    "create_excel_hist(resultados8,exp_name8)\n",
    "save_results(exp_name8,resultados8)"
   ]
  },
  {
   "cell_type": "code",
   "execution_count": null,
   "metadata": {},
   "outputs": [],
   "source": [
    "show_report(resultados7, max_gen_, msg=f\"Resultados {exp_name7} mutación\")"
   ]
  },
  {
   "cell_type": "code",
   "execution_count": null,
   "metadata": {},
   "outputs": [],
   "source": [
    "show_report(resultados8, max_gen_, msg=f\"Resultados {exp_name8} mutación\")"
   ]
  },
  {
   "cell_type": "markdown",
   "metadata": {},
   "source": [
    "## 7 POBLACIONES CON 100 INDIVIDUOS"
   ]
  },
  {
   "cell_type": "code",
   "execution_count": null,
   "metadata": {},
   "outputs": [],
   "source": [
    "POB_FILE = \"files\\\\act_2\\\\poblaciones\\\\pob_7_100.pkl\"\n",
    "pobs = get_poblaciones_iniciales(n=7,tam_pob=100)\n",
    "intial_stats(pobs,f\"Estadísticas de las {7} poblaciones con {100} individuos\")"
   ]
  },
  {
   "cell_type": "markdown",
   "metadata": {},
   "source": [
    "### 1 Combinación\n",
    "> #### Primer combinación de operadores\n",
    ">- Selección Monogámica\n",
    ">- Cruza PMX\n",
    ">- Mutación heurística\n",
    ">"
   ]
  },
  {
   "cell_type": "code",
   "execution_count": 47,
   "metadata": {},
   "outputs": [],
   "source": [
    "#7 poblaciones de 100 individuos, con mutacion y primer combinacion de operadores\n",
    "exp_name9 = \"pob_7_100_1comb_mut\"\n",
    "exp_name10 = \"pob_7_100_1comb_no_mut\"\n",
    "max_gen_ = 40"
   ]
  },
  {
   "cell_type": "code",
   "execution_count": null,
   "metadata": {},
   "outputs": [],
   "source": [
    "exp_res_file = f\"../files/act_2/Resultados/{exp_name9}.pkl\"\n",
    "if not os.path.exists(exp_res_file):\n",
    "    resultados9, tiempo_ejecucion9 = experimentacion(\n",
    "        poblaciones_iniciales=pobs,\n",
    "        max_gen=max_gen_,\n",
    "        op_seleccion=1,\n",
    "        op_cruza=3,\n",
    "        mode=\"min\",\n",
    "        mutar=True,\n",
    "    )\n",
    "else:\n",
    "    try:\n",
    "        with open(exp_res_file,\"rb\") as f:\n",
    "            resultados9 = pickle.load(f)\n",
    "            tiempo_ejecucion9 = 0\n",
    "    except Exception as e:\n",
    "        print(f\"Error al cargar el archivo {exp_res_file}: {e}\")\n",
    "    "
   ]
  },
  {
   "cell_type": "code",
   "execution_count": 49,
   "metadata": {},
   "outputs": [],
   "source": [
    "create_excel_hist(resultados9,exp_name9)\n",
    "save_results(exp_name9,resultados9)"
   ]
  },
  {
   "cell_type": "code",
   "execution_count": null,
   "metadata": {},
   "outputs": [],
   "source": [
    "exp_res_file = f\"../files/act_2/Resultados/{exp_name10}.pkl\"\n",
    "if not os.path.exists(exp_res_file):\n",
    "    resultados10, tiempo_ejecucion10 = experimentacion(\n",
    "        poblaciones_iniciales=pobs,\n",
    "        max_gen=max_gen_,\n",
    "        op_seleccion=1,\n",
    "        op_cruza=3,\n",
    "        mode=\"min\",\n",
    "        mutar=False,\n",
    "    )\n",
    "else:\n",
    "    try:\n",
    "        with open(exp_res_file,\"rb\") as f:\n",
    "            resultados10 = pickle.load(f)\n",
    "            tiempo_ejecucion10 = 0\n",
    "    except Exception as e:\n",
    "        print(f\"Error al cargar el archivo {exp_res_file}: {e}\")"
   ]
  },
  {
   "cell_type": "code",
   "execution_count": 51,
   "metadata": {},
   "outputs": [],
   "source": [
    "create_excel_hist(resultados10,exp_name10)\n",
    "save_results(exp_name10,resultados10)"
   ]
  },
  {
   "cell_type": "code",
   "execution_count": null,
   "metadata": {},
   "outputs": [],
   "source": [
    "show_report(resultados9, max_gen_, msg=f\"Resultados {exp_name9} mutación\",total_pobs=7)"
   ]
  },
  {
   "cell_type": "code",
   "execution_count": null,
   "metadata": {},
   "outputs": [],
   "source": [
    "show_report(resultados10, max_gen_, msg=f\"Resultados {exp_name10} sin mutación\",total_pobs=7)"
   ]
  },
  {
   "cell_type": "markdown",
   "metadata": {},
   "source": [
    "### 2 Combinación\n",
    "> #### Segunda combinación de operadores\n",
    ">- Selección Monogámica\n",
    ">- Cruza CX\n",
    ">- Mutación Scramble\n",
    ">"
   ]
  },
  {
   "cell_type": "code",
   "execution_count": 54,
   "metadata": {},
   "outputs": [],
   "source": [
    "#7 poblaciones de 100 individuos, con mutacion y primer combinacion de operadores\n",
    "exp_name11 = \"pob_7_100_2comb_mut\"\n",
    "exp_name12 = \"pob_7_100_2comb_no_mut\"\n",
    "max_gen_ = 40"
   ]
  },
  {
   "cell_type": "code",
   "execution_count": null,
   "metadata": {},
   "outputs": [],
   "source": [
    "exp_res_file = f\"../files/act_2/Resultados/{exp_name11}.pkl\"\n",
    "if not os.path.exists(exp_res_file):\n",
    "    resultados11, tiempo_ejecucion11 = experimentacion(\n",
    "        poblaciones_iniciales=pobs,\n",
    "        max_gen=max_gen_,\n",
    "        op_seleccion=1,\n",
    "        op_cruza=4,\n",
    "        op_mutation=1,\n",
    "        mode=\"min\",\n",
    "        mutar=True,\n",
    "    )\n",
    "else:\n",
    "    try:\n",
    "        with open(exp_res_file, \"rb\") as f:\n",
    "            resultados11 = pickle.load(f)\n",
    "            tiempo_ejecucion11 = 0\n",
    "    except Exception as e:\n",
    "        print(f\"Error al cargar el archivo {exp_res_file}: {e}\")"
   ]
  },
  {
   "cell_type": "code",
   "execution_count": 56,
   "metadata": {},
   "outputs": [],
   "source": [
    "create_excel_hist(resultados11,exp_name11)\n",
    "save_results(exp_name11,resultados11)"
   ]
  },
  {
   "cell_type": "code",
   "execution_count": null,
   "metadata": {},
   "outputs": [],
   "source": [
    "exp_res_file = f\"../files/act_2/Resultados/{exp_name12}.pkl\"\n",
    "if not os.path.exists(exp_res_file):\n",
    "    resultados12, tiempo_ejecucion12 = experimentacion(\n",
    "        poblaciones_iniciales=pobs,\n",
    "        max_gen=max_gen_,\n",
    "        op_seleccion=1,\n",
    "        op_cruza=4,\n",
    "        op_mutation=1,\n",
    "        mode=\"min\",\n",
    "        mutar=False,\n",
    "    )\n",
    "else:\n",
    "    try:\n",
    "        with open(exp_res_file, \"rb\") as f:\n",
    "            resultados12 = pickle.load(f)\n",
    "            tiempo_ejecucion12 = 0\n",
    "    except Exception as e:\n",
    "        print(f\"Error al cargar el archivo {exp_res_file}: {e}\")"
   ]
  },
  {
   "cell_type": "code",
   "execution_count": 58,
   "metadata": {},
   "outputs": [],
   "source": [
    "create_excel_hist(resultados12,exp_name12)\n",
    "save_results(exp_name12,resultados12)"
   ]
  },
  {
   "cell_type": "code",
   "execution_count": null,
   "metadata": {},
   "outputs": [],
   "source": [
    "show_report(resultados11, max_gen_, msg=f\"Resultados {exp_name11} mutación\",total_pobs=7)"
   ]
  },
  {
   "cell_type": "code",
   "execution_count": null,
   "metadata": {},
   "outputs": [],
   "source": [
    "show_report(resultados12, max_gen_, msg=f\"Resultados {exp_name12} mutación\",total_pobs=7)"
   ]
  },
  {
   "cell_type": "markdown",
   "metadata": {},
   "source": [
    "### 3 Combinación\n",
    "> #### Tercer combinación de operadores\n",
    ">- Selección Ruleta\n",
    ">- Cruza CX\n",
    ">- Mutación Heuristica"
   ]
  },
  {
   "cell_type": "code",
   "execution_count": 61,
   "metadata": {},
   "outputs": [],
   "source": [
    "#7 poblaciones de 100 individuos, con mutacion y primer combinacion de operadores\n",
    "exp_name13 = \"pob_7_100_3comb_mut\"\n",
    "exp_name14 = \"pob_7_100_3comb_no_mut\"\n",
    "max_gen_ = 40"
   ]
  },
  {
   "cell_type": "code",
   "execution_count": null,
   "metadata": {},
   "outputs": [],
   "source": [
    "exp_res_file = f\"../files/act_2/Resultados/{exp_name13}.pkl\"\n",
    "if not os.path.exists(exp_res_file):\n",
    "    resultados13, tiempo_ejecucion13 = experimentacion(\n",
    "        poblaciones_iniciales=pobs,\n",
    "        max_gen=max_gen_,\n",
    "        op_seleccion=0,\n",
    "        op_cruza=4,\n",
    "        mode=\"min\",\n",
    "        mutar=True,\n",
    "    )\n",
    "else:\n",
    "    try:\n",
    "        with open(exp_res_file, \"rb\") as f:\n",
    "            resultados13 = pickle.load(f)\n",
    "            tiempo_ejecucion13 = 0\n",
    "    except Exception as e:\n",
    "        print(f\"Error al cargar el archivo {exp_res_file}: {e}\")"
   ]
  },
  {
   "cell_type": "code",
   "execution_count": 63,
   "metadata": {},
   "outputs": [],
   "source": [
    "create_excel_hist(resultados13,exp_name13)\n",
    "save_results(exp_name13,resultados13)"
   ]
  },
  {
   "cell_type": "code",
   "execution_count": null,
   "metadata": {},
   "outputs": [],
   "source": [
    "exp_res_file = f\"../files/act_2/Resultados/{exp_name14}.pkl\"\n",
    "if not os.path.exists(exp_res_file):\n",
    "    resultados14, tiempo_ejecucion14 = experimentacion(\n",
    "        poblaciones_iniciales=pobs,\n",
    "        max_gen=max_gen_,\n",
    "        op_seleccion=0,\n",
    "        op_cruza=4,\n",
    "        mode=\"min\",\n",
    "        mutar=False,\n",
    "    )\n",
    "else:\n",
    "    try:\n",
    "        with open(exp_res_file, \"rb\") as f:\n",
    "            resultados14 = pickle.load(f)\n",
    "            tiempo_ejecucion14 = 0\n",
    "    except Exception as e:\n",
    "        print(f\"Error al cargar el archivo {exp_res_file}: {e}\")"
   ]
  },
  {
   "cell_type": "code",
   "execution_count": 65,
   "metadata": {},
   "outputs": [],
   "source": [
    "create_excel_hist(resultados14,exp_name14)\n",
    "save_results(exp_name14,resultados14)"
   ]
  },
  {
   "cell_type": "code",
   "execution_count": null,
   "metadata": {},
   "outputs": [],
   "source": [
    "show_report(resultados13, max_gen_, msg=f\"Resultados {exp_name13} mutación\",total_pobs=7)"
   ]
  },
  {
   "cell_type": "code",
   "execution_count": null,
   "metadata": {},
   "outputs": [],
   "source": [
    "show_report(resultados14, max_gen_, msg=f\"Resultados {exp_name14} mutación\",total_pobs=7)"
   ]
  },
  {
   "cell_type": "markdown",
   "metadata": {},
   "source": [
    "### 4 Combinación\n",
    "\n",
    "> #### Cuarta combinación de operadores\n",
    ">- Selección Ruleta\n",
    ">- Cruza PMX\n",
    ">- Mutación Scramble"
   ]
  },
  {
   "cell_type": "code",
   "execution_count": 68,
   "metadata": {},
   "outputs": [],
   "source": [
    "#7 poblaciones de 100 individuos, con mutacion y primer combinacion de operadores\n",
    "exp_name15 = \"pob_7_100_4comb_mut\"\n",
    "exp_name16 = \"pob_7_100_4comb_no_mut\"\n",
    "max_gen_ = 40"
   ]
  },
  {
   "cell_type": "code",
   "execution_count": null,
   "metadata": {},
   "outputs": [],
   "source": [
    "exp_res_file = f\"../files/act_2/Resultados/{exp_name15}.pkl\"\n",
    "if not os.path.exists(exp_res_file):\n",
    "    resultados15, tiempo_ejecucion15 = experimentacion(\n",
    "        poblaciones_iniciales=pobs,\n",
    "        max_gen=max_gen_,\n",
    "        op_seleccion=0,\n",
    "        op_cruza=3,\n",
    "        op_mutation=1, \n",
    "        mode=\"min\",\n",
    "        mutar=True,\n",
    "    )\n",
    "else:\n",
    "    try:\n",
    "        with open(exp_res_file,\"rb\") as f:\n",
    "            resultados15 = pickle.load(f)\n",
    "            tiempo_ejecucion15 = 0\n",
    "    except Exception as e:\n",
    "        print(f\"Error al cargar el archivo {exp_res_file}: {e}\")"
   ]
  },
  {
   "cell_type": "code",
   "execution_count": 70,
   "metadata": {},
   "outputs": [],
   "source": [
    "create_excel_hist(resultados15,exp_name15)\n",
    "save_results(exp_name15,resultados15)"
   ]
  },
  {
   "cell_type": "code",
   "execution_count": null,
   "metadata": {},
   "outputs": [],
   "source": [
    "exp_res_file = f\"../files/act_2/Resultados/{exp_name16}.pkl\"\n",
    "if not os.path.exists(exp_res_file):\n",
    "    resultados16, tiempo_ejecucion16 = experimentacion(\n",
    "        poblaciones_iniciales=pobs,\n",
    "        max_gen=max_gen_,\n",
    "        op_seleccion=0,\n",
    "        op_cruza=3,\n",
    "        op_mutation=1, \n",
    "        mode=\"min\",\n",
    "        mutar=True,\n",
    "    )\n",
    "else:\n",
    "    try:\n",
    "        with open(exp_res_file,\"rb\") as f:\n",
    "            resultados16 = pickle.load(f)\n",
    "            tiempo_ejecucion16 = 0\n",
    "    except Exception as e:\n",
    "        print(f\"Error al cargar el archivo {exp_res_file}: {e}\")"
   ]
  },
  {
   "cell_type": "code",
   "execution_count": 72,
   "metadata": {},
   "outputs": [],
   "source": [
    "create_excel_hist(resultados16,exp_name16)\n",
    "save_results(exp_name16,resultados16)"
   ]
  },
  {
   "cell_type": "code",
   "execution_count": null,
   "metadata": {},
   "outputs": [],
   "source": [
    "show_report(resultados15, max_gen_, msg=f\"Resultados {exp_name15} mutación\",total_pobs=7)"
   ]
  },
  {
   "cell_type": "code",
   "execution_count": null,
   "metadata": {},
   "outputs": [],
   "source": [
    "show_report(resultados16, max_gen_, msg=f\"Resultados {exp_name16} mutación\",total_pobs=7)"
   ]
  }
 ],
 "metadata": {
  "kernelspec": {
   "display_name": "metah",
   "language": "python",
   "name": "python3"
  },
  "language_info": {
   "codemirror_mode": {
    "name": "ipython",
    "version": 3
   },
   "file_extension": ".py",
   "mimetype": "text/x-python",
   "name": "python",
   "nbconvert_exporter": "python",
   "pygments_lexer": "ipython3",
   "version": "3.8.19"
  }
 },
 "nbformat": 4,
 "nbformat_minor": 2
}
