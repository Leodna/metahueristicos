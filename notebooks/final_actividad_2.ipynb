{
 "cells": [
  {
   "cell_type": "code",
   "execution_count": 13,
   "metadata": {},
   "outputs": [],
   "source": [
    "import numpy as np\n",
    "import matplotlib.pyplot as plt\n",
    "import pandas as pd\n",
    "import plotly.graph_objects as go\n",
    "import time\n",
    "import os\n",
    "import pickle\n",
    "\n",
    "from plotly.subplots import make_subplots\n",
    "from my_lib.utility import *"
   ]
  },
  {
   "cell_type": "markdown",
   "metadata": {},
   "source": [
    "## Actividad 3: Algoritmo genético para resolver el problema del viajero frecuente\n",
    "\n",
    "El problema es de tipo TSP con 18 ciudades del conteninte Americano. Por lo tanto existen $18!\\$ soluciones posibles ($6402373705728000$), dada el basto espacio de busqueda la población de individuos se debe limitar a minimo 100 y máximo 500.\n",
    "\n",
    "> Criterios para la evaluación\n",
    "> - Implementar 2 métodos de cruza, PMX y algún otro método como OX o CX\n",
    "> - Implementar 2 métodos de mutación, Scramble y Heuristic\n",
    "> - Implementar un método de selección, cualquiera de los ya vistos\n",
    "> - Implementar un método hibrido de paro\n",
    "> - Implementar un méotodo elitista\n",
    "> - Realizar las comparaciones y la discusión de los resultados"
   ]
  },
  {
   "cell_type": "markdown",
   "metadata": {},
   "source": [
    "# Codificación del dominio"
   ]
  },
  {
   "cell_type": "code",
   "execution_count": 14,
   "metadata": {},
   "outputs": [],
   "source": [
    "ciudades18 = {\n",
    "    'Ciudad': ['Mexico City', 'Merida', 'Buenos Aires', 'Quito', 'Washington D.C.', \n",
    "               'New York', 'Miami', 'Monterrey', 'Panama City', 'San Salvador',\n",
    "               'Managua', 'Brazilia', 'Mendoza', 'Caracas', 'Montevideo', \n",
    "               'Guadalajara', 'Boston', 'Bogotá'],\n",
    "    'Latitud': [19.4326, 20.9674, -34.6037, -0.1807, 38.9072, \n",
    "                40.7128, 25.7617, 25.6866, 8.9824, 13.6929, \n",
    "                12.1140, -15.8267, -32.8895, 10.4806, -34.9011, \n",
    "                20.6597, 42.3601, 4.7110],\n",
    "    'Longitud': [-99.1332, -89.5926, -58.3816, -78.4678, -77.0369, \n",
    "                 -74.0060, -80.1918, -100.3161, -79.5199, -89.2182, \n",
    "                 -86.2362, -47.9218, -68.8458, -66.9036, -56.1645, \n",
    "                 -103.3496, -71.0589, -74.0721]\n",
    "} \n",
    "nombre_ciudades = np.array(ciudades18['Ciudad'])"
   ]
  },
  {
   "cell_type": "code",
   "execution_count": 15,
   "metadata": {},
   "outputs": [
    {
     "name": "stdout",
     "output_type": "stream",
     "text": [
      "[['Mexico City' 0 '000' 0.0]\n",
      " ['Merida' 1 '001' 0.0]\n",
      " ['Buenos Aires' 2 '010' 0.0]\n",
      " ['Quito' 3 '011' 0.0]\n",
      " ['Washington D.C.' 4 '100' 0.0]\n",
      " ['New York' 5 '101' 0.0]\n",
      " ['Miami' 6 '110' 0.0]\n",
      " ['Monterrey' 7 '111' 0.0]\n",
      " ['Panama City' 8 '1000' 0.0]\n",
      " ['San Salvador' 9 '1001' 0.0]\n",
      " ['Managua' 10 '1010' 0.0]\n",
      " ['Brazilia' 11 '1011' 0.0]\n",
      " ['Mendoza' 12 '1100' 0.0]\n",
      " ['Caracas' 13 '1101' 0.0]\n",
      " ['Montevideo' 14 '1110' 0.0]\n",
      " ['Guadalajara' 15 '1111' 0.0]\n",
      " ['Boston' 16 '10000' 0.0]\n",
      " ['Bogotá' 17 '10001' 0.0]]\n"
     ]
    }
   ],
   "source": [
    "id_ciudades = np.arange(nombre_ciudades.shape[0])\n",
    "bin_ciudades = binarizar(datos=id_ciudades,nbites=3)\n",
    "\n",
    "ciudades = np.zeros((nombre_ciudades.shape[0],4),dtype=\"object\")\n",
    "ciudades[:,0] = nombre_ciudades\n",
    "ciudades[:,1] = id_ciudades\n",
    "ciudades[:,2] = bin_ciudades\n",
    "ciudades[:,3] = np.zeros((nombre_ciudades.shape[0]))\n",
    "print(ciudades)"
   ]
  },
  {
   "cell_type": "markdown",
   "metadata": {},
   "source": [
    "## Matriz de distancias\n",
    "\n",
    "#### Fórmula de Haversine \n",
    "\n",
    "$d = 2r \\cdot arsin(\\sqrt{sin^2(\\frac{\\Delta\\phi}{2}) + cos(\\phi_1) \\cdot cos(\\phi_2) \\cdot sin^2(\\frac{\\Delta\\lambda}{2})})$\n",
    "\n",
    "* d es la distancia entre los dos puntos \n",
    "* r = radio de la tierra (6371)\n",
    "* $\\phi_1, \\phi_2$ = latitudes de los puntos en rad\n",
    "* $\\Delta\\phi$ = diferencia de las latitudes\n",
    "* $\\Delta\\lambda$ = diferencia de las longitudes\n"
   ]
  },
  {
   "cell_type": "code",
   "execution_count": 16,
   "metadata": {},
   "outputs": [
    {
     "data": {
      "text/html": [
       "<div>\n",
       "<style scoped>\n",
       "    .dataframe tbody tr th:only-of-type {\n",
       "        vertical-align: middle;\n",
       "    }\n",
       "\n",
       "    .dataframe tbody tr th {\n",
       "        vertical-align: top;\n",
       "    }\n",
       "\n",
       "    .dataframe thead th {\n",
       "        text-align: right;\n",
       "    }\n",
       "</style>\n",
       "<table border=\"1\" class=\"dataframe\">\n",
       "  <thead>\n",
       "    <tr style=\"text-align: right;\">\n",
       "      <th></th>\n",
       "      <th>Mexico City</th>\n",
       "      <th>Merida</th>\n",
       "      <th>Buenos Aires</th>\n",
       "      <th>Quito</th>\n",
       "      <th>Washington D.C.</th>\n",
       "      <th>New York</th>\n",
       "      <th>Miami</th>\n",
       "      <th>Monterrey</th>\n",
       "      <th>Panama City</th>\n",
       "      <th>San Salvador</th>\n",
       "      <th>Managua</th>\n",
       "      <th>Brazilia</th>\n",
       "      <th>Mendoza</th>\n",
       "      <th>Caracas</th>\n",
       "      <th>Montevideo</th>\n",
       "      <th>Guadalajara</th>\n",
       "      <th>Boston</th>\n",
       "      <th>Bogotá</th>\n",
       "    </tr>\n",
       "  </thead>\n",
       "  <tbody>\n",
       "    <tr>\n",
       "      <th>Mexico City</th>\n",
       "      <td>0.000000</td>\n",
       "      <td>1009.959843</td>\n",
       "      <td>7392.178684</td>\n",
       "      <td>3135.709015</td>\n",
       "      <td>3031.811604</td>\n",
       "      <td>3359.383041</td>\n",
       "      <td>2065.272960</td>\n",
       "      <td>705.925938</td>\n",
       "      <td>2408.857647</td>\n",
       "      <td>1233.956557</td>\n",
       "      <td>1600.957943</td>\n",
       "      <td>6835.065741</td>\n",
       "      <td>6648.609671</td>\n",
       "      <td>3595.449156</td>\n",
       "      <td>7554.599238</td>\n",
       "      <td>461.067374</td>\n",
       "      <td>3665.482788</td>\n",
       "      <td>3170.731318</td>\n",
       "    </tr>\n",
       "    <tr>\n",
       "      <th>Merida</th>\n",
       "      <td>1009.959843</td>\n",
       "      <td>0.000000</td>\n",
       "      <td>7004.211339</td>\n",
       "      <td>2644.150812</td>\n",
       "      <td>2327.565260</td>\n",
       "      <td>2643.050506</td>\n",
       "      <td>1097.212425</td>\n",
       "      <td>1213.520720</td>\n",
       "      <td>1715.030837</td>\n",
       "      <td>809.861482</td>\n",
       "      <td>1047.292813</td>\n",
       "      <td>6116.463263</td>\n",
       "      <td>6381.173335</td>\n",
       "      <td>2689.070020</td>\n",
       "      <td>7144.536815</td>\n",
       "      <td>1429.853511</td>\n",
       "      <td>2941.198434</td>\n",
       "      <td>2464.943628</td>\n",
       "    </tr>\n",
       "    <tr>\n",
       "      <th>Buenos Aires</th>\n",
       "      <td>7392.178684</td>\n",
       "      <td>7004.211339</td>\n",
       "      <td>0.000000</td>\n",
       "      <td>4360.060643</td>\n",
       "      <td>8396.527908</td>\n",
       "      <td>8526.194114</td>\n",
       "      <td>7094.952486</td>\n",
       "      <td>8028.590573</td>\n",
       "      <td>5333.037977</td>\n",
       "      <td>6280.332978</td>\n",
       "      <td>5968.507501</td>\n",
       "      <td>2334.403612</td>\n",
       "      <td>985.614665</td>\n",
       "      <td>5093.044534</td>\n",
       "      <td>205.232076</td>\n",
       "      <td>7766.608993</td>\n",
       "      <td>8654.780454</td>\n",
       "      <td>4670.520317</td>\n",
       "    </tr>\n",
       "    <tr>\n",
       "      <th>Quito</th>\n",
       "      <td>3135.709015</td>\n",
       "      <td>2644.150812</td>\n",
       "      <td>4360.060643</td>\n",
       "      <td>0.000000</td>\n",
       "      <td>4348.827501</td>\n",
       "      <td>4569.460001</td>\n",
       "      <td>2890.594533</td>\n",
       "      <td>3711.248568</td>\n",
       "      <td>1025.530802</td>\n",
       "      <td>1944.679440</td>\n",
       "      <td>1613.735904</td>\n",
       "      <td>3776.161246</td>\n",
       "      <td>3774.047997</td>\n",
       "      <td>1743.741681</td>\n",
       "      <td>4501.636863</td>\n",
       "      <td>3562.151769</td>\n",
       "      <td>4788.167318</td>\n",
       "      <td>730.923189</td>\n",
       "    </tr>\n",
       "    <tr>\n",
       "      <th>Washington D.C.</th>\n",
       "      <td>3031.811604</td>\n",
       "      <td>2327.565260</td>\n",
       "      <td>8396.527908</td>\n",
       "      <td>4348.827501</td>\n",
       "      <td>0.000000</td>\n",
       "      <td>327.582714</td>\n",
       "      <td>1491.176569</td>\n",
       "      <td>2623.500270</td>\n",
       "      <td>3336.690529</td>\n",
       "      <td>3048.362836</td>\n",
       "      <td>3114.733025</td>\n",
       "      <td>6797.691847</td>\n",
       "      <td>8028.085133</td>\n",
       "      <td>3317.116974</td>\n",
       "      <td>8483.304262</td>\n",
       "      <td>3229.236038</td>\n",
       "      <td>633.671486</td>\n",
       "      <td>3814.195109</td>\n",
       "    </tr>\n",
       "    <tr>\n",
       "      <th>New York</th>\n",
       "      <td>3359.383041</td>\n",
       "      <td>2643.050506</td>\n",
       "      <td>8526.194114</td>\n",
       "      <td>4569.460001</td>\n",
       "      <td>327.582714</td>\n",
       "      <td>0.000000</td>\n",
       "      <td>1757.961225</td>\n",
       "      <td>2945.076096</td>\n",
       "      <td>3570.004517</td>\n",
       "      <td>3348.328915</td>\n",
       "      <td>3397.166346</td>\n",
       "      <td>6839.011011</td>\n",
       "      <td>8201.327390</td>\n",
       "      <td>3433.343519</td>\n",
       "      <td>8603.779701</td>\n",
       "      <td>3554.283691</td>\n",
       "      <td>306.108494</td>\n",
       "      <td>4003.222959</td>\n",
       "    </tr>\n",
       "    <tr>\n",
       "      <th>Miami</th>\n",
       "      <td>2065.272960</td>\n",
       "      <td>1097.212425</td>\n",
       "      <td>7094.952486</td>\n",
       "      <td>2890.594533</td>\n",
       "      <td>1491.176569</td>\n",
       "      <td>1757.961225</td>\n",
       "      <td>0.000000</td>\n",
       "      <td>2013.994655</td>\n",
       "      <td>1867.122418</td>\n",
       "      <td>1639.742840</td>\n",
       "      <td>1644.533412</td>\n",
       "      <td>5794.758090</td>\n",
       "      <td>6631.402300</td>\n",
       "      <td>2200.658515</td>\n",
       "      <td>7204.245436</td>\n",
       "      <td>2430.007251</td>\n",
       "      <td>2025.336834</td>\n",
       "      <td>2429.837957</td>\n",
       "    </tr>\n",
       "    <tr>\n",
       "      <th>Monterrey</th>\n",
       "      <td>705.925938</td>\n",
       "      <td>1213.520720</td>\n",
       "      <td>8028.590573</td>\n",
       "      <td>3711.248568</td>\n",
       "      <td>2623.500270</td>\n",
       "      <td>2945.076096</td>\n",
       "      <td>2013.994655</td>\n",
       "      <td>0.000000</td>\n",
       "      <td>2876.282439</td>\n",
       "      <td>1766.700637</td>\n",
       "      <td>2111.060860</td>\n",
       "      <td>7310.080266</td>\n",
       "      <td>7315.684383</td>\n",
       "      <td>3898.681265</td>\n",
       "      <td>8184.245928</td>\n",
       "      <td>639.142332</td>\n",
       "      <td>3245.755067</td>\n",
       "      <td>3640.297547</td>\n",
       "    </tr>\n",
       "    <tr>\n",
       "      <th>Panama City</th>\n",
       "      <td>2408.857647</td>\n",
       "      <td>1715.030837</td>\n",
       "      <td>5333.037977</td>\n",
       "      <td>1025.530802</td>\n",
       "      <td>3336.690529</td>\n",
       "      <td>3570.004517</td>\n",
       "      <td>1867.122418</td>\n",
       "      <td>2876.282439</td>\n",
       "      <td>0.000000</td>\n",
       "      <td>1179.637483</td>\n",
       "      <td>812.486225</td>\n",
       "      <td>4440.058794</td>\n",
       "      <td>4791.336430</td>\n",
       "      <td>1392.559785</td>\n",
       "      <td>5462.750288</td>\n",
       "      <td>2865.971802</td>\n",
       "      <td>3802.437689</td>\n",
       "      <td>766.254430</td>\n",
       "    </tr>\n",
       "    <tr>\n",
       "      <th>San Salvador</th>\n",
       "      <td>1233.956557</td>\n",
       "      <td>809.861482</td>\n",
       "      <td>6280.332978</td>\n",
       "      <td>1944.679440</td>\n",
       "      <td>3048.362836</td>\n",
       "      <td>3348.328915</td>\n",
       "      <td>1639.742840</td>\n",
       "      <td>1766.700637</td>\n",
       "      <td>1179.637483</td>\n",
       "      <td>0.000000</td>\n",
       "      <td>367.803223</td>\n",
       "      <td>5601.769099</td>\n",
       "      <td>5613.686901</td>\n",
       "      <td>2451.382655</td>\n",
       "      <td>6430.418383</td>\n",
       "      <td>1687.991760</td>\n",
       "      <td>3634.269046</td>\n",
       "      <td>1937.742276</td>\n",
       "    </tr>\n",
       "    <tr>\n",
       "      <th>Managua</th>\n",
       "      <td>1600.957943</td>\n",
       "      <td>1047.292813</td>\n",
       "      <td>5968.507501</td>\n",
       "      <td>1613.735904</td>\n",
       "      <td>3114.733025</td>\n",
       "      <td>3397.166346</td>\n",
       "      <td>1644.533412</td>\n",
       "      <td>2111.060860</td>\n",
       "      <td>812.486225</td>\n",
       "      <td>367.803223</td>\n",
       "      <td>0.000000</td>\n",
       "      <td>5236.308661</td>\n",
       "      <td>5333.888045</td>\n",
       "      <td>2115.377939</td>\n",
       "      <td>6113.421650</td>\n",
       "      <td>2055.740017</td>\n",
       "      <td>3669.436397</td>\n",
       "      <td>1570.079360</td>\n",
       "    </tr>\n",
       "    <tr>\n",
       "      <th>Brazilia</th>\n",
       "      <td>6835.065741</td>\n",
       "      <td>6116.463263</td>\n",
       "      <td>2334.403612</td>\n",
       "      <td>3776.161246</td>\n",
       "      <td>6797.691847</td>\n",
       "      <td>6839.011011</td>\n",
       "      <td>5794.758090</td>\n",
       "      <td>7310.080266</td>\n",
       "      <td>4440.058794</td>\n",
       "      <td>5601.769099</td>\n",
       "      <td>5236.308661</td>\n",
       "      <td>0.000000</td>\n",
       "      <td>2833.659702</td>\n",
       "      <td>3594.881652</td>\n",
       "      <td>2274.548522</td>\n",
       "      <td>7283.905238</td>\n",
       "      <td>6890.481786</td>\n",
       "      <td>3673.816692</td>\n",
       "    </tr>\n",
       "    <tr>\n",
       "      <th>Mendoza</th>\n",
       "      <td>6648.609671</td>\n",
       "      <td>6381.173335</td>\n",
       "      <td>985.614665</td>\n",
       "      <td>3774.047997</td>\n",
       "      <td>8028.085133</td>\n",
       "      <td>8201.327390</td>\n",
       "      <td>6631.402300</td>\n",
       "      <td>7315.684383</td>\n",
       "      <td>4791.336430</td>\n",
       "      <td>5613.686901</td>\n",
       "      <td>5333.888045</td>\n",
       "      <td>2833.659702</td>\n",
       "      <td>0.000000</td>\n",
       "      <td>4826.934304</td>\n",
       "      <td>1190.771756</td>\n",
       "      <td>6991.509315</td>\n",
       "      <td>8370.422638</td>\n",
       "      <td>4217.179927</td>\n",
       "    </tr>\n",
       "    <tr>\n",
       "      <th>Caracas</th>\n",
       "      <td>3595.449156</td>\n",
       "      <td>2689.070020</td>\n",
       "      <td>5093.044534</td>\n",
       "      <td>1743.741681</td>\n",
       "      <td>3317.116974</td>\n",
       "      <td>3433.343519</td>\n",
       "      <td>2200.658515</td>\n",
       "      <td>3898.681265</td>\n",
       "      <td>1392.559785</td>\n",
       "      <td>2451.382655</td>\n",
       "      <td>2115.377939</td>\n",
       "      <td>3594.881652</td>\n",
       "      <td>4826.934304</td>\n",
       "      <td>0.000000</td>\n",
       "      <td>5171.429669</td>\n",
       "      <td>4053.781673</td>\n",
       "      <td>3567.812815</td>\n",
       "      <td>1017.489437</td>\n",
       "    </tr>\n",
       "    <tr>\n",
       "      <th>Montevideo</th>\n",
       "      <td>7554.599238</td>\n",
       "      <td>7144.536815</td>\n",
       "      <td>205.232076</td>\n",
       "      <td>4501.636863</td>\n",
       "      <td>8483.304262</td>\n",
       "      <td>8603.779701</td>\n",
       "      <td>7204.245436</td>\n",
       "      <td>8184.245928</td>\n",
       "      <td>5462.750288</td>\n",
       "      <td>6430.418383</td>\n",
       "      <td>6113.421650</td>\n",
       "      <td>2274.548522</td>\n",
       "      <td>1190.771756</td>\n",
       "      <td>5171.429669</td>\n",
       "      <td>0.000000</td>\n",
       "      <td>7934.464666</td>\n",
       "      <td>8723.748233</td>\n",
       "      <td>4786.738843</td>\n",
       "    </tr>\n",
       "    <tr>\n",
       "      <th>Guadalajara</th>\n",
       "      <td>461.067374</td>\n",
       "      <td>1429.853511</td>\n",
       "      <td>7766.608993</td>\n",
       "      <td>3562.151769</td>\n",
       "      <td>3229.236038</td>\n",
       "      <td>3554.283691</td>\n",
       "      <td>2430.007251</td>\n",
       "      <td>639.142332</td>\n",
       "      <td>2865.971802</td>\n",
       "      <td>1687.991760</td>\n",
       "      <td>2055.740017</td>\n",
       "      <td>7283.905238</td>\n",
       "      <td>6991.509315</td>\n",
       "      <td>4053.781673</td>\n",
       "      <td>7934.464666</td>\n",
       "      <td>0.000000</td>\n",
       "      <td>3857.803952</td>\n",
       "      <td>3625.717865</td>\n",
       "    </tr>\n",
       "    <tr>\n",
       "      <th>Boston</th>\n",
       "      <td>3665.482788</td>\n",
       "      <td>2941.198434</td>\n",
       "      <td>8654.780454</td>\n",
       "      <td>4788.167318</td>\n",
       "      <td>633.671486</td>\n",
       "      <td>306.108494</td>\n",
       "      <td>2025.336834</td>\n",
       "      <td>3245.755067</td>\n",
       "      <td>3802.437689</td>\n",
       "      <td>3634.269046</td>\n",
       "      <td>3669.436397</td>\n",
       "      <td>6890.481786</td>\n",
       "      <td>8370.422638</td>\n",
       "      <td>3567.812815</td>\n",
       "      <td>8723.748233</td>\n",
       "      <td>3857.803952</td>\n",
       "      <td>0.000000</td>\n",
       "      <td>4196.996936</td>\n",
       "    </tr>\n",
       "    <tr>\n",
       "      <th>Bogotá</th>\n",
       "      <td>3170.731318</td>\n",
       "      <td>2464.943628</td>\n",
       "      <td>4670.520317</td>\n",
       "      <td>730.923189</td>\n",
       "      <td>3814.195109</td>\n",
       "      <td>4003.222959</td>\n",
       "      <td>2429.837957</td>\n",
       "      <td>3640.297547</td>\n",
       "      <td>766.254430</td>\n",
       "      <td>1937.742276</td>\n",
       "      <td>1570.079360</td>\n",
       "      <td>3673.816692</td>\n",
       "      <td>4217.179927</td>\n",
       "      <td>1017.489437</td>\n",
       "      <td>4786.738843</td>\n",
       "      <td>3625.717865</td>\n",
       "      <td>4196.996936</td>\n",
       "      <td>0.000000</td>\n",
       "    </tr>\n",
       "  </tbody>\n",
       "</table>\n",
       "</div>"
      ],
      "text/plain": [
       "                 Mexico City       Merida  Buenos Aires        Quito  \\\n",
       "Mexico City         0.000000  1009.959843   7392.178684  3135.709015   \n",
       "Merida           1009.959843     0.000000   7004.211339  2644.150812   \n",
       "Buenos Aires     7392.178684  7004.211339      0.000000  4360.060643   \n",
       "Quito            3135.709015  2644.150812   4360.060643     0.000000   \n",
       "Washington D.C.  3031.811604  2327.565260   8396.527908  4348.827501   \n",
       "New York         3359.383041  2643.050506   8526.194114  4569.460001   \n",
       "Miami            2065.272960  1097.212425   7094.952486  2890.594533   \n",
       "Monterrey         705.925938  1213.520720   8028.590573  3711.248568   \n",
       "Panama City      2408.857647  1715.030837   5333.037977  1025.530802   \n",
       "San Salvador     1233.956557   809.861482   6280.332978  1944.679440   \n",
       "Managua          1600.957943  1047.292813   5968.507501  1613.735904   \n",
       "Brazilia         6835.065741  6116.463263   2334.403612  3776.161246   \n",
       "Mendoza          6648.609671  6381.173335    985.614665  3774.047997   \n",
       "Caracas          3595.449156  2689.070020   5093.044534  1743.741681   \n",
       "Montevideo       7554.599238  7144.536815    205.232076  4501.636863   \n",
       "Guadalajara       461.067374  1429.853511   7766.608993  3562.151769   \n",
       "Boston           3665.482788  2941.198434   8654.780454  4788.167318   \n",
       "Bogotá           3170.731318  2464.943628   4670.520317   730.923189   \n",
       "\n",
       "                 Washington D.C.     New York        Miami    Monterrey  \\\n",
       "Mexico City          3031.811604  3359.383041  2065.272960   705.925938   \n",
       "Merida               2327.565260  2643.050506  1097.212425  1213.520720   \n",
       "Buenos Aires         8396.527908  8526.194114  7094.952486  8028.590573   \n",
       "Quito                4348.827501  4569.460001  2890.594533  3711.248568   \n",
       "Washington D.C.         0.000000   327.582714  1491.176569  2623.500270   \n",
       "New York              327.582714     0.000000  1757.961225  2945.076096   \n",
       "Miami                1491.176569  1757.961225     0.000000  2013.994655   \n",
       "Monterrey            2623.500270  2945.076096  2013.994655     0.000000   \n",
       "Panama City          3336.690529  3570.004517  1867.122418  2876.282439   \n",
       "San Salvador         3048.362836  3348.328915  1639.742840  1766.700637   \n",
       "Managua              3114.733025  3397.166346  1644.533412  2111.060860   \n",
       "Brazilia             6797.691847  6839.011011  5794.758090  7310.080266   \n",
       "Mendoza              8028.085133  8201.327390  6631.402300  7315.684383   \n",
       "Caracas              3317.116974  3433.343519  2200.658515  3898.681265   \n",
       "Montevideo           8483.304262  8603.779701  7204.245436  8184.245928   \n",
       "Guadalajara          3229.236038  3554.283691  2430.007251   639.142332   \n",
       "Boston                633.671486   306.108494  2025.336834  3245.755067   \n",
       "Bogotá               3814.195109  4003.222959  2429.837957  3640.297547   \n",
       "\n",
       "                 Panama City  San Salvador      Managua     Brazilia  \\\n",
       "Mexico City      2408.857647   1233.956557  1600.957943  6835.065741   \n",
       "Merida           1715.030837    809.861482  1047.292813  6116.463263   \n",
       "Buenos Aires     5333.037977   6280.332978  5968.507501  2334.403612   \n",
       "Quito            1025.530802   1944.679440  1613.735904  3776.161246   \n",
       "Washington D.C.  3336.690529   3048.362836  3114.733025  6797.691847   \n",
       "New York         3570.004517   3348.328915  3397.166346  6839.011011   \n",
       "Miami            1867.122418   1639.742840  1644.533412  5794.758090   \n",
       "Monterrey        2876.282439   1766.700637  2111.060860  7310.080266   \n",
       "Panama City         0.000000   1179.637483   812.486225  4440.058794   \n",
       "San Salvador     1179.637483      0.000000   367.803223  5601.769099   \n",
       "Managua           812.486225    367.803223     0.000000  5236.308661   \n",
       "Brazilia         4440.058794   5601.769099  5236.308661     0.000000   \n",
       "Mendoza          4791.336430   5613.686901  5333.888045  2833.659702   \n",
       "Caracas          1392.559785   2451.382655  2115.377939  3594.881652   \n",
       "Montevideo       5462.750288   6430.418383  6113.421650  2274.548522   \n",
       "Guadalajara      2865.971802   1687.991760  2055.740017  7283.905238   \n",
       "Boston           3802.437689   3634.269046  3669.436397  6890.481786   \n",
       "Bogotá            766.254430   1937.742276  1570.079360  3673.816692   \n",
       "\n",
       "                     Mendoza      Caracas   Montevideo  Guadalajara  \\\n",
       "Mexico City      6648.609671  3595.449156  7554.599238   461.067374   \n",
       "Merida           6381.173335  2689.070020  7144.536815  1429.853511   \n",
       "Buenos Aires      985.614665  5093.044534   205.232076  7766.608993   \n",
       "Quito            3774.047997  1743.741681  4501.636863  3562.151769   \n",
       "Washington D.C.  8028.085133  3317.116974  8483.304262  3229.236038   \n",
       "New York         8201.327390  3433.343519  8603.779701  3554.283691   \n",
       "Miami            6631.402300  2200.658515  7204.245436  2430.007251   \n",
       "Monterrey        7315.684383  3898.681265  8184.245928   639.142332   \n",
       "Panama City      4791.336430  1392.559785  5462.750288  2865.971802   \n",
       "San Salvador     5613.686901  2451.382655  6430.418383  1687.991760   \n",
       "Managua          5333.888045  2115.377939  6113.421650  2055.740017   \n",
       "Brazilia         2833.659702  3594.881652  2274.548522  7283.905238   \n",
       "Mendoza             0.000000  4826.934304  1190.771756  6991.509315   \n",
       "Caracas          4826.934304     0.000000  5171.429669  4053.781673   \n",
       "Montevideo       1190.771756  5171.429669     0.000000  7934.464666   \n",
       "Guadalajara      6991.509315  4053.781673  7934.464666     0.000000   \n",
       "Boston           8370.422638  3567.812815  8723.748233  3857.803952   \n",
       "Bogotá           4217.179927  1017.489437  4786.738843  3625.717865   \n",
       "\n",
       "                      Boston       Bogotá  \n",
       "Mexico City      3665.482788  3170.731318  \n",
       "Merida           2941.198434  2464.943628  \n",
       "Buenos Aires     8654.780454  4670.520317  \n",
       "Quito            4788.167318   730.923189  \n",
       "Washington D.C.   633.671486  3814.195109  \n",
       "New York          306.108494  4003.222959  \n",
       "Miami            2025.336834  2429.837957  \n",
       "Monterrey        3245.755067  3640.297547  \n",
       "Panama City      3802.437689   766.254430  \n",
       "San Salvador     3634.269046  1937.742276  \n",
       "Managua          3669.436397  1570.079360  \n",
       "Brazilia         6890.481786  3673.816692  \n",
       "Mendoza          8370.422638  4217.179927  \n",
       "Caracas          3567.812815  1017.489437  \n",
       "Montevideo       8723.748233  4786.738843  \n",
       "Guadalajara      3857.803952  3625.717865  \n",
       "Boston              0.000000  4196.996936  \n",
       "Bogotá           4196.996936     0.000000  "
      ]
     },
     "metadata": {},
     "output_type": "display_data"
    }
   ],
   "source": [
    "# Latitud y longitud de cada ciudad\n",
    "\n",
    "n_ciudades = ciudades.shape[0]\n",
    "distancias = np.zeros((n_ciudades, n_ciudades))\n",
    "\n",
    "for i in range(n_ciudades):\n",
    "    c1_latitud = ciudades18[\"Latitud\"][i]\n",
    "    c1_longitud = ciudades18[\"Longitud\"][i]\n",
    "    for j in range(n_ciudades):\n",
    "        if i != j:\n",
    "            c2_latitud = ciudades18[\"Latitud\"][j]\n",
    "            c2_longitud = ciudades18[\"Longitud\"][j]\n",
    "            distancias[i][j] = get_distancia(\n",
    "                lat1=c1_latitud, long1=c1_longitud, lat2=c2_latitud, long2=c2_longitud\n",
    "            )\n",
    "\n",
    "distancias_df = pd.DataFrame(distancias,columns=ciudades18[\"Ciudad\"],index=ciudades18[\"Ciudad\"])\n",
    "display(distancias_df)"
   ]
  },
  {
   "cell_type": "markdown",
   "metadata": {},
   "source": [
    "# Generación de población\n",
    "\n",
    "Para poder realizar una buena comparación con las distintas combinaciones de operadores genéticos se trabajará con 5 poblaciones iniciales, las cuales son las mismas parar cada experimento\n",
    "\n",
    "\n",
    "Si ya existe el archivo de poblaciones no hay necesidad de crear nuevamente las poblaciones iniciales"
   ]
  },
  {
   "cell_type": "code",
   "execution_count": 17,
   "metadata": {},
   "outputs": [],
   "source": [
    "POB_FILE = \"files\\poblaciones_3.pkl\""
   ]
  },
  {
   "cell_type": "code",
   "execution_count": 18,
   "metadata": {},
   "outputs": [],
   "source": [
    "def get_poblaciones_iniciales(n=5, tam_pob=60):\n",
    "    \"\"\"\n",
    "    Genera y carga las poblaciones iniciales para un algoritmo genético.\n",
    "\n",
    "    Si el archivo de poblaciones no existe, la función lo crea generando las poblaciones iniciales y guardándolas en el archivo.\n",
    "    Si el archivo ya existe, la función lo carga y devuelve las poblaciones.\n",
    "\n",
    "    Parámetros:\n",
    "        n (int): Número de poblaciones iniciales a generar (por defecto, 5).\n",
    "        tam_pob (int): Tamaño de cada población (por defecto, 60).\n",
    "\n",
    "    Valor de retorno:\n",
    "        list: Lista de poblaciones iniciales, donde cada población es una matriz de numpy con 4 columnas: ruta, aptitud, individuo y aptitud.\n",
    "    \"\"\"\n",
    "    poblaciones = []\n",
    "    POB_PATH = os.path.join(\"..\", POB_FILE)\n",
    "    if not os.path.exists(POB_PATH):\n",
    "        print(\"El archivo de poblaciones no existse, creando archivo\")\n",
    "        \n",
    "        for i in range(n):\n",
    "            recorrido = generar_poblacion_perm(ciudades, tam_pob)\n",
    "            \n",
    "            poblacion = np.zeros((recorrido.shape[0], 4), dtype=\"object\")\n",
    "            poblacion[:, 0] = [c.astype(int) for c in recorrido]  # Ruta\n",
    "            poblacion[:, 1] = np.ones((recorrido.shape[0]))\n",
    "            poblacion[:,2] = [\" \".join([chr(c+64) for c in perm.astype(int)]) for perm in recorrido]\n",
    "            # poblacion[:, 2] = [individuo_toString(c.astype(int)) for c in recorrido]\n",
    "            poblacion[:, 3] = np.zeros((recorrido.shape[0]))  # Aptitud\n",
    "        \n",
    "            poblaciones.append(poblacion)\n",
    "        \n",
    "        try:\n",
    "            with open(POB_PATH, \"wb\") as f:\n",
    "                pickle.dump(poblaciones,f)\n",
    "            print(\"Archivo de poblaciones creado correctamente\")\n",
    "        except Exception as e:\n",
    "            print(f\"Error al guardar archivo: {e}\")\n",
    "            \n",
    "    else:\n",
    "        try:\n",
    "            with open(POB_PATH, \"rb\") as f:\n",
    "                poblaciones = pickle.load(f)\n",
    "            print(\"Archivo de poblaciones cargado correctamente\")\n",
    "        except Exception as e:\n",
    "            print(f\"Error al cargar archivo: {e}\")\n",
    "    \n",
    "    return poblaciones"
   ]
  },
  {
   "cell_type": "code",
   "execution_count": 19,
   "metadata": {},
   "outputs": [
    {
     "name": "stdout",
     "output_type": "stream",
     "text": [
      "Archivo de poblaciones cargado correctamente\n",
      "5\n",
      "[[array([12, 16, 13,  3,  9, 14,  7,  1, 15,  0, 10,  6,  4,  5,  8, 17, 11,\n",
      "          2])\n",
      "  1.0 'L P M C I N G A O @ J F D E H Q K B' 0.0]\n",
      " [array([12, 17,  3,  0, 13,  9, 14, 15,  1,  2, 16,  5,  7,  8, 10,  6,  4,\n",
      "         11])\n",
      "  1.0 'L Q C @ M I N O A B P E G H J F D K' 0.0]]\n"
     ]
    }
   ],
   "source": [
    "pobs = get_poblaciones_iniciales(n=5,tam_pob=100)\n",
    "print(len(pobs))\n",
    "print(pobs[0][:2])"
   ]
  },
  {
   "cell_type": "markdown",
   "metadata": {},
   "source": [
    "# Función objetivo"
   ]
  },
  {
   "cell_type": "code",
   "execution_count": 20,
   "metadata": {},
   "outputs": [],
   "source": [
    "def y(ciudad1,ciudad2):\n",
    "    return distancias[ciudad1,ciudad2]\n",
    "\n",
    "def evaluar(poblacion):\n",
    "    evaluacion = np.zeros((poblacion.shape[0]))\n",
    "    for idx,fila in enumerate(poblacion):\n",
    "        individuo = fila[0]\n",
    "        n = len(individuo) - 1\n",
    "        aptitud = 0\n",
    "        \n",
    "        for i in range (n,-1,-1):\n",
    "            c1 = int(individuo[i]) #Id de la ciudad\n",
    "            c2 = int(individuo[i-1])\n",
    "            distancia = y(c1,c2)\n",
    "            aptitud += distancia\n",
    "           # print(f\"Distancia entre {ciudades[c1]} y {ciudades[c2]}: {distancia}\")\n",
    "        evaluacion[idx] = np.around(aptitud,4)\n",
    "        \n",
    "    return evaluacion\n",
    "\n"
   ]
  },
  {
   "cell_type": "code",
   "execution_count": 21,
   "metadata": {},
   "outputs": [],
   "source": [
    "def historial_cruces(descendencia):\n",
    "    hijos = [ind[0] for ind in descendencia]\n",
    "    padres_codificados = [ind[1] for ind in descendencia]\n",
    "    padres_codificados = [\n",
    "        [p.replace(\" \", \"\") for p in padres] for padres in padres_codificados\n",
    "    ]\n",
    "    padres_decodificados = [\n",
    "        [[ord(c) - 64 for c in p] for p in padres] for padres in padres_codificados\n",
    "    ]\n",
    "    \n",
    "    historial = []\n",
    "    \n",
    "    for j in range(0,len(hijos),2):\n",
    "        fila = np.array([padres_decodificados[j][0],padres_decodificados[j][1],hijos[j],hijos[j+1]])\n",
    "        # print(fila.shape)\n",
    "        #\n",
    "        historial.append(fila)\n",
    "        # print(\n",
    "        #     f\"p1: {padres_decodificados[j][0]} \\th1: {hijos[j]}\\np2: {padres_decodificados[j][1]} \\th2: {hijos[j+1]}\"\n",
    "        # )\n",
    "        # print(fila)\n",
    "        # print(\"\")\n",
    "\n",
    "    return np.array(historial)\n",
    "    # for j in range(0, len(hijos) - 1):\n",
    "    #     print(\n",
    "    #         f\"p1: {padres_decodificados[j][0]} \\th1: {hijos[j]}\\np2: {padres_decodificados[j][1]} \\th2: {hijos[j+1]}\"\n",
    "    #     )\n",
    "    #     print(\"\")"
   ]
  },
  {
   "cell_type": "code",
   "execution_count": 22,
   "metadata": {},
   "outputs": [],
   "source": [
    "def get_report(n_poblacion,poblacion,time=None):\n",
    "    info = np.zeros((8))\n",
    "    info[0] = n_poblacion\n",
    "    info[1] = np.around(np.mean(poblacion[:,3]),decimals=2)\n",
    "    info[2] = np.around(np.var(poblacion[:,3]),decimals=2)\n",
    "    info[3] = np.around(np.std(poblacion[:,3]),decimals=2)\n",
    "    info[4] = np.around(np.min(poblacion[:,3]),decimals=2)\n",
    "    info[5] = np.around(np.max(poblacion[:,3]),decimals=2)\n",
    "    info[6] = np.around(diversity_rate(poblacion),decimals=2)\n",
    "    if time:\n",
    "        info[7] = time\n",
    "    \n",
    "    return info"
   ]
  },
  {
   "cell_type": "code",
   "execution_count": 23,
   "metadata": {},
   "outputs": [],
   "source": [
    "def seleccion_cruza(poblacion, op_seleccion=0, op_cruza=3, mode=\"min\"):\n",
    "    desc = get_next_gen(poblacion, op_seleccion, op_cruza, mode)\n",
    "    cruces = historial_cruces(desc)\n",
    "    hijos = np.array([hijo[0] for hijo in desc])\n",
    "    new_age = poblacion.copy()\n",
    "\n",
    "    for hijo in hijos:\n",
    "        nuevo_indiviudo = np.zeros((1, 4), dtype=\"object\")\n",
    "        nuevo_indiviudo[0, 0] = hijo\n",
    "        nuevo_indiviudo[0, 1] = 1.0\n",
    "        nuevo_indiviudo[0, 2] = \" \".join([chr(c + 64) for c in hijo])\n",
    "        nuevo_indiviudo[0, 3] = evaluar(nuevo_indiviudo)[0]\n",
    "        new_age = np.vstack([new_age, nuevo_indiviudo])\n",
    "    return new_age,cruces\n",
    "\n",
    "\n",
    "def msg_info_exp(msg):\n",
    "    print(\"===================================================================\")\n",
    "    print(f\"{msg}\")\n",
    "\n",
    "\n",
    "def msg_info_inicial(num_pob, poblacion):\n",
    "    print(\"===================================================================\")\n",
    "    print(f\"Población incial #{num_pob+1}\")\n",
    "    print(f\"Costo promedio inicial {np.mean(poblacion[:,3])}\")\n",
    "\n",
    "\n",
    "def msg_info_generacion(num_gen, poblacion, tiempo):\n",
    "    print(\"...................................................................\")\n",
    "    print(f\"Generación: {num_gen}\")\n",
    "    print(f\"Costo promedio: {np.mean(poblacion[:,3])}\")\n",
    "    print(f\"Varianza del costo en la genearción: {np.var(poblacion[:,3])}\")\n",
    "    print(f\"Desviación estándar del costo en la genearción: {np.std(poblacion[:,3])}\")\n",
    "    print(f\"Diversidad promedio: {diversity_rate(poblacion)} genes\")\n",
    "    print(f\"Menor costo de toda la generación : {np.min(poblacion[:,3])}\")\n",
    "    print(f\"Mayor costo de toda la generación : {np.max(poblacion[:,3])}\")\n",
    "    print(f\"Tiempo de ejecución de la genaración {num_gen}: {tiempo}\")\n",
    "\n",
    "    print(\"...................................................................\")\n",
    "\n",
    "\n",
    "def msg_tiempo_pob(num_pob, tiempo):\n",
    "    print(\"--------------------------------------------------------------------\")\n",
    "    print(f\"Tiempo de ejecución para la población #{num_pob+1}: {tiempo}\")\n",
    "    print(\"===================================================================\")\n",
    "\n",
    "\n",
    "def experimentacion(\n",
    "    poblaciones_iniciales, max_gen=10, op_seleccion=0, op_cruza=3, mode=\"min\",\n",
    "    mutar = False\n",
    "):\n",
    "    start_exp_time = time.time()\n",
    "    msg_info_exp(\"Inicio del algoritimo genético\")\n",
    "    gen_results = []\n",
    "\n",
    "    for i in range(len(poblaciones_iniciales)):\n",
    "        poblacion = poblaciones_iniciales[i]\n",
    "        poblacion[:, 3] = evaluar(poblacion)\n",
    "        poblacion = ordenar_poblacion(poblacion, reverse=True)\n",
    "\n",
    "        msg_info_inicial(i, poblacion)\n",
    "        pob_time = 0\n",
    "        \n",
    "        historial_generacional = np.zeros((max_gen,2),dtype=\"object\")\n",
    "        \n",
    "        for gen in range(max_gen):\n",
    "            start_gen_time = time.time()\n",
    "            # if GEN >= MAX_GEN or paro_epsilon(poblacion, 14000, 0.9, opt=1):\n",
    "            #     print(\"Convergencia alcanzada\")\n",
    "            #     break\n",
    "\n",
    "            new_age,cruces = seleccion_cruza(poblacion, 0, 3, \"min\")\n",
    "            \n",
    "            if mutar :\n",
    "                print(\"mutar\")\n",
    "                pob_mutante = mutation(new_age,opt=1,operator=0,funcion_aptitud=evaluar,cromosomas_mutation=6)\n",
    "                poblacion = ordenar_poblacion(pob_mutante,reverse=True)[:poblacion.shape[0]]\n",
    "            else:\n",
    "                new_age = ordenar_poblacion(new_age,reverse=True)[:poblacion.shape[0]]\n",
    "                poblacion = new_age\n",
    "                \n",
    "            # pob_mutante = mutation(new_age,opt=1,operator=0,funcion_aptitud=evaluar,cromosomas_mutation=5)\n",
    "            # poblacion = ordenar_poblacion(pob_mutante,reverse=[True])[:poblacion.shape[0]]\n",
    "            \n",
    "            # new_age = ordenar_poblacion(new_age,reverse=True)\n",
    "            # poblacion = new_age[: poblacion.shape[0]]\n",
    "            \n",
    "            \n",
    "            end_gen_time = time.time()\n",
    "            elapsed_gen_time = end_gen_time - start_gen_time\n",
    "            pob_time += elapsed_gen_time\n",
    "            \n",
    "            msg_info_generacion(gen, poblacion, elapsed_gen_time)\n",
    "            historial_generacional[gen,0] = [poblacion,cruces]\n",
    "            historial_generacional[gen,1] = elapsed_gen_time\n",
    "            \n",
    "        msg_tiempo_pob(i, pob_time)\n",
    "        gen_results.append(historial_generacional)\n",
    "    end_exp_time = time.time()\n",
    "    elapsed_exp_time = end_exp_time - start_exp_time\n",
    "    msg_info_exp(f\"Tiempo de experimentación: {elapsed_exp_time}\")\n",
    "    \n",
    "    return gen_results,elapsed_exp_time"
   ]
  },
  {
   "cell_type": "markdown",
   "metadata": {},
   "source": [
    "# Experimento combinacion PMX, y Heuristic mutation\n",
    "\n",
    "En este experimento a partir de la población incial, tomar en cuenta que hay 5 poblaciones inciales con las cuales debe realizarse el experimento, se obtienen nuevas generaciones de individuos y una vez alcanza el 80% de individuos aptos, esto quiere decir que los individuso deben superar más del 0.8 de aptitud, o se llega un 10 generaciones el algoritmo se detiene.\n",
    "\n",
    "**Condiciones de termino:**\n",
    "\n",
    "* Epsilon:\n",
    "    * Cuando el 80% de la población alcanza una aptitud mayor de 0.8\n",
    "* Generaciones:\n",
    "    * Cuando se llega a la generación número 10\n",
    "\n",
    "**Operadores:**\n",
    "* Método de competencia genética para la creación de las poblaciones\n",
    "* Operador de selección *Ruleta*\n",
    "* Operador de cruce *PMX*\n",
    "* Operador de mutación  *Hueristico*"
   ]
  },
  {
   "cell_type": "markdown",
   "metadata": {},
   "source": [
    "## Evaluar y Ordenar la poblacion\n",
    "\n",
    "La función de ordenar población ordena de mayor a menor.\n",
    "\n",
    "Este problema es un problema para encontrar las rutas con menor costo"
   ]
  },
  {
   "cell_type": "code",
   "execution_count": 24,
   "metadata": {},
   "outputs": [
    {
     "name": "stdout",
     "output_type": "stream",
     "text": [
      "===================================================================\n",
      "Inicio del algoritimo genético\n",
      "===================================================================\n",
      "Población incial #1\n",
      "Costo promedio inicial 68260.256915\n",
      "mutar\n",
      "...................................................................\n",
      "Generación: 0\n",
      "Costo promedio: 60739.47481900001\n",
      "Varianza del costo en la genearción: 22694539.007976923\n",
      "Desviación estándar del costo en la genearción: 4763.878567719472\n",
      "Diversidad promedio: 16.857777777777777 genes\n",
      "Menor costo de toda la generación : 44567.4575\n",
      "Mayor costo de toda la generación : 67515.031\n",
      "Tiempo de ejecución de la genaración 0: 9.748251914978027\n",
      "...................................................................\n",
      "mutar\n",
      "...................................................................\n",
      "Generación: 1\n",
      "Costo promedio: 56119.685796999984\n",
      "Varianza del costo en la genearción: 15352781.323542405\n",
      "Desviación estándar del costo en la genearción: 3918.2625388738825\n",
      "Diversidad promedio: 16.792929292929294 genes\n",
      "Menor costo de toda la generación : 39179.6414\n",
      "Mayor costo de toda la generación : 61278.5612\n",
      "Tiempo de ejecución de la genaración 1: 9.152675867080688\n",
      "...................................................................\n",
      "mutar\n",
      "...................................................................\n",
      "Generación: 2\n",
      "Costo promedio: 53349.36680999997\n",
      "Varianza del costo en la genearción: 9387294.823458532\n",
      "Desviación estándar del costo en la genearción: 3063.8692569133123\n",
      "Diversidad promedio: 16.624444444444446 genes\n",
      "Menor costo de toda la generación : 39179.6414\n",
      "Mayor costo de toda la generación : 57686.9224\n",
      "Tiempo de ejecución de la genaración 2: 9.345003843307495\n",
      "...................................................................\n",
      "mutar\n",
      "...................................................................\n",
      "Generación: 3\n",
      "Costo promedio: 50359.623618\n",
      "Varianza del costo en la genearción: 11560150.094746182\n",
      "Desviación estándar del costo en la genearción: 3400.022072685144\n",
      "Diversidad promedio: 16.364646464646466 genes\n",
      "Menor costo de toda la generación : 39179.6414\n",
      "Mayor costo de toda la generación : 54137.2092\n",
      "Tiempo de ejecución de la genaración 3: 10.517168521881104\n",
      "...................................................................\n",
      "mutar\n",
      "...................................................................\n",
      "Generación: 4\n",
      "Costo promedio: 48185.860546\n",
      "Varianza del costo en la genearción: 10364870.209794035\n",
      "Desviación estándar del costo en la genearción: 3219.45184927404\n",
      "Diversidad promedio: 16.384646464646465 genes\n",
      "Menor costo de toda la generación : 37499.7178\n",
      "Mayor costo de toda la generación : 51773.3019\n",
      "Tiempo de ejecución de la genaración 4: 8.921684980392456\n",
      "...................................................................\n",
      "mutar\n",
      "...................................................................\n",
      "Generación: 5\n",
      "Costo promedio: 46916.258415000004\n",
      "Varianza del costo en la genearción: 9232927.125163293\n",
      "Desviación estándar del costo en la genearción: 3038.573205496832\n",
      "Diversidad promedio: 16.17252525252525 genes\n",
      "Menor costo de toda la generación : 35185.4191\n",
      "Mayor costo de toda la generación : 50042.1572\n",
      "Tiempo de ejecución de la genaración 5: 8.781619310379028\n",
      "...................................................................\n",
      "mutar\n",
      "...................................................................\n",
      "Generación: 6\n",
      "Costo promedio: 44937.39369599999\n",
      "Varianza del costo en la genearción: 8801485.808024509\n",
      "Desviación estándar del costo en la genearción: 2966.729817159714\n",
      "Diversidad promedio: 15.707474747474748 genes\n",
      "Menor costo de toda la generación : 35185.4191\n",
      "Mayor costo de toda la generación : 48517.1462\n",
      "Tiempo de ejecución de la genaración 6: 8.920655488967896\n",
      "...................................................................\n",
      "mutar\n",
      "...................................................................\n",
      "Generación: 7\n",
      "Costo promedio: 43022.244086000006\n",
      "Varianza del costo en la genearción: 7516035.964776104\n",
      "Desviación estándar del costo en la genearción: 2741.538977431491\n",
      "Diversidad promedio: 15.033333333333333 genes\n",
      "Menor costo de toda la generación : 35185.4191\n",
      "Mayor costo de toda la generación : 46288.3541\n",
      "Tiempo de ejecución de la genaración 7: 8.81134557723999\n",
      "...................................................................\n",
      "mutar\n",
      "...................................................................\n",
      "Generación: 8\n",
      "Costo promedio: 41517.43645900001\n",
      "Varianza del costo en la genearción: 5151987.796610416\n",
      "Desviación estándar del costo en la genearción: 2269.7990652501417\n",
      "Diversidad promedio: 14.79959595959596 genes\n",
      "Menor costo de toda la generación : 34327.061\n",
      "Mayor costo de toda la generación : 44203.8212\n",
      "Tiempo de ejecución de la genaración 8: 8.633337497711182\n",
      "...................................................................\n",
      "mutar\n",
      "...................................................................\n",
      "Generación: 9\n",
      "Costo promedio: 40052.75281399998\n",
      "Varianza del costo en la genearción: 3810591.2319521373\n",
      "Desviación estándar del costo en la genearción: 1952.0735723717323\n",
      "Diversidad promedio: 14.723232323232324 genes\n",
      "Menor costo de toda la generación : 34327.061\n",
      "Mayor costo de toda la generación : 42862.9638\n",
      "Tiempo de ejecución de la genaración 9: 7.899372816085815\n",
      "...................................................................\n",
      "mutar\n",
      "...................................................................\n",
      "Generación: 10\n",
      "Costo promedio: 38718.81292900001\n",
      "Varianza del costo en la genearción: 3578453.177222729\n",
      "Desviación estándar del costo en la genearción: 1891.6799880589554\n",
      "Diversidad promedio: 14.497171717171717 genes\n",
      "Menor costo de toda la generación : 32473.5184\n",
      "Mayor costo de toda la generación : 41277.7407\n",
      "Tiempo de ejecución de la genaración 10: 8.40328574180603\n",
      "...................................................................\n",
      "mutar\n",
      "...................................................................\n",
      "Generación: 11\n",
      "Costo promedio: 37437.35578300001\n",
      "Varianza del costo en la genearción: 2774169.125218432\n",
      "Desviación estándar del costo en la genearción: 1665.5837190662114\n",
      "Diversidad promedio: 13.916969696969696 genes\n",
      "Menor costo de toda la generación : 32095.923\n",
      "Mayor costo de toda la generación : 39384.4106\n",
      "Tiempo de ejecución de la genaración 11: 8.34958815574646\n",
      "...................................................................\n",
      "mutar\n",
      "...................................................................\n",
      "Generación: 12\n",
      "Costo promedio: 36398.34642700002\n",
      "Varianza del costo en la genearción: 2600891.4067586646\n",
      "Desviación estándar del costo en la genearción: 1612.7279394735692\n",
      "Diversidad promedio: 13.938989898989899 genes\n",
      "Menor costo de toda la generación : 29961.6682\n",
      "Mayor costo de toda la generación : 38154.4633\n",
      "Tiempo de ejecución de la genaración 12: 8.43312120437622\n",
      "...................................................................\n",
      "mutar\n",
      "...................................................................\n",
      "Generación: 13\n",
      "Costo promedio: 35579.046114\n",
      "Varianza del costo en la genearción: 2212629.3976825145\n",
      "Desviación estándar del costo en la genearción: 1487.4909739835448\n",
      "Diversidad promedio: 13.568080808080808 genes\n",
      "Menor costo de toda la generación : 29961.6682\n",
      "Mayor costo de toda la generación : 37277.3036\n",
      "Tiempo de ejecución de la genaración 13: 7.636667490005493\n",
      "...................................................................\n",
      "mutar\n",
      "...................................................................\n",
      "Generación: 14\n",
      "Costo promedio: 34701.06547900001\n",
      "Varianza del costo en la genearción: 2361235.6524169273\n",
      "Desviación estándar del costo en la genearción: 1536.6312675514991\n",
      "Diversidad promedio: 12.75131313131313 genes\n",
      "Menor costo de toda la generación : 28827.3294\n",
      "Mayor costo de toda la generación : 36504.1917\n",
      "Tiempo de ejecución de la genaración 14: 8.250290155410767\n",
      "...................................................................\n",
      "mutar\n",
      "...................................................................\n",
      "Generación: 15\n",
      "Costo promedio: 33785.273351\n",
      "Varianza del costo en la genearción: 2341111.6260158904\n",
      "Desviación estándar del costo en la genearción: 1530.0691572657395\n",
      "Diversidad promedio: 12.685656565656565 genes\n",
      "Menor costo de toda la generación : 28827.3294\n",
      "Mayor costo de toda la generación : 35597.8582\n",
      "Tiempo de ejecución de la genaración 15: 7.762519121170044\n",
      "...................................................................\n",
      "mutar\n",
      "...................................................................\n",
      "Generación: 16\n",
      "Costo promedio: 32959.847724000014\n",
      "Varianza del costo en la genearción: 2207618.9272777867\n",
      "Desviación estándar del costo en la genearción: 1485.8058174868568\n",
      "Diversidad promedio: 12.463030303030303 genes\n",
      "Menor costo de toda la generación : 28372.0412\n",
      "Mayor costo de toda la generación : 34752.649\n",
      "Tiempo de ejecución de la genaración 16: 7.716798782348633\n",
      "...................................................................\n",
      "mutar\n",
      "...................................................................\n",
      "Generación: 17\n",
      "Costo promedio: 31983.332049999997\n",
      "Varianza del costo en la genearción: 2044350.2707248465\n",
      "Desviación estándar del costo en la genearción: 1429.8077740468634\n",
      "Diversidad promedio: 11.353131313131312 genes\n",
      "Menor costo de toda la generación : 27520.7021\n",
      "Mayor costo de toda la generación : 33646.9888\n",
      "Tiempo de ejecución de la genaración 17: 7.837430238723755\n",
      "...................................................................\n",
      "mutar\n",
      "...................................................................\n",
      "Generación: 18\n",
      "Costo promedio: 30786.111382\n",
      "Varianza del costo en la genearción: 1813646.5618026403\n",
      "Desviación estándar del costo en la genearción: 1346.7169568259844\n",
      "Diversidad promedio: 10.104444444444445 genes\n",
      "Menor costo de toda la generación : 27417.5291\n",
      "Mayor costo de toda la generación : 32333.3878\n",
      "Tiempo de ejecución de la genaración 18: 7.900121212005615\n",
      "...................................................................\n",
      "mutar\n",
      "...................................................................\n",
      "Generación: 19\n",
      "Costo promedio: 29957.897092000003\n",
      "Varianza del costo en la genearción: 1488005.057196525\n",
      "Desviación estándar del costo en la genearción: 1219.8381274564772\n",
      "Diversidad promedio: 9.537373737373738 genes\n",
      "Menor costo de toda la generación : 27417.5291\n",
      "Mayor costo de toda la generación : 31529.8075\n",
      "Tiempo de ejecución de la genaración 19: 7.801770210266113\n",
      "...................................................................\n",
      "mutar\n",
      "...................................................................\n",
      "Generación: 20\n",
      "Costo promedio: 29183.57072999999\n",
      "Varianza del costo en la genearción: 1046615.0281528726\n",
      "Desviación estándar del costo en la genearción: 1023.0420461314739\n",
      "Diversidad promedio: 8.706868686868686 genes\n",
      "Menor costo de toda la generación : 25454.6415\n",
      "Mayor costo de toda la generación : 30665.9706\n",
      "Tiempo de ejecución de la genaración 20: 7.668095111846924\n",
      "...................................................................\n",
      "mutar\n",
      "...................................................................\n",
      "Generación: 21\n",
      "Costo promedio: 28358.269750999996\n",
      "Varianza del costo en la genearción: 529219.0623864775\n",
      "Desviación estándar del costo en la genearción: 727.4744410537579\n",
      "Diversidad promedio: 7.297171717171717 genes\n",
      "Menor costo de toda la generación : 25454.6415\n",
      "Mayor costo de toda la generación : 29491.2607\n",
      "Tiempo de ejecución de la genaración 21: 7.379810810089111\n",
      "...................................................................\n",
      "mutar\n",
      "...................................................................\n",
      "Generación: 22\n",
      "Costo promedio: 27773.41386399995\n",
      "Varianza del costo en la genearción: 336615.3000256576\n",
      "Desviación estándar del costo en la genearción: 580.1855737827834\n",
      "Diversidad promedio: 4.560808080808081 genes\n",
      "Menor costo de toda la generación : 25454.6415\n",
      "Mayor costo de toda la generación : 28372.0412\n",
      "Tiempo de ejecución de la genaración 22: 7.148275136947632\n",
      "...................................................................\n",
      "mutar\n",
      "...................................................................\n",
      "Generación: 23\n",
      "Costo promedio: 27167.72469700002\n",
      "Varianza del costo en la genearción: 262094.43649768614\n",
      "Desviación estándar del costo en la genearción: 511.95159585422346\n",
      "Diversidad promedio: 4.935959595959596 genes\n",
      "Menor costo de toda la generación : 25454.6415\n",
      "Mayor costo de toda la generación : 27683.3793\n",
      "Tiempo de ejecución de la genaración 23: 7.53458046913147\n",
      "...................................................................\n",
      "mutar\n",
      "...................................................................\n",
      "Generación: 24\n",
      "Costo promedio: 26621.836391999983\n",
      "Varianza del costo en la genearción: 311338.9475289865\n",
      "Desviación estándar del costo en la genearción: 557.9775510977\n",
      "Diversidad promedio: 6.676363636363637 genes\n",
      "Menor costo de toda la generación : 25036.5528\n",
      "Mayor costo de toda la generación : 27417.5291\n",
      "Tiempo de ejecución de la genaración 24: 7.003584146499634\n",
      "...................................................................\n",
      "mutar\n",
      "...................................................................\n",
      "Generación: 25\n",
      "Costo promedio: 26134.435341999986\n",
      "Varianza del costo en la genearción: 208633.43792250328\n",
      "Desviación estándar del costo en la genearción: 456.76409438845263\n",
      "Diversidad promedio: 7.1713131313131315 genes\n",
      "Menor costo de toda la generación : 25036.5528\n",
      "Mayor costo de toda la generación : 26809.1648\n",
      "Tiempo de ejecución de la genaración 25: 7.474235773086548\n",
      "...................................................................\n",
      "mutar\n",
      "...................................................................\n",
      "Generación: 26\n",
      "Costo promedio: 25745.351573000014\n",
      "Varianza del costo en la genearción: 132614.1373225208\n",
      "Desviación estándar del costo en la genearción: 364.1622403854096\n",
      "Diversidad promedio: 6.9480808080808085 genes\n",
      "Menor costo de toda la generación : 25036.5528\n",
      "Mayor costo de toda la generación : 26262.2942\n",
      "Tiempo de ejecución de la genaración 26: 7.658036708831787\n",
      "...................................................................\n",
      "mutar\n",
      "...................................................................\n",
      "Generación: 27\n",
      "Costo promedio: 25414.611133000013\n",
      "Varianza del costo en la genearción: 91014.90394560713\n",
      "Desviación estándar del costo en la genearción: 301.686764617885\n",
      "Diversidad promedio: 6.251919191919192 genes\n",
      "Menor costo de toda la generación : 24551.7803\n",
      "Mayor costo de toda la generación : 25740.2256\n",
      "Tiempo de ejecución de la genaración 27: 7.646164417266846\n",
      "...................................................................\n",
      "mutar\n",
      "...................................................................\n",
      "Generación: 28\n",
      "Costo promedio: 25150.303723999987\n",
      "Varianza del costo en la genearción: 73111.35552706607\n",
      "Desviación estándar del costo en la genearción: 270.39111584345017\n",
      "Diversidad promedio: 6.399191919191919 genes\n",
      "Menor costo de toda la generación : 23849.372\n",
      "Mayor costo de toda la generación : 25549.6157\n",
      "Tiempo de ejecución de la genaración 28: 7.804168939590454\n",
      "...................................................................\n",
      "mutar\n",
      "...................................................................\n",
      "Generación: 29\n",
      "Costo promedio: 24882.150998000005\n",
      "Varianza del costo en la genearción: 109086.45565693457\n",
      "Desviación estándar del costo en la genearción: 330.2823877486273\n",
      "Diversidad promedio: 5.483636363636363 genes\n",
      "Menor costo de toda la generación : 23849.372\n",
      "Mayor costo de toda la generación : 25189.6293\n",
      "Tiempo de ejecución de la genaración 29: 7.678579568862915\n",
      "...................................................................\n",
      "mutar\n",
      "...................................................................\n",
      "Generación: 30\n",
      "Costo promedio: 24628.811635000053\n",
      "Varianza del costo en la genearción: 91361.46832285721\n",
      "Desviación estándar del costo en la genearción: 302.2605967089611\n",
      "Diversidad promedio: 3.0783838383838384 genes\n",
      "Menor costo de toda la generación : 23849.372\n",
      "Mayor costo de toda la generación : 25036.5528\n",
      "Tiempo de ejecución de la genaración 30: 7.063655614852905\n",
      "...................................................................\n",
      "mutar\n",
      "...................................................................\n",
      "Generación: 31\n",
      "Costo promedio: 24365.177490999973\n",
      "Varianza del costo en la genearción: 22828.691046208445\n",
      "Desviación estándar del costo en la genearción: 151.0916643836067\n",
      "Diversidad promedio: 2.1044444444444443 genes\n",
      "Menor costo de toda la generación : 23849.372\n",
      "Mayor costo de toda la generación : 24576.6259\n",
      "Tiempo de ejecución de la genaración 31: 7.456359386444092\n",
      "...................................................................\n",
      "mutar\n",
      "...................................................................\n",
      "Generación: 32\n",
      "Costo promedio: 24214.007687999965\n",
      "Varianza del costo en la genearción: 35853.285072770224\n",
      "Desviación estándar del costo en la genearción: 189.3496371075747\n",
      "Diversidad promedio: 1.9814141414141415 genes\n",
      "Menor costo de toda la generación : 23849.372\n",
      "Mayor costo de toda la generación : 24334.1445\n",
      "Tiempo de ejecución de la genaración 32: 7.392208099365234\n",
      "...................................................................\n",
      "mutar\n",
      "...................................................................\n",
      "Generación: 33\n",
      "Costo promedio: 24090.521616999973\n",
      "Varianza del costo en la genearción: 42449.26846363933\n",
      "Desviación estándar del costo en la genearción: 206.03220249184187\n",
      "Diversidad promedio: 2.5115151515151517 genes\n",
      "Menor costo de toda la generación : 23849.372\n",
      "Mayor costo de toda la generación : 24334.1445\n",
      "Tiempo de ejecución de la genaración 33: 7.032166242599487\n",
      "...................................................................\n",
      "mutar\n",
      "...................................................................\n",
      "Generación: 34\n",
      "Costo promedio: 23898.910525999978\n",
      "Varianza del costo en la genearción: 8901.075777044782\n",
      "Desviación estándar del costo en la genearción: 94.34551275521683\n",
      "Diversidad promedio: 0.7919191919191919 genes\n",
      "Menor costo de toda la generación : 23849.372\n",
      "Mayor costo de toda la generación : 24132.8364\n",
      "Tiempo de ejecución de la genaración 34: 7.677582025527954\n",
      "...................................................................\n",
      "mutar\n",
      "...................................................................\n",
      "Generación: 35\n",
      "Costo promedio: 23849.371999999978\n",
      "Varianza del costo en la genearción: 4.764560328305439e-22\n",
      "Desviación estándar del costo en la genearción: 2.1827872842550278e-11\n",
      "Diversidad promedio: 0.0 genes\n",
      "Menor costo de toda la generación : 23849.372\n",
      "Mayor costo de toda la generación : 23849.372\n",
      "Tiempo de ejecución de la genaración 35: 7.654766082763672\n",
      "...................................................................\n",
      "mutar\n",
      "...................................................................\n",
      "Generación: 36\n",
      "Costo promedio: 23849.371999999978\n",
      "Varianza del costo en la genearción: 4.764560328305439e-22\n",
      "Desviación estándar del costo en la genearción: 2.1827872842550278e-11\n",
      "Diversidad promedio: 0.0 genes\n",
      "Menor costo de toda la generación : 23849.372\n",
      "Mayor costo de toda la generación : 23849.372\n",
      "Tiempo de ejecución de la genaración 36: 6.821765184402466\n",
      "...................................................................\n",
      "mutar\n",
      "...................................................................\n",
      "Generación: 37\n",
      "Costo promedio: 23849.371999999978\n",
      "Varianza del costo en la genearción: 4.764560328305439e-22\n",
      "Desviación estándar del costo en la genearción: 2.1827872842550278e-11\n",
      "Diversidad promedio: 0.0 genes\n",
      "Menor costo de toda la generación : 23849.372\n",
      "Mayor costo de toda la generación : 23849.372\n",
      "Tiempo de ejecución de la genaración 37: 6.55387282371521\n",
      "...................................................................\n",
      "mutar\n",
      "...................................................................\n",
      "Generación: 38\n",
      "Costo promedio: 23849.371999999978\n",
      "Varianza del costo en la genearción: 4.764560328305439e-22\n",
      "Desviación estándar del costo en la genearción: 2.1827872842550278e-11\n",
      "Diversidad promedio: 0.0 genes\n",
      "Menor costo de toda la generación : 23849.372\n",
      "Mayor costo de toda la generación : 23849.372\n",
      "Tiempo de ejecución de la genaración 38: 7.533264636993408\n",
      "...................................................................\n",
      "mutar\n",
      "...................................................................\n",
      "Generación: 39\n",
      "Costo promedio: 23849.371999999978\n",
      "Varianza del costo en la genearción: 4.764560328305439e-22\n",
      "Desviación estándar del costo en la genearción: 2.1827872842550278e-11\n",
      "Diversidad promedio: 0.0 genes\n",
      "Menor costo de toda la generación : 23849.372\n",
      "Mayor costo de toda la generación : 23849.372\n",
      "Tiempo de ejecución de la genaración 39: 7.320098638534546\n",
      "...................................................................\n",
      "mutar\n",
      "...................................................................\n",
      "Generación: 40\n",
      "Costo promedio: 23849.371999999978\n",
      "Varianza del costo en la genearción: 4.764560328305439e-22\n",
      "Desviación estándar del costo en la genearción: 2.1827872842550278e-11\n",
      "Diversidad promedio: 0.0 genes\n",
      "Menor costo de toda la generación : 23849.372\n",
      "Mayor costo de toda la generación : 23849.372\n",
      "Tiempo de ejecución de la genaración 40: 6.734914064407349\n",
      "...................................................................\n",
      "mutar\n",
      "...................................................................\n",
      "Generación: 41\n",
      "Costo promedio: 23849.371999999978\n",
      "Varianza del costo en la genearción: 4.764560328305439e-22\n",
      "Desviación estándar del costo en la genearción: 2.1827872842550278e-11\n",
      "Diversidad promedio: 0.0 genes\n",
      "Menor costo de toda la generación : 23849.372\n",
      "Mayor costo de toda la generación : 23849.372\n",
      "Tiempo de ejecución de la genaración 41: 7.075674533843994\n",
      "...................................................................\n",
      "mutar\n",
      "...................................................................\n",
      "Generación: 42\n",
      "Costo promedio: 23849.371999999978\n",
      "Varianza del costo en la genearción: 4.764560328305439e-22\n",
      "Desviación estándar del costo en la genearción: 2.1827872842550278e-11\n",
      "Diversidad promedio: 0.0 genes\n",
      "Menor costo de toda la generación : 23849.372\n",
      "Mayor costo de toda la generación : 23849.372\n",
      "Tiempo de ejecución de la genaración 42: 7.486753702163696\n",
      "...................................................................\n",
      "mutar\n",
      "...................................................................\n",
      "Generación: 43\n",
      "Costo promedio: 23849.371999999978\n",
      "Varianza del costo en la genearción: 4.764560328305439e-22\n",
      "Desviación estándar del costo en la genearción: 2.1827872842550278e-11\n",
      "Diversidad promedio: 0.0 genes\n",
      "Menor costo de toda la generación : 23849.372\n",
      "Mayor costo de toda la generación : 23849.372\n",
      "Tiempo de ejecución de la genaración 43: 7.314990758895874\n",
      "...................................................................\n",
      "mutar\n",
      "...................................................................\n",
      "Generación: 44\n",
      "Costo promedio: 23849.371999999978\n",
      "Varianza del costo en la genearción: 4.764560328305439e-22\n",
      "Desviación estándar del costo en la genearción: 2.1827872842550278e-11\n",
      "Diversidad promedio: 0.0 genes\n",
      "Menor costo de toda la generación : 23849.372\n",
      "Mayor costo de toda la generación : 23849.372\n",
      "Tiempo de ejecución de la genaración 44: 7.378451824188232\n",
      "...................................................................\n",
      "mutar\n",
      "...................................................................\n",
      "Generación: 45\n",
      "Costo promedio: 23849.371999999978\n",
      "Varianza del costo en la genearción: 4.764560328305439e-22\n",
      "Desviación estándar del costo en la genearción: 2.1827872842550278e-11\n",
      "Diversidad promedio: 0.0 genes\n",
      "Menor costo de toda la generación : 23849.372\n",
      "Mayor costo de toda la generación : 23849.372\n",
      "Tiempo de ejecución de la genaración 45: 6.9357590675354\n",
      "...................................................................\n",
      "mutar\n",
      "...................................................................\n",
      "Generación: 46\n",
      "Costo promedio: 23849.371999999978\n",
      "Varianza del costo en la genearción: 4.764560328305439e-22\n",
      "Desviación estándar del costo en la genearción: 2.1827872842550278e-11\n",
      "Diversidad promedio: 0.0 genes\n",
      "Menor costo de toda la generación : 23849.372\n",
      "Mayor costo de toda la generación : 23849.372\n",
      "Tiempo de ejecución de la genaración 46: 7.387499570846558\n",
      "...................................................................\n",
      "mutar\n",
      "...................................................................\n",
      "Generación: 47\n",
      "Costo promedio: 23849.371999999978\n",
      "Varianza del costo en la genearción: 4.764560328305439e-22\n",
      "Desviación estándar del costo en la genearción: 2.1827872842550278e-11\n",
      "Diversidad promedio: 0.0 genes\n",
      "Menor costo de toda la generación : 23849.372\n",
      "Mayor costo de toda la generación : 23849.372\n",
      "Tiempo de ejecución de la genaración 47: 7.245786190032959\n",
      "...................................................................\n",
      "mutar\n",
      "...................................................................\n",
      "Generación: 48\n",
      "Costo promedio: 23849.371999999978\n",
      "Varianza del costo en la genearción: 4.764560328305439e-22\n",
      "Desviación estándar del costo en la genearción: 2.1827872842550278e-11\n",
      "Diversidad promedio: 0.0 genes\n",
      "Menor costo de toda la generación : 23849.372\n",
      "Mayor costo de toda la generación : 23849.372\n",
      "Tiempo de ejecución de la genaración 48: 7.301394939422607\n",
      "...................................................................\n",
      "mutar\n",
      "...................................................................\n",
      "Generación: 49\n",
      "Costo promedio: 23849.371999999978\n",
      "Varianza del costo en la genearción: 4.764560328305439e-22\n",
      "Desviación estándar del costo en la genearción: 2.1827872842550278e-11\n",
      "Diversidad promedio: 0.0 genes\n",
      "Menor costo de toda la generación : 23849.372\n",
      "Mayor costo de toda la generación : 23849.372\n",
      "Tiempo de ejecución de la genaración 49: 6.983986139297485\n",
      "...................................................................\n",
      "mutar\n",
      "...................................................................\n",
      "Generación: 50\n",
      "Costo promedio: 23849.371999999978\n",
      "Varianza del costo en la genearción: 4.764560328305439e-22\n",
      "Desviación estándar del costo en la genearción: 2.1827872842550278e-11\n",
      "Diversidad promedio: 0.0 genes\n",
      "Menor costo de toda la generación : 23849.372\n",
      "Mayor costo de toda la generación : 23849.372\n",
      "Tiempo de ejecución de la genaración 50: 7.0574631690979\n",
      "...................................................................\n",
      "mutar\n",
      "...................................................................\n",
      "Generación: 51\n",
      "Costo promedio: 23849.371999999978\n",
      "Varianza del costo en la genearción: 4.764560328305439e-22\n",
      "Desviación estándar del costo en la genearción: 2.1827872842550278e-11\n",
      "Diversidad promedio: 0.0 genes\n",
      "Menor costo de toda la generación : 23849.372\n",
      "Mayor costo de toda la generación : 23849.372\n",
      "Tiempo de ejecución de la genaración 51: 7.099481821060181\n",
      "...................................................................\n",
      "mutar\n",
      "...................................................................\n",
      "Generación: 52\n",
      "Costo promedio: 23849.371999999978\n",
      "Varianza del costo en la genearción: 4.764560328305439e-22\n",
      "Desviación estándar del costo en la genearción: 2.1827872842550278e-11\n",
      "Diversidad promedio: 0.0 genes\n",
      "Menor costo de toda la generación : 23849.372\n",
      "Mayor costo de toda la generación : 23849.372\n",
      "Tiempo de ejecución de la genaración 52: 7.034264802932739\n",
      "...................................................................\n",
      "mutar\n",
      "...................................................................\n",
      "Generación: 53\n",
      "Costo promedio: 23849.371999999978\n",
      "Varianza del costo en la genearción: 4.764560328305439e-22\n",
      "Desviación estándar del costo en la genearción: 2.1827872842550278e-11\n",
      "Diversidad promedio: 0.0 genes\n",
      "Menor costo de toda la generación : 23849.372\n",
      "Mayor costo de toda la generación : 23849.372\n",
      "Tiempo de ejecución de la genaración 53: 7.061550855636597\n",
      "...................................................................\n",
      "mutar\n",
      "...................................................................\n",
      "Generación: 54\n",
      "Costo promedio: 23849.371999999978\n",
      "Varianza del costo en la genearción: 4.764560328305439e-22\n",
      "Desviación estándar del costo en la genearción: 2.1827872842550278e-11\n",
      "Diversidad promedio: 0.0 genes\n",
      "Menor costo de toda la generación : 23849.372\n",
      "Mayor costo de toda la generación : 23849.372\n",
      "Tiempo de ejecución de la genaración 54: 6.858108043670654\n",
      "...................................................................\n",
      "mutar\n",
      "...................................................................\n",
      "Generación: 55\n",
      "Costo promedio: 23849.371999999978\n",
      "Varianza del costo en la genearción: 4.764560328305439e-22\n",
      "Desviación estándar del costo en la genearción: 2.1827872842550278e-11\n",
      "Diversidad promedio: 0.0 genes\n",
      "Menor costo de toda la generación : 23849.372\n",
      "Mayor costo de toda la generación : 23849.372\n",
      "Tiempo de ejecución de la genaración 55: 6.831545114517212\n",
      "...................................................................\n",
      "mutar\n",
      "...................................................................\n",
      "Generación: 56\n",
      "Costo promedio: 23849.371999999978\n",
      "Varianza del costo en la genearción: 4.764560328305439e-22\n",
      "Desviación estándar del costo en la genearción: 2.1827872842550278e-11\n",
      "Diversidad promedio: 0.0 genes\n",
      "Menor costo de toda la generación : 23849.372\n",
      "Mayor costo de toda la generación : 23849.372\n",
      "Tiempo de ejecución de la genaración 56: 7.016069412231445\n",
      "...................................................................\n",
      "mutar\n",
      "...................................................................\n",
      "Generación: 57\n",
      "Costo promedio: 23849.371999999978\n",
      "Varianza del costo en la genearción: 4.764560328305439e-22\n",
      "Desviación estándar del costo en la genearción: 2.1827872842550278e-11\n",
      "Diversidad promedio: 0.0 genes\n",
      "Menor costo de toda la generación : 23849.372\n",
      "Mayor costo de toda la generación : 23849.372\n",
      "Tiempo de ejecución de la genaración 57: 6.873227119445801\n",
      "...................................................................\n",
      "mutar\n",
      "...................................................................\n",
      "Generación: 58\n",
      "Costo promedio: 23849.371999999978\n",
      "Varianza del costo en la genearción: 4.764560328305439e-22\n",
      "Desviación estándar del costo en la genearción: 2.1827872842550278e-11\n",
      "Diversidad promedio: 0.0 genes\n",
      "Menor costo de toda la generación : 23849.372\n",
      "Mayor costo de toda la generación : 23849.372\n",
      "Tiempo de ejecución de la genaración 58: 7.551617383956909\n",
      "...................................................................\n",
      "mutar\n",
      "...................................................................\n",
      "Generación: 59\n",
      "Costo promedio: 23849.371999999978\n",
      "Varianza del costo en la genearción: 4.764560328305439e-22\n",
      "Desviación estándar del costo en la genearción: 2.1827872842550278e-11\n",
      "Diversidad promedio: 0.0 genes\n",
      "Menor costo de toda la generación : 23849.372\n",
      "Mayor costo de toda la generación : 23849.372\n",
      "Tiempo de ejecución de la genaración 59: 7.232963800430298\n",
      "...................................................................\n",
      "mutar\n",
      "...................................................................\n",
      "Generación: 60\n",
      "Costo promedio: 23849.371999999978\n",
      "Varianza del costo en la genearción: 4.764560328305439e-22\n",
      "Desviación estándar del costo en la genearción: 2.1827872842550278e-11\n",
      "Diversidad promedio: 0.0 genes\n",
      "Menor costo de toda la generación : 23849.372\n",
      "Mayor costo de toda la generación : 23849.372\n",
      "Tiempo de ejecución de la genaración 60: 7.4659583568573\n",
      "...................................................................\n",
      "mutar\n",
      "...................................................................\n",
      "Generación: 61\n",
      "Costo promedio: 23849.371999999978\n",
      "Varianza del costo en la genearción: 4.764560328305439e-22\n",
      "Desviación estándar del costo en la genearción: 2.1827872842550278e-11\n",
      "Diversidad promedio: 0.0 genes\n",
      "Menor costo de toda la generación : 23849.372\n",
      "Mayor costo de toda la generación : 23849.372\n",
      "Tiempo de ejecución de la genaración 61: 7.320824146270752\n",
      "...................................................................\n",
      "mutar\n",
      "...................................................................\n",
      "Generación: 62\n",
      "Costo promedio: 23849.371999999978\n",
      "Varianza del costo en la genearción: 4.764560328305439e-22\n",
      "Desviación estándar del costo en la genearción: 2.1827872842550278e-11\n",
      "Diversidad promedio: 0.0 genes\n",
      "Menor costo de toda la generación : 23849.372\n",
      "Mayor costo de toda la generación : 23849.372\n",
      "Tiempo de ejecución de la genaración 62: 7.283676624298096\n",
      "...................................................................\n",
      "mutar\n",
      "...................................................................\n",
      "Generación: 63\n",
      "Costo promedio: 23849.371999999978\n",
      "Varianza del costo en la genearción: 4.764560328305439e-22\n",
      "Desviación estándar del costo en la genearción: 2.1827872842550278e-11\n",
      "Diversidad promedio: 0.0 genes\n",
      "Menor costo de toda la generación : 23849.372\n",
      "Mayor costo de toda la generación : 23849.372\n",
      "Tiempo de ejecución de la genaración 63: 6.847784042358398\n",
      "...................................................................\n",
      "mutar\n",
      "...................................................................\n",
      "Generación: 64\n",
      "Costo promedio: 23849.371999999978\n",
      "Varianza del costo en la genearción: 4.764560328305439e-22\n",
      "Desviación estándar del costo en la genearción: 2.1827872842550278e-11\n",
      "Diversidad promedio: 0.0 genes\n",
      "Menor costo de toda la generación : 23849.372\n",
      "Mayor costo de toda la generación : 23849.372\n",
      "Tiempo de ejecución de la genaración 64: 7.527338981628418\n",
      "...................................................................\n",
      "mutar\n",
      "...................................................................\n",
      "Generación: 65\n",
      "Costo promedio: 23849.371999999978\n",
      "Varianza del costo en la genearción: 4.764560328305439e-22\n",
      "Desviación estándar del costo en la genearción: 2.1827872842550278e-11\n",
      "Diversidad promedio: 0.0 genes\n",
      "Menor costo de toda la generación : 23849.372\n",
      "Mayor costo de toda la generación : 23849.372\n",
      "Tiempo de ejecución de la genaración 65: 7.801731586456299\n",
      "...................................................................\n",
      "mutar\n",
      "...................................................................\n",
      "Generación: 66\n",
      "Costo promedio: 23849.371999999978\n",
      "Varianza del costo en la genearción: 4.764560328305439e-22\n",
      "Desviación estándar del costo en la genearción: 2.1827872842550278e-11\n",
      "Diversidad promedio: 0.0 genes\n",
      "Menor costo de toda la generación : 23849.372\n",
      "Mayor costo de toda la generación : 23849.372\n",
      "Tiempo de ejecución de la genaración 66: 6.7640485763549805\n",
      "...................................................................\n",
      "mutar\n",
      "...................................................................\n",
      "Generación: 67\n",
      "Costo promedio: 23849.371999999978\n",
      "Varianza del costo en la genearción: 4.764560328305439e-22\n",
      "Desviación estándar del costo en la genearción: 2.1827872842550278e-11\n",
      "Diversidad promedio: 0.0 genes\n",
      "Menor costo de toda la generación : 23849.372\n",
      "Mayor costo de toda la generación : 23849.372\n",
      "Tiempo de ejecución de la genaración 67: 7.219501972198486\n",
      "...................................................................\n",
      "mutar\n",
      "...................................................................\n",
      "Generación: 68\n",
      "Costo promedio: 23849.371999999978\n",
      "Varianza del costo en la genearción: 4.764560328305439e-22\n",
      "Desviación estándar del costo en la genearción: 2.1827872842550278e-11\n",
      "Diversidad promedio: 0.0 genes\n",
      "Menor costo de toda la generación : 23849.372\n",
      "Mayor costo de toda la generación : 23849.372\n",
      "Tiempo de ejecución de la genaración 68: 6.80005145072937\n",
      "...................................................................\n",
      "mutar\n",
      "...................................................................\n",
      "Generación: 69\n",
      "Costo promedio: 23849.371999999978\n",
      "Varianza del costo en la genearción: 4.764560328305439e-22\n",
      "Desviación estándar del costo en la genearción: 2.1827872842550278e-11\n",
      "Diversidad promedio: 0.0 genes\n",
      "Menor costo de toda la generación : 23849.372\n",
      "Mayor costo de toda la generación : 23849.372\n",
      "Tiempo de ejecución de la genaración 69: 7.228265285491943\n",
      "...................................................................\n",
      "mutar\n",
      "...................................................................\n",
      "Generación: 70\n",
      "Costo promedio: 23849.371999999978\n",
      "Varianza del costo en la genearción: 4.764560328305439e-22\n",
      "Desviación estándar del costo en la genearción: 2.1827872842550278e-11\n",
      "Diversidad promedio: 0.0 genes\n",
      "Menor costo de toda la generación : 23849.372\n",
      "Mayor costo de toda la generación : 23849.372\n",
      "Tiempo de ejecución de la genaración 70: 7.466066837310791\n",
      "...................................................................\n",
      "mutar\n",
      "...................................................................\n",
      "Generación: 71\n",
      "Costo promedio: 23849.371999999978\n",
      "Varianza del costo en la genearción: 4.764560328305439e-22\n",
      "Desviación estándar del costo en la genearción: 2.1827872842550278e-11\n",
      "Diversidad promedio: 0.0 genes\n",
      "Menor costo de toda la generación : 23849.372\n",
      "Mayor costo de toda la generación : 23849.372\n",
      "Tiempo de ejecución de la genaración 71: 6.95196795463562\n",
      "...................................................................\n",
      "mutar\n",
      "...................................................................\n",
      "Generación: 72\n",
      "Costo promedio: 23849.371999999978\n",
      "Varianza del costo en la genearción: 4.764560328305439e-22\n",
      "Desviación estándar del costo en la genearción: 2.1827872842550278e-11\n",
      "Diversidad promedio: 0.0 genes\n",
      "Menor costo de toda la generación : 23849.372\n",
      "Mayor costo de toda la generación : 23849.372\n",
      "Tiempo de ejecución de la genaración 72: 6.904714584350586\n",
      "...................................................................\n",
      "mutar\n",
      "...................................................................\n",
      "Generación: 73\n",
      "Costo promedio: 23849.371999999978\n",
      "Varianza del costo en la genearción: 4.764560328305439e-22\n",
      "Desviación estándar del costo en la genearción: 2.1827872842550278e-11\n",
      "Diversidad promedio: 0.0 genes\n",
      "Menor costo de toda la generación : 23849.372\n",
      "Mayor costo de toda la generación : 23849.372\n",
      "Tiempo de ejecución de la genaración 73: 7.042019367218018\n",
      "...................................................................\n",
      "mutar\n",
      "...................................................................\n",
      "Generación: 74\n",
      "Costo promedio: 23849.371999999978\n",
      "Varianza del costo en la genearción: 4.764560328305439e-22\n",
      "Desviación estándar del costo en la genearción: 2.1827872842550278e-11\n",
      "Diversidad promedio: 0.0 genes\n",
      "Menor costo de toda la generación : 23849.372\n",
      "Mayor costo de toda la generación : 23849.372\n",
      "Tiempo de ejecución de la genaración 74: 6.9507763385772705\n",
      "...................................................................\n",
      "mutar\n",
      "...................................................................\n",
      "Generación: 75\n",
      "Costo promedio: 23849.371999999978\n",
      "Varianza del costo en la genearción: 4.764560328305439e-22\n",
      "Desviación estándar del costo en la genearción: 2.1827872842550278e-11\n",
      "Diversidad promedio: 0.0 genes\n",
      "Menor costo de toda la generación : 23849.372\n",
      "Mayor costo de toda la generación : 23849.372\n",
      "Tiempo de ejecución de la genaración 75: 7.465350389480591\n",
      "...................................................................\n",
      "mutar\n",
      "...................................................................\n",
      "Generación: 76\n",
      "Costo promedio: 23849.371999999978\n",
      "Varianza del costo en la genearción: 4.764560328305439e-22\n",
      "Desviación estándar del costo en la genearción: 2.1827872842550278e-11\n",
      "Diversidad promedio: 0.0 genes\n",
      "Menor costo de toda la generación : 23849.372\n",
      "Mayor costo de toda la generación : 23849.372\n",
      "Tiempo de ejecución de la genaración 76: 7.137240886688232\n",
      "...................................................................\n",
      "mutar\n",
      "...................................................................\n",
      "Generación: 77\n",
      "Costo promedio: 23849.371999999978\n",
      "Varianza del costo en la genearción: 4.764560328305439e-22\n",
      "Desviación estándar del costo en la genearción: 2.1827872842550278e-11\n",
      "Diversidad promedio: 0.0 genes\n",
      "Menor costo de toda la generación : 23849.372\n",
      "Mayor costo de toda la generación : 23849.372\n",
      "Tiempo de ejecución de la genaración 77: 7.093983173370361\n",
      "...................................................................\n",
      "mutar\n",
      "...................................................................\n",
      "Generación: 78\n",
      "Costo promedio: 23849.371999999978\n",
      "Varianza del costo en la genearción: 4.764560328305439e-22\n",
      "Desviación estándar del costo en la genearción: 2.1827872842550278e-11\n",
      "Diversidad promedio: 0.0 genes\n",
      "Menor costo de toda la generación : 23849.372\n",
      "Mayor costo de toda la generación : 23849.372\n",
      "Tiempo de ejecución de la genaración 78: 7.485844612121582\n",
      "...................................................................\n",
      "mutar\n",
      "...................................................................\n",
      "Generación: 79\n",
      "Costo promedio: 23849.371999999978\n",
      "Varianza del costo en la genearción: 4.764560328305439e-22\n",
      "Desviación estándar del costo en la genearción: 2.1827872842550278e-11\n",
      "Diversidad promedio: 0.0 genes\n",
      "Menor costo de toda la generación : 23849.372\n",
      "Mayor costo de toda la generación : 23849.372\n",
      "Tiempo de ejecución de la genaración 79: 6.823078393936157\n",
      "...................................................................\n",
      "mutar\n",
      "...................................................................\n",
      "Generación: 80\n",
      "Costo promedio: 23849.371999999978\n",
      "Varianza del costo en la genearción: 4.764560328305439e-22\n",
      "Desviación estándar del costo en la genearción: 2.1827872842550278e-11\n",
      "Diversidad promedio: 0.0 genes\n",
      "Menor costo de toda la generación : 23849.372\n",
      "Mayor costo de toda la generación : 23849.372\n",
      "Tiempo de ejecución de la genaración 80: 6.773171663284302\n",
      "...................................................................\n",
      "mutar\n",
      "...................................................................\n",
      "Generación: 81\n",
      "Costo promedio: 23849.371999999978\n",
      "Varianza del costo en la genearción: 4.764560328305439e-22\n",
      "Desviación estándar del costo en la genearción: 2.1827872842550278e-11\n",
      "Diversidad promedio: 0.0 genes\n",
      "Menor costo de toda la generación : 23849.372\n",
      "Mayor costo de toda la generación : 23849.372\n",
      "Tiempo de ejecución de la genaración 81: 7.154944658279419\n",
      "...................................................................\n",
      "mutar\n",
      "...................................................................\n",
      "Generación: 82\n",
      "Costo promedio: 23849.371999999978\n",
      "Varianza del costo en la genearción: 4.764560328305439e-22\n",
      "Desviación estándar del costo en la genearción: 2.1827872842550278e-11\n",
      "Diversidad promedio: 0.0 genes\n",
      "Menor costo de toda la generación : 23849.372\n",
      "Mayor costo de toda la generación : 23849.372\n",
      "Tiempo de ejecución de la genaración 82: 6.981741428375244\n",
      "...................................................................\n",
      "mutar\n",
      "...................................................................\n",
      "Generación: 83\n",
      "Costo promedio: 23849.371999999978\n",
      "Varianza del costo en la genearción: 4.764560328305439e-22\n",
      "Desviación estándar del costo en la genearción: 2.1827872842550278e-11\n",
      "Diversidad promedio: 0.0 genes\n",
      "Menor costo de toda la generación : 23849.372\n",
      "Mayor costo de toda la generación : 23849.372\n",
      "Tiempo de ejecución de la genaración 83: 7.111313104629517\n",
      "...................................................................\n",
      "mutar\n",
      "...................................................................\n",
      "Generación: 84\n",
      "Costo promedio: 23849.371999999978\n",
      "Varianza del costo en la genearción: 4.764560328305439e-22\n",
      "Desviación estándar del costo en la genearción: 2.1827872842550278e-11\n",
      "Diversidad promedio: 0.0 genes\n",
      "Menor costo de toda la generación : 23849.372\n",
      "Mayor costo de toda la generación : 23849.372\n",
      "Tiempo de ejecución de la genaración 84: 7.36782431602478\n",
      "...................................................................\n",
      "mutar\n",
      "...................................................................\n",
      "Generación: 85\n",
      "Costo promedio: 23849.371999999978\n",
      "Varianza del costo en la genearción: 4.764560328305439e-22\n",
      "Desviación estándar del costo en la genearción: 2.1827872842550278e-11\n",
      "Diversidad promedio: 0.0 genes\n",
      "Menor costo de toda la generación : 23849.372\n",
      "Mayor costo de toda la generación : 23849.372\n",
      "Tiempo de ejecución de la genaración 85: 7.104269027709961\n",
      "...................................................................\n",
      "mutar\n",
      "...................................................................\n",
      "Generación: 86\n",
      "Costo promedio: 23849.371999999978\n",
      "Varianza del costo en la genearción: 4.764560328305439e-22\n",
      "Desviación estándar del costo en la genearción: 2.1827872842550278e-11\n",
      "Diversidad promedio: 0.0 genes\n",
      "Menor costo de toda la generación : 23849.372\n",
      "Mayor costo de toda la generación : 23849.372\n",
      "Tiempo de ejecución de la genaración 86: 7.295562028884888\n",
      "...................................................................\n",
      "mutar\n",
      "...................................................................\n",
      "Generación: 87\n",
      "Costo promedio: 23849.371999999978\n",
      "Varianza del costo en la genearción: 4.764560328305439e-22\n",
      "Desviación estándar del costo en la genearción: 2.1827872842550278e-11\n",
      "Diversidad promedio: 0.0 genes\n",
      "Menor costo de toda la generación : 23849.372\n",
      "Mayor costo de toda la generación : 23849.372\n",
      "Tiempo de ejecución de la genaración 87: 6.863065242767334\n",
      "...................................................................\n",
      "mutar\n",
      "...................................................................\n",
      "Generación: 88\n",
      "Costo promedio: 23849.371999999978\n",
      "Varianza del costo en la genearción: 4.764560328305439e-22\n",
      "Desviación estándar del costo en la genearción: 2.1827872842550278e-11\n",
      "Diversidad promedio: 0.0 genes\n",
      "Menor costo de toda la generación : 23849.372\n",
      "Mayor costo de toda la generación : 23849.372\n",
      "Tiempo de ejecución de la genaración 88: 6.961109161376953\n",
      "...................................................................\n",
      "mutar\n",
      "...................................................................\n",
      "Generación: 89\n",
      "Costo promedio: 23849.371999999978\n",
      "Varianza del costo en la genearción: 4.764560328305439e-22\n",
      "Desviación estándar del costo en la genearción: 2.1827872842550278e-11\n",
      "Diversidad promedio: 0.0 genes\n",
      "Menor costo de toda la generación : 23849.372\n",
      "Mayor costo de toda la generación : 23849.372\n",
      "Tiempo de ejecución de la genaración 89: 7.225692272186279\n",
      "...................................................................\n",
      "mutar\n",
      "...................................................................\n",
      "Generación: 90\n",
      "Costo promedio: 23849.371999999978\n",
      "Varianza del costo en la genearción: 4.764560328305439e-22\n",
      "Desviación estándar del costo en la genearción: 2.1827872842550278e-11\n",
      "Diversidad promedio: 0.0 genes\n",
      "Menor costo de toda la generación : 23849.372\n",
      "Mayor costo de toda la generación : 23849.372\n",
      "Tiempo de ejecución de la genaración 90: 7.222707509994507\n",
      "...................................................................\n",
      "mutar\n",
      "...................................................................\n",
      "Generación: 91\n",
      "Costo promedio: 23849.371999999978\n",
      "Varianza del costo en la genearción: 4.764560328305439e-22\n",
      "Desviación estándar del costo en la genearción: 2.1827872842550278e-11\n",
      "Diversidad promedio: 0.0 genes\n",
      "Menor costo de toda la generación : 23849.372\n",
      "Mayor costo de toda la generación : 23849.372\n",
      "Tiempo de ejecución de la genaración 91: 7.88524603843689\n",
      "...................................................................\n",
      "mutar\n",
      "...................................................................\n",
      "Generación: 92\n",
      "Costo promedio: 23849.371999999978\n",
      "Varianza del costo en la genearción: 4.764560328305439e-22\n",
      "Desviación estándar del costo en la genearción: 2.1827872842550278e-11\n",
      "Diversidad promedio: 0.0 genes\n",
      "Menor costo de toda la generación : 23849.372\n",
      "Mayor costo de toda la generación : 23849.372\n",
      "Tiempo de ejecución de la genaración 92: 7.444663047790527\n",
      "...................................................................\n",
      "mutar\n",
      "...................................................................\n",
      "Generación: 93\n",
      "Costo promedio: 23849.371999999978\n",
      "Varianza del costo en la genearción: 4.764560328305439e-22\n",
      "Desviación estándar del costo en la genearción: 2.1827872842550278e-11\n",
      "Diversidad promedio: 0.0 genes\n",
      "Menor costo de toda la generación : 23849.372\n",
      "Mayor costo de toda la generación : 23849.372\n",
      "Tiempo de ejecución de la genaración 93: 7.379736423492432\n",
      "...................................................................\n",
      "mutar\n",
      "...................................................................\n",
      "Generación: 94\n",
      "Costo promedio: 23849.371999999978\n",
      "Varianza del costo en la genearción: 4.764560328305439e-22\n",
      "Desviación estándar del costo en la genearción: 2.1827872842550278e-11\n",
      "Diversidad promedio: 0.0 genes\n",
      "Menor costo de toda la generación : 23849.372\n",
      "Mayor costo de toda la generación : 23849.372\n",
      "Tiempo de ejecución de la genaración 94: 7.203845262527466\n",
      "...................................................................\n",
      "mutar\n",
      "...................................................................\n",
      "Generación: 95\n",
      "Costo promedio: 23849.371999999978\n",
      "Varianza del costo en la genearción: 4.764560328305439e-22\n",
      "Desviación estándar del costo en la genearción: 2.1827872842550278e-11\n",
      "Diversidad promedio: 0.0 genes\n",
      "Menor costo de toda la generación : 23849.372\n",
      "Mayor costo de toda la generación : 23849.372\n",
      "Tiempo de ejecución de la genaración 95: 7.5840277671813965\n",
      "...................................................................\n",
      "mutar\n",
      "...................................................................\n",
      "Generación: 96\n",
      "Costo promedio: 23849.371999999978\n",
      "Varianza del costo en la genearción: 4.764560328305439e-22\n",
      "Desviación estándar del costo en la genearción: 2.1827872842550278e-11\n",
      "Diversidad promedio: 0.0 genes\n",
      "Menor costo de toda la generación : 23849.372\n",
      "Mayor costo de toda la generación : 23849.372\n",
      "Tiempo de ejecución de la genaración 96: 7.325476169586182\n",
      "...................................................................\n",
      "mutar\n",
      "...................................................................\n",
      "Generación: 97\n",
      "Costo promedio: 23849.371999999978\n",
      "Varianza del costo en la genearción: 4.764560328305439e-22\n",
      "Desviación estándar del costo en la genearción: 2.1827872842550278e-11\n",
      "Diversidad promedio: 0.0 genes\n",
      "Menor costo de toda la generación : 23849.372\n",
      "Mayor costo de toda la generación : 23849.372\n",
      "Tiempo de ejecución de la genaración 97: 7.347055912017822\n",
      "...................................................................\n",
      "mutar\n",
      "...................................................................\n",
      "Generación: 98\n",
      "Costo promedio: 23849.371999999978\n",
      "Varianza del costo en la genearción: 4.764560328305439e-22\n",
      "Desviación estándar del costo en la genearción: 2.1827872842550278e-11\n",
      "Diversidad promedio: 0.0 genes\n",
      "Menor costo de toda la generación : 23849.372\n",
      "Mayor costo de toda la generación : 23849.372\n",
      "Tiempo de ejecución de la genaración 98: 6.591407775878906\n",
      "...................................................................\n",
      "mutar\n",
      "...................................................................\n",
      "Generación: 99\n",
      "Costo promedio: 23849.371999999978\n",
      "Varianza del costo en la genearción: 4.764560328305439e-22\n",
      "Desviación estándar del costo en la genearción: 2.1827872842550278e-11\n",
      "Diversidad promedio: 0.0 genes\n",
      "Menor costo de toda la generación : 23849.372\n",
      "Mayor costo de toda la generación : 23849.372\n",
      "Tiempo de ejecución de la genaración 99: 7.620664834976196\n",
      "...................................................................\n",
      "mutar\n",
      "...................................................................\n",
      "Generación: 100\n",
      "Costo promedio: 23849.371999999978\n",
      "Varianza del costo en la genearción: 4.764560328305439e-22\n",
      "Desviación estándar del costo en la genearción: 2.1827872842550278e-11\n",
      "Diversidad promedio: 0.0 genes\n",
      "Menor costo de toda la generación : 23849.372\n",
      "Mayor costo de toda la generación : 23849.372\n",
      "Tiempo de ejecución de la genaración 100: 7.121058225631714\n",
      "...................................................................\n",
      "mutar\n",
      "...................................................................\n",
      "Generación: 101\n",
      "Costo promedio: 23849.371999999978\n",
      "Varianza del costo en la genearción: 4.764560328305439e-22\n",
      "Desviación estándar del costo en la genearción: 2.1827872842550278e-11\n",
      "Diversidad promedio: 0.0 genes\n",
      "Menor costo de toda la generación : 23849.372\n",
      "Mayor costo de toda la generación : 23849.372\n",
      "Tiempo de ejecución de la genaración 101: 6.926849603652954\n",
      "...................................................................\n",
      "mutar\n",
      "...................................................................\n",
      "Generación: 102\n",
      "Costo promedio: 23849.371999999978\n",
      "Varianza del costo en la genearción: 4.764560328305439e-22\n",
      "Desviación estándar del costo en la genearción: 2.1827872842550278e-11\n",
      "Diversidad promedio: 0.0 genes\n",
      "Menor costo de toda la generación : 23849.372\n",
      "Mayor costo de toda la generación : 23849.372\n",
      "Tiempo de ejecución de la genaración 102: 6.727583646774292\n",
      "...................................................................\n",
      "mutar\n",
      "...................................................................\n",
      "Generación: 103\n",
      "Costo promedio: 23849.371999999978\n",
      "Varianza del costo en la genearción: 4.764560328305439e-22\n",
      "Desviación estándar del costo en la genearción: 2.1827872842550278e-11\n",
      "Diversidad promedio: 0.0 genes\n",
      "Menor costo de toda la generación : 23849.372\n",
      "Mayor costo de toda la generación : 23849.372\n",
      "Tiempo de ejecución de la genaración 103: 7.355609893798828\n",
      "...................................................................\n",
      "mutar\n",
      "...................................................................\n",
      "Generación: 104\n",
      "Costo promedio: 23849.371999999978\n",
      "Varianza del costo en la genearción: 4.764560328305439e-22\n",
      "Desviación estándar del costo en la genearción: 2.1827872842550278e-11\n",
      "Diversidad promedio: 0.0 genes\n",
      "Menor costo de toda la generación : 23849.372\n",
      "Mayor costo de toda la generación : 23849.372\n",
      "Tiempo de ejecución de la genaración 104: 7.442063093185425\n",
      "...................................................................\n",
      "mutar\n",
      "...................................................................\n",
      "Generación: 105\n",
      "Costo promedio: 23849.371999999978\n",
      "Varianza del costo en la genearción: 4.764560328305439e-22\n",
      "Desviación estándar del costo en la genearción: 2.1827872842550278e-11\n",
      "Diversidad promedio: 0.0 genes\n",
      "Menor costo de toda la generación : 23849.372\n",
      "Mayor costo de toda la generación : 23849.372\n",
      "Tiempo de ejecución de la genaración 105: 6.784132480621338\n",
      "...................................................................\n",
      "mutar\n",
      "...................................................................\n",
      "Generación: 106\n",
      "Costo promedio: 23849.371999999978\n",
      "Varianza del costo en la genearción: 4.764560328305439e-22\n",
      "Desviación estándar del costo en la genearción: 2.1827872842550278e-11\n",
      "Diversidad promedio: 0.0 genes\n",
      "Menor costo de toda la generación : 23849.372\n",
      "Mayor costo de toda la generación : 23849.372\n",
      "Tiempo de ejecución de la genaración 106: 6.910505533218384\n",
      "...................................................................\n",
      "mutar\n",
      "...................................................................\n",
      "Generación: 107\n",
      "Costo promedio: 23849.371999999978\n",
      "Varianza del costo en la genearción: 4.764560328305439e-22\n",
      "Desviación estándar del costo en la genearción: 2.1827872842550278e-11\n",
      "Diversidad promedio: 0.0 genes\n",
      "Menor costo de toda la generación : 23849.372\n",
      "Mayor costo de toda la generación : 23849.372\n",
      "Tiempo de ejecución de la genaración 107: 7.463225364685059\n",
      "...................................................................\n",
      "mutar\n",
      "...................................................................\n",
      "Generación: 108\n",
      "Costo promedio: 23849.371999999978\n",
      "Varianza del costo en la genearción: 4.764560328305439e-22\n",
      "Desviación estándar del costo en la genearción: 2.1827872842550278e-11\n",
      "Diversidad promedio: 0.0 genes\n",
      "Menor costo de toda la generación : 23849.372\n",
      "Mayor costo de toda la generación : 23849.372\n",
      "Tiempo de ejecución de la genaración 108: 7.266570091247559\n",
      "...................................................................\n",
      "mutar\n",
      "...................................................................\n",
      "Generación: 109\n",
      "Costo promedio: 23849.371999999978\n",
      "Varianza del costo en la genearción: 4.764560328305439e-22\n",
      "Desviación estándar del costo en la genearción: 2.1827872842550278e-11\n",
      "Diversidad promedio: 0.0 genes\n",
      "Menor costo de toda la generación : 23849.372\n",
      "Mayor costo de toda la generación : 23849.372\n",
      "Tiempo de ejecución de la genaración 109: 6.478516578674316\n",
      "...................................................................\n",
      "mutar\n",
      "...................................................................\n",
      "Generación: 110\n",
      "Costo promedio: 23849.371999999978\n",
      "Varianza del costo en la genearción: 4.764560328305439e-22\n",
      "Desviación estándar del costo en la genearción: 2.1827872842550278e-11\n",
      "Diversidad promedio: 0.0 genes\n",
      "Menor costo de toda la generación : 23849.372\n",
      "Mayor costo de toda la generación : 23849.372\n",
      "Tiempo de ejecución de la genaración 110: 6.862332105636597\n",
      "...................................................................\n",
      "mutar\n",
      "...................................................................\n",
      "Generación: 111\n",
      "Costo promedio: 23849.371999999978\n",
      "Varianza del costo en la genearción: 4.764560328305439e-22\n",
      "Desviación estándar del costo en la genearción: 2.1827872842550278e-11\n",
      "Diversidad promedio: 0.0 genes\n",
      "Menor costo de toda la generación : 23849.372\n",
      "Mayor costo de toda la generación : 23849.372\n",
      "Tiempo de ejecución de la genaración 111: 6.746830463409424\n",
      "...................................................................\n",
      "mutar\n",
      "...................................................................\n",
      "Generación: 112\n",
      "Costo promedio: 23849.371999999978\n",
      "Varianza del costo en la genearción: 4.764560328305439e-22\n",
      "Desviación estándar del costo en la genearción: 2.1827872842550278e-11\n",
      "Diversidad promedio: 0.0 genes\n",
      "Menor costo de toda la generación : 23849.372\n",
      "Mayor costo de toda la generación : 23849.372\n",
      "Tiempo de ejecución de la genaración 112: 6.936458110809326\n",
      "...................................................................\n",
      "mutar\n",
      "...................................................................\n",
      "Generación: 113\n",
      "Costo promedio: 23849.371999999978\n",
      "Varianza del costo en la genearción: 4.764560328305439e-22\n",
      "Desviación estándar del costo en la genearción: 2.1827872842550278e-11\n",
      "Diversidad promedio: 0.0 genes\n",
      "Menor costo de toda la generación : 23849.372\n",
      "Mayor costo de toda la generación : 23849.372\n",
      "Tiempo de ejecución de la genaración 113: 6.664605617523193\n",
      "...................................................................\n",
      "mutar\n",
      "...................................................................\n",
      "Generación: 114\n",
      "Costo promedio: 23849.371999999978\n",
      "Varianza del costo en la genearción: 4.764560328305439e-22\n",
      "Desviación estándar del costo en la genearción: 2.1827872842550278e-11\n",
      "Diversidad promedio: 0.0 genes\n",
      "Menor costo de toda la generación : 23849.372\n",
      "Mayor costo de toda la generación : 23849.372\n",
      "Tiempo de ejecución de la genaración 114: 6.890279531478882\n",
      "...................................................................\n",
      "mutar\n",
      "...................................................................\n",
      "Generación: 115\n",
      "Costo promedio: 23849.371999999978\n",
      "Varianza del costo en la genearción: 4.764560328305439e-22\n",
      "Desviación estándar del costo en la genearción: 2.1827872842550278e-11\n",
      "Diversidad promedio: 0.0 genes\n",
      "Menor costo de toda la generación : 23849.372\n",
      "Mayor costo de toda la generación : 23849.372\n",
      "Tiempo de ejecución de la genaración 115: 7.049355745315552\n",
      "...................................................................\n",
      "mutar\n",
      "...................................................................\n",
      "Generación: 116\n",
      "Costo promedio: 23849.371999999978\n",
      "Varianza del costo en la genearción: 4.764560328305439e-22\n",
      "Desviación estándar del costo en la genearción: 2.1827872842550278e-11\n",
      "Diversidad promedio: 0.0 genes\n",
      "Menor costo de toda la generación : 23849.372\n",
      "Mayor costo de toda la generación : 23849.372\n",
      "Tiempo de ejecución de la genaración 116: 7.534451961517334\n",
      "...................................................................\n",
      "mutar\n",
      "...................................................................\n",
      "Generación: 117\n",
      "Costo promedio: 23849.371999999978\n",
      "Varianza del costo en la genearción: 4.764560328305439e-22\n",
      "Desviación estándar del costo en la genearción: 2.1827872842550278e-11\n",
      "Diversidad promedio: 0.0 genes\n",
      "Menor costo de toda la generación : 23849.372\n",
      "Mayor costo de toda la generación : 23849.372\n",
      "Tiempo de ejecución de la genaración 117: 6.979537010192871\n",
      "...................................................................\n",
      "mutar\n",
      "...................................................................\n",
      "Generación: 118\n",
      "Costo promedio: 23849.371999999978\n",
      "Varianza del costo en la genearción: 4.764560328305439e-22\n",
      "Desviación estándar del costo en la genearción: 2.1827872842550278e-11\n",
      "Diversidad promedio: 0.0 genes\n",
      "Menor costo de toda la generación : 23849.372\n",
      "Mayor costo de toda la generación : 23849.372\n",
      "Tiempo de ejecución de la genaración 118: 6.7239720821380615\n",
      "...................................................................\n",
      "mutar\n",
      "...................................................................\n",
      "Generación: 119\n",
      "Costo promedio: 23849.371999999978\n",
      "Varianza del costo en la genearción: 4.764560328305439e-22\n",
      "Desviación estándar del costo en la genearción: 2.1827872842550278e-11\n",
      "Diversidad promedio: 0.0 genes\n",
      "Menor costo de toda la generación : 23849.372\n",
      "Mayor costo de toda la generación : 23849.372\n",
      "Tiempo de ejecución de la genaración 119: 6.846151351928711\n",
      "...................................................................\n",
      "mutar\n",
      "...................................................................\n",
      "Generación: 120\n",
      "Costo promedio: 23849.371999999978\n",
      "Varianza del costo en la genearción: 4.764560328305439e-22\n",
      "Desviación estándar del costo en la genearción: 2.1827872842550278e-11\n",
      "Diversidad promedio: 0.0 genes\n",
      "Menor costo de toda la generación : 23849.372\n",
      "Mayor costo de toda la generación : 23849.372\n",
      "Tiempo de ejecución de la genaración 120: 6.803290367126465\n",
      "...................................................................\n",
      "mutar\n",
      "...................................................................\n",
      "Generación: 121\n",
      "Costo promedio: 23849.371999999978\n",
      "Varianza del costo en la genearción: 4.764560328305439e-22\n",
      "Desviación estándar del costo en la genearción: 2.1827872842550278e-11\n",
      "Diversidad promedio: 0.0 genes\n",
      "Menor costo de toda la generación : 23849.372\n",
      "Mayor costo de toda la generación : 23849.372\n",
      "Tiempo de ejecución de la genaración 121: 7.132913112640381\n",
      "...................................................................\n",
      "mutar\n",
      "...................................................................\n",
      "Generación: 122\n",
      "Costo promedio: 23849.371999999978\n",
      "Varianza del costo en la genearción: 4.764560328305439e-22\n",
      "Desviación estándar del costo en la genearción: 2.1827872842550278e-11\n",
      "Diversidad promedio: 0.0 genes\n",
      "Menor costo de toda la generación : 23849.372\n",
      "Mayor costo de toda la generación : 23849.372\n",
      "Tiempo de ejecución de la genaración 122: 7.331144332885742\n",
      "...................................................................\n",
      "mutar\n",
      "...................................................................\n",
      "Generación: 123\n",
      "Costo promedio: 23849.371999999978\n",
      "Varianza del costo en la genearción: 4.764560328305439e-22\n",
      "Desviación estándar del costo en la genearción: 2.1827872842550278e-11\n",
      "Diversidad promedio: 0.0 genes\n",
      "Menor costo de toda la generación : 23849.372\n",
      "Mayor costo de toda la generación : 23849.372\n",
      "Tiempo de ejecución de la genaración 123: 7.106029272079468\n",
      "...................................................................\n",
      "mutar\n",
      "...................................................................\n",
      "Generación: 124\n",
      "Costo promedio: 23849.371999999978\n",
      "Varianza del costo en la genearción: 4.764560328305439e-22\n",
      "Desviación estándar del costo en la genearción: 2.1827872842550278e-11\n",
      "Diversidad promedio: 0.0 genes\n",
      "Menor costo de toda la generación : 23849.372\n",
      "Mayor costo de toda la generación : 23849.372\n",
      "Tiempo de ejecución de la genaración 124: 6.4346301555633545\n",
      "...................................................................\n",
      "mutar\n",
      "...................................................................\n",
      "Generación: 125\n",
      "Costo promedio: 23849.371999999978\n",
      "Varianza del costo en la genearción: 4.764560328305439e-22\n",
      "Desviación estándar del costo en la genearción: 2.1827872842550278e-11\n",
      "Diversidad promedio: 0.0 genes\n",
      "Menor costo de toda la generación : 23849.372\n",
      "Mayor costo de toda la generación : 23849.372\n",
      "Tiempo de ejecución de la genaración 125: 6.811401605606079\n",
      "...................................................................\n",
      "mutar\n",
      "...................................................................\n",
      "Generación: 126\n",
      "Costo promedio: 23849.371999999978\n",
      "Varianza del costo en la genearción: 4.764560328305439e-22\n",
      "Desviación estándar del costo en la genearción: 2.1827872842550278e-11\n",
      "Diversidad promedio: 0.0 genes\n",
      "Menor costo de toda la generación : 23849.372\n",
      "Mayor costo de toda la generación : 23849.372\n",
      "Tiempo de ejecución de la genaración 126: 7.40350341796875\n",
      "...................................................................\n",
      "mutar\n",
      "...................................................................\n",
      "Generación: 127\n",
      "Costo promedio: 23849.371999999978\n",
      "Varianza del costo en la genearción: 4.764560328305439e-22\n",
      "Desviación estándar del costo en la genearción: 2.1827872842550278e-11\n",
      "Diversidad promedio: 0.0 genes\n",
      "Menor costo de toda la generación : 23849.372\n",
      "Mayor costo de toda la generación : 23849.372\n",
      "Tiempo de ejecución de la genaración 127: 7.390606641769409\n",
      "...................................................................\n",
      "mutar\n",
      "...................................................................\n",
      "Generación: 128\n",
      "Costo promedio: 23849.371999999978\n",
      "Varianza del costo en la genearción: 4.764560328305439e-22\n",
      "Desviación estándar del costo en la genearción: 2.1827872842550278e-11\n",
      "Diversidad promedio: 0.0 genes\n",
      "Menor costo de toda la generación : 23849.372\n",
      "Mayor costo de toda la generación : 23849.372\n",
      "Tiempo de ejecución de la genaración 128: 6.822448253631592\n",
      "...................................................................\n",
      "mutar\n",
      "...................................................................\n",
      "Generación: 129\n",
      "Costo promedio: 23849.371999999978\n",
      "Varianza del costo en la genearción: 4.764560328305439e-22\n",
      "Desviación estándar del costo en la genearción: 2.1827872842550278e-11\n",
      "Diversidad promedio: 0.0 genes\n",
      "Menor costo de toda la generación : 23849.372\n",
      "Mayor costo de toda la generación : 23849.372\n",
      "Tiempo de ejecución de la genaración 129: 7.5757081508636475\n",
      "...................................................................\n",
      "mutar\n",
      "...................................................................\n",
      "Generación: 130\n",
      "Costo promedio: 23849.371999999978\n",
      "Varianza del costo en la genearción: 4.764560328305439e-22\n",
      "Desviación estándar del costo en la genearción: 2.1827872842550278e-11\n",
      "Diversidad promedio: 0.0 genes\n",
      "Menor costo de toda la generación : 23849.372\n",
      "Mayor costo de toda la generación : 23849.372\n",
      "Tiempo de ejecución de la genaración 130: 7.11449933052063\n",
      "...................................................................\n",
      "mutar\n",
      "...................................................................\n",
      "Generación: 131\n",
      "Costo promedio: 23849.371999999978\n",
      "Varianza del costo en la genearción: 4.764560328305439e-22\n",
      "Desviación estándar del costo en la genearción: 2.1827872842550278e-11\n",
      "Diversidad promedio: 0.0 genes\n",
      "Menor costo de toda la generación : 23849.372\n",
      "Mayor costo de toda la generación : 23849.372\n",
      "Tiempo de ejecución de la genaración 131: 7.050246000289917\n",
      "...................................................................\n",
      "mutar\n",
      "...................................................................\n",
      "Generación: 132\n",
      "Costo promedio: 23849.371999999978\n",
      "Varianza del costo en la genearción: 4.764560328305439e-22\n",
      "Desviación estándar del costo en la genearción: 2.1827872842550278e-11\n",
      "Diversidad promedio: 0.0 genes\n",
      "Menor costo de toda la generación : 23849.372\n",
      "Mayor costo de toda la generación : 23849.372\n",
      "Tiempo de ejecución de la genaración 132: 7.101186513900757\n",
      "...................................................................\n",
      "mutar\n",
      "...................................................................\n",
      "Generación: 133\n",
      "Costo promedio: 23849.371999999978\n",
      "Varianza del costo en la genearción: 4.764560328305439e-22\n",
      "Desviación estándar del costo en la genearción: 2.1827872842550278e-11\n",
      "Diversidad promedio: 0.0 genes\n",
      "Menor costo de toda la generación : 23849.372\n",
      "Mayor costo de toda la generación : 23849.372\n",
      "Tiempo de ejecución de la genaración 133: 7.36691427230835\n",
      "...................................................................\n",
      "mutar\n",
      "...................................................................\n",
      "Generación: 134\n",
      "Costo promedio: 23849.371999999978\n",
      "Varianza del costo en la genearción: 4.764560328305439e-22\n",
      "Desviación estándar del costo en la genearción: 2.1827872842550278e-11\n",
      "Diversidad promedio: 0.0 genes\n",
      "Menor costo de toda la generación : 23849.372\n",
      "Mayor costo de toda la generación : 23849.372\n",
      "Tiempo de ejecución de la genaración 134: 7.288099050521851\n",
      "...................................................................\n",
      "mutar\n",
      "...................................................................\n",
      "Generación: 135\n",
      "Costo promedio: 23849.371999999978\n",
      "Varianza del costo en la genearción: 4.764560328305439e-22\n",
      "Desviación estándar del costo en la genearción: 2.1827872842550278e-11\n",
      "Diversidad promedio: 0.0 genes\n",
      "Menor costo de toda la generación : 23849.372\n",
      "Mayor costo de toda la generación : 23849.372\n",
      "Tiempo de ejecución de la genaración 135: 7.404219388961792\n",
      "...................................................................\n",
      "mutar\n",
      "...................................................................\n",
      "Generación: 136\n",
      "Costo promedio: 23849.371999999978\n",
      "Varianza del costo en la genearción: 4.764560328305439e-22\n",
      "Desviación estándar del costo en la genearción: 2.1827872842550278e-11\n",
      "Diversidad promedio: 0.0 genes\n",
      "Menor costo de toda la generación : 23849.372\n",
      "Mayor costo de toda la generación : 23849.372\n",
      "Tiempo de ejecución de la genaración 136: 7.012833833694458\n",
      "...................................................................\n",
      "mutar\n",
      "...................................................................\n",
      "Generación: 137\n",
      "Costo promedio: 23849.371999999978\n",
      "Varianza del costo en la genearción: 4.764560328305439e-22\n",
      "Desviación estándar del costo en la genearción: 2.1827872842550278e-11\n",
      "Diversidad promedio: 0.0 genes\n",
      "Menor costo de toda la generación : 23849.372\n",
      "Mayor costo de toda la generación : 23849.372\n",
      "Tiempo de ejecución de la genaración 137: 7.514814853668213\n",
      "...................................................................\n",
      "mutar\n",
      "...................................................................\n",
      "Generación: 138\n",
      "Costo promedio: 23849.371999999978\n",
      "Varianza del costo en la genearción: 4.764560328305439e-22\n",
      "Desviación estándar del costo en la genearción: 2.1827872842550278e-11\n",
      "Diversidad promedio: 0.0 genes\n",
      "Menor costo de toda la generación : 23849.372\n",
      "Mayor costo de toda la generación : 23849.372\n",
      "Tiempo de ejecución de la genaración 138: 7.460094928741455\n",
      "...................................................................\n",
      "mutar\n",
      "...................................................................\n",
      "Generación: 139\n",
      "Costo promedio: 23849.371999999978\n",
      "Varianza del costo en la genearción: 4.764560328305439e-22\n",
      "Desviación estándar del costo en la genearción: 2.1827872842550278e-11\n",
      "Diversidad promedio: 0.0 genes\n",
      "Menor costo de toda la generación : 23849.372\n",
      "Mayor costo de toda la generación : 23849.372\n",
      "Tiempo de ejecución de la genaración 139: 10.172707080841064\n",
      "...................................................................\n",
      "mutar\n",
      "...................................................................\n",
      "Generación: 140\n",
      "Costo promedio: 23849.371999999978\n",
      "Varianza del costo en la genearción: 4.764560328305439e-22\n",
      "Desviación estándar del costo en la genearción: 2.1827872842550278e-11\n",
      "Diversidad promedio: 0.0 genes\n",
      "Menor costo de toda la generación : 23849.372\n",
      "Mayor costo de toda la generación : 23849.372\n",
      "Tiempo de ejecución de la genaración 140: 10.98820972442627\n",
      "...................................................................\n",
      "mutar\n",
      "...................................................................\n",
      "Generación: 141\n",
      "Costo promedio: 23849.371999999978\n",
      "Varianza del costo en la genearción: 4.764560328305439e-22\n",
      "Desviación estándar del costo en la genearción: 2.1827872842550278e-11\n",
      "Diversidad promedio: 0.0 genes\n",
      "Menor costo de toda la generación : 23849.372\n",
      "Mayor costo de toda la generación : 23849.372\n",
      "Tiempo de ejecución de la genaración 141: 11.34003472328186\n",
      "...................................................................\n",
      "mutar\n",
      "...................................................................\n",
      "Generación: 142\n",
      "Costo promedio: 23849.371999999978\n",
      "Varianza del costo en la genearción: 4.764560328305439e-22\n",
      "Desviación estándar del costo en la genearción: 2.1827872842550278e-11\n",
      "Diversidad promedio: 0.0 genes\n",
      "Menor costo de toda la generación : 23849.372\n",
      "Mayor costo de toda la generación : 23849.372\n",
      "Tiempo de ejecución de la genaración 142: 12.109774827957153\n",
      "...................................................................\n",
      "mutar\n",
      "...................................................................\n",
      "Generación: 143\n",
      "Costo promedio: 23849.371999999978\n",
      "Varianza del costo en la genearción: 4.764560328305439e-22\n",
      "Desviación estándar del costo en la genearción: 2.1827872842550278e-11\n",
      "Diversidad promedio: 0.0 genes\n",
      "Menor costo de toda la generación : 23849.372\n",
      "Mayor costo de toda la generación : 23849.372\n",
      "Tiempo de ejecución de la genaración 143: 11.830494403839111\n",
      "...................................................................\n",
      "mutar\n",
      "...................................................................\n",
      "Generación: 144\n",
      "Costo promedio: 23849.371999999978\n",
      "Varianza del costo en la genearción: 4.764560328305439e-22\n",
      "Desviación estándar del costo en la genearción: 2.1827872842550278e-11\n",
      "Diversidad promedio: 0.0 genes\n",
      "Menor costo de toda la generación : 23849.372\n",
      "Mayor costo de toda la generación : 23849.372\n",
      "Tiempo de ejecución de la genaración 144: 10.965400218963623\n",
      "...................................................................\n",
      "mutar\n",
      "...................................................................\n",
      "Generación: 145\n",
      "Costo promedio: 23849.371999999978\n",
      "Varianza del costo en la genearción: 4.764560328305439e-22\n",
      "Desviación estándar del costo en la genearción: 2.1827872842550278e-11\n",
      "Diversidad promedio: 0.0 genes\n",
      "Menor costo de toda la generación : 23849.372\n",
      "Mayor costo de toda la generación : 23849.372\n",
      "Tiempo de ejecución de la genaración 145: 11.718609094619751\n",
      "...................................................................\n",
      "mutar\n",
      "...................................................................\n",
      "Generación: 146\n",
      "Costo promedio: 23849.371999999978\n",
      "Varianza del costo en la genearción: 4.764560328305439e-22\n",
      "Desviación estándar del costo en la genearción: 2.1827872842550278e-11\n",
      "Diversidad promedio: 0.0 genes\n",
      "Menor costo de toda la generación : 23849.372\n",
      "Mayor costo de toda la generación : 23849.372\n",
      "Tiempo de ejecución de la genaración 146: 11.647955417633057\n",
      "...................................................................\n",
      "mutar\n",
      "...................................................................\n",
      "Generación: 147\n",
      "Costo promedio: 23849.371999999978\n",
      "Varianza del costo en la genearción: 4.764560328305439e-22\n",
      "Desviación estándar del costo en la genearción: 2.1827872842550278e-11\n",
      "Diversidad promedio: 0.0 genes\n",
      "Menor costo de toda la generación : 23849.372\n",
      "Mayor costo de toda la generación : 23849.372\n",
      "Tiempo de ejecución de la genaración 147: 12.064511060714722\n",
      "...................................................................\n",
      "mutar\n",
      "...................................................................\n",
      "Generación: 148\n",
      "Costo promedio: 23849.371999999978\n",
      "Varianza del costo en la genearción: 4.764560328305439e-22\n",
      "Desviación estándar del costo en la genearción: 2.1827872842550278e-11\n",
      "Diversidad promedio: 0.0 genes\n",
      "Menor costo de toda la generación : 23849.372\n",
      "Mayor costo de toda la generación : 23849.372\n",
      "Tiempo de ejecución de la genaración 148: 12.047458171844482\n",
      "...................................................................\n",
      "mutar\n",
      "...................................................................\n",
      "Generación: 149\n",
      "Costo promedio: 23849.371999999978\n",
      "Varianza del costo en la genearción: 4.764560328305439e-22\n",
      "Desviación estándar del costo en la genearción: 2.1827872842550278e-11\n",
      "Diversidad promedio: 0.0 genes\n",
      "Menor costo de toda la generación : 23849.372\n",
      "Mayor costo de toda la generación : 23849.372\n",
      "Tiempo de ejecución de la genaración 149: 11.661412954330444\n",
      "...................................................................\n",
      "mutar\n",
      "...................................................................\n",
      "Generación: 150\n",
      "Costo promedio: 23849.371999999978\n",
      "Varianza del costo en la genearción: 4.764560328305439e-22\n",
      "Desviación estándar del costo en la genearción: 2.1827872842550278e-11\n",
      "Diversidad promedio: 0.0 genes\n",
      "Menor costo de toda la generación : 23849.372\n",
      "Mayor costo de toda la generación : 23849.372\n",
      "Tiempo de ejecución de la genaración 150: 11.580996990203857\n",
      "...................................................................\n",
      "mutar\n",
      "...................................................................\n",
      "Generación: 151\n",
      "Costo promedio: 23849.371999999978\n",
      "Varianza del costo en la genearción: 4.764560328305439e-22\n",
      "Desviación estándar del costo en la genearción: 2.1827872842550278e-11\n",
      "Diversidad promedio: 0.0 genes\n",
      "Menor costo de toda la generación : 23849.372\n",
      "Mayor costo de toda la generación : 23849.372\n",
      "Tiempo de ejecución de la genaración 151: 12.522487878799438\n",
      "...................................................................\n",
      "mutar\n",
      "...................................................................\n",
      "Generación: 152\n",
      "Costo promedio: 23849.371999999978\n",
      "Varianza del costo en la genearción: 4.764560328305439e-22\n",
      "Desviación estándar del costo en la genearción: 2.1827872842550278e-11\n",
      "Diversidad promedio: 0.0 genes\n",
      "Menor costo de toda la generación : 23849.372\n",
      "Mayor costo de toda la generación : 23849.372\n",
      "Tiempo de ejecución de la genaración 152: 11.296104192733765\n",
      "...................................................................\n",
      "mutar\n",
      "...................................................................\n",
      "Generación: 153\n",
      "Costo promedio: 23849.371999999978\n",
      "Varianza del costo en la genearción: 4.764560328305439e-22\n",
      "Desviación estándar del costo en la genearción: 2.1827872842550278e-11\n",
      "Diversidad promedio: 0.0 genes\n",
      "Menor costo de toda la generación : 23849.372\n",
      "Mayor costo de toda la generación : 23849.372\n",
      "Tiempo de ejecución de la genaración 153: 7.381128311157227\n",
      "...................................................................\n",
      "mutar\n",
      "...................................................................\n",
      "Generación: 154\n",
      "Costo promedio: 23849.371999999978\n",
      "Varianza del costo en la genearción: 4.764560328305439e-22\n",
      "Desviación estándar del costo en la genearción: 2.1827872842550278e-11\n",
      "Diversidad promedio: 0.0 genes\n",
      "Menor costo de toda la generación : 23849.372\n",
      "Mayor costo de toda la generación : 23849.372\n",
      "Tiempo de ejecución de la genaración 154: 6.92983603477478\n",
      "...................................................................\n",
      "mutar\n",
      "...................................................................\n",
      "Generación: 155\n",
      "Costo promedio: 23849.371999999978\n",
      "Varianza del costo en la genearción: 4.764560328305439e-22\n",
      "Desviación estándar del costo en la genearción: 2.1827872842550278e-11\n",
      "Diversidad promedio: 0.0 genes\n",
      "Menor costo de toda la generación : 23849.372\n",
      "Mayor costo de toda la generación : 23849.372\n",
      "Tiempo de ejecución de la genaración 155: 7.435465097427368\n",
      "...................................................................\n",
      "mutar\n",
      "...................................................................\n",
      "Generación: 156\n",
      "Costo promedio: 23849.371999999978\n",
      "Varianza del costo en la genearción: 4.764560328305439e-22\n",
      "Desviación estándar del costo en la genearción: 2.1827872842550278e-11\n",
      "Diversidad promedio: 0.0 genes\n",
      "Menor costo de toda la generación : 23849.372\n",
      "Mayor costo de toda la generación : 23849.372\n",
      "Tiempo de ejecución de la genaración 156: 7.3131489753723145\n",
      "...................................................................\n",
      "mutar\n",
      "...................................................................\n",
      "Generación: 157\n",
      "Costo promedio: 23849.371999999978\n",
      "Varianza del costo en la genearción: 4.764560328305439e-22\n",
      "Desviación estándar del costo en la genearción: 2.1827872842550278e-11\n",
      "Diversidad promedio: 0.0 genes\n",
      "Menor costo de toda la generación : 23849.372\n",
      "Mayor costo de toda la generación : 23849.372\n",
      "Tiempo de ejecución de la genaración 157: 6.861265420913696\n",
      "...................................................................\n",
      "mutar\n",
      "...................................................................\n",
      "Generación: 158\n",
      "Costo promedio: 23849.371999999978\n",
      "Varianza del costo en la genearción: 4.764560328305439e-22\n",
      "Desviación estándar del costo en la genearción: 2.1827872842550278e-11\n",
      "Diversidad promedio: 0.0 genes\n",
      "Menor costo de toda la generación : 23849.372\n",
      "Mayor costo de toda la generación : 23849.372\n",
      "Tiempo de ejecución de la genaración 158: 7.892118215560913\n",
      "...................................................................\n",
      "mutar\n",
      "...................................................................\n",
      "Generación: 159\n",
      "Costo promedio: 23849.371999999978\n",
      "Varianza del costo en la genearción: 4.764560328305439e-22\n",
      "Desviación estándar del costo en la genearción: 2.1827872842550278e-11\n",
      "Diversidad promedio: 0.0 genes\n",
      "Menor costo de toda la generación : 23849.372\n",
      "Mayor costo de toda la generación : 23849.372\n",
      "Tiempo de ejecución de la genaración 159: 8.26137113571167\n",
      "...................................................................\n",
      "mutar\n",
      "...................................................................\n",
      "Generación: 160\n",
      "Costo promedio: 23849.371999999978\n",
      "Varianza del costo en la genearción: 4.764560328305439e-22\n",
      "Desviación estándar del costo en la genearción: 2.1827872842550278e-11\n",
      "Diversidad promedio: 0.0 genes\n",
      "Menor costo de toda la generación : 23849.372\n",
      "Mayor costo de toda la generación : 23849.372\n",
      "Tiempo de ejecución de la genaración 160: 7.596206188201904\n",
      "...................................................................\n",
      "mutar\n",
      "...................................................................\n",
      "Generación: 161\n",
      "Costo promedio: 23849.371999999978\n",
      "Varianza del costo en la genearción: 4.764560328305439e-22\n",
      "Desviación estándar del costo en la genearción: 2.1827872842550278e-11\n",
      "Diversidad promedio: 0.0 genes\n",
      "Menor costo de toda la generación : 23849.372\n",
      "Mayor costo de toda la generación : 23849.372\n",
      "Tiempo de ejecución de la genaración 161: 7.781482219696045\n",
      "...................................................................\n",
      "mutar\n",
      "...................................................................\n",
      "Generación: 162\n",
      "Costo promedio: 23849.371999999978\n",
      "Varianza del costo en la genearción: 4.764560328305439e-22\n",
      "Desviación estándar del costo en la genearción: 2.1827872842550278e-11\n",
      "Diversidad promedio: 0.0 genes\n",
      "Menor costo de toda la generación : 23849.372\n",
      "Mayor costo de toda la generación : 23849.372\n",
      "Tiempo de ejecución de la genaración 162: 7.128866195678711\n",
      "...................................................................\n",
      "mutar\n",
      "...................................................................\n",
      "Generación: 163\n",
      "Costo promedio: 23849.371999999978\n",
      "Varianza del costo en la genearción: 4.764560328305439e-22\n",
      "Desviación estándar del costo en la genearción: 2.1827872842550278e-11\n",
      "Diversidad promedio: 0.0 genes\n",
      "Menor costo de toda la generación : 23849.372\n",
      "Mayor costo de toda la generación : 23849.372\n",
      "Tiempo de ejecución de la genaración 163: 7.264826536178589\n",
      "...................................................................\n",
      "mutar\n",
      "...................................................................\n",
      "Generación: 164\n",
      "Costo promedio: 23849.371999999978\n",
      "Varianza del costo en la genearción: 4.764560328305439e-22\n",
      "Desviación estándar del costo en la genearción: 2.1827872842550278e-11\n",
      "Diversidad promedio: 0.0 genes\n",
      "Menor costo de toda la generación : 23849.372\n",
      "Mayor costo de toda la generación : 23849.372\n",
      "Tiempo de ejecución de la genaración 164: 7.131492853164673\n",
      "...................................................................\n",
      "mutar\n",
      "...................................................................\n",
      "Generación: 165\n",
      "Costo promedio: 23849.371999999978\n",
      "Varianza del costo en la genearción: 4.764560328305439e-22\n",
      "Desviación estándar del costo en la genearción: 2.1827872842550278e-11\n",
      "Diversidad promedio: 0.0 genes\n",
      "Menor costo de toda la generación : 23849.372\n",
      "Mayor costo de toda la generación : 23849.372\n",
      "Tiempo de ejecución de la genaración 165: 7.057990312576294\n",
      "...................................................................\n",
      "mutar\n",
      "...................................................................\n",
      "Generación: 166\n",
      "Costo promedio: 23849.371999999978\n",
      "Varianza del costo en la genearción: 4.764560328305439e-22\n",
      "Desviación estándar del costo en la genearción: 2.1827872842550278e-11\n",
      "Diversidad promedio: 0.0 genes\n",
      "Menor costo de toda la generación : 23849.372\n",
      "Mayor costo de toda la generación : 23849.372\n",
      "Tiempo de ejecución de la genaración 166: 7.629096508026123\n",
      "...................................................................\n",
      "mutar\n",
      "...................................................................\n",
      "Generación: 167\n",
      "Costo promedio: 23849.371999999978\n",
      "Varianza del costo en la genearción: 4.764560328305439e-22\n",
      "Desviación estándar del costo en la genearción: 2.1827872842550278e-11\n",
      "Diversidad promedio: 0.0 genes\n",
      "Menor costo de toda la generación : 23849.372\n",
      "Mayor costo de toda la generación : 23849.372\n",
      "Tiempo de ejecución de la genaración 167: 7.0179102420806885\n",
      "...................................................................\n",
      "mutar\n",
      "...................................................................\n",
      "Generación: 168\n",
      "Costo promedio: 23849.371999999978\n",
      "Varianza del costo en la genearción: 4.764560328305439e-22\n",
      "Desviación estándar del costo en la genearción: 2.1827872842550278e-11\n",
      "Diversidad promedio: 0.0 genes\n",
      "Menor costo de toda la generación : 23849.372\n",
      "Mayor costo de toda la generación : 23849.372\n",
      "Tiempo de ejecución de la genaración 168: 7.294218063354492\n",
      "...................................................................\n",
      "mutar\n",
      "...................................................................\n",
      "Generación: 169\n",
      "Costo promedio: 23849.371999999978\n",
      "Varianza del costo en la genearción: 4.764560328305439e-22\n",
      "Desviación estándar del costo en la genearción: 2.1827872842550278e-11\n",
      "Diversidad promedio: 0.0 genes\n",
      "Menor costo de toda la generación : 23849.372\n",
      "Mayor costo de toda la generación : 23849.372\n",
      "Tiempo de ejecución de la genaración 169: 6.73873496055603\n",
      "...................................................................\n",
      "mutar\n",
      "...................................................................\n",
      "Generación: 170\n",
      "Costo promedio: 23849.371999999978\n",
      "Varianza del costo en la genearción: 4.764560328305439e-22\n",
      "Desviación estándar del costo en la genearción: 2.1827872842550278e-11\n",
      "Diversidad promedio: 0.0 genes\n",
      "Menor costo de toda la generación : 23849.372\n",
      "Mayor costo de toda la generación : 23849.372\n",
      "Tiempo de ejecución de la genaración 170: 7.872753858566284\n",
      "...................................................................\n",
      "mutar\n",
      "...................................................................\n",
      "Generación: 171\n",
      "Costo promedio: 23849.371999999978\n",
      "Varianza del costo en la genearción: 4.764560328305439e-22\n",
      "Desviación estándar del costo en la genearción: 2.1827872842550278e-11\n",
      "Diversidad promedio: 0.0 genes\n",
      "Menor costo de toda la generación : 23849.372\n",
      "Mayor costo de toda la generación : 23849.372\n",
      "Tiempo de ejecución de la genaración 171: 7.438150644302368\n",
      "...................................................................\n",
      "mutar\n",
      "...................................................................\n",
      "Generación: 172\n",
      "Costo promedio: 23849.371999999978\n",
      "Varianza del costo en la genearción: 4.764560328305439e-22\n",
      "Desviación estándar del costo en la genearción: 2.1827872842550278e-11\n",
      "Diversidad promedio: 0.0 genes\n",
      "Menor costo de toda la generación : 23849.372\n",
      "Mayor costo de toda la generación : 23849.372\n",
      "Tiempo de ejecución de la genaración 172: 7.540111064910889\n",
      "...................................................................\n",
      "mutar\n",
      "...................................................................\n",
      "Generación: 173\n",
      "Costo promedio: 23849.371999999978\n",
      "Varianza del costo en la genearción: 4.764560328305439e-22\n",
      "Desviación estándar del costo en la genearción: 2.1827872842550278e-11\n",
      "Diversidad promedio: 0.0 genes\n",
      "Menor costo de toda la generación : 23849.372\n",
      "Mayor costo de toda la generación : 23849.372\n",
      "Tiempo de ejecución de la genaración 173: 7.505936622619629\n",
      "...................................................................\n",
      "mutar\n",
      "...................................................................\n",
      "Generación: 174\n",
      "Costo promedio: 23849.371999999978\n",
      "Varianza del costo en la genearción: 4.764560328305439e-22\n",
      "Desviación estándar del costo en la genearción: 2.1827872842550278e-11\n",
      "Diversidad promedio: 0.0 genes\n",
      "Menor costo de toda la generación : 23849.372\n",
      "Mayor costo de toda la generación : 23849.372\n",
      "Tiempo de ejecución de la genaración 174: 7.017771244049072\n",
      "...................................................................\n",
      "mutar\n",
      "...................................................................\n",
      "Generación: 175\n",
      "Costo promedio: 23849.371999999978\n",
      "Varianza del costo en la genearción: 4.764560328305439e-22\n",
      "Desviación estándar del costo en la genearción: 2.1827872842550278e-11\n",
      "Diversidad promedio: 0.0 genes\n",
      "Menor costo de toda la generación : 23849.372\n",
      "Mayor costo de toda la generación : 23849.372\n",
      "Tiempo de ejecución de la genaración 175: 7.135901927947998\n",
      "...................................................................\n",
      "mutar\n"
     ]
    },
    {
     "ename": "KeyboardInterrupt",
     "evalue": "",
     "output_type": "error",
     "traceback": [
      "\u001b[1;31m---------------------------------------------------------------------------\u001b[0m",
      "\u001b[1;31mKeyboardInterrupt\u001b[0m                         Traceback (most recent call last)",
      "Cell \u001b[1;32mIn[24], line 1\u001b[0m\n\u001b[1;32m----> 1\u001b[0m resultados1,tiempo_ejecucion1 \u001b[38;5;241m=\u001b[39m \u001b[43mexperimentacion\u001b[49m\u001b[43m(\u001b[49m\u001b[43mpoblaciones_iniciales\u001b[49m\u001b[38;5;241;43m=\u001b[39;49m\u001b[43mpobs\u001b[49m\u001b[43m,\u001b[49m\u001b[43mmax_gen\u001b[49m\u001b[38;5;241;43m=\u001b[39;49m\u001b[38;5;241;43m500\u001b[39;49m\u001b[43m,\u001b[49m\u001b[43mop_seleccion\u001b[49m\u001b[38;5;241;43m=\u001b[39;49m\u001b[38;5;241;43m0\u001b[39;49m\u001b[43m,\u001b[49m\u001b[43mop_cruza\u001b[49m\u001b[38;5;241;43m=\u001b[39;49m\u001b[38;5;241;43m3\u001b[39;49m\u001b[43m,\u001b[49m\u001b[43mmode\u001b[49m\u001b[38;5;241;43m=\u001b[39;49m\u001b[38;5;124;43m\"\u001b[39;49m\u001b[38;5;124;43mmin\u001b[39;49m\u001b[38;5;124;43m\"\u001b[39;49m\u001b[43m,\u001b[49m\u001b[43mmutar\u001b[49m\u001b[38;5;241;43m=\u001b[39;49m\u001b[38;5;28;43;01mTrue\u001b[39;49;00m\u001b[43m)\u001b[49m\n",
      "Cell \u001b[1;32mIn[23], line 76\u001b[0m, in \u001b[0;36mexperimentacion\u001b[1;34m(poblaciones_iniciales, max_gen, op_seleccion, op_cruza, mode, mutar)\u001b[0m\n\u001b[0;32m     74\u001b[0m \u001b[38;5;28;01mif\u001b[39;00m mutar :\n\u001b[0;32m     75\u001b[0m     \u001b[38;5;28mprint\u001b[39m(\u001b[38;5;124m\"\u001b[39m\u001b[38;5;124mmutar\u001b[39m\u001b[38;5;124m\"\u001b[39m)\n\u001b[1;32m---> 76\u001b[0m     pob_mutante \u001b[38;5;241m=\u001b[39m \u001b[43mmutation\u001b[49m\u001b[43m(\u001b[49m\u001b[43mnew_age\u001b[49m\u001b[43m,\u001b[49m\u001b[43mopt\u001b[49m\u001b[38;5;241;43m=\u001b[39;49m\u001b[38;5;241;43m1\u001b[39;49m\u001b[43m,\u001b[49m\u001b[43moperator\u001b[49m\u001b[38;5;241;43m=\u001b[39;49m\u001b[38;5;241;43m0\u001b[39;49m\u001b[43m,\u001b[49m\u001b[43mfuncion_aptitud\u001b[49m\u001b[38;5;241;43m=\u001b[39;49m\u001b[43mevaluar\u001b[49m\u001b[43m,\u001b[49m\u001b[43mcromosomas_mutation\u001b[49m\u001b[38;5;241;43m=\u001b[39;49m\u001b[38;5;241;43m6\u001b[39;49m\u001b[43m)\u001b[49m\n\u001b[0;32m     77\u001b[0m     poblacion \u001b[38;5;241m=\u001b[39m ordenar_poblacion(pob_mutante,reverse\u001b[38;5;241m=\u001b[39m\u001b[38;5;28;01mTrue\u001b[39;00m)[:poblacion\u001b[38;5;241m.\u001b[39mshape[\u001b[38;5;241m0\u001b[39m]]\n\u001b[0;32m     78\u001b[0m \u001b[38;5;28;01melse\u001b[39;00m:\n",
      "File \u001b[1;32me:\\python_proy\\metahueristicos\\my_lib\\utility.py:767\u001b[0m, in \u001b[0;36mmutation\u001b[1;34m(pob, indiv_percent, cromosomas_mutation, opt, operator, funcion_aptitud, reverse)\u001b[0m\n\u001b[0;32m    765\u001b[0m \u001b[38;5;28;01mfor\u001b[39;00m i, indice \u001b[38;5;129;01min\u001b[39;00m \u001b[38;5;28menumerate\u001b[39m(indices_mutation):\n\u001b[0;32m    766\u001b[0m     individuo \u001b[38;5;241m=\u001b[39m pob[indice]\n\u001b[1;32m--> 767\u001b[0m     mutante, _ \u001b[38;5;241m=\u001b[39m \u001b[43mmutate\u001b[49m\u001b[43m[\u001b[49m\u001b[43moperator\u001b[49m\u001b[43m]\u001b[49m\u001b[43m(\u001b[49m\n\u001b[0;32m    768\u001b[0m \u001b[43m        \u001b[49m\u001b[43mindividuo\u001b[49m\u001b[43m[\u001b[49m\u001b[38;5;241;43m0\u001b[39;49m\u001b[43m]\u001b[49m\u001b[43m,\u001b[49m\u001b[43m \u001b[49m\u001b[43mcromosomas_mutation\u001b[49m\u001b[43m,\u001b[49m\u001b[43m \u001b[49m\u001b[43mfuncion_aptitud\u001b[49m\n\u001b[0;32m    769\u001b[0m \u001b[43m    \u001b[49m\u001b[43m)\u001b[49m\n\u001b[0;32m    771\u001b[0m     \u001b[38;5;66;03m# print(\u001b[39;00m\n\u001b[0;32m    772\u001b[0m     \u001b[38;5;66;03m#     f\"individuo original: {individuo[2]} (apt) {individuo[3]} vs mutante {mutante[2]} (apt) {mutante[3]}\"\u001b[39;00m\n\u001b[0;32m    773\u001b[0m     \u001b[38;5;66;03m# )\u001b[39;00m\n\u001b[0;32m    774\u001b[0m     pob[indice] \u001b[38;5;241m=\u001b[39m mutante\n",
      "File \u001b[1;32me:\\python_proy\\metahueristicos\\my_lib\\utility.py:831\u001b[0m, in \u001b[0;36mheuristic_mutation\u001b[1;34m(individuo, cromosomas_mutation, funcion_aptitud, reverse)\u001b[0m\n\u001b[0;32m    828\u001b[0m permutation_apt \u001b[38;5;241m=\u001b[39m funcion_aptitud(permutation_pob)\n\u001b[0;32m    829\u001b[0m permutation_pob[:, \u001b[38;5;241m3\u001b[39m] \u001b[38;5;241m=\u001b[39m permutation_apt\n\u001b[1;32m--> 831\u001b[0m permutation_pob \u001b[38;5;241m=\u001b[39m \u001b[43mordenar_poblacion\u001b[49m\u001b[43m(\u001b[49m\u001b[43mpermutation_pob\u001b[49m\u001b[43m,\u001b[49m\u001b[43m \u001b[49m\u001b[43mreverse\u001b[49m\u001b[38;5;241;43m=\u001b[39;49m\u001b[43mreverse\u001b[49m\u001b[43m)\u001b[49m\n\u001b[0;32m    832\u001b[0m permutation_pob[\u001b[38;5;241m0\u001b[39m, \u001b[38;5;241m2\u001b[39m] \u001b[38;5;241m=\u001b[39m \u001b[38;5;124m\"\u001b[39m\u001b[38;5;124m \u001b[39m\u001b[38;5;124m\"\u001b[39m\u001b[38;5;241m.\u001b[39mjoin([\u001b[38;5;28mchr\u001b[39m(c \u001b[38;5;241m+\u001b[39m \u001b[38;5;241m64\u001b[39m) \u001b[38;5;28;01mfor\u001b[39;00m c \u001b[38;5;129;01min\u001b[39;00m permutation_pob[\u001b[38;5;241m0\u001b[39m, \u001b[38;5;241m0\u001b[39m]])\n\u001b[0;32m    833\u001b[0m \u001b[38;5;66;03m# print(permutation_pob)\u001b[39;00m\n",
      "File \u001b[1;32me:\\python_proy\\metahueristicos\\my_lib\\utility.py:158\u001b[0m, in \u001b[0;36mordenar_poblacion\u001b[1;34m(poblacion, apt_column, reverse)\u001b[0m\n\u001b[0;32m    156\u001b[0m \u001b[38;5;28;01mfor\u001b[39;00m j \u001b[38;5;129;01min\u001b[39;00m \u001b[38;5;28mrange\u001b[39m(\u001b[38;5;241m0\u001b[39m, n \u001b[38;5;241m-\u001b[39m i \u001b[38;5;241m-\u001b[39m \u001b[38;5;241m1\u001b[39m):\n\u001b[0;32m    157\u001b[0m     actual \u001b[38;5;241m=\u001b[39m pob_ord[j, apt_column]\n\u001b[1;32m--> 158\u001b[0m     prox \u001b[38;5;241m=\u001b[39m \u001b[43mpob_ord\u001b[49m\u001b[43m[\u001b[49m\u001b[43mj\u001b[49m\u001b[43m \u001b[49m\u001b[38;5;241;43m+\u001b[39;49m\u001b[43m \u001b[49m\u001b[38;5;241;43m1\u001b[39;49m\u001b[43m,\u001b[49m\u001b[43m \u001b[49m\u001b[43mapt_column\u001b[49m\u001b[43m]\u001b[49m\n\u001b[0;32m    160\u001b[0m     \u001b[38;5;28;01mif\u001b[39;00m (actual \u001b[38;5;241m<\u001b[39m prox \u001b[38;5;129;01mand\u001b[39;00m \u001b[38;5;129;01mnot\u001b[39;00m reverse) \u001b[38;5;129;01mor\u001b[39;00m (actual \u001b[38;5;241m>\u001b[39m prox \u001b[38;5;129;01mand\u001b[39;00m reverse):\n\u001b[0;32m    161\u001b[0m         aux \u001b[38;5;241m=\u001b[39m pob_ord[j]\u001b[38;5;241m.\u001b[39mcopy()\n",
      "\u001b[1;31mKeyboardInterrupt\u001b[0m: "
     ]
    }
   ],
   "source": [
    "resultados1,tiempo_ejecucion1 = experimentacion(poblaciones_iniciales=pobs,max_gen=500,op_seleccion=0,op_cruza=3,mode=\"min\",mutar=True)"
   ]
  },
  {
   "cell_type": "code",
   "execution_count": 205,
   "metadata": {},
   "outputs": [
    {
     "data": {
      "application/vnd.plotly.v1+json": {
       "config": {
        "plotlyServerURL": "https://plot.ly"
       },
       "data": [
        {
         "marker": {
          "size": 8,
          "symbol": "star-diamond"
         },
         "mode": "markers+lines",
         "name": "Costo promedio inicial",
         "type": "scatter",
         "x": [
          1,
          2,
          3,
          4,
          5
         ],
         "xaxis": "x",
         "y": [
          68260.26,
          70071.1,
          69692.25,
          68978.74,
          68577.39
         ],
         "yaxis": "y"
        },
        {
         "marker": {
          "size": 8,
          "symbol": "diamond-x"
         },
         "mode": "markers+lines",
         "name": "Varianza costo",
         "type": "scatter",
         "x": [
          1,
          2,
          3,
          4,
          5
         ],
         "xaxis": "x2",
         "y": [
          61267232.9,
          53820048.9,
          47833798.13,
          48277732.54,
          50284057.6
         ],
         "yaxis": "y2"
        },
        {
         "marker": {
          "size": 8,
          "symbol": "octagon"
         },
         "mode": "markers+lines",
         "name": "Desviación costo",
         "type": "scatter",
         "x": [
          1,
          2,
          3,
          4,
          5
         ],
         "xaxis": "x3",
         "y": [
          7827.34,
          7336.21,
          6916.2,
          6948.22,
          7091.13
         ],
         "yaxis": "y3"
        },
        {
         "marker": {
          "size": 8,
          "symbol": "bowtie"
         },
         "mode": "markers+lines",
         "name": "Costo menor",
         "type": "scatter",
         "x": [
          1,
          2,
          3,
          4,
          5
         ],
         "xaxis": "x4",
         "y": [
          49740.11,
          47803.04,
          48538.41,
          54343.88,
          49576.21
         ],
         "yaxis": "y4"
        },
        {
         "marker": {
          "size": 8,
          "symbol": "bowtie"
         },
         "mode": "markers+lines",
         "name": "Costo mayor",
         "type": "scatter",
         "x": [
          1,
          2,
          3,
          4,
          5
         ],
         "xaxis": "x5",
         "y": [
          89779.94,
          86981.13,
          84150.43,
          83554.5,
          81205.18
         ],
         "yaxis": "y5"
        },
        {
         "marker": {
          "size": 8,
          "symbol": "hexagram"
         },
         "mode": "markers+lines",
         "name": "Costo mayor",
         "type": "scatter",
         "x": [
          1,
          2,
          3,
          4,
          5
         ],
         "xaxis": "x6",
         "y": [
          17,
          17.01,
          16.98,
          17,
          17
         ],
         "yaxis": "y6"
        }
       ],
       "layout": {
        "annotations": [
         {
          "font": {
           "size": 16
          },
          "showarrow": false,
          "text": "Costo promedio",
          "x": 0.5,
          "xanchor": "center",
          "xref": "paper",
          "y": 0.9999999999999999,
          "yanchor": "bottom",
          "yref": "paper"
         },
         {
          "font": {
           "size": 16
          },
          "showarrow": false,
          "text": "Varianza del costo",
          "x": 0.5,
          "xanchor": "center",
          "xref": "paper",
          "y": 0.8194444444444444,
          "yanchor": "bottom",
          "yref": "paper"
         },
         {
          "font": {
           "size": 16
          },
          "showarrow": false,
          "text": "Desviación estándar",
          "x": 0.5,
          "xanchor": "center",
          "xref": "paper",
          "y": 0.638888888888889,
          "yanchor": "bottom",
          "yref": "paper"
         },
         {
          "font": {
           "size": 16
          },
          "showarrow": false,
          "text": "Individuos con menor costo población inicial",
          "x": 0.5,
          "xanchor": "center",
          "xref": "paper",
          "y": 0.4583333333333333,
          "yanchor": "bottom",
          "yref": "paper"
         },
         {
          "font": {
           "size": 16
          },
          "showarrow": false,
          "text": "Individuos mayor costo población inicial",
          "x": 0.5,
          "xanchor": "center",
          "xref": "paper",
          "y": 0.2777777777777778,
          "yanchor": "bottom",
          "yref": "paper"
         },
         {
          "font": {
           "size": 16
          },
          "showarrow": false,
          "text": "Diversidad de genes",
          "x": 0.5,
          "xanchor": "center",
          "xref": "paper",
          "y": 0.09722222222222222,
          "yanchor": "bottom",
          "yref": "paper"
         }
        ],
        "height": 1000,
        "template": {
         "data": {
          "bar": [
           {
            "error_x": {
             "color": "#2a3f5f"
            },
            "error_y": {
             "color": "#2a3f5f"
            },
            "marker": {
             "line": {
              "color": "#E5ECF6",
              "width": 0.5
             },
             "pattern": {
              "fillmode": "overlay",
              "size": 10,
              "solidity": 0.2
             }
            },
            "type": "bar"
           }
          ],
          "barpolar": [
           {
            "marker": {
             "line": {
              "color": "#E5ECF6",
              "width": 0.5
             },
             "pattern": {
              "fillmode": "overlay",
              "size": 10,
              "solidity": 0.2
             }
            },
            "type": "barpolar"
           }
          ],
          "carpet": [
           {
            "aaxis": {
             "endlinecolor": "#2a3f5f",
             "gridcolor": "white",
             "linecolor": "white",
             "minorgridcolor": "white",
             "startlinecolor": "#2a3f5f"
            },
            "baxis": {
             "endlinecolor": "#2a3f5f",
             "gridcolor": "white",
             "linecolor": "white",
             "minorgridcolor": "white",
             "startlinecolor": "#2a3f5f"
            },
            "type": "carpet"
           }
          ],
          "choropleth": [
           {
            "colorbar": {
             "outlinewidth": 0,
             "ticks": ""
            },
            "type": "choropleth"
           }
          ],
          "contour": [
           {
            "colorbar": {
             "outlinewidth": 0,
             "ticks": ""
            },
            "colorscale": [
             [
              0,
              "#0d0887"
             ],
             [
              0.1111111111111111,
              "#46039f"
             ],
             [
              0.2222222222222222,
              "#7201a8"
             ],
             [
              0.3333333333333333,
              "#9c179e"
             ],
             [
              0.4444444444444444,
              "#bd3786"
             ],
             [
              0.5555555555555556,
              "#d8576b"
             ],
             [
              0.6666666666666666,
              "#ed7953"
             ],
             [
              0.7777777777777778,
              "#fb9f3a"
             ],
             [
              0.8888888888888888,
              "#fdca26"
             ],
             [
              1,
              "#f0f921"
             ]
            ],
            "type": "contour"
           }
          ],
          "contourcarpet": [
           {
            "colorbar": {
             "outlinewidth": 0,
             "ticks": ""
            },
            "type": "contourcarpet"
           }
          ],
          "heatmap": [
           {
            "colorbar": {
             "outlinewidth": 0,
             "ticks": ""
            },
            "colorscale": [
             [
              0,
              "#0d0887"
             ],
             [
              0.1111111111111111,
              "#46039f"
             ],
             [
              0.2222222222222222,
              "#7201a8"
             ],
             [
              0.3333333333333333,
              "#9c179e"
             ],
             [
              0.4444444444444444,
              "#bd3786"
             ],
             [
              0.5555555555555556,
              "#d8576b"
             ],
             [
              0.6666666666666666,
              "#ed7953"
             ],
             [
              0.7777777777777778,
              "#fb9f3a"
             ],
             [
              0.8888888888888888,
              "#fdca26"
             ],
             [
              1,
              "#f0f921"
             ]
            ],
            "type": "heatmap"
           }
          ],
          "heatmapgl": [
           {
            "colorbar": {
             "outlinewidth": 0,
             "ticks": ""
            },
            "colorscale": [
             [
              0,
              "#0d0887"
             ],
             [
              0.1111111111111111,
              "#46039f"
             ],
             [
              0.2222222222222222,
              "#7201a8"
             ],
             [
              0.3333333333333333,
              "#9c179e"
             ],
             [
              0.4444444444444444,
              "#bd3786"
             ],
             [
              0.5555555555555556,
              "#d8576b"
             ],
             [
              0.6666666666666666,
              "#ed7953"
             ],
             [
              0.7777777777777778,
              "#fb9f3a"
             ],
             [
              0.8888888888888888,
              "#fdca26"
             ],
             [
              1,
              "#f0f921"
             ]
            ],
            "type": "heatmapgl"
           }
          ],
          "histogram": [
           {
            "marker": {
             "pattern": {
              "fillmode": "overlay",
              "size": 10,
              "solidity": 0.2
             }
            },
            "type": "histogram"
           }
          ],
          "histogram2d": [
           {
            "colorbar": {
             "outlinewidth": 0,
             "ticks": ""
            },
            "colorscale": [
             [
              0,
              "#0d0887"
             ],
             [
              0.1111111111111111,
              "#46039f"
             ],
             [
              0.2222222222222222,
              "#7201a8"
             ],
             [
              0.3333333333333333,
              "#9c179e"
             ],
             [
              0.4444444444444444,
              "#bd3786"
             ],
             [
              0.5555555555555556,
              "#d8576b"
             ],
             [
              0.6666666666666666,
              "#ed7953"
             ],
             [
              0.7777777777777778,
              "#fb9f3a"
             ],
             [
              0.8888888888888888,
              "#fdca26"
             ],
             [
              1,
              "#f0f921"
             ]
            ],
            "type": "histogram2d"
           }
          ],
          "histogram2dcontour": [
           {
            "colorbar": {
             "outlinewidth": 0,
             "ticks": ""
            },
            "colorscale": [
             [
              0,
              "#0d0887"
             ],
             [
              0.1111111111111111,
              "#46039f"
             ],
             [
              0.2222222222222222,
              "#7201a8"
             ],
             [
              0.3333333333333333,
              "#9c179e"
             ],
             [
              0.4444444444444444,
              "#bd3786"
             ],
             [
              0.5555555555555556,
              "#d8576b"
             ],
             [
              0.6666666666666666,
              "#ed7953"
             ],
             [
              0.7777777777777778,
              "#fb9f3a"
             ],
             [
              0.8888888888888888,
              "#fdca26"
             ],
             [
              1,
              "#f0f921"
             ]
            ],
            "type": "histogram2dcontour"
           }
          ],
          "mesh3d": [
           {
            "colorbar": {
             "outlinewidth": 0,
             "ticks": ""
            },
            "type": "mesh3d"
           }
          ],
          "parcoords": [
           {
            "line": {
             "colorbar": {
              "outlinewidth": 0,
              "ticks": ""
             }
            },
            "type": "parcoords"
           }
          ],
          "pie": [
           {
            "automargin": true,
            "type": "pie"
           }
          ],
          "scatter": [
           {
            "fillpattern": {
             "fillmode": "overlay",
             "size": 10,
             "solidity": 0.2
            },
            "type": "scatter"
           }
          ],
          "scatter3d": [
           {
            "line": {
             "colorbar": {
              "outlinewidth": 0,
              "ticks": ""
             }
            },
            "marker": {
             "colorbar": {
              "outlinewidth": 0,
              "ticks": ""
             }
            },
            "type": "scatter3d"
           }
          ],
          "scattercarpet": [
           {
            "marker": {
             "colorbar": {
              "outlinewidth": 0,
              "ticks": ""
             }
            },
            "type": "scattercarpet"
           }
          ],
          "scattergeo": [
           {
            "marker": {
             "colorbar": {
              "outlinewidth": 0,
              "ticks": ""
             }
            },
            "type": "scattergeo"
           }
          ],
          "scattergl": [
           {
            "marker": {
             "colorbar": {
              "outlinewidth": 0,
              "ticks": ""
             }
            },
            "type": "scattergl"
           }
          ],
          "scattermapbox": [
           {
            "marker": {
             "colorbar": {
              "outlinewidth": 0,
              "ticks": ""
             }
            },
            "type": "scattermapbox"
           }
          ],
          "scatterpolar": [
           {
            "marker": {
             "colorbar": {
              "outlinewidth": 0,
              "ticks": ""
             }
            },
            "type": "scatterpolar"
           }
          ],
          "scatterpolargl": [
           {
            "marker": {
             "colorbar": {
              "outlinewidth": 0,
              "ticks": ""
             }
            },
            "type": "scatterpolargl"
           }
          ],
          "scatterternary": [
           {
            "marker": {
             "colorbar": {
              "outlinewidth": 0,
              "ticks": ""
             }
            },
            "type": "scatterternary"
           }
          ],
          "surface": [
           {
            "colorbar": {
             "outlinewidth": 0,
             "ticks": ""
            },
            "colorscale": [
             [
              0,
              "#0d0887"
             ],
             [
              0.1111111111111111,
              "#46039f"
             ],
             [
              0.2222222222222222,
              "#7201a8"
             ],
             [
              0.3333333333333333,
              "#9c179e"
             ],
             [
              0.4444444444444444,
              "#bd3786"
             ],
             [
              0.5555555555555556,
              "#d8576b"
             ],
             [
              0.6666666666666666,
              "#ed7953"
             ],
             [
              0.7777777777777778,
              "#fb9f3a"
             ],
             [
              0.8888888888888888,
              "#fdca26"
             ],
             [
              1,
              "#f0f921"
             ]
            ],
            "type": "surface"
           }
          ],
          "table": [
           {
            "cells": {
             "fill": {
              "color": "#EBF0F8"
             },
             "line": {
              "color": "white"
             }
            },
            "header": {
             "fill": {
              "color": "#C8D4E3"
             },
             "line": {
              "color": "white"
             }
            },
            "type": "table"
           }
          ]
         },
         "layout": {
          "annotationdefaults": {
           "arrowcolor": "#2a3f5f",
           "arrowhead": 0,
           "arrowwidth": 1
          },
          "autotypenumbers": "strict",
          "coloraxis": {
           "colorbar": {
            "outlinewidth": 0,
            "ticks": ""
           }
          },
          "colorscale": {
           "diverging": [
            [
             0,
             "#8e0152"
            ],
            [
             0.1,
             "#c51b7d"
            ],
            [
             0.2,
             "#de77ae"
            ],
            [
             0.3,
             "#f1b6da"
            ],
            [
             0.4,
             "#fde0ef"
            ],
            [
             0.5,
             "#f7f7f7"
            ],
            [
             0.6,
             "#e6f5d0"
            ],
            [
             0.7,
             "#b8e186"
            ],
            [
             0.8,
             "#7fbc41"
            ],
            [
             0.9,
             "#4d9221"
            ],
            [
             1,
             "#276419"
            ]
           ],
           "sequential": [
            [
             0,
             "#0d0887"
            ],
            [
             0.1111111111111111,
             "#46039f"
            ],
            [
             0.2222222222222222,
             "#7201a8"
            ],
            [
             0.3333333333333333,
             "#9c179e"
            ],
            [
             0.4444444444444444,
             "#bd3786"
            ],
            [
             0.5555555555555556,
             "#d8576b"
            ],
            [
             0.6666666666666666,
             "#ed7953"
            ],
            [
             0.7777777777777778,
             "#fb9f3a"
            ],
            [
             0.8888888888888888,
             "#fdca26"
            ],
            [
             1,
             "#f0f921"
            ]
           ],
           "sequentialminus": [
            [
             0,
             "#0d0887"
            ],
            [
             0.1111111111111111,
             "#46039f"
            ],
            [
             0.2222222222222222,
             "#7201a8"
            ],
            [
             0.3333333333333333,
             "#9c179e"
            ],
            [
             0.4444444444444444,
             "#bd3786"
            ],
            [
             0.5555555555555556,
             "#d8576b"
            ],
            [
             0.6666666666666666,
             "#ed7953"
            ],
            [
             0.7777777777777778,
             "#fb9f3a"
            ],
            [
             0.8888888888888888,
             "#fdca26"
            ],
            [
             1,
             "#f0f921"
            ]
           ]
          },
          "colorway": [
           "#636efa",
           "#EF553B",
           "#00cc96",
           "#ab63fa",
           "#FFA15A",
           "#19d3f3",
           "#FF6692",
           "#B6E880",
           "#FF97FF",
           "#FECB52"
          ],
          "font": {
           "color": "#2a3f5f"
          },
          "geo": {
           "bgcolor": "white",
           "lakecolor": "white",
           "landcolor": "#E5ECF6",
           "showlakes": true,
           "showland": true,
           "subunitcolor": "white"
          },
          "hoverlabel": {
           "align": "left"
          },
          "hovermode": "closest",
          "mapbox": {
           "style": "light"
          },
          "paper_bgcolor": "white",
          "plot_bgcolor": "#E5ECF6",
          "polar": {
           "angularaxis": {
            "gridcolor": "white",
            "linecolor": "white",
            "ticks": ""
           },
           "bgcolor": "#E5ECF6",
           "radialaxis": {
            "gridcolor": "white",
            "linecolor": "white",
            "ticks": ""
           }
          },
          "scene": {
           "xaxis": {
            "backgroundcolor": "#E5ECF6",
            "gridcolor": "white",
            "gridwidth": 2,
            "linecolor": "white",
            "showbackground": true,
            "ticks": "",
            "zerolinecolor": "white"
           },
           "yaxis": {
            "backgroundcolor": "#E5ECF6",
            "gridcolor": "white",
            "gridwidth": 2,
            "linecolor": "white",
            "showbackground": true,
            "ticks": "",
            "zerolinecolor": "white"
           },
           "zaxis": {
            "backgroundcolor": "#E5ECF6",
            "gridcolor": "white",
            "gridwidth": 2,
            "linecolor": "white",
            "showbackground": true,
            "ticks": "",
            "zerolinecolor": "white"
           }
          },
          "shapedefaults": {
           "line": {
            "color": "#2a3f5f"
           }
          },
          "ternary": {
           "aaxis": {
            "gridcolor": "white",
            "linecolor": "white",
            "ticks": ""
           },
           "baxis": {
            "gridcolor": "white",
            "linecolor": "white",
            "ticks": ""
           },
           "bgcolor": "#E5ECF6",
           "caxis": {
            "gridcolor": "white",
            "linecolor": "white",
            "ticks": ""
           }
          },
          "title": {
           "x": 0.05
          },
          "xaxis": {
           "automargin": true,
           "gridcolor": "white",
           "linecolor": "white",
           "ticks": "",
           "title": {
            "standoff": 15
           },
           "zerolinecolor": "white",
           "zerolinewidth": 2
          },
          "yaxis": {
           "automargin": true,
           "gridcolor": "white",
           "linecolor": "white",
           "ticks": "",
           "title": {
            "standoff": 15
           },
           "zerolinecolor": "white",
           "zerolinewidth": 2
          }
         }
        },
        "title": {
         "text": "Experimento número 1, sin implementar mutación"
        },
        "width": 900,
        "xaxis": {
         "anchor": "y",
         "domain": [
          0,
          1
         ],
         "title": {
          "text": "número población"
         }
        },
        "xaxis2": {
         "anchor": "y2",
         "domain": [
          0,
          1
         ],
         "title": {
          "text": "número población"
         }
        },
        "xaxis3": {
         "anchor": "y3",
         "domain": [
          0,
          1
         ],
         "title": {
          "text": "número población"
         }
        },
        "xaxis4": {
         "anchor": "y4",
         "domain": [
          0,
          1
         ],
         "title": {
          "text": "número población"
         }
        },
        "xaxis5": {
         "anchor": "y5",
         "domain": [
          0,
          1
         ],
         "title": {
          "text": "número población"
         }
        },
        "xaxis6": {
         "anchor": "y6",
         "domain": [
          0,
          1
         ]
        },
        "yaxis": {
         "anchor": "x",
         "domain": [
          0.9027777777777777,
          0.9999999999999999
         ],
         "title": {
          "text": "Costo"
         }
        },
        "yaxis2": {
         "anchor": "x2",
         "domain": [
          0.7222222222222222,
          0.8194444444444444
         ],
         "title": {
          "text": "Costo"
         }
        },
        "yaxis3": {
         "anchor": "x3",
         "domain": [
          0.5416666666666667,
          0.638888888888889
         ],
         "title": {
          "text": "Costo"
         }
        },
        "yaxis4": {
         "anchor": "x4",
         "domain": [
          0.3611111111111111,
          0.4583333333333333
         ],
         "title": {
          "text": "Costo"
         }
        },
        "yaxis5": {
         "anchor": "x5",
         "domain": [
          0.18055555555555555,
          0.2777777777777778
         ]
        },
        "yaxis6": {
         "anchor": "x6",
         "domain": [
          0,
          0.09722222222222222
         ],
         "title": {
          "text": "Costo"
         }
        }
       }
      }
     },
     "metadata": {},
     "output_type": "display_data"
    }
   ],
   "source": [
    "def show_reporte(resultados, msg):\n",
    "    reportes_iniciales = np.array([get_report(i + 1, p) for i, p in enumerate(pobs)])\n",
    "    # Comportamiento de las poblaciones iniciales\n",
    "    fig = make_subplots(\n",
    "        rows=6,\n",
    "        cols=1,\n",
    "        subplot_titles=[\"Costo promedio\", \"Varianza del costo\", \"Desviación estándar\",\"Individuos con menor costo población inicial\",\"Individuos mayor costo población inicial\",\"Diversidad de genes\"],\n",
    "    )\n",
    "\n",
    "    fig.add_trace(\n",
    "        go.Scatter(\n",
    "            x=reportes_iniciales[:, 0],\n",
    "            y=reportes_iniciales[:, 1],\n",
    "            mode=\"markers+lines\",\n",
    "            name=\"Costo promedio inicial\",\n",
    "            marker=dict(symbol=\"star-diamond\",size=8),\n",
    "        ),\n",
    "        row=1,\n",
    "        col=1,\n",
    "    )\n",
    "    fig.add_trace(\n",
    "        go.Scatter(\n",
    "            x=reportes_iniciales[:, 0],\n",
    "            y=reportes_iniciales[:, 2],\n",
    "            mode=\"markers+lines\",\n",
    "            marker=dict(symbol=\"diamond-x\",size=8),\n",
    "            name=\"Varianza costo\",\n",
    "        ),\n",
    "        row=2,\n",
    "        col=1,\n",
    "    )\n",
    "    fig.add_trace(\n",
    "        go.Scatter(\n",
    "            x=reportes_iniciales[:, 0],\n",
    "            y=reportes_iniciales[:, 3],\n",
    "            mode=\"markers+lines\",\n",
    "            marker=dict(symbol=\"octagon\",size=8),\n",
    "            name=\"Desviación costo\",\n",
    "        ),\n",
    "        row=3,\n",
    "        col=1,\n",
    "    )\n",
    "    fig.add_trace(\n",
    "        go.Scatter(\n",
    "            x=reportes_iniciales[:,0],\n",
    "            y=reportes_iniciales[:,4],\n",
    "            mode=\"markers+lines\",\n",
    "            marker=dict(symbol=\"bowtie\",size=8),\n",
    "            name=\"Costo menor\"\n",
    "        ),row=4,col=1\n",
    "    )\n",
    "    fig.add_trace(\n",
    "        go.Scatter(\n",
    "            x=reportes_iniciales[:,0],\n",
    "            y=reportes_iniciales[:,5],\n",
    "            mode=\"markers+lines\",\n",
    "            marker=dict(symbol=\"bowtie\",size=8),\n",
    "            name=\"Costo mayor\"\n",
    "        ),row=5,col=1\n",
    "    )\n",
    "    fig.add_trace(\n",
    "        go.Scatter(\n",
    "            x=reportes_iniciales[:,0],\n",
    "            y=reportes_iniciales[:,6],\n",
    "            mode=\"markers+lines\",\n",
    "            marker=dict(symbol=\"hexagram\",size=8),\n",
    "            name=\"Costo mayor\"\n",
    "        ),row=6,col=1\n",
    "    )\n",
    "\n",
    "    fig.update_layout(height=1000, width=900)  # Ajusta el tamaño de la figura\n",
    "    # Agrega títulos a los ejes x y y de cada gráfica\n",
    "    fig.update_layout(\n",
    "        title = f\"{msg}\",\n",
    "        xaxis1=dict(title=\"número población\"),  # Eje x de la primera gráfica\n",
    "        yaxis1=dict(title=\"Costo\"),  # Eje y de la primera gráfica\n",
    "        xaxis2=dict(title=\"número población\"),  # Eje x de la segunda gráfica\n",
    "        yaxis2=dict(title=\"Costo\"),  # Eje y de la segunda gráfica\n",
    "        xaxis3=dict(title=\"número población\"),  # Eje x de la tercera gráfica\n",
    "        yaxis3=dict(title=\"Costo\"),  # Eje y de la tercera gráfica\n",
    "        xaxis4=dict(title=\"número población\"),  # Eje x de la tercera gráfica\n",
    "        yaxis4=dict(title=\"Costo\"),  # Eje y de la tercera gráfica\n",
    "        xaxis5=dict(title=\"número población\"),  # Eje x de la tercera gráfica\n",
    "        yaxis6=dict(title=\"Costo\"),  # Eje y de la tercera gráfica\n",
    "    )\n",
    "    fig.show()\n",
    "\n",
    "\n",
    "show_reporte(resultados1, \"Experimento número 1, sin implementar mutación\")"
   ]
  },
  {
   "cell_type": "code",
   "execution_count": 206,
   "metadata": {},
   "outputs": [],
   "source": [
    "gen_reports = np.zeros((5,500,8))\n",
    "for i,rg in enumerate(resultados1):\n",
    "    rg_tiempos = rg[:,1]\n",
    "    rg_res = rg[:,0]\n",
    "    \n",
    "    rg_res_pobs = np.array([respob[0] for respob in rg_res])\n",
    "    rg_report = np.array([get_report(k+1,rpob,rg_tiempos[k]) for k,rpob in enumerate(rg_res_pobs)])\n",
    "    gen_reports[i] = rg_report\n",
    "\n",
    "    #rg_res_cros = np.array([rescros[1] for rescros in rg_res])\n",
    "    \n",
    "# print(tiempo_ejecucion1)\n",
    "# for i,res in enumerate(resultados1):\n",
    "#     n_pob = i\n",
    "#     for j,gen in enumerate(res):\n",
    "#         historico = gen[0]\n",
    "#         tiempo_ejecucion = gen[1]\n",
    "#         registr_mutante = None\n",
    "#         if len(historico) == 3:\n",
    "#             print(\"Mutante\")\n",
    "#         print(historico[0].shape)\n",
    "#         print(historico[1].shape)\n",
    "#     break"
   ]
  },
  {
   "cell_type": "code",
   "execution_count": 207,
   "metadata": {},
   "outputs": [
    {
     "data": {
      "application/vnd.plotly.v1+json": {
       "config": {
        "plotlyServerURL": "https://plot.ly"
       },
       "data": [
        {
         "legendgroup": "Población 1",
         "marker": {
          "color": "#f5bde6",
          "size": 10,
          "symbol": "star-dot"
         },
         "mode": "markers+lines",
         "name": "Población 1",
         "type": "scatter",
         "x": [
          1,
          2,
          3,
          4,
          5,
          6,
          7,
          8,
          9,
          10,
          11,
          12,
          13,
          14,
          15,
          16,
          17,
          18,
          19,
          20
         ],
         "xaxis": "x",
         "y": [
          62286.32,
          58524.7,
          56228.26,
          53810.96,
          51768.33,
          50052.12,
          48273.62,
          46904.35,
          45213.22,
          43233.75,
          41539.39,
          39734.44,
          37804.86,
          36839.41,
          36256.22,
          35554.91,
          34750.26,
          34080.42,
          33411.37,
          32681.65
         ],
         "yaxis": "y"
        },
        {
         "legendgroup": "Población 1",
         "marker": {
          "color": "#f5bde6",
          "size": 10,
          "symbol": "star-dot"
         },
         "mode": "markers+lines",
         "name": "Población 1",
         "type": "scatter",
         "x": [
          1,
          2,
          3,
          4,
          5,
          6,
          7,
          8,
          9,
          10,
          11,
          12,
          13,
          14,
          15,
          16,
          17,
          18,
          19,
          20
         ],
         "xaxis": "x2",
         "y": [
          23985520.21,
          12818445.73,
          8517535.99,
          10070093.24,
          9370218.63,
          9854239.09,
          8155614.1,
          9400648.74,
          11786648.19,
          12021937.82,
          9217830.37,
          8132390.14,
          4747202.42,
          2348243.75,
          2076136.68,
          1631793.42,
          1440411.86,
          1211499.14,
          1128908.12,
          1047959.08
         ],
         "yaxis": "y2"
        },
        {
         "legendgroup": "Población 1",
         "marker": {
          "color": "#f5bde6",
          "size": 10,
          "symbol": "star-dot"
         },
         "mode": "markers+lines",
         "name": "Población 1",
         "type": "scatter",
         "x": [
          1,
          2,
          3,
          4,
          5,
          6,
          7,
          8,
          9,
          10,
          11,
          12,
          13,
          14,
          15,
          16,
          17,
          18,
          19,
          20
         ],
         "xaxis": "x3",
         "y": [
          4897.5,
          3580.29,
          2918.48,
          3173.34,
          3061.08,
          3139.15,
          2855.8,
          3066.05,
          3433.17,
          3467.27,
          3036.09,
          2851.73,
          2178.81,
          1532.4,
          1440.88,
          1277.42,
          1200.17,
          1100.68,
          1062.5,
          1023.7
         ],
         "yaxis": "y3"
        },
        {
         "legendgroup": "Población 1",
         "marker": {
          "color": "#f5bde6",
          "size": 10,
          "symbol": "star-dot"
         },
         "mode": "markers+lines",
         "name": "Población 1",
         "type": "scatter",
         "x": [
          1,
          2,
          3,
          4,
          5,
          6,
          7,
          8,
          9,
          10,
          11,
          12,
          13,
          14,
          15,
          16,
          17,
          18,
          19,
          20
         ],
         "xaxis": "x4",
         "y": [
          49740.11,
          45992.81,
          45992.81,
          37621.97,
          37621.97,
          37621.97,
          37621.97,
          37011.1,
          34515.54,
          34515.54,
          34515.54,
          32848.78,
          32848.78,
          32848.78,
          32506,
          32493.88,
          28540.37,
          28540.37,
          28540.37,
          28540.37
         ],
         "yaxis": "y4"
        },
        {
         "legendgroup": "Población 1",
         "marker": {
          "color": "#f5bde6",
          "size": 10,
          "symbol": "star-dot"
         },
         "mode": "markers+lines",
         "name": "Población 1",
         "type": "scatter",
         "x": [
          1,
          2,
          3,
          4,
          5,
          6,
          7,
          8,
          9,
          10,
          11,
          12,
          13,
          14,
          15,
          16,
          17,
          18,
          19,
          20
         ],
         "xaxis": "x5",
         "y": [
          68665.36,
          63173.86,
          59960.65,
          57394.96,
          54953.41,
          53142.19,
          51438.55,
          50210.08,
          48614.6,
          47019.71,
          45693.64,
          43635.54,
          41038.12,
          38818.52,
          37954.7,
          37480.16,
          36074.03,
          35364.5,
          34574.53,
          33899.5
         ],
         "yaxis": "y5"
        },
        {
         "legendgroup": "Población 1",
         "marker": {
          "color": "#f5bde6",
          "size": 10,
          "symbol": "star-dot"
         },
         "mode": "markers+lines",
         "name": "Población 1",
         "type": "scatter",
         "x": [
          1,
          2,
          3,
          4,
          5,
          6,
          7,
          8,
          9,
          10,
          11,
          12,
          13,
          14,
          15,
          16,
          17,
          18,
          19,
          20
         ],
         "xaxis": "x6",
         "y": [
          16.86,
          16.75,
          16.61,
          16.4,
          16.2,
          16.15,
          15.9,
          15.81,
          15.5,
          14.69,
          13.89,
          12.9,
          12.09,
          11,
          10.98,
          11.26,
          11.22,
          10,
          9.42,
          9.45
         ],
         "yaxis": "y6"
        },
        {
         "legendgroup": "Población 2",
         "marker": {
          "color": "#c6a0f6",
          "size": 10,
          "symbol": "star-dot"
         },
         "mode": "markers+lines",
         "name": "Población 2",
         "type": "scatter",
         "x": [
          1,
          2,
          3,
          4,
          5,
          6,
          7,
          8,
          9,
          10,
          11,
          12,
          13,
          14,
          15,
          16,
          17,
          18,
          19,
          20
         ],
         "xaxis": "x",
         "y": [
          63550.5,
          59636.74,
          55918.15,
          53640.28,
          51118.02,
          49266.3,
          47856.29,
          46510.76,
          45358.1,
          44027.24,
          42850.15,
          41638.74,
          40808,
          40172.19,
          38922.84,
          38384.97,
          37725.1,
          37169.53,
          36537.35,
          35993.45
         ],
         "yaxis": "y"
        },
        {
         "legendgroup": "Población 2",
         "marker": {
          "color": "#c6a0f6",
          "size": 10,
          "symbol": "star-dot"
         },
         "mode": "markers+lines",
         "name": "Población 2",
         "type": "scatter",
         "x": [
          1,
          2,
          3,
          4,
          5,
          6,
          7,
          8,
          9,
          10,
          11,
          12,
          13,
          14,
          15,
          16,
          17,
          18,
          19,
          20
         ],
         "xaxis": "x2",
         "y": [
          20824638.64,
          19036509.11,
          14886229.68,
          11409672.88,
          10628244.77,
          8591441.13,
          8367141.95,
          8106267.74,
          8150264.23,
          6358177.22,
          5928115.56,
          5710649.91,
          4915118.27,
          4136118.89,
          3205299.32,
          2711723.13,
          2229287.11,
          1755201.73,
          2277292.47,
          1959807.26
         ],
         "yaxis": "y2"
        },
        {
         "legendgroup": "Población 2",
         "marker": {
          "color": "#c6a0f6",
          "size": 10,
          "symbol": "star-dot"
         },
         "mode": "markers+lines",
         "name": "Población 2",
         "type": "scatter",
         "x": [
          1,
          2,
          3,
          4,
          5,
          6,
          7,
          8,
          9,
          10,
          11,
          12,
          13,
          14,
          15,
          16,
          17,
          18,
          19,
          20
         ],
         "xaxis": "x3",
         "y": [
          4563.4,
          4363.08,
          3858.27,
          3377.82,
          3260.1,
          2931.12,
          2892.6,
          2847.15,
          2854.87,
          2521.54,
          2434.77,
          2389.7,
          2217.01,
          2033.75,
          1790.33,
          1646.73,
          1493.08,
          1324.84,
          1509.07,
          1399.93
         ],
         "yaxis": "y3"
        },
        {
         "legendgroup": "Población 2",
         "marker": {
          "color": "#c6a0f6",
          "size": 10,
          "symbol": "star-dot"
         },
         "mode": "markers+lines",
         "name": "Población 2",
         "type": "scatter",
         "x": [
          1,
          2,
          3,
          4,
          5,
          6,
          7,
          8,
          9,
          10,
          11,
          12,
          13,
          14,
          15,
          16,
          17,
          18,
          19,
          20
         ],
         "xaxis": "x4",
         "y": [
          44266.98,
          44266.98,
          43868.84,
          40016.07,
          40016.07,
          40016.07,
          39964.42,
          35705.14,
          35705.14,
          35705.14,
          34849.55,
          34724.78,
          34724.78,
          34724.78,
          32870.09,
          32870.09,
          32598.37,
          32598.37,
          28924.9,
          28924.9
         ],
         "yaxis": "y4"
        },
        {
         "legendgroup": "Población 2",
         "marker": {
          "color": "#c6a0f6",
          "size": 10,
          "symbol": "star-dot"
         },
         "mode": "markers+lines",
         "name": "Población 2",
         "type": "scatter",
         "x": [
          1,
          2,
          3,
          4,
          5,
          6,
          7,
          8,
          9,
          10,
          11,
          12,
          13,
          14,
          15,
          16,
          17,
          18,
          19,
          20
         ],
         "xaxis": "x5",
         "y": [
          69720.33,
          64675.39,
          60776.69,
          57447.61,
          55328.24,
          52559.43,
          51337.75,
          49980.89,
          48761.19,
          47378.06,
          45761.26,
          44435.2,
          43523.82,
          42854.95,
          41203.18,
          40433.99,
          39499.54,
          38715.04,
          38197.12,
          37804.1
         ],
         "yaxis": "y5"
        },
        {
         "legendgroup": "Población 2",
         "marker": {
          "color": "#c6a0f6",
          "size": 10,
          "symbol": "star-dot"
         },
         "mode": "markers+lines",
         "name": "Población 2",
         "type": "scatter",
         "x": [
          1,
          2,
          3,
          4,
          5,
          6,
          7,
          8,
          9,
          10,
          11,
          12,
          13,
          14,
          15,
          16,
          17,
          18,
          19,
          20
         ],
         "xaxis": "x6",
         "y": [
          16.91,
          16.79,
          16.69,
          16.57,
          16.33,
          16.17,
          16,
          15.8,
          15.77,
          15.55,
          15.42,
          15.48,
          15.3,
          15,
          14.83,
          14.51,
          14.39,
          14.22,
          14.21,
          14.22
         ],
         "yaxis": "y6"
        },
        {
         "legendgroup": "Población 3",
         "marker": {
          "color": "#ed8796",
          "size": 10,
          "symbol": "star-dot"
         },
         "mode": "markers+lines",
         "name": "Población 3",
         "type": "scatter",
         "x": [
          1,
          2,
          3,
          4,
          5,
          6,
          7,
          8,
          9,
          10,
          11,
          12,
          13,
          14,
          15,
          16,
          17,
          18,
          19,
          20
         ],
         "xaxis": "x",
         "y": [
          63563.28,
          59610.91,
          56493.74,
          53721.74,
          51545.41,
          49727.55,
          48218.24,
          46696.38,
          45307.4,
          43777.01,
          42608.09,
          41473.27,
          40336.48,
          38667.05,
          37393.09,
          36205.36,
          35296.93,
          34267.21,
          33578.53,
          33007.43
         ],
         "yaxis": "y"
        },
        {
         "legendgroup": "Población 3",
         "marker": {
          "color": "#ed8796",
          "size": 10,
          "symbol": "star-dot"
         },
         "mode": "markers+lines",
         "name": "Población 3",
         "type": "scatter",
         "x": [
          1,
          2,
          3,
          4,
          5,
          6,
          7,
          8,
          9,
          10,
          11,
          12,
          13,
          14,
          15,
          16,
          17,
          18,
          19,
          20
         ],
         "xaxis": "x2",
         "y": [
          17699537.59,
          12857179.62,
          13328629.27,
          9942989.31,
          12460254.02,
          9741763.28,
          7080271.55,
          10220921.47,
          10334826.51,
          10466201.62,
          9246663.9,
          8502002.48,
          7372099.24,
          5431634.66,
          3678508.36,
          2495924.04,
          2187136.32,
          1730204.93,
          1406188.09,
          1029534.29
         ],
         "yaxis": "y2"
        },
        {
         "legendgroup": "Población 3",
         "marker": {
          "color": "#ed8796",
          "size": 10,
          "symbol": "star-dot"
         },
         "mode": "markers+lines",
         "name": "Población 3",
         "type": "scatter",
         "x": [
          1,
          2,
          3,
          4,
          5,
          6,
          7,
          8,
          9,
          10,
          11,
          12,
          13,
          14,
          15,
          16,
          17,
          18,
          19,
          20
         ],
         "xaxis": "x3",
         "y": [
          4207.08,
          3585.69,
          3650.84,
          3153.25,
          3529.91,
          3121.18,
          2660.88,
          3197.02,
          3214.78,
          3235.15,
          3040.83,
          2915.82,
          2715.16,
          2330.59,
          1917.94,
          1579.85,
          1478.9,
          1315.37,
          1185.83,
          1014.66
         ],
         "yaxis": "y3"
        },
        {
         "legendgroup": "Población 3",
         "marker": {
          "color": "#ed8796",
          "size": 10,
          "symbol": "star-dot"
         },
         "mode": "markers+lines",
         "name": "Población 3",
         "type": "scatter",
         "x": [
          1,
          2,
          3,
          4,
          5,
          6,
          7,
          8,
          9,
          10,
          11,
          12,
          13,
          14,
          15,
          16,
          17,
          18,
          19,
          20
         ],
         "xaxis": "x4",
         "y": [
          48538.41,
          48538.41,
          45730.84,
          45730.84,
          34356.73,
          34356.73,
          34356.73,
          32037.95,
          32037.95,
          32037.95,
          32037.95,
          32037.95,
          32037.95,
          32037.95,
          32037.95,
          32037.95,
          32037.95,
          31118.47,
          29862.27,
          29862.27
         ],
         "yaxis": "y4"
        },
        {
         "legendgroup": "Población 3",
         "marker": {
          "color": "#ed8796",
          "size": 10,
          "symbol": "star-dot"
         },
         "mode": "markers+lines",
         "name": "Población 3",
         "type": "scatter",
         "x": [
          1,
          2,
          3,
          4,
          5,
          6,
          7,
          8,
          9,
          10,
          11,
          12,
          13,
          14,
          15,
          16,
          17,
          18,
          19,
          20
         ],
         "xaxis": "x5",
         "y": [
          68970.83,
          63913.75,
          60918.14,
          57703.37,
          55607.09,
          53702.61,
          51388.43,
          49686.61,
          48369.95,
          46828.02,
          45866.03,
          44816.77,
          43610.2,
          42135.57,
          39928.73,
          38218.76,
          37019.6,
          36199.59,
          35047.71,
          34400.9
         ],
         "yaxis": "y5"
        },
        {
         "legendgroup": "Población 3",
         "marker": {
          "color": "#ed8796",
          "size": 10,
          "symbol": "star-dot"
         },
         "mode": "markers+lines",
         "name": "Población 3",
         "type": "scatter",
         "x": [
          1,
          2,
          3,
          4,
          5,
          6,
          7,
          8,
          9,
          10,
          11,
          12,
          13,
          14,
          15,
          16,
          17,
          18,
          19,
          20
         ],
         "xaxis": "x6",
         "y": [
          16.82,
          16.71,
          16.55,
          16.36,
          16.22,
          16.2,
          16.16,
          15.95,
          15.9,
          15.77,
          15.74,
          15.52,
          15.28,
          14.7,
          14.04,
          13.12,
          12.69,
          12.37,
          12.03,
          11.77
         ],
         "yaxis": "y6"
        },
        {
         "legendgroup": "Población 4",
         "marker": {
          "color": "#a6da95",
          "size": 10,
          "symbol": "star-dot"
         },
         "mode": "markers+lines",
         "name": "Población 4",
         "type": "scatter",
         "x": [
          1,
          2,
          3,
          4,
          5,
          6,
          7,
          8,
          9,
          10,
          11,
          12,
          13,
          14,
          15,
          16,
          17,
          18,
          19,
          20
         ],
         "xaxis": "x",
         "y": [
          62492.88,
          58676.62,
          56030.15,
          53956.94,
          52125.27,
          50115.72,
          48241.7,
          46094.92,
          44093.47,
          42839.53,
          41680.69,
          40841.98,
          39749.74,
          38467.56,
          37455.52,
          36564.37,
          35748.8,
          34964.79,
          34267.01,
          33371.04
         ],
         "yaxis": "y"
        },
        {
         "legendgroup": "Población 4",
         "marker": {
          "color": "#a6da95",
          "size": 10,
          "symbol": "star-dot"
         },
         "mode": "markers+lines",
         "name": "Población 4",
         "type": "scatter",
         "x": [
          1,
          2,
          3,
          4,
          5,
          6,
          7,
          8,
          9,
          10,
          11,
          12,
          13,
          14,
          15,
          16,
          17,
          18,
          19,
          20
         ],
         "xaxis": "x2",
         "y": [
          15332221.44,
          12660863.48,
          9426386.49,
          8328951.25,
          8370941.91,
          12828079.14,
          14653945.11,
          12189584.52,
          9735045.29,
          7690876.76,
          6154301.32,
          6153852.49,
          5510426.91,
          5061212.8,
          3592961.47,
          2282183.76,
          1789161.88,
          1516009.41,
          1329465.94,
          987662.55
         ],
         "yaxis": "y2"
        },
        {
         "legendgroup": "Población 4",
         "marker": {
          "color": "#a6da95",
          "size": 10,
          "symbol": "star-dot"
         },
         "mode": "markers+lines",
         "name": "Población 4",
         "type": "scatter",
         "x": [
          1,
          2,
          3,
          4,
          5,
          6,
          7,
          8,
          9,
          10,
          11,
          12,
          13,
          14,
          15,
          16,
          17,
          18,
          19,
          20
         ],
         "xaxis": "x3",
         "y": [
          3915.64,
          3558.21,
          3070.24,
          2885.99,
          2893.26,
          3581.63,
          3828.05,
          3491.36,
          3120.1,
          2773.24,
          2480.79,
          2480.7,
          2347.43,
          2249.71,
          1895.51,
          1510.69,
          1337.6,
          1231.26,
          1153.02,
          993.81
         ],
         "yaxis": "y3"
        },
        {
         "legendgroup": "Población 4",
         "marker": {
          "color": "#a6da95",
          "size": 10,
          "symbol": "star-dot"
         },
         "mode": "markers+lines",
         "name": "Población 4",
         "type": "scatter",
         "x": [
          1,
          2,
          3,
          4,
          5,
          6,
          7,
          8,
          9,
          10,
          11,
          12,
          13,
          14,
          15,
          16,
          17,
          18,
          19,
          20
         ],
         "xaxis": "x4",
         "y": [
          50277.4,
          43499.63,
          43499.63,
          43499.63,
          41766.03,
          33145.83,
          33145.83,
          33145.83,
          33145.83,
          33145.83,
          33145.83,
          32062.81,
          32062.81,
          31544.39,
          31544.39,
          31544.39,
          31544.39,
          31544.39,
          31512.66,
          30791.99
         ],
         "yaxis": "y4"
        },
        {
         "legendgroup": "Población 4",
         "marker": {
          "color": "#a6da95",
          "size": 10,
          "symbol": "star-dot"
         },
         "mode": "markers+lines",
         "name": "Población 4",
         "type": "scatter",
         "x": [
          1,
          2,
          3,
          4,
          5,
          6,
          7,
          8,
          9,
          10,
          11,
          12,
          13,
          14,
          15,
          16,
          17,
          18,
          19,
          20
         ],
         "xaxis": "x5",
         "y": [
          68210.09,
          63546.4,
          59862.66,
          57313.08,
          55310.74,
          53436.88,
          52314.84,
          50384.84,
          48018.26,
          46445.7,
          44697.52,
          43316.34,
          42551.89,
          41401.7,
          39908.16,
          38847.23,
          37616.74,
          36576.61,
          35888.32,
          34726.09
         ],
         "yaxis": "y5"
        },
        {
         "legendgroup": "Población 4",
         "marker": {
          "color": "#a6da95",
          "size": 10,
          "symbol": "star-dot"
         },
         "mode": "markers+lines",
         "name": "Población 4",
         "type": "scatter",
         "x": [
          1,
          2,
          3,
          4,
          5,
          6,
          7,
          8,
          9,
          10,
          11,
          12,
          13,
          14,
          15,
          16,
          17,
          18,
          19,
          20
         ],
         "xaxis": "x6",
         "y": [
          16.84,
          16.71,
          16.55,
          16.4,
          16.46,
          16.34,
          16.33,
          16.22,
          16.07,
          15.83,
          15.61,
          15.29,
          14.83,
          14.37,
          13.48,
          12.72,
          12.35,
          11.77,
          10.36,
          9.25
         ],
         "yaxis": "y6"
        },
        {
         "legendgroup": "Población 5",
         "marker": {
          "color": "#7dc4e4",
          "size": 10,
          "symbol": "star-dot"
         },
         "mode": "markers+lines",
         "name": "Población 5",
         "type": "scatter",
         "x": [
          1,
          2,
          3,
          4,
          5,
          6,
          7,
          8,
          9,
          10,
          11,
          12,
          13,
          14,
          15,
          16,
          17,
          18,
          19,
          20
         ],
         "xaxis": "x",
         "y": [
          62011.53,
          58401.62,
          55431.81,
          53296.11,
          51389.42,
          50107.38,
          48652.37,
          47473.11,
          45887.2,
          44851.3,
          43435.63,
          41879.28,
          40454.8,
          39406.01,
          38139.18,
          36811.3,
          35664.14,
          34598.9,
          33659.5,
          32730.2
         ],
         "yaxis": "y"
        },
        {
         "legendgroup": "Población 5",
         "marker": {
          "color": "#7dc4e4",
          "size": 10,
          "symbol": "star-dot"
         },
         "mode": "markers+lines",
         "name": "Población 5",
         "type": "scatter",
         "x": [
          1,
          2,
          3,
          4,
          5,
          6,
          7,
          8,
          9,
          10,
          11,
          12,
          13,
          14,
          15,
          16,
          17,
          18,
          19,
          20
         ],
         "xaxis": "x2",
         "y": [
          20849940.46,
          16705874.41,
          12746047.88,
          9061844.12,
          7384880.85,
          4937947.77,
          4743960.37,
          4353847.15,
          6093313.5,
          5200307.54,
          5964495.39,
          6805117.05,
          5441604.22,
          4724988.75,
          4336890.08,
          3064561.2,
          2578940.47,
          1936379.45,
          2002982.9,
          1513403.8
         ],
         "yaxis": "y2"
        },
        {
         "legendgroup": "Población 5",
         "marker": {
          "color": "#7dc4e4",
          "size": 10,
          "symbol": "star-dot"
         },
         "mode": "markers+lines",
         "name": "Población 5",
         "type": "scatter",
         "x": [
          1,
          2,
          3,
          4,
          5,
          6,
          7,
          8,
          9,
          10,
          11,
          12,
          13,
          14,
          15,
          16,
          17,
          18,
          19,
          20
         ],
         "xaxis": "x3",
         "y": [
          4566.17,
          4087.28,
          3570.16,
          3010.29,
          2717.51,
          2222.15,
          2178.06,
          2086.59,
          2468.46,
          2280.42,
          2442.23,
          2608.66,
          2332.72,
          2173.7,
          2082.52,
          1750.59,
          1605.91,
          1391.54,
          1415.27,
          1230.2
         ],
         "yaxis": "y3"
        },
        {
         "legendgroup": "Población 5",
         "marker": {
          "color": "#7dc4e4",
          "size": 10,
          "symbol": "star-dot"
         },
         "mode": "markers+lines",
         "name": "Población 5",
         "type": "scatter",
         "x": [
          1,
          2,
          3,
          4,
          5,
          6,
          7,
          8,
          9,
          10,
          11,
          12,
          13,
          14,
          15,
          16,
          17,
          18,
          19,
          20
         ],
         "xaxis": "x4",
         "y": [
          46405.58,
          46405.58,
          44508.91,
          43427.01,
          42895.81,
          42895.81,
          42105.35,
          42105.35,
          38151.47,
          37907.09,
          35584.37,
          34161.36,
          33666.95,
          33137.56,
          32223.43,
          32036.61,
          31131.15,
          31131.15,
          27763.75,
          27763.75
         ],
         "yaxis": "y4"
        },
        {
         "legendgroup": "Población 5",
         "marker": {
          "color": "#7dc4e4",
          "size": 10,
          "symbol": "star-dot"
         },
         "mode": "markers+lines",
         "name": "Población 5",
         "type": "scatter",
         "x": [
          1,
          2,
          3,
          4,
          5,
          6,
          7,
          8,
          9,
          10,
          11,
          12,
          13,
          14,
          15,
          16,
          17,
          18,
          19,
          20
         ],
         "xaxis": "x5",
         "y": [
          67000.44,
          63000.03,
          59717.55,
          57397.08,
          54997.38,
          52885.73,
          51218.93,
          50069.75,
          48749.25,
          47689.83,
          46492.71,
          44925.2,
          43303.33,
          41978.3,
          40865.55,
          39370.84,
          37748.87,
          36434.19,
          35508.53,
          34243.4
         ],
         "yaxis": "y5"
        },
        {
         "legendgroup": "Población 5",
         "marker": {
          "color": "#7dc4e4",
          "size": 10,
          "symbol": "star-dot"
         },
         "mode": "markers+lines",
         "name": "Población 5",
         "type": "scatter",
         "x": [
          1,
          2,
          3,
          4,
          5,
          6,
          7,
          8,
          9,
          10,
          11,
          12,
          13,
          14,
          15,
          16,
          17,
          18,
          19,
          20
         ],
         "xaxis": "x6",
         "y": [
          16.9,
          16.77,
          16.71,
          16.53,
          16.39,
          16.29,
          16.19,
          15.91,
          15.77,
          15.62,
          15.3,
          15.01,
          14.49,
          14.12,
          13.33,
          12.25,
          11.98,
          11.43,
          10.42,
          9.51
         ],
         "yaxis": "y6"
        }
       ],
       "layout": {
        "annotations": [
         {
          "font": {
           "size": 16
          },
          "showarrow": false,
          "text": "Costo promedio",
          "x": 0.225,
          "xanchor": "center",
          "xref": "paper",
          "y": 1,
          "yanchor": "bottom",
          "yref": "paper"
         },
         {
          "font": {
           "size": 16
          },
          "showarrow": false,
          "text": "Varianza",
          "x": 0.775,
          "xanchor": "center",
          "xref": "paper",
          "y": 1,
          "yanchor": "bottom",
          "yref": "paper"
         },
         {
          "font": {
           "size": 16
          },
          "showarrow": false,
          "text": "Desviación estándar",
          "x": 0.225,
          "xanchor": "center",
          "xref": "paper",
          "y": 0.6111111111111112,
          "yanchor": "bottom",
          "yref": "paper"
         },
         {
          "font": {
           "size": 16
          },
          "showarrow": false,
          "text": "Costo menor",
          "x": 0.775,
          "xanchor": "center",
          "xref": "paper",
          "y": 0.6111111111111112,
          "yanchor": "bottom",
          "yref": "paper"
         },
         {
          "font": {
           "size": 16
          },
          "showarrow": false,
          "text": "Costo mayor",
          "x": 0.225,
          "xanchor": "center",
          "xref": "paper",
          "y": 0.22222222222222224,
          "yanchor": "bottom",
          "yref": "paper"
         },
         {
          "font": {
           "size": 16
          },
          "showarrow": false,
          "text": "Diversidad genética",
          "x": 0.775,
          "xanchor": "center",
          "xref": "paper",
          "y": 0.22222222222222224,
          "yanchor": "bottom",
          "yref": "paper"
         }
        ],
        "height": 1200,
        "template": {
         "data": {
          "bar": [
           {
            "error_x": {
             "color": "#2a3f5f"
            },
            "error_y": {
             "color": "#2a3f5f"
            },
            "marker": {
             "line": {
              "color": "#E5ECF6",
              "width": 0.5
             },
             "pattern": {
              "fillmode": "overlay",
              "size": 10,
              "solidity": 0.2
             }
            },
            "type": "bar"
           }
          ],
          "barpolar": [
           {
            "marker": {
             "line": {
              "color": "#E5ECF6",
              "width": 0.5
             },
             "pattern": {
              "fillmode": "overlay",
              "size": 10,
              "solidity": 0.2
             }
            },
            "type": "barpolar"
           }
          ],
          "carpet": [
           {
            "aaxis": {
             "endlinecolor": "#2a3f5f",
             "gridcolor": "white",
             "linecolor": "white",
             "minorgridcolor": "white",
             "startlinecolor": "#2a3f5f"
            },
            "baxis": {
             "endlinecolor": "#2a3f5f",
             "gridcolor": "white",
             "linecolor": "white",
             "minorgridcolor": "white",
             "startlinecolor": "#2a3f5f"
            },
            "type": "carpet"
           }
          ],
          "choropleth": [
           {
            "colorbar": {
             "outlinewidth": 0,
             "ticks": ""
            },
            "type": "choropleth"
           }
          ],
          "contour": [
           {
            "colorbar": {
             "outlinewidth": 0,
             "ticks": ""
            },
            "colorscale": [
             [
              0,
              "#0d0887"
             ],
             [
              0.1111111111111111,
              "#46039f"
             ],
             [
              0.2222222222222222,
              "#7201a8"
             ],
             [
              0.3333333333333333,
              "#9c179e"
             ],
             [
              0.4444444444444444,
              "#bd3786"
             ],
             [
              0.5555555555555556,
              "#d8576b"
             ],
             [
              0.6666666666666666,
              "#ed7953"
             ],
             [
              0.7777777777777778,
              "#fb9f3a"
             ],
             [
              0.8888888888888888,
              "#fdca26"
             ],
             [
              1,
              "#f0f921"
             ]
            ],
            "type": "contour"
           }
          ],
          "contourcarpet": [
           {
            "colorbar": {
             "outlinewidth": 0,
             "ticks": ""
            },
            "type": "contourcarpet"
           }
          ],
          "heatmap": [
           {
            "colorbar": {
             "outlinewidth": 0,
             "ticks": ""
            },
            "colorscale": [
             [
              0,
              "#0d0887"
             ],
             [
              0.1111111111111111,
              "#46039f"
             ],
             [
              0.2222222222222222,
              "#7201a8"
             ],
             [
              0.3333333333333333,
              "#9c179e"
             ],
             [
              0.4444444444444444,
              "#bd3786"
             ],
             [
              0.5555555555555556,
              "#d8576b"
             ],
             [
              0.6666666666666666,
              "#ed7953"
             ],
             [
              0.7777777777777778,
              "#fb9f3a"
             ],
             [
              0.8888888888888888,
              "#fdca26"
             ],
             [
              1,
              "#f0f921"
             ]
            ],
            "type": "heatmap"
           }
          ],
          "heatmapgl": [
           {
            "colorbar": {
             "outlinewidth": 0,
             "ticks": ""
            },
            "colorscale": [
             [
              0,
              "#0d0887"
             ],
             [
              0.1111111111111111,
              "#46039f"
             ],
             [
              0.2222222222222222,
              "#7201a8"
             ],
             [
              0.3333333333333333,
              "#9c179e"
             ],
             [
              0.4444444444444444,
              "#bd3786"
             ],
             [
              0.5555555555555556,
              "#d8576b"
             ],
             [
              0.6666666666666666,
              "#ed7953"
             ],
             [
              0.7777777777777778,
              "#fb9f3a"
             ],
             [
              0.8888888888888888,
              "#fdca26"
             ],
             [
              1,
              "#f0f921"
             ]
            ],
            "type": "heatmapgl"
           }
          ],
          "histogram": [
           {
            "marker": {
             "pattern": {
              "fillmode": "overlay",
              "size": 10,
              "solidity": 0.2
             }
            },
            "type": "histogram"
           }
          ],
          "histogram2d": [
           {
            "colorbar": {
             "outlinewidth": 0,
             "ticks": ""
            },
            "colorscale": [
             [
              0,
              "#0d0887"
             ],
             [
              0.1111111111111111,
              "#46039f"
             ],
             [
              0.2222222222222222,
              "#7201a8"
             ],
             [
              0.3333333333333333,
              "#9c179e"
             ],
             [
              0.4444444444444444,
              "#bd3786"
             ],
             [
              0.5555555555555556,
              "#d8576b"
             ],
             [
              0.6666666666666666,
              "#ed7953"
             ],
             [
              0.7777777777777778,
              "#fb9f3a"
             ],
             [
              0.8888888888888888,
              "#fdca26"
             ],
             [
              1,
              "#f0f921"
             ]
            ],
            "type": "histogram2d"
           }
          ],
          "histogram2dcontour": [
           {
            "colorbar": {
             "outlinewidth": 0,
             "ticks": ""
            },
            "colorscale": [
             [
              0,
              "#0d0887"
             ],
             [
              0.1111111111111111,
              "#46039f"
             ],
             [
              0.2222222222222222,
              "#7201a8"
             ],
             [
              0.3333333333333333,
              "#9c179e"
             ],
             [
              0.4444444444444444,
              "#bd3786"
             ],
             [
              0.5555555555555556,
              "#d8576b"
             ],
             [
              0.6666666666666666,
              "#ed7953"
             ],
             [
              0.7777777777777778,
              "#fb9f3a"
             ],
             [
              0.8888888888888888,
              "#fdca26"
             ],
             [
              1,
              "#f0f921"
             ]
            ],
            "type": "histogram2dcontour"
           }
          ],
          "mesh3d": [
           {
            "colorbar": {
             "outlinewidth": 0,
             "ticks": ""
            },
            "type": "mesh3d"
           }
          ],
          "parcoords": [
           {
            "line": {
             "colorbar": {
              "outlinewidth": 0,
              "ticks": ""
             }
            },
            "type": "parcoords"
           }
          ],
          "pie": [
           {
            "automargin": true,
            "type": "pie"
           }
          ],
          "scatter": [
           {
            "fillpattern": {
             "fillmode": "overlay",
             "size": 10,
             "solidity": 0.2
            },
            "type": "scatter"
           }
          ],
          "scatter3d": [
           {
            "line": {
             "colorbar": {
              "outlinewidth": 0,
              "ticks": ""
             }
            },
            "marker": {
             "colorbar": {
              "outlinewidth": 0,
              "ticks": ""
             }
            },
            "type": "scatter3d"
           }
          ],
          "scattercarpet": [
           {
            "marker": {
             "colorbar": {
              "outlinewidth": 0,
              "ticks": ""
             }
            },
            "type": "scattercarpet"
           }
          ],
          "scattergeo": [
           {
            "marker": {
             "colorbar": {
              "outlinewidth": 0,
              "ticks": ""
             }
            },
            "type": "scattergeo"
           }
          ],
          "scattergl": [
           {
            "marker": {
             "colorbar": {
              "outlinewidth": 0,
              "ticks": ""
             }
            },
            "type": "scattergl"
           }
          ],
          "scattermapbox": [
           {
            "marker": {
             "colorbar": {
              "outlinewidth": 0,
              "ticks": ""
             }
            },
            "type": "scattermapbox"
           }
          ],
          "scatterpolar": [
           {
            "marker": {
             "colorbar": {
              "outlinewidth": 0,
              "ticks": ""
             }
            },
            "type": "scatterpolar"
           }
          ],
          "scatterpolargl": [
           {
            "marker": {
             "colorbar": {
              "outlinewidth": 0,
              "ticks": ""
             }
            },
            "type": "scatterpolargl"
           }
          ],
          "scatterternary": [
           {
            "marker": {
             "colorbar": {
              "outlinewidth": 0,
              "ticks": ""
             }
            },
            "type": "scatterternary"
           }
          ],
          "surface": [
           {
            "colorbar": {
             "outlinewidth": 0,
             "ticks": ""
            },
            "colorscale": [
             [
              0,
              "#0d0887"
             ],
             [
              0.1111111111111111,
              "#46039f"
             ],
             [
              0.2222222222222222,
              "#7201a8"
             ],
             [
              0.3333333333333333,
              "#9c179e"
             ],
             [
              0.4444444444444444,
              "#bd3786"
             ],
             [
              0.5555555555555556,
              "#d8576b"
             ],
             [
              0.6666666666666666,
              "#ed7953"
             ],
             [
              0.7777777777777778,
              "#fb9f3a"
             ],
             [
              0.8888888888888888,
              "#fdca26"
             ],
             [
              1,
              "#f0f921"
             ]
            ],
            "type": "surface"
           }
          ],
          "table": [
           {
            "cells": {
             "fill": {
              "color": "#EBF0F8"
             },
             "line": {
              "color": "white"
             }
            },
            "header": {
             "fill": {
              "color": "#C8D4E3"
             },
             "line": {
              "color": "white"
             }
            },
            "type": "table"
           }
          ]
         },
         "layout": {
          "annotationdefaults": {
           "arrowcolor": "#2a3f5f",
           "arrowhead": 0,
           "arrowwidth": 1
          },
          "autotypenumbers": "strict",
          "coloraxis": {
           "colorbar": {
            "outlinewidth": 0,
            "ticks": ""
           }
          },
          "colorscale": {
           "diverging": [
            [
             0,
             "#8e0152"
            ],
            [
             0.1,
             "#c51b7d"
            ],
            [
             0.2,
             "#de77ae"
            ],
            [
             0.3,
             "#f1b6da"
            ],
            [
             0.4,
             "#fde0ef"
            ],
            [
             0.5,
             "#f7f7f7"
            ],
            [
             0.6,
             "#e6f5d0"
            ],
            [
             0.7,
             "#b8e186"
            ],
            [
             0.8,
             "#7fbc41"
            ],
            [
             0.9,
             "#4d9221"
            ],
            [
             1,
             "#276419"
            ]
           ],
           "sequential": [
            [
             0,
             "#0d0887"
            ],
            [
             0.1111111111111111,
             "#46039f"
            ],
            [
             0.2222222222222222,
             "#7201a8"
            ],
            [
             0.3333333333333333,
             "#9c179e"
            ],
            [
             0.4444444444444444,
             "#bd3786"
            ],
            [
             0.5555555555555556,
             "#d8576b"
            ],
            [
             0.6666666666666666,
             "#ed7953"
            ],
            [
             0.7777777777777778,
             "#fb9f3a"
            ],
            [
             0.8888888888888888,
             "#fdca26"
            ],
            [
             1,
             "#f0f921"
            ]
           ],
           "sequentialminus": [
            [
             0,
             "#0d0887"
            ],
            [
             0.1111111111111111,
             "#46039f"
            ],
            [
             0.2222222222222222,
             "#7201a8"
            ],
            [
             0.3333333333333333,
             "#9c179e"
            ],
            [
             0.4444444444444444,
             "#bd3786"
            ],
            [
             0.5555555555555556,
             "#d8576b"
            ],
            [
             0.6666666666666666,
             "#ed7953"
            ],
            [
             0.7777777777777778,
             "#fb9f3a"
            ],
            [
             0.8888888888888888,
             "#fdca26"
            ],
            [
             1,
             "#f0f921"
            ]
           ]
          },
          "colorway": [
           "#636efa",
           "#EF553B",
           "#00cc96",
           "#ab63fa",
           "#FFA15A",
           "#19d3f3",
           "#FF6692",
           "#B6E880",
           "#FF97FF",
           "#FECB52"
          ],
          "font": {
           "color": "#2a3f5f"
          },
          "geo": {
           "bgcolor": "white",
           "lakecolor": "white",
           "landcolor": "#E5ECF6",
           "showlakes": true,
           "showland": true,
           "subunitcolor": "white"
          },
          "hoverlabel": {
           "align": "left"
          },
          "hovermode": "closest",
          "mapbox": {
           "style": "light"
          },
          "paper_bgcolor": "white",
          "plot_bgcolor": "#E5ECF6",
          "polar": {
           "angularaxis": {
            "gridcolor": "white",
            "linecolor": "white",
            "ticks": ""
           },
           "bgcolor": "#E5ECF6",
           "radialaxis": {
            "gridcolor": "white",
            "linecolor": "white",
            "ticks": ""
           }
          },
          "scene": {
           "xaxis": {
            "backgroundcolor": "#E5ECF6",
            "gridcolor": "white",
            "gridwidth": 2,
            "linecolor": "white",
            "showbackground": true,
            "ticks": "",
            "zerolinecolor": "white"
           },
           "yaxis": {
            "backgroundcolor": "#E5ECF6",
            "gridcolor": "white",
            "gridwidth": 2,
            "linecolor": "white",
            "showbackground": true,
            "ticks": "",
            "zerolinecolor": "white"
           },
           "zaxis": {
            "backgroundcolor": "#E5ECF6",
            "gridcolor": "white",
            "gridwidth": 2,
            "linecolor": "white",
            "showbackground": true,
            "ticks": "",
            "zerolinecolor": "white"
           }
          },
          "shapedefaults": {
           "line": {
            "color": "#2a3f5f"
           }
          },
          "ternary": {
           "aaxis": {
            "gridcolor": "white",
            "linecolor": "white",
            "ticks": ""
           },
           "baxis": {
            "gridcolor": "white",
            "linecolor": "white",
            "ticks": ""
           },
           "bgcolor": "#E5ECF6",
           "caxis": {
            "gridcolor": "white",
            "linecolor": "white",
            "ticks": ""
           }
          },
          "title": {
           "x": 0.05
          },
          "xaxis": {
           "automargin": true,
           "gridcolor": "white",
           "linecolor": "white",
           "ticks": "",
           "title": {
            "standoff": 15
           },
           "zerolinecolor": "white",
           "zerolinewidth": 2
          },
          "yaxis": {
           "automargin": true,
           "gridcolor": "white",
           "linecolor": "white",
           "ticks": "",
           "title": {
            "standoff": 15
           },
           "zerolinecolor": "white",
           "zerolinewidth": 2
          }
         }
        },
        "title": {
         "text": "Comportamiento de las 5 poblaciones iniciales"
        },
        "width": 1000,
        "xaxis": {
         "anchor": "y",
         "domain": [
          0,
          0.45
         ],
         "title": {
          "text": "Generación"
         }
        },
        "xaxis2": {
         "anchor": "y2",
         "domain": [
          0.55,
          1
         ],
         "title": {
          "text": "Generación"
         }
        },
        "xaxis3": {
         "anchor": "y3",
         "domain": [
          0,
          0.45
         ],
         "title": {
          "text": "Generación"
         }
        },
        "xaxis4": {
         "anchor": "y4",
         "domain": [
          0.55,
          1
         ],
         "title": {
          "text": "Generación"
         }
        },
        "xaxis5": {
         "anchor": "y5",
         "domain": [
          0,
          0.45
         ],
         "title": {
          "text": "Generación"
         }
        },
        "xaxis6": {
         "anchor": "y6",
         "domain": [
          0.55,
          1
         ],
         "title": {
          "text": "Generación"
         }
        },
        "yaxis": {
         "anchor": "x",
         "domain": [
          0.7777777777777778,
          1
         ]
        },
        "yaxis2": {
         "anchor": "x2",
         "domain": [
          0.7777777777777778,
          1
         ]
        },
        "yaxis3": {
         "anchor": "x3",
         "domain": [
          0.3888888888888889,
          0.6111111111111112
         ]
        },
        "yaxis4": {
         "anchor": "x4",
         "domain": [
          0.3888888888888889,
          0.6111111111111112
         ]
        },
        "yaxis5": {
         "anchor": "x5",
         "domain": [
          0,
          0.22222222222222224
         ]
        },
        "yaxis6": {
         "anchor": "x6",
         "domain": [
          0,
          0.22222222222222224
         ]
        }
       }
      }
     },
     "metadata": {},
     "output_type": "display_data"
    }
   ],
   "source": [
    "import plotly.graph_objects as go\n",
    "from plotly.subplots import make_subplots\n",
    "\n",
    "# Assuming gen_reports has shape (5, 10, 8)\n",
    "\n",
    "fig = make_subplots(\n",
    "    rows=3,\n",
    "    cols=2,\n",
    "    subplot_titles=[\n",
    "        \"Costo promedio\",\n",
    "        \"Varianza\",\n",
    "        \"Desviación estándar\",\n",
    "        \"Costo menor\",\n",
    "        \"Costo mayor\",\n",
    "        \"Diversidad genética\",\n",
    "    ],\n",
    "    \n",
    ")\n",
    "\n",
    "colors = [\n",
    "    '#f5bde6',  # muted blue\n",
    "    '#c6a0f6',  # safety orange\n",
    "    '#ed8796',  # cooked asparagus green\n",
    "    '#a6da95',  # brick red\n",
    "    '#7dc4e4',  # muted purple\n",
    "]\n",
    "\n",
    "# Plot each metric for each population\n",
    "for i, pop in enumerate(gen_reports):\n",
    "    fig.add_trace(\n",
    "        go.Scatter(\n",
    "            x=pop[:, 0],\n",
    "            y=pop[:, 1],\n",
    "            name=f\"Población {i+1}\",\n",
    "            mode=\"markers+lines\",\n",
    "            marker=dict(symbol=\"star-dot\", size=10,color=colors[i]),\n",
    "            legendgroup=f\"Población {i+1}\"\n",
    "        ),\n",
    "        row=1,\n",
    "        col=1,\n",
    "    )\n",
    "    fig.add_trace(\n",
    "        go.Scatter(\n",
    "            x=pop[:, 0],\n",
    "            y=pop[:, 2],\n",
    "            name=f\"Población {i+1}\",\n",
    "            mode=\"markers+lines\",\n",
    "            marker=dict(symbol=\"star-dot\", size=10,color=colors[i]),\n",
    "            legendgroup=f\"Población {i+1}\"\n",
    "        ),\n",
    "        row=1,\n",
    "        col=2,\n",
    "    )\n",
    "    fig.add_trace(\n",
    "        go.Scatter(\n",
    "            x=pop[:, 0],\n",
    "            y=pop[:, 3],\n",
    "            name=f\"Población {i+1}\",\n",
    "            mode=\"markers+lines\",\n",
    "            marker=dict(symbol=\"star-dot\", size=10,color=colors[i]),\n",
    "            legendgroup=f\"Población {i+1}\"\n",
    "        ),\n",
    "        row=2,\n",
    "        col=1,\n",
    "    )\n",
    "    fig.add_trace(\n",
    "        go.Scatter(\n",
    "            x=pop[:, 0],\n",
    "            y=pop[:, 4],\n",
    "            name=f\"Población {i+1}\",\n",
    "            mode=\"markers+lines\",\n",
    "            marker=dict(symbol=\"star-dot\", size=10,color=colors[i]),\n",
    "            legendgroup=f\"Población {i+1}\"\n",
    "        ),\n",
    "        row=2,\n",
    "        col=2,\n",
    "    )\n",
    "    fig.add_trace(\n",
    "        go.Scatter(\n",
    "            x=pop[:, 0],\n",
    "            y=pop[:, 5],\n",
    "            name=f\"Población {i+1}\",\n",
    "            mode=\"markers+lines\",\n",
    "            marker=dict(symbol=\"star-dot\", size=10,color=colors[i]),\n",
    "            legendgroup=f\"Población {i+1}\"\n",
    "        ),\n",
    "        row=3,\n",
    "        col=1,\n",
    "    )\n",
    "    fig.add_trace(\n",
    "        go.Scatter(\n",
    "            x=pop[:, 0],\n",
    "            y=pop[:, 6],\n",
    "            name=f\"Población {i+1}\",\n",
    "            mode=\"markers+lines\",\n",
    "            marker=dict(symbol=\"star-dot\", size=10,color=colors[i]),\n",
    "            legendgroup=f\"Población {i+1}\"\n",
    "        ),\n",
    "        row=3,\n",
    "        col=2,\n",
    "    )\n",
    "\n",
    "# Customize axis labels\n",
    "for i in range(6):\n",
    "    fig.update_xaxes(title_text=\"Generación\", row=(i // 2) + 1, col=(i % 2) + 1)\n",
    "\n",
    "fig.update_layout(\n",
    "    height=1200, width=1000, title=\"Comportamiento de las 5 poblaciones iniciales\"\n",
    ")\n",
    "fig.show()"
   ]
  },
  {
   "cell_type": "code",
   "execution_count": 208,
   "metadata": {},
   "outputs": [],
   "source": [
    "# for i,fila in enumerate(resultados[-1]):\n",
    "#     msg_info_generacion(i,fila[0],fila[1])\n",
    "    \n",
    "# for i,pob_A in enumerate(pobs):\n",
    "#     aux_res = resultados[i]\n",
    "#     tiempo = np.sum(aux_res[:,1])\n",
    "#     msg_info_generacion(i,pob_A,tiempo)"
   ]
  },
  {
   "cell_type": "code",
   "execution_count": 209,
   "metadata": {},
   "outputs": [
    {
     "data": {
      "text/plain": [
       "'\\nPruebas para la codificacion con ascii\\n# a = np.random.permutation(18)\\na = np.arange(18)\\n\\naux = [individuo_toString(c.astype(int)) for c in a]\\nprint(aux)\\n\\n# for ciudad in a:\\n#     print(chr(ciudad+33))\\n    \\n\\naux = [chr(c+48)for c in a]\\n\\nprint(aux)\\n\\nnumeros = [ord(c) - 48 for c in aux]\\nprint(numeros)\\n    \\n'"
      ]
     },
     "execution_count": 209,
     "metadata": {},
     "output_type": "execute_result"
    }
   ],
   "source": [
    "\"\"\"\n",
    "Pruebas para la codificacion con ascii\n",
    "# a = np.random.permutation(18)\n",
    "a = np.arange(18)\n",
    "\n",
    "aux = [individuo_toString(c.astype(int)) for c in a]\n",
    "print(aux)\n",
    "\n",
    "# for ciudad in a:\n",
    "#     print(chr(ciudad+33))\n",
    "    \n",
    "\n",
    "aux = [chr(c+48)for c in a]\n",
    "\n",
    "print(aux)\n",
    "\n",
    "numeros = [ord(c) - 48 for c in aux]\n",
    "print(numeros)\n",
    "    \n",
    "\"\"\""
   ]
  },
  {
   "cell_type": "code",
   "execution_count": 210,
   "metadata": {},
   "outputs": [
    {
     "name": "stdout",
     "output_type": "stream",
     "text": [
      "[array([[0., 0., 0.]]), array([[0., 0., 0., 0., 0.],\n",
      "       [0., 0., 0., 0., 0.]]), array([[1., 1., 1., 1.],\n",
      "       [1., 1., 1., 1.],\n",
      "       [1., 1., 1., 1.],\n",
      "       [1., 1., 1., 1.]])]\n"
     ]
    }
   ],
   "source": [
    "a = np.zeros((1,3))\n",
    "b = np.zeros((2,5))\n",
    "c = np.ones((4,4))\n",
    "\n",
    "fila = [a,b,c]\n",
    "print(fila)"
   ]
  }
 ],
 "metadata": {
  "kernelspec": {
   "display_name": "metah",
   "language": "python",
   "name": "python3"
  },
  "language_info": {
   "codemirror_mode": {
    "name": "ipython",
    "version": 3
   },
   "file_extension": ".py",
   "mimetype": "text/x-python",
   "name": "python",
   "nbconvert_exporter": "python",
   "pygments_lexer": "ipython3",
   "version": "3.8.19"
  }
 },
 "nbformat": 4,
 "nbformat_minor": 2
}
