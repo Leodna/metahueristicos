{
 "cells": [
  {
   "cell_type": "code",
   "execution_count": 1,
   "metadata": {},
   "outputs": [],
   "source": [
    "import numpy as np\n",
    "\n",
    "from my_lib.utility import *"
   ]
  },
  {
   "cell_type": "code",
   "execution_count": 2,
   "metadata": {},
   "outputs": [
    {
     "data": {
      "text/plain": [
       "array([[2., 0., 1., 3., 4.],\n",
       "       [3., 0., 2., 1., 4.],\n",
       "       [3., 2., 0., 4., 1.],\n",
       "       [3., 1., 4., 0., 2.],\n",
       "       [4., 3., 1., 2., 0.],\n",
       "       [4., 3., 2., 1., 0.],\n",
       "       [2., 4., 0., 3., 1.],\n",
       "       [3., 0., 2., 1., 4.],\n",
       "       [1., 4., 3., 2., 0.],\n",
       "       [4., 0., 2., 3., 1.],\n",
       "       [3., 1., 0., 4., 2.],\n",
       "       [0., 2., 3., 1., 4.],\n",
       "       [1., 2., 3., 0., 4.],\n",
       "       [2., 1., 4., 3., 0.],\n",
       "       [2., 3., 0., 1., 4.],\n",
       "       [0., 1., 4., 3., 2.],\n",
       "       [0., 4., 2., 3., 1.],\n",
       "       [3., 0., 1., 4., 2.],\n",
       "       [4., 3., 1., 0., 2.],\n",
       "       [1., 3., 2., 4., 0.],\n",
       "       [3., 1., 0., 2., 4.],\n",
       "       [1., 3., 0., 4., 2.],\n",
       "       [3., 2., 4., 1., 0.],\n",
       "       [4., 2., 3., 1., 0.],\n",
       "       [3., 4., 0., 1., 2.],\n",
       "       [4., 2., 3., 0., 1.],\n",
       "       [4., 2., 3., 0., 1.],\n",
       "       [4., 3., 0., 1., 2.],\n",
       "       [1., 2., 3., 0., 4.],\n",
       "       [1., 0., 2., 3., 4.],\n",
       "       [0., 2., 4., 1., 3.],\n",
       "       [3., 4., 1., 0., 2.],\n",
       "       [1., 3., 0., 2., 4.],\n",
       "       [2., 1., 3., 0., 4.],\n",
       "       [4., 0., 1., 2., 3.],\n",
       "       [4., 3., 0., 1., 2.],\n",
       "       [3., 0., 2., 1., 4.],\n",
       "       [0., 3., 1., 2., 4.],\n",
       "       [2., 1., 0., 3., 4.],\n",
       "       [4., 2., 1., 0., 3.],\n",
       "       [3., 4., 2., 1., 0.],\n",
       "       [1., 2., 4., 0., 3.],\n",
       "       [2., 4., 3., 1., 0.],\n",
       "       [4., 3., 0., 1., 2.],\n",
       "       [0., 3., 1., 4., 2.],\n",
       "       [2., 0., 3., 4., 1.],\n",
       "       [3., 0., 2., 4., 1.],\n",
       "       [1., 2., 4., 3., 0.],\n",
       "       [4., 0., 1., 2., 3.],\n",
       "       [0., 2., 3., 4., 1.],\n",
       "       [0., 3., 2., 1., 4.],\n",
       "       [0., 4., 2., 3., 1.],\n",
       "       [2., 1., 4., 3., 0.],\n",
       "       [0., 2., 1., 4., 3.],\n",
       "       [2., 4., 0., 1., 3.],\n",
       "       [4., 2., 0., 1., 3.],\n",
       "       [3., 1., 2., 4., 0.],\n",
       "       [2., 1., 0., 4., 3.],\n",
       "       [0., 2., 3., 1., 4.],\n",
       "       [4., 2., 0., 1., 3.]])"
      ]
     },
     "execution_count": 2,
     "metadata": {},
     "output_type": "execute_result"
    }
   ],
   "source": [
    "aux = generar_poblacion_perm([1,2,3,4,5],60)\n",
    "aux"
   ]
  },
  {
   "cell_type": "code",
   "execution_count": 3,
   "metadata": {},
   "outputs": [
    {
     "name": "stdout",
     "output_type": "stream",
     "text": [
      "[3 4 5]\n",
      "[7 1 2]\n",
      "[8 5 7 1 2 4 9 3 6]\n",
      "[8 5 3 4 5 6 7 8 9]\n",
      "6\n",
      "7\n",
      "8\n",
      "9\n",
      "8\n",
      "5\n"
     ]
    }
   ],
   "source": [
    "p1 = np.array([1,2,3,4,5,6,7,8,9])\n",
    "p2 = np.array([8,5,7,1,2,4,9,3,6])\n",
    "\n",
    "px1 = 2\n",
    "px2 = 5\n",
    "\n",
    "print(p1[px1:px2])\n",
    "print(p2[px1:px2])\n",
    "\n",
    "aux_c = []\n",
    "print(p2)\n",
    "\n",
    "h1 = [p2[:px1],p1[px1:px2],p1[px2:]]\n",
    "h1 = np.concatenate(h1)\n",
    "print(h1)\n",
    "for i in range(px2,len(p1)+px2):\n",
    "    \n",
    "    idx = i-len(p1)\n",
    "    if p2[idx] not in p1[px1:px2]:\n",
    "        aux_c.append(p2[idx])\n",
    "    \n",
    "for i in range(px2,len(p1)+px1):\n",
    "    print(h1[i-len(p1)])"
   ]
  },
  {
   "cell_type": "code",
   "execution_count": null,
   "metadata": {},
   "outputs": [],
   "source": []
  },
  {
   "cell_type": "code",
   "execution_count": 4,
   "metadata": {},
   "outputs": [
    {
     "name": "stdout",
     "output_type": "stream",
     "text": [
      "[['Mexcio' 0 '000' 0.0]\n",
      " ['Miami' 1 '001' 0.0]\n",
      " ['Quito' 2 '010' 0.0]]\n"
     ]
    }
   ],
   "source": [
    "nombre_ciudades = np.array([\"Mexcio\", \"Miami\", \"Quito\"])\n",
    "\n",
    "id_ciudades = np.arange(nombre_ciudades.shape[0])\n",
    "bin_ciudades = binarizar(datos=id_ciudades, nbites=3)\n",
    "\n",
    "ciudades = np.zeros((nombre_ciudades.shape[0], 4), dtype=\"object\")\n",
    "ciudades[:, 0] = nombre_ciudades\n",
    "ciudades[:, 1] = id_ciudades\n",
    "ciudades[:, 2] = bin_ciudades\n",
    "ciudades[:, 3] = np.zeros((nombre_ciudades.shape[0]))\n",
    "print(ciudades)"
   ]
  },
  {
   "cell_type": "code",
   "execution_count": 5,
   "metadata": {},
   "outputs": [
    {
     "name": "stdout",
     "output_type": "stream",
     "text": [
      "[[   0.   2270.05 3714.66 1778.27 7223.16]\n",
      " [2270.05    0.   2882.57 1627.62 6578.78]\n",
      " [3714.66 2882.57    0.   1938.05 3780.05]\n",
      " [1778.27 1627.62 1938.05    0.   5567.96]\n",
      " [7223.16 6578.78 3780.05 5567.96    0.  ]]\n"
     ]
    }
   ],
   "source": [
    "distancias = np.array(\n",
    "    [\n",
    "        [0, 2270.05, 3714.66, 1778.27, 7223.16],\n",
    "        [2270.05, 0, 2882.57, 1627.62, 6578.78],\n",
    "        [3714.66, 2882.57, 0, 1938.05, 3780.05],\n",
    "        [1778.27, 1627.62, 1938.05, 0, 5567.96],\n",
    "        [7223.16, 6578.78, 3780.05, 5567.96, 0],\n",
    "    ]\n",
    ")\n",
    "\n",
    "print(distancias)"
   ]
  },
  {
   "cell_type": "code",
   "execution_count": 6,
   "metadata": {},
   "outputs": [
    {
     "name": "stdout",
     "output_type": "stream",
     "text": [
      "[[array([0, 1, 2]) 1.0 '012' 0.0]\n",
      " [array([0, 2, 1]) 1.0 '021' 0.0]\n",
      " [array([1, 0, 2]) 1.0 '102' 0.0]\n",
      " [array([1, 2, 0]) 1.0 '120' 0.0]\n",
      " [array([2, 0, 1]) 1.0 '201' 0.0]\n",
      " [array([2, 1, 0]) 1.0 '210' 0.0]]\n",
      "(6, 4)\n"
     ]
    }
   ],
   "source": [
    "recorrido = np.array([[0,1,2],\n",
    "                [0,2,1],\n",
    "                [1,0,2],\n",
    "                [1,2,0],\n",
    "                [2,0,1],\n",
    "                [2,1,0]])\n",
    "poblacion = np.zeros((recorrido.shape[0],4),dtype=\"object\")\n",
    "poblacion[:,0] = [c.astype(int) for c in recorrido] #Ruta\n",
    "poblacion[:,1] = np.ones((recorrido.shape[0]))\n",
    "poblacion[:,2] = [individuo_toString(c.astype(int)) for c in recorrido]\n",
    "poblacion[:,3] = np.zeros((recorrido.shape[0])) #Aptitud\n",
    "\n",
    "print(poblacion)\n",
    "print(poblacion.shape)"
   ]
  },
  {
   "cell_type": "code",
   "execution_count": 7,
   "metadata": {},
   "outputs": [
    {
     "name": "stdout",
     "output_type": "stream",
     "text": [
      "[[array([0, 1, 2]) 1.0 '012' 0.0]\n",
      " [array([0, 2, 1]) 1.0 '021' 0.0]\n",
      " [array([1, 0, 2]) 1.0 '102' 0.0]\n",
      " [array([1, 2, 0]) 1.0 '120' 0.0]\n",
      " [array([2, 0, 1]) 1.0 '201' 0.0]\n",
      " [array([2, 1, 0]) 1.0 '210' 0.0]]\n",
      "___________________________\n",
      "2 1 2882.57\n",
      "1 0 2270.05\n",
      "0 2 3714.66\n",
      "8867.28\n",
      "___________________________\n",
      "1 2 2882.57\n",
      "2 0 3714.66\n",
      "0 1 2270.05\n",
      "8867.279999999999\n",
      "___________________________\n",
      "2 0 3714.66\n",
      "0 1 2270.05\n",
      "1 2 2882.57\n",
      "8867.28\n",
      "___________________________\n",
      "0 2 3714.66\n",
      "2 1 2882.57\n",
      "1 0 2270.05\n",
      "8867.279999999999\n",
      "___________________________\n",
      "1 0 2270.05\n",
      "0 2 3714.66\n",
      "2 1 2882.57\n",
      "8867.28\n",
      "___________________________\n",
      "0 1 2270.05\n",
      "1 2 2882.57\n",
      "2 0 3714.66\n",
      "8867.28\n",
      "___________________________\n"
     ]
    },
    {
     "data": {
      "text/plain": [
       "array([8867.28, 8867.28, 8867.28, 8867.28, 8867.28, 8867.28])"
      ]
     },
     "execution_count": 7,
     "metadata": {},
     "output_type": "execute_result"
    }
   ],
   "source": [
    "def y(ciudad1,ciudad2):\n",
    "    return distancias[ciudad1,ciudad2]\n",
    "\n",
    "def evaluar(poblacion):\n",
    "    evaluacion = np.zeros((poblacion.shape[0]))\n",
    "    print(poblacion)\n",
    "    print(\"___________________________\")\n",
    "    for idx,fila in enumerate(poblacion):\n",
    "        individuo = fila[0]\n",
    "        n = len(individuo) - 1\n",
    "        aptitud = 0\n",
    "        \n",
    "        for i in range (n,-1,-1):\n",
    "            \n",
    "            c1 = int(individuo[i]) #Id de la ciudad\n",
    "            c2 = int(individuo[i-1])\n",
    "            \n",
    "            distancia = y(c1,c2)\n",
    "            aptitud += distancia\n",
    "            \n",
    "            \n",
    "            print(c1,c2,distancia)\n",
    "            #print(f\"Distancia entre {ciudades[c1]} y {ciudades[c2]}: {distancia}\")\n",
    "        evaluacion[idx] = np.around(aptitud,4)\n",
    "        print(aptitud)\n",
    "        print(\"___________________________\")\n",
    "    return evaluacion\n",
    "\n",
    "pob_aptitud = evaluar(poblacion)\n",
    "pob_aptitud"
   ]
  },
  {
   "cell_type": "code",
   "execution_count": 8,
   "metadata": {},
   "outputs": [],
   "source": [
    "def cycle_crossover(parent1, parent2):\n",
    "    \"\"\"\n",
    "    Function to perform Cycle Crossover (CX) on two parent sequences to generate two child sequences.\n",
    "    \n",
    "    Parameters:\n",
    "    - parent1: list\n",
    "        The first parent sequence for crossover.\n",
    "    - parent2: list\n",
    "        The second parent sequence for crossover.\n",
    "    \n",
    "    Returns:\n",
    "    - tuple\n",
    "        A tuple containing two child sequences generated after applying Cycle Crossover.\n",
    "    \n",
    "    Reference:\n",
    "    - This crossover technique is commonly used in Genetic Algorithms to solve problems like the Vehicle Routing Problem (VRP).\n",
    "    \"\"\"\n",
    "    \n",
    "    # Initialize child sequences with the same length as parents, filled with None values\n",
    "    child1 = [None] * len(parent1)\n",
    "    child2 = [None] * len(parent2)\n",
    "    \n",
    "    # Initialize cycles to keep track of which elements are part of the same cycle\n",
    "    cycles = []\n",
    "    \n",
    "    # Loop through each index in the parent sequences\n",
    "    for i in range(len(parent1)):\n",
    "        if child1[i] is None:\n",
    "            cycle = []\n",
    "            while child1[i] is None:\n",
    "                cycle.append(parent1[i])\n",
    "                i = parent2.index(parent1[i])\n",
    "            cycles.append(cycle)\n",
    "    \n",
    "    # Alternate between cycles to create child sequences\n",
    "    for i, cycle in enumerate(cycles):\n",
    "        if i % 2 == 0:\n",
    "            for element in cycle:\n",
    "                child1[parent1.index(element)] = element\n",
    "                child2[parent2.index(element)] = element\n",
    "        else:\n",
    "            for element in cycle:\n",
    "                child1[parent2.index(element)] = element\n",
    "                child2[parent1.index(element)] = element\n",
    "    \n",
    "    return child1, child2\n"
   ]
  },
  {
   "cell_type": "code",
   "execution_count": 9,
   "metadata": {},
   "outputs": [],
   "source": [
    "import numpy as np\n",
    "p1 = np.random.permutation(4)\n",
    "p2 = np.random.permutation(4)"
   ]
  },
  {
   "cell_type": "code",
   "execution_count": 10,
   "metadata": {},
   "outputs": [
    {
     "name": "stdout",
     "output_type": "stream",
     "text": [
      "p1: [2 1 3 0] \t h1:[1 2 3 0]\n",
      "p2: [0 2 1 3] \t h2:[0 1 2 3]\n"
     ]
    }
   ],
   "source": [
    "padres = np.zeros((2,4),dtype=\"object\")\n",
    "padres[0,0] = p1\n",
    "padres[1,0] = p2\n",
    "padres[:,1] = 1.0\n",
    "padres[:,2] = \"akdsjfñalksjfñlakjdsflñkajsdf\"\n",
    "\n",
    "pmx_h1,pmx_h2 = cruce_pmx(padres)\n",
    "\n",
    "print(f\"p1: {padres[0,0]} \\t h1:{pmx_h1}\\np2: {padres[1,0]} \\t h2:{pmx_h2}\")\n"
   ]
  },
  {
   "cell_type": "code",
   "execution_count": 11,
   "metadata": {},
   "outputs": [
    {
     "ename": "TypeError",
     "evalue": "'NoneType' object is not callable",
     "output_type": "error",
     "traceback": [
      "\u001b[1;31m---------------------------------------------------------------------------\u001b[0m",
      "\u001b[1;31mTypeError\u001b[0m                                 Traceback (most recent call last)",
      "Cell \u001b[1;32mIn[11], line 1\u001b[0m\n\u001b[1;32m----> 1\u001b[0m a \u001b[38;5;241m=\u001b[39m \u001b[43mheuristic_mutation\u001b[49m\u001b[43m(\u001b[49m\u001b[43mp1\u001b[49m\u001b[43m,\u001b[49m\u001b[43mcromosomas_mutation\u001b[49m\u001b[38;5;241;43m=\u001b[39;49m\u001b[38;5;241;43m2\u001b[39;49m\u001b[43m)\u001b[49m\n\u001b[0;32m      2\u001b[0m \u001b[38;5;28mprint\u001b[39m(a)\n",
      "File \u001b[1;32me:\\python_proy\\metahueristicos\\my_lib\\utility.py:833\u001b[0m, in \u001b[0;36mheuristic_mutation\u001b[1;34m(individuo, cromosomas_mutation, funcion_aptitud, reverse)\u001b[0m\n\u001b[0;32m    830\u001b[0m     aux[idx : idx \u001b[38;5;241m+\u001b[39m cromosomas_mutation] \u001b[38;5;241m=\u001b[39m p\n\u001b[0;32m    831\u001b[0m     permutation_pob[i, \u001b[38;5;241m0\u001b[39m] \u001b[38;5;241m=\u001b[39m aux\n\u001b[1;32m--> 833\u001b[0m permutation_apt \u001b[38;5;241m=\u001b[39m \u001b[43mfuncion_aptitud\u001b[49m\u001b[43m(\u001b[49m\u001b[43mpermutation_pob\u001b[49m\u001b[43m)\u001b[49m\n\u001b[0;32m    834\u001b[0m permutation_pob[:, \u001b[38;5;241m3\u001b[39m] \u001b[38;5;241m=\u001b[39m permutation_apt\n\u001b[0;32m    836\u001b[0m permutation_pob \u001b[38;5;241m=\u001b[39m ordenar_poblacion(permutation_pob, reverse\u001b[38;5;241m=\u001b[39mreverse)\n",
      "\u001b[1;31mTypeError\u001b[0m: 'NoneType' object is not callable"
     ]
    }
   ],
   "source": [
    "a = heuristic_mutation(p1,cromosomas_mutation=2)\n",
    "print(a)"
   ]
  }
 ],
 "metadata": {
  "kernelspec": {
   "display_name": "metah",
   "language": "python",
   "name": "python3"
  },
  "language_info": {
   "codemirror_mode": {
    "name": "ipython",
    "version": 3
   },
   "file_extension": ".py",
   "mimetype": "text/x-python",
   "name": "python",
   "nbconvert_exporter": "python",
   "pygments_lexer": "ipython3",
   "version": "3.8.19"
  }
 },
 "nbformat": 4,
 "nbformat_minor": 2
}
