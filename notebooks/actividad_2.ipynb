{
 "cells": [
  {
   "cell_type": "code",
   "execution_count": 3,
   "metadata": {},
   "outputs": [],
   "source": [
    "import numpy as np\n",
    "import pickle\n",
    "from my_lib.utility import *"
   ]
  },
  {
   "cell_type": "markdown",
   "metadata": {},
   "source": [
    "# Codificacion del dominio"
   ]
  },
  {
   "cell_type": "code",
   "execution_count": 4,
   "metadata": {},
   "outputs": [
    {
     "name": "stdout",
     "output_type": "stream",
     "text": [
      "[['Mexcio' 0 '000' 0.0]\n",
      " ['Miami' 1 '001' 0.0]\n",
      " ['Quito' 2 '010' 0.0]\n",
      " ['San Salvador' 3 '011' 0.0]\n",
      " ['Mendoza' 4 '100' 0.0]]\n"
     ]
    }
   ],
   "source": [
    "nombre_ciudades = np.array([\"Mexcio\", \"Miami\", \"Quito\", \"San Salvador\", \"Mendoza\"])\n",
    "\n",
    "id_ciudades = np.arange(nombre_ciudades.shape[0])\n",
    "bin_ciudades = binarizar(datos=id_ciudades, nbites=3)\n",
    "\n",
    "ciudades = np.zeros((nombre_ciudades.shape[0], 4), dtype=\"object\")\n",
    "ciudades[:, 0] = nombre_ciudades\n",
    "ciudades[:, 1] = id_ciudades\n",
    "ciudades[:, 2] = bin_ciudades\n",
    "ciudades[:, 3] = np.zeros((nombre_ciudades.shape[0]))\n",
    "print(ciudades)"
   ]
  },
  {
   "cell_type": "markdown",
   "metadata": {},
   "source": [
    "# Matriz distancias"
   ]
  },
  {
   "cell_type": "code",
   "execution_count": 5,
   "metadata": {},
   "outputs": [
    {
     "name": "stdout",
     "output_type": "stream",
     "text": [
      "[[   0.   2270.05 3714.66 1778.27 7223.16]\n",
      " [2270.05    0.   2882.57 1627.62 6578.78]\n",
      " [3714.66 2882.57    0.   1938.05 3780.05]\n",
      " [1778.27 1627.62 1938.05    0.   5567.96]\n",
      " [7223.16 6578.78 3780.05 5567.96    0.  ]]\n"
     ]
    }
   ],
   "source": [
    "distancias = np.array(\n",
    "    [\n",
    "        [0, 2270.05, 3714.66, 1778.27, 7223.16],\n",
    "        [2270.05, 0, 2882.57, 1627.62, 6578.78],\n",
    "        [3714.66, 2882.57, 0, 1938.05, 3780.05],\n",
    "        [1778.27, 1627.62, 1938.05, 0, 5567.96],\n",
    "        [7223.16, 6578.78, 3780.05, 5567.96, 0],\n",
    "    ]\n",
    ")\n",
    "\n",
    "print(distancias)"
   ]
  },
  {
   "cell_type": "markdown",
   "metadata": {},
   "source": [
    "# Generar población incial"
   ]
  },
  {
   "cell_type": "code",
   "execution_count": 7,
   "metadata": {},
   "outputs": [
    {
     "name": "stdout",
     "output_type": "stream",
     "text": [
      "[[array([2, 3, 4, 0, 1]) 1.0 '23401' 0.0]\n",
      " [array([2, 0, 1, 4, 3]) 1.0 '20143' 0.0]\n",
      " [array([1, 2, 3, 4, 0]) 1.0 '12340' 0.0]\n",
      " [array([0, 4, 3, 1, 2]) 1.0 '04312' 0.0]]\n",
      "(60, 4)\n",
      "Archivo de poblaciones\n",
      "[[array([4, 1, 2, 3, 0]) 1.0 '41230' 0.0]\n",
      " [array([4, 0, 1, 3, 2]) 1.0 '40132' 0.0]\n",
      " [array([3, 4, 0, 1, 2]) 1.0 '34012' 0.0]\n",
      " [array([0, 3, 4, 2, 1]) 1.0 '03421' 0.0]]\n",
      "(60, 4)\n",
      "Archivo de poblaciones\n",
      "[[array([4, 1, 2, 3, 0]) 1.0 '41230' 0.0]\n",
      " [array([1, 4, 0, 2, 3]) 1.0 '14023' 0.0]\n",
      " [array([1, 2, 0, 4, 3]) 1.0 '12043' 0.0]\n",
      " [array([3, 1, 0, 4, 2]) 1.0 '31042' 0.0]]\n",
      "(60, 4)\n",
      "Archivo de poblaciones\n",
      "[[array([2, 1, 3, 0, 4]) 1.0 '21304' 0.0]\n",
      " [array([1, 3, 4, 0, 2]) 1.0 '13402' 0.0]\n",
      " [array([4, 0, 2, 3, 1]) 1.0 '40231' 0.0]\n",
      " [array([2, 1, 3, 0, 4]) 1.0 '21304' 0.0]]\n",
      "(60, 4)\n",
      "Archivo de poblaciones\n",
      "[[array([3, 1, 0, 2, 4]) 1.0 '31024' 0.0]\n",
      " [array([0, 3, 2, 1, 4]) 1.0 '03214' 0.0]\n",
      " [array([2, 4, 3, 0, 1]) 1.0 '24301' 0.0]\n",
      " [array([2, 4, 3, 1, 0]) 1.0 '24310' 0.0]]\n",
      "(60, 4)\n",
      "Archivo de poblaciones\n"
     ]
    },
    {
     "data": {
      "text/plain": [
       "[array([[array([2, 3, 4, 0, 1]), 1.0, '23401', 0.0],\n",
       "        [array([2, 0, 1, 4, 3]), 1.0, '20143', 0.0],\n",
       "        [array([1, 2, 3, 4, 0]), 1.0, '12340', 0.0],\n",
       "        [array([0, 4, 3, 1, 2]), 1.0, '04312', 0.0],\n",
       "        [array([4, 1, 3, 0, 2]), 1.0, '41302', 0.0],\n",
       "        [array([2, 3, 0, 1, 4]), 1.0, '23014', 0.0],\n",
       "        [array([1, 4, 2, 0, 3]), 1.0, '14203', 0.0],\n",
       "        [array([1, 3, 4, 0, 2]), 1.0, '13402', 0.0],\n",
       "        [array([3, 1, 4, 0, 2]), 1.0, '31402', 0.0],\n",
       "        [array([2, 3, 4, 0, 1]), 1.0, '23401', 0.0],\n",
       "        [array([3, 4, 0, 1, 2]), 1.0, '34012', 0.0],\n",
       "        [array([2, 4, 0, 1, 3]), 1.0, '24013', 0.0],\n",
       "        [array([0, 2, 4, 3, 1]), 1.0, '02431', 0.0],\n",
       "        [array([4, 1, 2, 3, 0]), 1.0, '41230', 0.0],\n",
       "        [array([2, 0, 4, 1, 3]), 1.0, '20413', 0.0],\n",
       "        [array([3, 4, 0, 1, 2]), 1.0, '34012', 0.0],\n",
       "        [array([2, 4, 3, 0, 1]), 1.0, '24301', 0.0],\n",
       "        [array([3, 4, 2, 1, 0]), 1.0, '34210', 0.0],\n",
       "        [array([2, 1, 0, 3, 4]), 1.0, '21034', 0.0],\n",
       "        [array([0, 4, 1, 2, 3]), 1.0, '04123', 0.0],\n",
       "        [array([3, 4, 2, 1, 0]), 1.0, '34210', 0.0],\n",
       "        [array([0, 4, 3, 1, 2]), 1.0, '04312', 0.0],\n",
       "        [array([4, 0, 1, 3, 2]), 1.0, '40132', 0.0],\n",
       "        [array([2, 0, 4, 3, 1]), 1.0, '20431', 0.0],\n",
       "        [array([0, 2, 4, 3, 1]), 1.0, '02431', 0.0],\n",
       "        [array([4, 3, 0, 2, 1]), 1.0, '43021', 0.0],\n",
       "        [array([1, 4, 3, 2, 0]), 1.0, '14320', 0.0],\n",
       "        [array([4, 3, 2, 1, 0]), 1.0, '43210', 0.0],\n",
       "        [array([4, 1, 2, 3, 0]), 1.0, '41230', 0.0],\n",
       "        [array([3, 4, 2, 1, 0]), 1.0, '34210', 0.0],\n",
       "        [array([0, 4, 2, 1, 3]), 1.0, '04213', 0.0],\n",
       "        [array([3, 0, 4, 1, 2]), 1.0, '30412', 0.0],\n",
       "        [array([2, 1, 4, 0, 3]), 1.0, '21403', 0.0],\n",
       "        [array([3, 0, 4, 2, 1]), 1.0, '30421', 0.0],\n",
       "        [array([4, 3, 1, 2, 0]), 1.0, '43120', 0.0],\n",
       "        [array([2, 1, 3, 4, 0]), 1.0, '21340', 0.0],\n",
       "        [array([4, 1, 2, 3, 0]), 1.0, '41230', 0.0],\n",
       "        [array([3, 2, 4, 1, 0]), 1.0, '32410', 0.0],\n",
       "        [array([4, 3, 2, 1, 0]), 1.0, '43210', 0.0],\n",
       "        [array([3, 0, 1, 4, 2]), 1.0, '30142', 0.0],\n",
       "        [array([3, 1, 4, 0, 2]), 1.0, '31402', 0.0],\n",
       "        [array([3, 0, 4, 1, 2]), 1.0, '30412', 0.0],\n",
       "        [array([0, 4, 3, 1, 2]), 1.0, '04312', 0.0],\n",
       "        [array([1, 2, 4, 3, 0]), 1.0, '12430', 0.0],\n",
       "        [array([1, 4, 3, 2, 0]), 1.0, '14320', 0.0],\n",
       "        [array([0, 2, 3, 1, 4]), 1.0, '02314', 0.0],\n",
       "        [array([2, 1, 0, 4, 3]), 1.0, '21043', 0.0],\n",
       "        [array([4, 3, 2, 1, 0]), 1.0, '43210', 0.0],\n",
       "        [array([2, 1, 4, 3, 0]), 1.0, '21430', 0.0],\n",
       "        [array([1, 4, 0, 2, 3]), 1.0, '14023', 0.0],\n",
       "        [array([3, 4, 2, 0, 1]), 1.0, '34201', 0.0],\n",
       "        [array([0, 2, 3, 4, 1]), 1.0, '02341', 0.0],\n",
       "        [array([0, 2, 1, 4, 3]), 1.0, '02143', 0.0],\n",
       "        [array([3, 0, 2, 1, 4]), 1.0, '30214', 0.0],\n",
       "        [array([0, 3, 4, 2, 1]), 1.0, '03421', 0.0],\n",
       "        [array([4, 0, 1, 3, 2]), 1.0, '40132', 0.0],\n",
       "        [array([4, 1, 0, 2, 3]), 1.0, '41023', 0.0],\n",
       "        [array([3, 1, 2, 0, 4]), 1.0, '31204', 0.0],\n",
       "        [array([0, 4, 2, 1, 3]), 1.0, '04213', 0.0],\n",
       "        [array([3, 2, 1, 4, 0]), 1.0, '32140', 0.0]], dtype=object),\n",
       " array([[array([4, 1, 2, 3, 0]), 1.0, '41230', 0.0],\n",
       "        [array([4, 0, 1, 3, 2]), 1.0, '40132', 0.0],\n",
       "        [array([3, 4, 0, 1, 2]), 1.0, '34012', 0.0],\n",
       "        [array([0, 3, 4, 2, 1]), 1.0, '03421', 0.0],\n",
       "        [array([0, 3, 2, 4, 1]), 1.0, '03241', 0.0],\n",
       "        [array([2, 4, 1, 0, 3]), 1.0, '24103', 0.0],\n",
       "        [array([2, 4, 1, 0, 3]), 1.0, '24103', 0.0],\n",
       "        [array([4, 1, 2, 3, 0]), 1.0, '41230', 0.0],\n",
       "        [array([4, 0, 3, 2, 1]), 1.0, '40321', 0.0],\n",
       "        [array([1, 2, 3, 4, 0]), 1.0, '12340', 0.0],\n",
       "        [array([0, 4, 3, 2, 1]), 1.0, '04321', 0.0],\n",
       "        [array([2, 3, 1, 4, 0]), 1.0, '23140', 0.0],\n",
       "        [array([1, 0, 3, 4, 2]), 1.0, '10342', 0.0],\n",
       "        [array([3, 4, 0, 2, 1]), 1.0, '34021', 0.0],\n",
       "        [array([2, 4, 1, 0, 3]), 1.0, '24103', 0.0],\n",
       "        [array([3, 0, 4, 1, 2]), 1.0, '30412', 0.0],\n",
       "        [array([4, 2, 0, 3, 1]), 1.0, '42031', 0.0],\n",
       "        [array([4, 0, 2, 3, 1]), 1.0, '40231', 0.0],\n",
       "        [array([3, 0, 1, 4, 2]), 1.0, '30142', 0.0],\n",
       "        [array([1, 3, 2, 0, 4]), 1.0, '13204', 0.0],\n",
       "        [array([1, 2, 0, 4, 3]), 1.0, '12043', 0.0],\n",
       "        [array([2, 4, 3, 1, 0]), 1.0, '24310', 0.0],\n",
       "        [array([1, 3, 4, 2, 0]), 1.0, '13420', 0.0],\n",
       "        [array([4, 2, 1, 0, 3]), 1.0, '42103', 0.0],\n",
       "        [array([2, 1, 3, 4, 0]), 1.0, '21340', 0.0],\n",
       "        [array([4, 2, 1, 3, 0]), 1.0, '42130', 0.0],\n",
       "        [array([2, 0, 1, 3, 4]), 1.0, '20134', 0.0],\n",
       "        [array([2, 3, 4, 1, 0]), 1.0, '23410', 0.0],\n",
       "        [array([2, 0, 4, 1, 3]), 1.0, '20413', 0.0],\n",
       "        [array([0, 4, 2, 3, 1]), 1.0, '04231', 0.0],\n",
       "        [array([3, 1, 2, 4, 0]), 1.0, '31240', 0.0],\n",
       "        [array([1, 2, 0, 4, 3]), 1.0, '12043', 0.0],\n",
       "        [array([3, 0, 2, 1, 4]), 1.0, '30214', 0.0],\n",
       "        [array([4, 2, 1, 3, 0]), 1.0, '42130', 0.0],\n",
       "        [array([4, 2, 3, 0, 1]), 1.0, '42301', 0.0],\n",
       "        [array([2, 0, 1, 3, 4]), 1.0, '20134', 0.0],\n",
       "        [array([2, 4, 3, 1, 0]), 1.0, '24310', 0.0],\n",
       "        [array([2, 4, 1, 3, 0]), 1.0, '24130', 0.0],\n",
       "        [array([1, 0, 4, 2, 3]), 1.0, '10423', 0.0],\n",
       "        [array([0, 4, 3, 1, 2]), 1.0, '04312', 0.0],\n",
       "        [array([0, 3, 2, 1, 4]), 1.0, '03214', 0.0],\n",
       "        [array([1, 0, 2, 3, 4]), 1.0, '10234', 0.0],\n",
       "        [array([4, 0, 2, 3, 1]), 1.0, '40231', 0.0],\n",
       "        [array([0, 2, 3, 4, 1]), 1.0, '02341', 0.0],\n",
       "        [array([0, 1, 2, 3, 4]), 1.0, '01234', 0.0],\n",
       "        [array([2, 1, 4, 0, 3]), 1.0, '21403', 0.0],\n",
       "        [array([2, 0, 1, 4, 3]), 1.0, '20143', 0.0],\n",
       "        [array([1, 2, 0, 3, 4]), 1.0, '12034', 0.0],\n",
       "        [array([4, 3, 1, 0, 2]), 1.0, '43102', 0.0],\n",
       "        [array([0, 3, 4, 2, 1]), 1.0, '03421', 0.0],\n",
       "        [array([3, 0, 1, 4, 2]), 1.0, '30142', 0.0],\n",
       "        [array([0, 4, 1, 3, 2]), 1.0, '04132', 0.0],\n",
       "        [array([4, 3, 1, 0, 2]), 1.0, '43102', 0.0],\n",
       "        [array([1, 3, 4, 0, 2]), 1.0, '13402', 0.0],\n",
       "        [array([4, 1, 2, 3, 0]), 1.0, '41230', 0.0],\n",
       "        [array([3, 2, 4, 1, 0]), 1.0, '32410', 0.0],\n",
       "        [array([4, 3, 0, 1, 2]), 1.0, '43012', 0.0],\n",
       "        [array([2, 1, 3, 0, 4]), 1.0, '21304', 0.0],\n",
       "        [array([4, 0, 2, 1, 3]), 1.0, '40213', 0.0],\n",
       "        [array([4, 0, 2, 1, 3]), 1.0, '40213', 0.0]], dtype=object),\n",
       " array([[array([4, 1, 2, 3, 0]), 1.0, '41230', 0.0],\n",
       "        [array([1, 4, 0, 2, 3]), 1.0, '14023', 0.0],\n",
       "        [array([1, 2, 0, 4, 3]), 1.0, '12043', 0.0],\n",
       "        [array([3, 1, 0, 4, 2]), 1.0, '31042', 0.0],\n",
       "        [array([1, 0, 4, 3, 2]), 1.0, '10432', 0.0],\n",
       "        [array([0, 1, 2, 4, 3]), 1.0, '01243', 0.0],\n",
       "        [array([4, 0, 3, 1, 2]), 1.0, '40312', 0.0],\n",
       "        [array([1, 4, 0, 2, 3]), 1.0, '14023', 0.0],\n",
       "        [array([2, 4, 3, 1, 0]), 1.0, '24310', 0.0],\n",
       "        [array([4, 1, 0, 3, 2]), 1.0, '41032', 0.0],\n",
       "        [array([1, 4, 2, 3, 0]), 1.0, '14230', 0.0],\n",
       "        [array([3, 2, 0, 1, 4]), 1.0, '32014', 0.0],\n",
       "        [array([2, 0, 3, 4, 1]), 1.0, '20341', 0.0],\n",
       "        [array([0, 4, 1, 2, 3]), 1.0, '04123', 0.0],\n",
       "        [array([1, 3, 4, 0, 2]), 1.0, '13402', 0.0],\n",
       "        [array([2, 0, 4, 3, 1]), 1.0, '20431', 0.0],\n",
       "        [array([3, 1, 2, 0, 4]), 1.0, '31204', 0.0],\n",
       "        [array([3, 0, 4, 1, 2]), 1.0, '30412', 0.0],\n",
       "        [array([1, 0, 4, 2, 3]), 1.0, '10423', 0.0],\n",
       "        [array([4, 3, 2, 0, 1]), 1.0, '43201', 0.0],\n",
       "        [array([1, 2, 0, 4, 3]), 1.0, '12043', 0.0],\n",
       "        [array([0, 1, 4, 3, 2]), 1.0, '01432', 0.0],\n",
       "        [array([1, 2, 4, 0, 3]), 1.0, '12403', 0.0],\n",
       "        [array([1, 3, 0, 4, 2]), 1.0, '13042', 0.0],\n",
       "        [array([1, 4, 3, 0, 2]), 1.0, '14302', 0.0],\n",
       "        [array([2, 3, 4, 1, 0]), 1.0, '23410', 0.0],\n",
       "        [array([2, 1, 4, 0, 3]), 1.0, '21403', 0.0],\n",
       "        [array([0, 4, 3, 1, 2]), 1.0, '04312', 0.0],\n",
       "        [array([1, 0, 2, 3, 4]), 1.0, '10234', 0.0],\n",
       "        [array([3, 2, 0, 1, 4]), 1.0, '32014', 0.0],\n",
       "        [array([2, 4, 3, 1, 0]), 1.0, '24310', 0.0],\n",
       "        [array([3, 4, 1, 0, 2]), 1.0, '34102', 0.0],\n",
       "        [array([0, 1, 4, 3, 2]), 1.0, '01432', 0.0],\n",
       "        [array([3, 1, 0, 4, 2]), 1.0, '31042', 0.0],\n",
       "        [array([0, 3, 1, 2, 4]), 1.0, '03124', 0.0],\n",
       "        [array([1, 3, 4, 0, 2]), 1.0, '13402', 0.0],\n",
       "        [array([3, 4, 2, 1, 0]), 1.0, '34210', 0.0],\n",
       "        [array([4, 3, 1, 2, 0]), 1.0, '43120', 0.0],\n",
       "        [array([4, 2, 0, 3, 1]), 1.0, '42031', 0.0],\n",
       "        [array([3, 0, 2, 1, 4]), 1.0, '30214', 0.0],\n",
       "        [array([2, 4, 3, 0, 1]), 1.0, '24301', 0.0],\n",
       "        [array([3, 1, 0, 4, 2]), 1.0, '31042', 0.0],\n",
       "        [array([3, 1, 0, 4, 2]), 1.0, '31042', 0.0],\n",
       "        [array([2, 4, 1, 3, 0]), 1.0, '24130', 0.0],\n",
       "        [array([0, 1, 4, 3, 2]), 1.0, '01432', 0.0],\n",
       "        [array([2, 1, 4, 0, 3]), 1.0, '21403', 0.0],\n",
       "        [array([3, 1, 2, 0, 4]), 1.0, '31204', 0.0],\n",
       "        [array([2, 1, 4, 0, 3]), 1.0, '21403', 0.0],\n",
       "        [array([0, 2, 4, 3, 1]), 1.0, '02431', 0.0],\n",
       "        [array([4, 0, 3, 2, 1]), 1.0, '40321', 0.0],\n",
       "        [array([2, 4, 0, 3, 1]), 1.0, '24031', 0.0],\n",
       "        [array([4, 2, 3, 1, 0]), 1.0, '42310', 0.0],\n",
       "        [array([3, 0, 4, 2, 1]), 1.0, '30421', 0.0],\n",
       "        [array([1, 2, 0, 3, 4]), 1.0, '12034', 0.0],\n",
       "        [array([2, 3, 0, 4, 1]), 1.0, '23041', 0.0],\n",
       "        [array([2, 1, 0, 4, 3]), 1.0, '21043', 0.0],\n",
       "        [array([0, 3, 1, 2, 4]), 1.0, '03124', 0.0],\n",
       "        [array([2, 4, 1, 0, 3]), 1.0, '24103', 0.0],\n",
       "        [array([4, 3, 1, 2, 0]), 1.0, '43120', 0.0],\n",
       "        [array([2, 1, 4, 0, 3]), 1.0, '21403', 0.0]], dtype=object),\n",
       " array([[array([2, 1, 3, 0, 4]), 1.0, '21304', 0.0],\n",
       "        [array([1, 3, 4, 0, 2]), 1.0, '13402', 0.0],\n",
       "        [array([4, 0, 2, 3, 1]), 1.0, '40231', 0.0],\n",
       "        [array([2, 1, 3, 0, 4]), 1.0, '21304', 0.0],\n",
       "        [array([3, 0, 1, 4, 2]), 1.0, '30142', 0.0],\n",
       "        [array([1, 4, 2, 3, 0]), 1.0, '14230', 0.0],\n",
       "        [array([1, 0, 2, 3, 4]), 1.0, '10234', 0.0],\n",
       "        [array([4, 2, 0, 3, 1]), 1.0, '42031', 0.0],\n",
       "        [array([2, 0, 1, 3, 4]), 1.0, '20134', 0.0],\n",
       "        [array([3, 1, 4, 0, 2]), 1.0, '31402', 0.0],\n",
       "        [array([4, 2, 0, 3, 1]), 1.0, '42031', 0.0],\n",
       "        [array([2, 4, 1, 0, 3]), 1.0, '24103', 0.0],\n",
       "        [array([2, 4, 0, 1, 3]), 1.0, '24013', 0.0],\n",
       "        [array([2, 4, 0, 1, 3]), 1.0, '24013', 0.0],\n",
       "        [array([1, 2, 3, 0, 4]), 1.0, '12304', 0.0],\n",
       "        [array([4, 3, 0, 1, 2]), 1.0, '43012', 0.0],\n",
       "        [array([4, 2, 3, 0, 1]), 1.0, '42301', 0.0],\n",
       "        [array([4, 3, 0, 1, 2]), 1.0, '43012', 0.0],\n",
       "        [array([0, 2, 1, 3, 4]), 1.0, '02134', 0.0],\n",
       "        [array([3, 1, 0, 2, 4]), 1.0, '31024', 0.0],\n",
       "        [array([4, 0, 2, 1, 3]), 1.0, '40213', 0.0],\n",
       "        [array([0, 3, 4, 2, 1]), 1.0, '03421', 0.0],\n",
       "        [array([1, 3, 0, 4, 2]), 1.0, '13042', 0.0],\n",
       "        [array([2, 3, 4, 0, 1]), 1.0, '23401', 0.0],\n",
       "        [array([3, 0, 1, 2, 4]), 1.0, '30124', 0.0],\n",
       "        [array([0, 2, 1, 3, 4]), 1.0, '02134', 0.0],\n",
       "        [array([0, 1, 2, 4, 3]), 1.0, '01243', 0.0],\n",
       "        [array([4, 3, 2, 0, 1]), 1.0, '43201', 0.0],\n",
       "        [array([3, 2, 4, 0, 1]), 1.0, '32401', 0.0],\n",
       "        [array([0, 4, 3, 2, 1]), 1.0, '04321', 0.0],\n",
       "        [array([3, 4, 0, 2, 1]), 1.0, '34021', 0.0],\n",
       "        [array([3, 0, 4, 2, 1]), 1.0, '30421', 0.0],\n",
       "        [array([4, 0, 2, 3, 1]), 1.0, '40231', 0.0],\n",
       "        [array([2, 3, 1, 4, 0]), 1.0, '23140', 0.0],\n",
       "        [array([1, 4, 2, 0, 3]), 1.0, '14203', 0.0],\n",
       "        [array([3, 4, 2, 1, 0]), 1.0, '34210', 0.0],\n",
       "        [array([4, 1, 0, 2, 3]), 1.0, '41023', 0.0],\n",
       "        [array([3, 2, 0, 4, 1]), 1.0, '32041', 0.0],\n",
       "        [array([3, 2, 0, 4, 1]), 1.0, '32041', 0.0],\n",
       "        [array([2, 4, 0, 3, 1]), 1.0, '24031', 0.0],\n",
       "        [array([4, 3, 0, 1, 2]), 1.0, '43012', 0.0],\n",
       "        [array([2, 4, 3, 1, 0]), 1.0, '24310', 0.0],\n",
       "        [array([2, 1, 4, 3, 0]), 1.0, '21430', 0.0],\n",
       "        [array([1, 2, 0, 4, 3]), 1.0, '12043', 0.0],\n",
       "        [array([0, 4, 2, 3, 1]), 1.0, '04231', 0.0],\n",
       "        [array([3, 2, 4, 0, 1]), 1.0, '32401', 0.0],\n",
       "        [array([2, 1, 3, 0, 4]), 1.0, '21304', 0.0],\n",
       "        [array([1, 0, 2, 4, 3]), 1.0, '10243', 0.0],\n",
       "        [array([2, 4, 3, 0, 1]), 1.0, '24301', 0.0],\n",
       "        [array([3, 4, 0, 2, 1]), 1.0, '34021', 0.0],\n",
       "        [array([4, 3, 2, 0, 1]), 1.0, '43201', 0.0],\n",
       "        [array([1, 4, 3, 0, 2]), 1.0, '14302', 0.0],\n",
       "        [array([1, 3, 0, 2, 4]), 1.0, '13024', 0.0],\n",
       "        [array([4, 0, 3, 2, 1]), 1.0, '40321', 0.0],\n",
       "        [array([3, 4, 1, 2, 0]), 1.0, '34120', 0.0],\n",
       "        [array([0, 4, 2, 1, 3]), 1.0, '04213', 0.0],\n",
       "        [array([4, 1, 3, 2, 0]), 1.0, '41320', 0.0],\n",
       "        [array([2, 4, 3, 1, 0]), 1.0, '24310', 0.0],\n",
       "        [array([0, 1, 2, 3, 4]), 1.0, '01234', 0.0],\n",
       "        [array([3, 0, 2, 4, 1]), 1.0, '30241', 0.0]], dtype=object),\n",
       " array([[array([3, 1, 0, 2, 4]), 1.0, '31024', 0.0],\n",
       "        [array([0, 3, 2, 1, 4]), 1.0, '03214', 0.0],\n",
       "        [array([2, 4, 3, 0, 1]), 1.0, '24301', 0.0],\n",
       "        [array([2, 4, 3, 1, 0]), 1.0, '24310', 0.0],\n",
       "        [array([2, 4, 0, 3, 1]), 1.0, '24031', 0.0],\n",
       "        [array([0, 4, 3, 2, 1]), 1.0, '04321', 0.0],\n",
       "        [array([1, 3, 0, 2, 4]), 1.0, '13024', 0.0],\n",
       "        [array([2, 1, 3, 4, 0]), 1.0, '21340', 0.0],\n",
       "        [array([1, 2, 0, 4, 3]), 1.0, '12043', 0.0],\n",
       "        [array([3, 2, 4, 1, 0]), 1.0, '32410', 0.0],\n",
       "        [array([4, 1, 3, 0, 2]), 1.0, '41302', 0.0],\n",
       "        [array([0, 3, 4, 2, 1]), 1.0, '03421', 0.0],\n",
       "        [array([4, 0, 3, 1, 2]), 1.0, '40312', 0.0],\n",
       "        [array([3, 2, 4, 0, 1]), 1.0, '32401', 0.0],\n",
       "        [array([2, 1, 0, 3, 4]), 1.0, '21034', 0.0],\n",
       "        [array([0, 2, 1, 4, 3]), 1.0, '02143', 0.0],\n",
       "        [array([2, 4, 3, 1, 0]), 1.0, '24310', 0.0],\n",
       "        [array([0, 4, 3, 1, 2]), 1.0, '04312', 0.0],\n",
       "        [array([4, 2, 3, 0, 1]), 1.0, '42301', 0.0],\n",
       "        [array([0, 3, 2, 4, 1]), 1.0, '03241', 0.0],\n",
       "        [array([2, 0, 1, 4, 3]), 1.0, '20143', 0.0],\n",
       "        [array([0, 3, 1, 2, 4]), 1.0, '03124', 0.0],\n",
       "        [array([2, 1, 3, 4, 0]), 1.0, '21340', 0.0],\n",
       "        [array([4, 3, 2, 0, 1]), 1.0, '43201', 0.0],\n",
       "        [array([0, 3, 4, 2, 1]), 1.0, '03421', 0.0],\n",
       "        [array([0, 3, 1, 2, 4]), 1.0, '03124', 0.0],\n",
       "        [array([3, 2, 0, 4, 1]), 1.0, '32041', 0.0],\n",
       "        [array([0, 4, 2, 3, 1]), 1.0, '04231', 0.0],\n",
       "        [array([1, 2, 4, 3, 0]), 1.0, '12430', 0.0],\n",
       "        [array([4, 3, 1, 0, 2]), 1.0, '43102', 0.0],\n",
       "        [array([3, 0, 2, 4, 1]), 1.0, '30241', 0.0],\n",
       "        [array([1, 4, 0, 2, 3]), 1.0, '14023', 0.0],\n",
       "        [array([0, 2, 3, 4, 1]), 1.0, '02341', 0.0],\n",
       "        [array([4, 3, 1, 0, 2]), 1.0, '43102', 0.0],\n",
       "        [array([1, 3, 2, 4, 0]), 1.0, '13240', 0.0],\n",
       "        [array([3, 0, 1, 2, 4]), 1.0, '30124', 0.0],\n",
       "        [array([2, 1, 4, 3, 0]), 1.0, '21430', 0.0],\n",
       "        [array([1, 3, 4, 2, 0]), 1.0, '13420', 0.0],\n",
       "        [array([3, 0, 2, 1, 4]), 1.0, '30214', 0.0],\n",
       "        [array([3, 4, 2, 1, 0]), 1.0, '34210', 0.0],\n",
       "        [array([2, 0, 3, 1, 4]), 1.0, '20314', 0.0],\n",
       "        [array([2, 4, 1, 3, 0]), 1.0, '24130', 0.0],\n",
       "        [array([3, 2, 0, 1, 4]), 1.0, '32014', 0.0],\n",
       "        [array([3, 1, 2, 4, 0]), 1.0, '31240', 0.0],\n",
       "        [array([3, 2, 0, 4, 1]), 1.0, '32041', 0.0],\n",
       "        [array([0, 3, 4, 1, 2]), 1.0, '03412', 0.0],\n",
       "        [array([3, 4, 0, 2, 1]), 1.0, '34021', 0.0],\n",
       "        [array([1, 3, 2, 0, 4]), 1.0, '13204', 0.0],\n",
       "        [array([2, 1, 4, 0, 3]), 1.0, '21403', 0.0],\n",
       "        [array([2, 1, 4, 0, 3]), 1.0, '21403', 0.0],\n",
       "        [array([2, 0, 3, 4, 1]), 1.0, '20341', 0.0],\n",
       "        [array([4, 2, 0, 3, 1]), 1.0, '42031', 0.0],\n",
       "        [array([4, 1, 3, 0, 2]), 1.0, '41302', 0.0],\n",
       "        [array([1, 2, 0, 4, 3]), 1.0, '12043', 0.0],\n",
       "        [array([4, 3, 2, 0, 1]), 1.0, '43201', 0.0],\n",
       "        [array([3, 2, 4, 1, 0]), 1.0, '32410', 0.0],\n",
       "        [array([4, 1, 2, 3, 0]), 1.0, '41230', 0.0],\n",
       "        [array([1, 2, 3, 4, 0]), 1.0, '12340', 0.0],\n",
       "        [array([0, 2, 4, 1, 3]), 1.0, '02413', 0.0],\n",
       "        [array([2, 3, 4, 1, 0]), 1.0, '23410', 0.0]], dtype=object)]"
      ]
     },
     "execution_count": 7,
     "metadata": {},
     "output_type": "execute_result"
    }
   ],
   "source": [
    "def generar_pob_iniciales(n=5):\n",
    "    \n",
    "    poblaciones = []\n",
    "    \n",
    "    for i in range (n):\n",
    "        recorrido = generar_poblacion_perm(ciudades,60)\n",
    "\n",
    "\n",
    "        poblacion = np.zeros((recorrido.shape[0],4),dtype=\"object\")\n",
    "        poblacion[:,0] = [c.astype(int) for c in recorrido] #Ruta\n",
    "        poblacion[:,1] = np.ones((recorrido.shape[0]))\n",
    "        poblacion[:,2] = [individuo_toString(c.astype(int)) for c in recorrido]\n",
    "        poblacion[:,3] = np.zeros((recorrido.shape[0])) #Aptitud\n",
    "\n",
    "        print(poblacion[:4])\n",
    "        print(poblacion.shape)\n",
    "    \n",
    "        poblaciones.append(poblacion)\n",
    "        \n",
    "        \n",
    "        pob_file_dir = \"E:\\python_proy\\metahueristicos\\\\files\\\\poblaciones.pkl\"\n",
    "        with open (pob_file_dir,\"wb\") as f:\n",
    "            pickle.dump(poblaciones,f)\n",
    "            print(\"Archivo de poblaciones\")\n",
    "\n",
    "    return poblaciones\n",
    "\n",
    "generar_pob_iniciales()"
   ]
  },
  {
   "cell_type": "code",
   "execution_count": 13,
   "metadata": {},
   "outputs": [],
   "source": [
    "\n",
    "with open(\"E:\\python_proy\\metahueristicos\\\\files\\\\poblaciones.pkl\", \"rb\") as f:\n",
    "        poblaciones = pickle.load(f)\n",
    "\n",
    "poblacion = poblaciones [1]"
   ]
  },
  {
   "cell_type": "code",
   "execution_count": 15,
   "metadata": {},
   "outputs": [
    {
     "name": "stdout",
     "output_type": "stream",
     "text": [
      "5\n"
     ]
    }
   ],
   "source": [
    "print(len(poblaciones))"
   ]
  },
  {
   "cell_type": "markdown",
   "metadata": {},
   "source": [
    "# Función objetivo"
   ]
  },
  {
   "cell_type": "code",
   "execution_count": 37,
   "metadata": {},
   "outputs": [
    {
     "name": "stdout",
     "output_type": "stream",
     "text": [
      "['Mexcio' 0 '000' 0.0]\n",
      "['Miami' 1 '001' 0.0]\n",
      "['Quito' 2 '010' 0.0]\n",
      "['San Salvador' 3 '011' 0.0]\n",
      "['Mendoza' 4 '100' 0.0]\n"
     ]
    }
   ],
   "source": [
    "for i in range(5):\n",
    "    print(ciudades[i])"
   ]
  },
  {
   "cell_type": "code",
   "execution_count": 38,
   "metadata": {},
   "outputs": [],
   "source": [
    "def y(ciudad1,ciudad2):\n",
    "    return distancias[ciudad1,ciudad2]\n",
    "\n",
    "def evaluar(poblacion):\n",
    "    evaluacion = np.zeros((poblacion.shape[0]))\n",
    "    for idx,fila in enumerate(poblacion):\n",
    "        individuo = fila[0]\n",
    "        n = len(individuo) - 1\n",
    "        aptitud = 0\n",
    "        \n",
    "        for i in range (n,-1,-1):\n",
    "            c1 = int(individuo[i]) #Id de la ciudad\n",
    "            c2 = int(individuo[i-1])\n",
    "            distancia = y(c1,c2)\n",
    "            aptitud += distancia\n",
    "           # print(f\"Distancia entre {ciudades[c1]} y {ciudades[c2]}: {distancia}\")\n",
    "        evaluacion[idx] = np.around(aptitud,4)\n",
    "        \n",
    "    return evaluacion\n",
    "pob_aptitud = evaluar(poblacion)\n",
    "\n",
    "poblacion[:,3] = pob_aptitud"
   ]
  },
  {
   "cell_type": "code",
   "execution_count": 39,
   "metadata": {},
   "outputs": [
    {
     "data": {
      "text/plain": [
       "array([[array([4, 2, 1, 3, 0]), 1.0, '42130', 17291.67],\n",
       "       [array([1, 4, 3, 2, 0]), 1.0, '14320', 20069.5],\n",
       "       [array([1, 0, 4, 2, 3]), 1.0, '10423', 16838.93],\n",
       "       [array([4, 2, 3, 1, 0]), 1.0, '42310', 16838.93]], dtype=object)"
      ]
     },
     "execution_count": 39,
     "metadata": {},
     "output_type": "execute_result"
    }
   ],
   "source": [
    "poblacion[:4]"
   ]
  },
  {
   "cell_type": "code",
   "execution_count": 40,
   "metadata": {},
   "outputs": [
    {
     "name": "stdout",
     "output_type": "stream",
     "text": [
      "[[   0.   2270.05 3714.66 1778.27 7223.16]\n",
      " [2270.05    0.   2882.57 1627.62 6578.78]\n",
      " [3714.66 2882.57    0.   1938.05 3780.05]\n",
      " [1778.27 1627.62 1938.05    0.   5567.96]\n",
      " [7223.16 6578.78 3780.05 5567.96    0.  ]]\n"
     ]
    }
   ],
   "source": [
    "print(distancias)"
   ]
  },
  {
   "cell_type": "markdown",
   "metadata": {},
   "source": [
    "# Ordenar con base en la aptitud\n",
    "\n",
    "ultima columna de nuestra matriz poblacion"
   ]
  },
  {
   "cell_type": "code",
   "execution_count": 41,
   "metadata": {},
   "outputs": [
    {
     "data": {
      "text/plain": [
       "array([[array([4, 3, 1, 2, 0]), 1.0, '43120', 21015.97],\n",
       "       [array([4, 3, 1, 0, 2]), 1.0, '43102', 16960.34],\n",
       "       [array([4, 3, 0, 2, 1]), 1.0, '43021', 20522.24],\n",
       "       [array([4, 3, 0, 1, 2]), 1.0, '43012', 16278.9],\n",
       "       [array([4, 2, 3, 1, 0]), 1.0, '42310', 16838.93],\n",
       "       [array([4, 2, 3, 1, 0]), 1.0, '42310', 16838.93],\n",
       "       [array([4, 2, 1, 3, 0]), 1.0, '42130', 17291.67],\n",
       "       [array([4, 2, 1, 3, 0]), 1.0, '42130', 17291.67],\n",
       "       [array([4, 2, 1, 3, 0]), 1.0, '42130', 17291.67],\n",
       "       [array([4, 2, 1, 0, 3]), 1.0, '42103', 16278.9],\n",
       "       [array([4, 2, 0, 3, 1]), 1.0, '42031', 17479.38],\n",
       "       [array([4, 2, 0, 1, 3]), 1.0, '42013', 16960.34],\n",
       "       [array([4, 2, 0, 1, 3]), 1.0, '42013', 16960.34],\n",
       "       [array([4, 2, 0, 1, 3]), 1.0, '42013', 16960.34],\n",
       "       [array([4, 2, 0, 1, 3]), 1.0, '42013', 16960.34],\n",
       "       [array([4, 1, 3, 0, 2]), 1.0, '41302', 17479.38],\n",
       "       [array([4, 1, 0, 3, 2]), 1.0, '41032', 16345.2],\n",
       "       [array([4, 1, 0, 2, 3]), 1.0, '41023', 20069.5],\n",
       "       [array([4, 0, 2, 3, 1]), 1.0, '40231', 21082.27],\n",
       "       [array([3, 4, 2, 1, 0]), 1.0, '34210', 16278.9],\n",
       "       [array([3, 4, 2, 1, 0]), 1.0, '34210', 16278.9],\n",
       "       [array([3, 4, 2, 1, 0]), 1.0, '34210', 16278.9],\n",
       "       [array([3, 4, 0, 2, 1]), 1.0, '34021', 21015.97],\n",
       "       [array([3, 2, 1, 0, 4]), 1.0, '32104', 19881.79],\n",
       "       [array([3, 2, 0, 4, 1]), 1.0, '32041', 21082.27],\n",
       "       [array([3, 2, 0, 1, 4]), 1.0, '32014', 20069.5],\n",
       "       [array([3, 1, 4, 0, 2]), 1.0, '31402', 21082.27],\n",
       "       [array([3, 1, 0, 4, 2]), 1.0, '31042', 16838.93],\n",
       "       [array([3, 0, 4, 1, 2]), 1.0, '30412', 20400.83],\n",
       "       [array([3, 0, 1, 4, 2]), 1.0, '30142', 16345.2],\n",
       "       [array([3, 0, 1, 4, 2]), 1.0, '30142', 16345.2],\n",
       "       [array([2, 4, 1, 3, 0]), 1.0, '24130', 17479.38],\n",
       "       [array([2, 4, 0, 3, 1]), 1.0, '24031', 17291.67],\n",
       "       [array([2, 1, 4, 3, 0]), 1.0, '21430', 20522.24],\n",
       "       [array([2, 1, 4, 0, 3]), 1.0, '21403', 20400.83],\n",
       "       [array([2, 1, 4, 0, 3]), 1.0, '21403', 20400.83],\n",
       "       [array([2, 0, 4, 3, 1]), 1.0, '20431', 21015.97],\n",
       "       [array([2, 0, 1, 4, 3]), 1.0, '20143', 20069.5],\n",
       "       [array([2, 0, 1, 3, 4]), 1.0, '20134', 16960.34],\n",
       "       [array([2, 0, 1, 3, 4]), 1.0, '20134', 16960.34],\n",
       "       [array([1, 4, 3, 2, 0]), 1.0, '14320', 20069.5],\n",
       "       [array([1, 4, 2, 3, 0]), 1.0, '14230', 16345.2],\n",
       "       [array([1, 4, 0, 2, 3]), 1.0, '14023', 21082.27],\n",
       "       [array([1, 3, 0, 4, 2]), 1.0, '13042', 17291.67],\n",
       "       [array([1, 3, 0, 2, 4]), 1.0, '13024', 17479.38],\n",
       "       [array([1, 2, 4, 3, 0]), 1.0, '12430', 16278.9],\n",
       "       [array([1, 2, 3, 0, 4]), 1.0, '12304', 20400.83],\n",
       "       [array([1, 2, 0, 3, 4]), 1.0, '12034', 20522.24],\n",
       "       [array([1, 0, 4, 2, 3]), 1.0, '10423', 16838.93],\n",
       "       [array([1, 0, 4, 2, 3]), 1.0, '10423', 16838.93],\n",
       "       [array([1, 0, 3, 4, 2]), 1.0, '10342', 16278.9],\n",
       "       [array([1, 0, 3, 2, 4]), 1.0, '10324', 16345.2],\n",
       "       [array([0, 4, 2, 3, 1]), 1.0, '04231', 16838.93],\n",
       "       [array([0, 4, 2, 3, 1]), 1.0, '04231', 16838.93],\n",
       "       [array([0, 4, 2, 1, 3]), 1.0, '04213', 17291.67],\n",
       "       [array([0, 3, 4, 2, 1]), 1.0, '03421', 16278.9],\n",
       "       [array([0, 3, 2, 4, 1]), 1.0, '03241', 16345.2],\n",
       "       [array([0, 3, 1, 4, 2]), 1.0, '03142', 17479.38],\n",
       "       [array([0, 3, 1, 2, 4]), 1.0, '03124', 17291.67],\n",
       "       [array([0, 1, 3, 4, 2]), 1.0, '01342', 16960.34]], dtype=object)"
      ]
     },
     "execution_count": 41,
     "metadata": {},
     "output_type": "execute_result"
    }
   ],
   "source": [
    "pob_ord = ordenar_poblacion(poblacion,apt_column=2)\n",
    "pob_ord"
   ]
  },
  {
   "attachments": {
    "image.png": {
     "image/png": "[encoded data removed]"
    }
   },
   "cell_type": "markdown",
   "metadata": {},
   "source": [
    "# Selección\n",
    "\n",
    "Ahorita solo probaré que funciones los métodos que ya teniamos con nuestro expansión de dominio ![image.png](attachment:image.png)"
   ]
  },
  {
   "cell_type": "code",
   "execution_count": 42,
   "metadata": {},
   "outputs": [
    {
     "name": "stdout",
     "output_type": "stream",
     "text": [
      "60\n",
      "[['42023', array(['14023', '42013'], dtype=object)]]\n"
     ]
    }
   ],
   "source": [
    "a = get_next_gen(pob_ord,op_cruza=0,op_seleccion=0)\n",
    "print(len(a))\n",
    "print(a[:1])\n"
   ]
  },
  {
   "cell_type": "code",
   "execution_count": 43,
   "metadata": {},
   "outputs": [
    {
     "name": "stdout",
     "output_type": "stream",
     "text": [
      "60\n",
      "[['12130', array(['14023', '42130'], dtype=object)]]\n"
     ]
    }
   ],
   "source": [
    "b = get_next_gen(pob_ord,op_cruza=3,op_seleccion=1)\n",
    "print(len(b))\n",
    "print(b[:1])"
   ]
  },
  {
   "cell_type": "code",
   "execution_count": 44,
   "metadata": {},
   "outputs": [
    {
     "name": "stdout",
     "output_type": "stream",
     "text": [
      "60\n",
      "[['24130', array(['24130', '04231'], dtype=object)]]\n"
     ]
    }
   ],
   "source": [
    "c = get_next_gen(pob_ord,op_cruza=2,op_seleccion=2)\n",
    "print(len(c))\n",
    "print(c[:1])"
   ]
  },
  {
   "cell_type": "code",
   "execution_count": 45,
   "metadata": {},
   "outputs": [
    {
     "name": "stdout",
     "output_type": "stream",
     "text": [
      "60\n",
      "[['10034', array(['12034', '30412'], dtype=object)]]\n"
     ]
    }
   ],
   "source": [
    "d = get_next_gen(pob_ord,op_cruza=3,op_seleccion=0)\n",
    "print(len(d))\n",
    "print(d[:1])"
   ]
  },
  {
   "cell_type": "code",
   "execution_count": 46,
   "metadata": {},
   "outputs": [
    {
     "name": "stdout",
     "output_type": "stream",
     "text": [
      "Padre1: [1 0 3 2 4]\n",
      "Padre2: [0 4 2 3 1]\n",
      "pt1 : 1\n",
      "pt2 : 2\n",
      "proto-hijo1: [array([1]), array([4]), array([3, 2, 4])]\n",
      "proto-hijo2: [array([0]), array([0]), array([2, 3, 1])]\n",
      "El elemento '4' está en la posición: 0 cambiando por 4 -> 0\n",
      "El elemento '0' está en la posición: 0 cambiando por 0 -> 4\n",
      "final-hijo1: [array([1]), array([4]), array([3, 2, 0])]\n",
      "final-hijo2: [array([4]), array([0]), array([2, 3, 1])]\n"
     ]
    }
   ],
   "source": [
    "h1,h2 = cruce_pmx(pob_ord[51:53])"
   ]
  },
  {
   "cell_type": "code",
   "execution_count": 47,
   "metadata": {},
   "outputs": [
    {
     "name": "stdout",
     "output_type": "stream",
     "text": [
      "[1 4 3 2 0]\n",
      "[4 0 2 3 1]\n"
     ]
    }
   ],
   "source": [
    "print(h1)\n",
    "print(h2)"
   ]
  },
  {
   "cell_type": "code",
   "execution_count": 48,
   "metadata": {},
   "outputs": [],
   "source": [
    "#PROTO FUNCIÓN PMX\n",
    "# p1 = np.random.permutation(18)\n",
    "# p2 = np.random.permutation(18)\n",
    "# # p1 = \"1652734\"\n",
    "# # p2 = \"7235641\"\n",
    "\n",
    "# if len(p1) != len(p2):\n",
    "#     raise Exception(\"Los padres no tienen la misma cantidad de cromosomas\")\n",
    "\n",
    "# p1 = np.array(list(p1)).astype(int)\n",
    "# p2 = np.array(list(p2)).astype(int)\n",
    "# print(p1)\n",
    "# print(p2)\n",
    "\n",
    "# n = len(p2)\n",
    "\n",
    "# #Producir un corte aleatorio\n",
    "# pt1 = np.random.randint(1,n-1) \n",
    "# pt2 = np.random.randint(1,n-1)\n",
    "# # pt1 = 2\n",
    "# # pt2 = 6\n",
    "# while pt1 == pt2:\n",
    "#     pt2 = np.random.randint(1,n-1)\n",
    "    \n",
    "# if pt1 > pt2:\n",
    "#     aux_pt = pt1\n",
    "#     pt1 = pt2\n",
    "#     pt2 = aux_pt\n",
    "\n",
    "# print(f\"pt1 : {pt1}\")\n",
    "# print(f\"pt2 : {pt2}\")\n",
    "\n",
    "\n",
    "# cromos_p = [p1[:pt1],\n",
    "#             p1[pt1:pt2],\n",
    "#             p1[pt2:]\n",
    "#             ]\n",
    "\n",
    "# cromos_m = [p2[:pt1],\n",
    "#             p2[pt1:pt2],\n",
    "#             p2[pt2:]\n",
    "#             ]\n",
    "\n",
    "# offspring = [cromos_m[1],\n",
    "#               cromos_p[1]]\n",
    "\n",
    "# proto_child1 = [cromos_p[0],cromos_m[1],\n",
    "#                 cromos_p[2]]\n",
    "# proto_child2 = [cromos_m[0],cromos_p[1],\n",
    "#                 cromos_m[2]]\n",
    "\n",
    "# print(proto_child1)\n",
    "# print(proto_child2)\n",
    "# print(offspring[0])\n",
    "# for i in range(0,3,2):\n",
    "#     aux_pc1 = proto_child1[i]\n",
    "#     aux_pc2 = proto_child2[i]\n",
    "    \n",
    "#     for ci in range(len(aux_pc1)):\n",
    "#         aux_cromo1 = aux_pc1[ci]\n",
    "        \n",
    "#         while aux_cromo1 in offspring[0]:\n",
    "#             id1 = np.where(offspring[0]==aux_cromo1)[0]\n",
    "#             if id1.size > 0:\n",
    "#                 id1 = id1[0]\n",
    "#                 print(f\"El elemento '{aux_cromo1}' está en la posición: {id1} cambiando por {aux_cromo1} -> {offspring[1][id1]}\")\n",
    "#                 aux_cromo1 = offspring[1][id1]\n",
    "#             else:\n",
    "#                 print(\"El elemento no esta repetido\")\n",
    "                \n",
    "        \n",
    "#         aux_cromo2 = aux_pc2[ci]\n",
    "#         while aux_cromo2 in offspring[1]:\n",
    "#             id2 = np.where(offspring[1]==aux_cromo2)[0]\n",
    "#             if id2.size > 0:\n",
    "#                 id2 = id2[0]\n",
    "#                 print(f\"El elemento '{aux_cromo2}' está en la posición: {id2} cambiando por {aux_cromo2} -> {offspring[0][id2]}\")\n",
    "#                 aux_cromo2 = offspring[0][id2]\n",
    "#             else:\n",
    "#                 print(\"El elemento no esta repetido\")\n",
    "         \n",
    "#         aux_pc1[ci] = aux_cromo1\n",
    "#         aux_pc2[ci] = aux_cromo2\n",
    "    \n",
    "# print(proto_child1)      \n",
    "# print(proto_child2)  "
   ]
  }
 ],
 "metadata": {
  "kernelspec": {
   "display_name": "metah",
   "language": "python",
   "name": "python3"
  },
  "language_info": {
   "codemirror_mode": {
    "name": "ipython",
    "version": 3
   },
   "file_extension": ".py",
   "mimetype": "text/x-python",
   "name": "python",
   "nbconvert_exporter": "python",
   "pygments_lexer": "ipython3",
   "version": "3.8.19"
  }
 },
 "nbformat": 4,
 "nbformat_minor": 2
}
